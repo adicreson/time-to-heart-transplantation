{
 "cells": [
  {
   "cell_type": "code",
   "execution_count": 27,
   "outputs": [],
   "source": [
    "import pandas as pd\n",
    "\n",
    "df = pd.read_csv(\"../Data_120294_2023-03-29_cleaned.csv\")\n"
   ],
   "metadata": {
    "collapsed": false
   }
  },
  {
   "cell_type": "code",
   "execution_count": 28,
   "outputs": [
    {
     "name": "stdout",
     "output_type": "stream",
     "text": [
      "Mean waiting list time: 192.52839426430694\n",
      "0    0.716807\n",
      "1    0.283193\n",
      "Name: wl_time, dtype: float64\n"
     ]
    }
   ],
   "source": [
    "mean_wl_time = df['wl_time'].mean()\n",
    "print(f\"Mean waiting list time: {mean_wl_time}\")\n",
    "\n",
    "df['wl_time'] = df['wl_time'].apply(lambda x: 0 if x < mean_wl_time else 1)\n",
    "print(df['wl_time'].value_counts(normalize=True))"
   ],
   "metadata": {
    "collapsed": false
   }
  },
  {
   "cell_type": "code",
   "execution_count": 29,
   "outputs": [],
   "source": [
    "import keras.backend as K\n",
    "\n",
    "def recall_m(y_true, y_pred):\n",
    "    true_positives = K.sum(K.round(K.clip(y_true * y_pred, 0, 1)))\n",
    "    possible_positives = K.sum(K.round(K.clip(y_true, 0, 1)))\n",
    "    recall = true_positives / (possible_positives + K.epsilon())\n",
    "    return recall\n",
    "\n",
    "def precision_m(y_true, y_pred):\n",
    "    true_positives = K.sum(K.round(K.clip(y_true * y_pred, 0, 1)))\n",
    "    predicted_positives = K.sum(K.round(K.clip(y_pred, 0, 1)))\n",
    "    precision = true_positives / (predicted_positives + K.epsilon())\n",
    "    return precision\n",
    "\n",
    "def f1_score(y_true, y_pred):\n",
    "    precision = precision_m(y_true, y_pred)\n",
    "    recall = recall_m(y_true, y_pred)\n",
    "    return 2*((precision*recall)/(precision+recall+K.epsilon()))"
   ],
   "metadata": {
    "collapsed": false
   }
  },
  {
   "cell_type": "code",
   "execution_count": 30,
   "outputs": [
    {
     "name": "stdout",
     "output_type": "stream",
     "text": [
      "Trial 2 Complete [00h 00m 36s]\n",
      "\n",
      "Best val_accuracy So Far: None\n",
      "Total elapsed time: 00h 01m 12s\n",
      "\n",
      "Search: Running Trial #3\n",
      "\n",
      "Value             |Best Value So Far |Hyperparameter\n",
      "True              |True              |structured_data_block_1/normalize\n",
      "False             |False             |structured_data_block_1/dense_block_1/use_batchnorm\n",
      "2                 |2                 |structured_data_block_1/dense_block_1/num_layers\n",
      "64                |32                |structured_data_block_1/dense_block_1/units_0\n",
      "0                 |0                 |structured_data_block_1/dense_block_1/dropout\n",
      "32                |32                |structured_data_block_1/dense_block_1/units_1\n",
      "0                 |0                 |classification_head_1/dropout\n",
      "adam              |adam              |optimizer\n",
      "0.001             |0.001             |learning_rate\n",
      "\n",
      "Epoch 1/1000\n"
     ]
    },
    {
     "name": "stderr",
     "output_type": "stream",
     "text": [
      "Traceback (most recent call last):\n",
      "  File \"/opt/homebrew/anaconda3/envs/edap01/lib/python3.10/site-packages/keras_tuner/engine/base_tuner.py\", line 270, in _try_run_and_update_trial\n",
      "    self._run_and_update_trial(trial, *fit_args, **fit_kwargs)\n",
      "  File \"/opt/homebrew/anaconda3/envs/edap01/lib/python3.10/site-packages/keras_tuner/engine/base_tuner.py\", line 235, in _run_and_update_trial\n",
      "    results = self.run_trial(trial, *fit_args, **fit_kwargs)\n",
      "  File \"/opt/homebrew/anaconda3/envs/edap01/lib/python3.10/site-packages/keras_tuner/engine/tuner.py\", line 287, in run_trial\n",
      "    obj_value = self._build_and_fit_model(trial, *args, **copied_kwargs)\n",
      "  File \"/opt/homebrew/anaconda3/envs/edap01/lib/python3.10/site-packages/autokeras/engine/tuner.py\", line 101, in _build_and_fit_model\n",
      "    _, history = utils.fit_with_adaptive_batch_size(\n",
      "  File \"/opt/homebrew/anaconda3/envs/edap01/lib/python3.10/site-packages/autokeras/utils/utils.py\", line 88, in fit_with_adaptive_batch_size\n",
      "    history = run_with_adaptive_batch_size(\n",
      "  File \"/opt/homebrew/anaconda3/envs/edap01/lib/python3.10/site-packages/autokeras/utils/utils.py\", line 101, in run_with_adaptive_batch_size\n",
      "    history = func(x=x, validation_data=validation_data, **fit_kwargs)\n",
      "  File \"/opt/homebrew/anaconda3/envs/edap01/lib/python3.10/site-packages/autokeras/utils/utils.py\", line 89, in <lambda>\n",
      "    batch_size, lambda **kwargs: model.fit(**kwargs), **fit_kwargs\n",
      "  File \"/opt/homebrew/anaconda3/envs/edap01/lib/python3.10/site-packages/keras/utils/traceback_utils.py\", line 70, in error_handler\n",
      "    raise e.with_traceback(filtered_tb) from None\n",
      "  File \"/var/folders/k_/917q0lsn2g199rm9y4s8jy5h0000gn/T/__autograph_generated_fileem1enlth.py\", line 15, in tf__train_function\n",
      "    retval_ = ag__.converted_call(ag__.ld(step_function), (ag__.ld(self), ag__.ld(iterator)), None, fscope)\n",
      "  File \"/var/folders/k_/917q0lsn2g199rm9y4s8jy5h0000gn/T/__autograph_generated_filedjzu6x0p.py\", line 136, in tf__f1_score\n",
      "    retval_ = ag__.converted_call(ag__.ld(fbeta_score), (ag__.ld(y_true), ag__.ld(y_pred)), dict(beta=1, labels=ag__.ld(labels), pos_label=ag__.ld(pos_label), average=ag__.ld(average), sample_weight=ag__.ld(sample_weight), zero_division=ag__.ld(zero_division)), fscope)\n",
      "  File \"/var/folders/k_/917q0lsn2g199rm9y4s8jy5h0000gn/T/__autograph_generated_filew24cnih9.py\", line 125, in tf__fbeta_score\n",
      "    (_, _, f, _) = ag__.converted_call(ag__.ld(precision_recall_fscore_support), (ag__.ld(y_true), ag__.ld(y_pred)), dict(beta=ag__.ld(beta), labels=ag__.ld(labels), pos_label=ag__.ld(pos_label), average=ag__.ld(average), warn_for=('f-score',), sample_weight=ag__.ld(sample_weight), zero_division=ag__.ld(zero_division)), fscope)\n",
      "  File \"/var/folders/k_/917q0lsn2g199rm9y4s8jy5h0000gn/T/__autograph_generated_filepms062hz.py\", line 171, in tf__precision_recall_fscore_support\n",
      "    labels = ag__.converted_call(ag__.ld(_check_set_wise_labels), (ag__.ld(y_true), ag__.ld(y_pred), ag__.ld(average), ag__.ld(labels), ag__.ld(pos_label)), None, fscope)\n",
      "  File \"/var/folders/k_/917q0lsn2g199rm9y4s8jy5h0000gn/T/__autograph_generated_fileikpdi44_.py\", line 28, in tf___check_set_wise_labels\n",
      "    (y_type, y_true, y_pred) = ag__.converted_call(ag__.ld(_check_targets), (ag__.ld(y_true), ag__.ld(y_pred)), None, fscope)\n",
      "  File \"/var/folders/k_/917q0lsn2g199rm9y4s8jy5h0000gn/T/__autograph_generated_filea2298tq7.py\", line 36, in tf___check_targets\n",
      "    ag__.converted_call(ag__.ld(check_consistent_length), (ag__.ld(y_true), ag__.ld(y_pred)), None, fscope)\n",
      "  File \"/var/folders/k_/917q0lsn2g199rm9y4s8jy5h0000gn/T/__autograph_generated_filedxq0mdsb.py\", line 18, in tf__check_consistent_length\n",
      "    uniques = ag__.converted_call(ag__.ld(np).unique, (ag__.ld(lengths),), None, fscope)\n",
      "  File \"<__array_function__ internals>\", line 180, in unique\n",
      "  File \"/opt/homebrew/anaconda3/envs/edap01/lib/python3.10/site-packages/numpy/lib/arraysetops.py\", line 272, in unique\n",
      "    ar = np.asanyarray(ar)\n",
      "NotImplementedError: in user code:\n",
      "\n",
      "    File \"/opt/homebrew/anaconda3/envs/edap01/lib/python3.10/site-packages/keras/engine/training.py\", line 1249, in train_function  *\n",
      "        return step_function(self, iterator)\n",
      "    File \"/opt/homebrew/anaconda3/envs/edap01/lib/python3.10/site-packages/sklearn/metrics/_classification.py\", line 1143, in f1_score  *\n",
      "        zero_division=zero_division,\n",
      "    File \"/opt/homebrew/anaconda3/envs/edap01/lib/python3.10/site-packages/sklearn/metrics/_classification.py\", line 1275, in fbeta_score  *\n",
      "        _, _, f, _ = precision_recall_fscore_support(\n",
      "    File \"/opt/homebrew/anaconda3/envs/edap01/lib/python3.10/site-packages/sklearn/metrics/_classification.py\", line 1558, in precision_recall_fscore_support  *\n",
      "        labels = _check_set_wise_labels(y_true, y_pred, average, labels, pos_label)\n",
      "    File \"/opt/homebrew/anaconda3/envs/edap01/lib/python3.10/site-packages/sklearn/metrics/_classification.py\", line 1364, in _check_set_wise_labels  *\n",
      "        y_type, y_true, y_pred = _check_targets(y_true, y_pred)\n",
      "    File \"/opt/homebrew/anaconda3/envs/edap01/lib/python3.10/site-packages/sklearn/metrics/_classification.py\", line 84, in _check_targets  *\n",
      "        check_consistent_length(y_true, y_pred)\n",
      "    File \"/opt/homebrew/anaconda3/envs/edap01/lib/python3.10/site-packages/sklearn/utils/validation.py\", line 385, in check_consistent_length  *\n",
      "        uniques = np.unique(lengths)\n",
      "    File \"<__array_function__ internals>\", line 180, in unique  **\n",
      "        \n",
      "    File \"/opt/homebrew/anaconda3/envs/edap01/lib/python3.10/site-packages/numpy/lib/arraysetops.py\", line 272, in unique\n",
      "        ar = np.asanyarray(ar)\n",
      "\n",
      "    NotImplementedError: Cannot convert a symbolic tf.Tensor (strided_slice_1:0) to a numpy array. This error may indicate that you're trying to pass a Tensor to a NumPy call, which is not supported.\n",
      "\n"
     ]
    },
    {
     "ename": "RuntimeError",
     "evalue": "Number of consecutive failures excceeded the limit of 3.\nTraceback (most recent call last):\n  File \"/opt/homebrew/anaconda3/envs/edap01/lib/python3.10/site-packages/keras_tuner/engine/base_tuner.py\", line 270, in _try_run_and_update_trial\n    self._run_and_update_trial(trial, *fit_args, **fit_kwargs)\n  File \"/opt/homebrew/anaconda3/envs/edap01/lib/python3.10/site-packages/keras_tuner/engine/base_tuner.py\", line 235, in _run_and_update_trial\n    results = self.run_trial(trial, *fit_args, **fit_kwargs)\n  File \"/opt/homebrew/anaconda3/envs/edap01/lib/python3.10/site-packages/keras_tuner/engine/tuner.py\", line 287, in run_trial\n    obj_value = self._build_and_fit_model(trial, *args, **copied_kwargs)\n  File \"/opt/homebrew/anaconda3/envs/edap01/lib/python3.10/site-packages/autokeras/engine/tuner.py\", line 101, in _build_and_fit_model\n    _, history = utils.fit_with_adaptive_batch_size(\n  File \"/opt/homebrew/anaconda3/envs/edap01/lib/python3.10/site-packages/autokeras/utils/utils.py\", line 88, in fit_with_adaptive_batch_size\n    history = run_with_adaptive_batch_size(\n  File \"/opt/homebrew/anaconda3/envs/edap01/lib/python3.10/site-packages/autokeras/utils/utils.py\", line 101, in run_with_adaptive_batch_size\n    history = func(x=x, validation_data=validation_data, **fit_kwargs)\n  File \"/opt/homebrew/anaconda3/envs/edap01/lib/python3.10/site-packages/autokeras/utils/utils.py\", line 89, in <lambda>\n    batch_size, lambda **kwargs: model.fit(**kwargs), **fit_kwargs\n  File \"/opt/homebrew/anaconda3/envs/edap01/lib/python3.10/site-packages/keras/utils/traceback_utils.py\", line 70, in error_handler\n    raise e.with_traceback(filtered_tb) from None\n  File \"/var/folders/k_/917q0lsn2g199rm9y4s8jy5h0000gn/T/__autograph_generated_fileem1enlth.py\", line 15, in tf__train_function\n    retval_ = ag__.converted_call(ag__.ld(step_function), (ag__.ld(self), ag__.ld(iterator)), None, fscope)\n  File \"/var/folders/k_/917q0lsn2g199rm9y4s8jy5h0000gn/T/__autograph_generated_filedjzu6x0p.py\", line 136, in tf__f1_score\n    retval_ = ag__.converted_call(ag__.ld(fbeta_score), (ag__.ld(y_true), ag__.ld(y_pred)), dict(beta=1, labels=ag__.ld(labels), pos_label=ag__.ld(pos_label), average=ag__.ld(average), sample_weight=ag__.ld(sample_weight), zero_division=ag__.ld(zero_division)), fscope)\n  File \"/var/folders/k_/917q0lsn2g199rm9y4s8jy5h0000gn/T/__autograph_generated_filew24cnih9.py\", line 125, in tf__fbeta_score\n    (_, _, f, _) = ag__.converted_call(ag__.ld(precision_recall_fscore_support), (ag__.ld(y_true), ag__.ld(y_pred)), dict(beta=ag__.ld(beta), labels=ag__.ld(labels), pos_label=ag__.ld(pos_label), average=ag__.ld(average), warn_for=('f-score',), sample_weight=ag__.ld(sample_weight), zero_division=ag__.ld(zero_division)), fscope)\n  File \"/var/folders/k_/917q0lsn2g199rm9y4s8jy5h0000gn/T/__autograph_generated_filepms062hz.py\", line 171, in tf__precision_recall_fscore_support\n    labels = ag__.converted_call(ag__.ld(_check_set_wise_labels), (ag__.ld(y_true), ag__.ld(y_pred), ag__.ld(average), ag__.ld(labels), ag__.ld(pos_label)), None, fscope)\n  File \"/var/folders/k_/917q0lsn2g199rm9y4s8jy5h0000gn/T/__autograph_generated_fileikpdi44_.py\", line 28, in tf___check_set_wise_labels\n    (y_type, y_true, y_pred) = ag__.converted_call(ag__.ld(_check_targets), (ag__.ld(y_true), ag__.ld(y_pred)), None, fscope)\n  File \"/var/folders/k_/917q0lsn2g199rm9y4s8jy5h0000gn/T/__autograph_generated_filea2298tq7.py\", line 36, in tf___check_targets\n    ag__.converted_call(ag__.ld(check_consistent_length), (ag__.ld(y_true), ag__.ld(y_pred)), None, fscope)\n  File \"/var/folders/k_/917q0lsn2g199rm9y4s8jy5h0000gn/T/__autograph_generated_filedxq0mdsb.py\", line 18, in tf__check_consistent_length\n    uniques = ag__.converted_call(ag__.ld(np).unique, (ag__.ld(lengths),), None, fscope)\n  File \"<__array_function__ internals>\", line 180, in unique\n  File \"/opt/homebrew/anaconda3/envs/edap01/lib/python3.10/site-packages/numpy/lib/arraysetops.py\", line 272, in unique\n    ar = np.asanyarray(ar)\nNotImplementedError: in user code:\n\n    File \"/opt/homebrew/anaconda3/envs/edap01/lib/python3.10/site-packages/keras/engine/training.py\", line 1249, in train_function  *\n        return step_function(self, iterator)\n    File \"/opt/homebrew/anaconda3/envs/edap01/lib/python3.10/site-packages/sklearn/metrics/_classification.py\", line 1143, in f1_score  *\n        zero_division=zero_division,\n    File \"/opt/homebrew/anaconda3/envs/edap01/lib/python3.10/site-packages/sklearn/metrics/_classification.py\", line 1275, in fbeta_score  *\n        _, _, f, _ = precision_recall_fscore_support(\n    File \"/opt/homebrew/anaconda3/envs/edap01/lib/python3.10/site-packages/sklearn/metrics/_classification.py\", line 1558, in precision_recall_fscore_support  *\n        labels = _check_set_wise_labels(y_true, y_pred, average, labels, pos_label)\n    File \"/opt/homebrew/anaconda3/envs/edap01/lib/python3.10/site-packages/sklearn/metrics/_classification.py\", line 1364, in _check_set_wise_labels  *\n        y_type, y_true, y_pred = _check_targets(y_true, y_pred)\n    File \"/opt/homebrew/anaconda3/envs/edap01/lib/python3.10/site-packages/sklearn/metrics/_classification.py\", line 84, in _check_targets  *\n        check_consistent_length(y_true, y_pred)\n    File \"/opt/homebrew/anaconda3/envs/edap01/lib/python3.10/site-packages/sklearn/utils/validation.py\", line 385, in check_consistent_length  *\n        uniques = np.unique(lengths)\n    File \"<__array_function__ internals>\", line 180, in unique  **\n        \n    File \"/opt/homebrew/anaconda3/envs/edap01/lib/python3.10/site-packages/numpy/lib/arraysetops.py\", line 272, in unique\n        ar = np.asanyarray(ar)\n\n    NotImplementedError: Cannot convert a symbolic tf.Tensor (strided_slice_1:0) to a numpy array. This error may indicate that you're trying to pass a Tensor to a NumPy call, which is not supported.\n\n",
     "output_type": "error",
     "traceback": [
      "\u001B[0;31m---------------------------------------------------------------------------\u001B[0m",
      "\u001B[0;31mRuntimeError\u001B[0m                              Traceback (most recent call last)",
      "Cell \u001B[0;32mIn[30], line 13\u001B[0m\n\u001B[1;32m      7\u001B[0m X_train, X_test, y_train, y_test \u001B[38;5;241m=\u001B[39m train_test_split(X, y, test_size\u001B[38;5;241m=\u001B[39m\u001B[38;5;241m0.2\u001B[39m, random_state\u001B[38;5;241m=\u001B[39m\u001B[38;5;241m42\u001B[39m)\n\u001B[1;32m      9\u001B[0m clf \u001B[38;5;241m=\u001B[39m StructuredDataClassifier(max_trials\u001B[38;5;241m=\u001B[39m\u001B[38;5;241m10\u001B[39m,\n\u001B[1;32m     10\u001B[0m                                metrics\u001B[38;5;241m=\u001B[39m[f1_score, \u001B[38;5;124m\"\u001B[39m\u001B[38;5;124maccuracy\u001B[39m\u001B[38;5;124m\"\u001B[39m],\n\u001B[1;32m     11\u001B[0m                                overwrite\u001B[38;5;241m=\u001B[39m\u001B[38;5;28;01mTrue\u001B[39;00m)\n\u001B[0;32m---> 13\u001B[0m \u001B[43mclf\u001B[49m\u001B[38;5;241;43m.\u001B[39;49m\u001B[43mfit\u001B[49m\u001B[43m(\u001B[49m\u001B[43mX_train\u001B[49m\u001B[43m,\u001B[49m\u001B[43m \u001B[49m\u001B[43my_train\u001B[49m\u001B[43m,\u001B[49m\u001B[43m \u001B[49m\u001B[43mverbose\u001B[49m\u001B[38;5;241;43m=\u001B[39;49m\u001B[38;5;241;43m1\u001B[39;49m\u001B[43m)\u001B[49m\n\u001B[1;32m     14\u001B[0m \u001B[38;5;28mprint\u001B[39m(clf\u001B[38;5;241m.\u001B[39mevaluate(X_test, y_test))\n\u001B[1;32m     15\u001B[0m f1_s \u001B[38;5;241m=\u001B[39m f1_score(y_test, clf\u001B[38;5;241m.\u001B[39mpredict(X_test))\n",
      "File \u001B[0;32m/opt/homebrew/anaconda3/envs/edap01/lib/python3.10/site-packages/autokeras/tasks/structured_data.py:326\u001B[0m, in \u001B[0;36mStructuredDataClassifier.fit\u001B[0;34m(self, x, y, epochs, callbacks, validation_split, validation_data, **kwargs)\u001B[0m\n\u001B[1;32m    279\u001B[0m \u001B[38;5;28;01mdef\u001B[39;00m \u001B[38;5;21mfit\u001B[39m(\n\u001B[1;32m    280\u001B[0m     \u001B[38;5;28mself\u001B[39m,\n\u001B[1;32m    281\u001B[0m     x\u001B[38;5;241m=\u001B[39m\u001B[38;5;28;01mNone\u001B[39;00m,\n\u001B[0;32m   (...)\u001B[0m\n\u001B[1;32m    287\u001B[0m     \u001B[38;5;241m*\u001B[39m\u001B[38;5;241m*\u001B[39mkwargs\n\u001B[1;32m    288\u001B[0m ):\n\u001B[1;32m    289\u001B[0m     \u001B[38;5;124;03m\"\"\"Search for the best model and hyperparameters for the AutoModel.\u001B[39;00m\n\u001B[1;32m    290\u001B[0m \n\u001B[1;32m    291\u001B[0m \u001B[38;5;124;03m    # Arguments\u001B[39;00m\n\u001B[0;32m   (...)\u001B[0m\n\u001B[1;32m    324\u001B[0m \u001B[38;5;124;03m            validation loss values and validation metrics values (if applicable).\u001B[39;00m\n\u001B[1;32m    325\u001B[0m \u001B[38;5;124;03m    \"\"\"\u001B[39;00m\n\u001B[0;32m--> 326\u001B[0m     history \u001B[38;5;241m=\u001B[39m \u001B[38;5;28;43msuper\u001B[39;49m\u001B[43m(\u001B[49m\u001B[43m)\u001B[49m\u001B[38;5;241;43m.\u001B[39;49m\u001B[43mfit\u001B[49m\u001B[43m(\u001B[49m\n\u001B[1;32m    327\u001B[0m \u001B[43m        \u001B[49m\u001B[43mx\u001B[49m\u001B[38;5;241;43m=\u001B[39;49m\u001B[43mx\u001B[49m\u001B[43m,\u001B[49m\n\u001B[1;32m    328\u001B[0m \u001B[43m        \u001B[49m\u001B[43my\u001B[49m\u001B[38;5;241;43m=\u001B[39;49m\u001B[43my\u001B[49m\u001B[43m,\u001B[49m\n\u001B[1;32m    329\u001B[0m \u001B[43m        \u001B[49m\u001B[43mepochs\u001B[49m\u001B[38;5;241;43m=\u001B[39;49m\u001B[43mepochs\u001B[49m\u001B[43m,\u001B[49m\n\u001B[1;32m    330\u001B[0m \u001B[43m        \u001B[49m\u001B[43mcallbacks\u001B[49m\u001B[38;5;241;43m=\u001B[39;49m\u001B[43mcallbacks\u001B[49m\u001B[43m,\u001B[49m\n\u001B[1;32m    331\u001B[0m \u001B[43m        \u001B[49m\u001B[43mvalidation_split\u001B[49m\u001B[38;5;241;43m=\u001B[39;49m\u001B[43mvalidation_split\u001B[49m\u001B[43m,\u001B[49m\n\u001B[1;32m    332\u001B[0m \u001B[43m        \u001B[49m\u001B[43mvalidation_data\u001B[49m\u001B[38;5;241;43m=\u001B[39;49m\u001B[43mvalidation_data\u001B[49m\u001B[43m,\u001B[49m\n\u001B[1;32m    333\u001B[0m \u001B[43m        \u001B[49m\u001B[38;5;241;43m*\u001B[39;49m\u001B[38;5;241;43m*\u001B[39;49m\u001B[43mkwargs\u001B[49m\n\u001B[1;32m    334\u001B[0m \u001B[43m    \u001B[49m\u001B[43m)\u001B[49m\n\u001B[1;32m    335\u001B[0m     \u001B[38;5;28;01mreturn\u001B[39;00m history\n",
      "File \u001B[0;32m/opt/homebrew/anaconda3/envs/edap01/lib/python3.10/site-packages/autokeras/tasks/structured_data.py:139\u001B[0m, in \u001B[0;36mBaseStructuredDataPipeline.fit\u001B[0;34m(self, x, y, epochs, callbacks, validation_split, validation_data, **kwargs)\u001B[0m\n\u001B[1;32m    135\u001B[0m         validation_data \u001B[38;5;241m=\u001B[39m \u001B[38;5;28mself\u001B[39m\u001B[38;5;241m.\u001B[39m_read_from_csv(x_val, y_val)\n\u001B[1;32m    137\u001B[0m \u001B[38;5;28mself\u001B[39m\u001B[38;5;241m.\u001B[39mcheck_in_fit(x)\n\u001B[0;32m--> 139\u001B[0m history \u001B[38;5;241m=\u001B[39m \u001B[38;5;28;43msuper\u001B[39;49m\u001B[43m(\u001B[49m\u001B[43m)\u001B[49m\u001B[38;5;241;43m.\u001B[39;49m\u001B[43mfit\u001B[49m\u001B[43m(\u001B[49m\n\u001B[1;32m    140\u001B[0m \u001B[43m    \u001B[49m\u001B[43mx\u001B[49m\u001B[38;5;241;43m=\u001B[39;49m\u001B[43mx\u001B[49m\u001B[43m,\u001B[49m\n\u001B[1;32m    141\u001B[0m \u001B[43m    \u001B[49m\u001B[43my\u001B[49m\u001B[38;5;241;43m=\u001B[39;49m\u001B[43my\u001B[49m\u001B[43m,\u001B[49m\n\u001B[1;32m    142\u001B[0m \u001B[43m    \u001B[49m\u001B[43mepochs\u001B[49m\u001B[38;5;241;43m=\u001B[39;49m\u001B[43mepochs\u001B[49m\u001B[43m,\u001B[49m\n\u001B[1;32m    143\u001B[0m \u001B[43m    \u001B[49m\u001B[43mcallbacks\u001B[49m\u001B[38;5;241;43m=\u001B[39;49m\u001B[43mcallbacks\u001B[49m\u001B[43m,\u001B[49m\n\u001B[1;32m    144\u001B[0m \u001B[43m    \u001B[49m\u001B[43mvalidation_split\u001B[49m\u001B[38;5;241;43m=\u001B[39;49m\u001B[43mvalidation_split\u001B[49m\u001B[43m,\u001B[49m\n\u001B[1;32m    145\u001B[0m \u001B[43m    \u001B[49m\u001B[43mvalidation_data\u001B[49m\u001B[38;5;241;43m=\u001B[39;49m\u001B[43mvalidation_data\u001B[49m\u001B[43m,\u001B[49m\n\u001B[1;32m    146\u001B[0m \u001B[43m    \u001B[49m\u001B[38;5;241;43m*\u001B[39;49m\u001B[38;5;241;43m*\u001B[39;49m\u001B[43mkwargs\u001B[49m\n\u001B[1;32m    147\u001B[0m \u001B[43m\u001B[49m\u001B[43m)\u001B[49m\n\u001B[1;32m    148\u001B[0m \u001B[38;5;28;01mreturn\u001B[39;00m history\n",
      "File \u001B[0;32m/opt/homebrew/anaconda3/envs/edap01/lib/python3.10/site-packages/autokeras/auto_model.py:292\u001B[0m, in \u001B[0;36mAutoModel.fit\u001B[0;34m(self, x, y, batch_size, epochs, callbacks, validation_split, validation_data, verbose, **kwargs)\u001B[0m\n\u001B[1;32m    287\u001B[0m \u001B[38;5;28;01mif\u001B[39;00m validation_data \u001B[38;5;129;01mis\u001B[39;00m \u001B[38;5;28;01mNone\u001B[39;00m \u001B[38;5;129;01mand\u001B[39;00m validation_split:\n\u001B[1;32m    288\u001B[0m     dataset, validation_data \u001B[38;5;241m=\u001B[39m data_utils\u001B[38;5;241m.\u001B[39msplit_dataset(\n\u001B[1;32m    289\u001B[0m         dataset, validation_split\n\u001B[1;32m    290\u001B[0m     )\n\u001B[0;32m--> 292\u001B[0m history \u001B[38;5;241m=\u001B[39m \u001B[38;5;28;43mself\u001B[39;49m\u001B[38;5;241;43m.\u001B[39;49m\u001B[43mtuner\u001B[49m\u001B[38;5;241;43m.\u001B[39;49m\u001B[43msearch\u001B[49m\u001B[43m(\u001B[49m\n\u001B[1;32m    293\u001B[0m \u001B[43m    \u001B[49m\u001B[43mx\u001B[49m\u001B[38;5;241;43m=\u001B[39;49m\u001B[43mdataset\u001B[49m\u001B[43m,\u001B[49m\n\u001B[1;32m    294\u001B[0m \u001B[43m    \u001B[49m\u001B[43mepochs\u001B[49m\u001B[38;5;241;43m=\u001B[39;49m\u001B[43mepochs\u001B[49m\u001B[43m,\u001B[49m\n\u001B[1;32m    295\u001B[0m \u001B[43m    \u001B[49m\u001B[43mcallbacks\u001B[49m\u001B[38;5;241;43m=\u001B[39;49m\u001B[43mcallbacks\u001B[49m\u001B[43m,\u001B[49m\n\u001B[1;32m    296\u001B[0m \u001B[43m    \u001B[49m\u001B[43mvalidation_data\u001B[49m\u001B[38;5;241;43m=\u001B[39;49m\u001B[43mvalidation_data\u001B[49m\u001B[43m,\u001B[49m\n\u001B[1;32m    297\u001B[0m \u001B[43m    \u001B[49m\u001B[43mvalidation_split\u001B[49m\u001B[38;5;241;43m=\u001B[39;49m\u001B[43mvalidation_split\u001B[49m\u001B[43m,\u001B[49m\n\u001B[1;32m    298\u001B[0m \u001B[43m    \u001B[49m\u001B[43mverbose\u001B[49m\u001B[38;5;241;43m=\u001B[39;49m\u001B[43mverbose\u001B[49m\u001B[43m,\u001B[49m\n\u001B[1;32m    299\u001B[0m \u001B[43m    \u001B[49m\u001B[38;5;241;43m*\u001B[39;49m\u001B[38;5;241;43m*\u001B[39;49m\u001B[43mkwargs\u001B[49m\n\u001B[1;32m    300\u001B[0m \u001B[43m\u001B[49m\u001B[43m)\u001B[49m\n\u001B[1;32m    302\u001B[0m \u001B[38;5;28;01mreturn\u001B[39;00m history\n",
      "File \u001B[0;32m/opt/homebrew/anaconda3/envs/edap01/lib/python3.10/site-packages/autokeras/engine/tuner.py:193\u001B[0m, in \u001B[0;36mAutoTuner.search\u001B[0;34m(self, epochs, callbacks, validation_split, verbose, **fit_kwargs)\u001B[0m\n\u001B[1;32m    191\u001B[0m \u001B[38;5;28mself\u001B[39m\u001B[38;5;241m.\u001B[39m_try_build(hp)\n\u001B[1;32m    192\u001B[0m \u001B[38;5;28mself\u001B[39m\u001B[38;5;241m.\u001B[39moracle\u001B[38;5;241m.\u001B[39mupdate_space(hp)\n\u001B[0;32m--> 193\u001B[0m \u001B[38;5;28;43msuper\u001B[39;49m\u001B[43m(\u001B[49m\u001B[43m)\u001B[49m\u001B[38;5;241;43m.\u001B[39;49m\u001B[43msearch\u001B[49m\u001B[43m(\u001B[49m\n\u001B[1;32m    194\u001B[0m \u001B[43m    \u001B[49m\u001B[43mepochs\u001B[49m\u001B[38;5;241;43m=\u001B[39;49m\u001B[43mepochs\u001B[49m\u001B[43m,\u001B[49m\u001B[43m \u001B[49m\u001B[43mcallbacks\u001B[49m\u001B[38;5;241;43m=\u001B[39;49m\u001B[43mnew_callbacks\u001B[49m\u001B[43m,\u001B[49m\u001B[43m \u001B[49m\u001B[43mverbose\u001B[49m\u001B[38;5;241;43m=\u001B[39;49m\u001B[43mverbose\u001B[49m\u001B[43m,\u001B[49m\u001B[43m \u001B[49m\u001B[38;5;241;43m*\u001B[39;49m\u001B[38;5;241;43m*\u001B[39;49m\u001B[43mfit_kwargs\u001B[49m\n\u001B[1;32m    195\u001B[0m \u001B[43m\u001B[49m\u001B[43m)\u001B[49m\n\u001B[1;32m    197\u001B[0m \u001B[38;5;66;03m# Train the best model use validation data.\u001B[39;00m\n\u001B[1;32m    198\u001B[0m \u001B[38;5;66;03m# Train the best model with enough number of epochs.\u001B[39;00m\n\u001B[1;32m    199\u001B[0m \u001B[38;5;28;01mif\u001B[39;00m validation_split \u001B[38;5;241m>\u001B[39m \u001B[38;5;241m0\u001B[39m \u001B[38;5;129;01mor\u001B[39;00m early_stopping_inserted:\n",
      "File \u001B[0;32m/opt/homebrew/anaconda3/envs/edap01/lib/python3.10/site-packages/keras_tuner/engine/base_tuner.py:231\u001B[0m, in \u001B[0;36mBaseTuner.search\u001B[0;34m(self, *fit_args, **fit_kwargs)\u001B[0m\n\u001B[1;32m    229\u001B[0m     \u001B[38;5;28mself\u001B[39m\u001B[38;5;241m.\u001B[39mon_trial_begin(trial)\n\u001B[1;32m    230\u001B[0m     \u001B[38;5;28mself\u001B[39m\u001B[38;5;241m.\u001B[39m_try_run_and_update_trial(trial, \u001B[38;5;241m*\u001B[39mfit_args, \u001B[38;5;241m*\u001B[39m\u001B[38;5;241m*\u001B[39mfit_kwargs)\n\u001B[0;32m--> 231\u001B[0m     \u001B[38;5;28;43mself\u001B[39;49m\u001B[38;5;241;43m.\u001B[39;49m\u001B[43mon_trial_end\u001B[49m\u001B[43m(\u001B[49m\u001B[43mtrial\u001B[49m\u001B[43m)\u001B[49m\n\u001B[1;32m    232\u001B[0m \u001B[38;5;28mself\u001B[39m\u001B[38;5;241m.\u001B[39mon_search_end()\n",
      "File \u001B[0;32m/opt/homebrew/anaconda3/envs/edap01/lib/python3.10/site-packages/keras_tuner/engine/base_tuner.py:335\u001B[0m, in \u001B[0;36mBaseTuner.on_trial_end\u001B[0;34m(self, trial)\u001B[0m\n\u001B[1;32m    329\u001B[0m \u001B[38;5;28;01mdef\u001B[39;00m \u001B[38;5;21mon_trial_end\u001B[39m(\u001B[38;5;28mself\u001B[39m, trial):\n\u001B[1;32m    330\u001B[0m     \u001B[38;5;124;03m\"\"\"Called at the end of a trial.\u001B[39;00m\n\u001B[1;32m    331\u001B[0m \n\u001B[1;32m    332\u001B[0m \u001B[38;5;124;03m    Args:\u001B[39;00m\n\u001B[1;32m    333\u001B[0m \u001B[38;5;124;03m        trial: A `Trial` instance.\u001B[39;00m\n\u001B[1;32m    334\u001B[0m \u001B[38;5;124;03m    \"\"\"\u001B[39;00m\n\u001B[0;32m--> 335\u001B[0m     \u001B[38;5;28;43mself\u001B[39;49m\u001B[38;5;241;43m.\u001B[39;49m\u001B[43moracle\u001B[49m\u001B[38;5;241;43m.\u001B[39;49m\u001B[43mend_trial\u001B[49m\u001B[43m(\u001B[49m\u001B[43mtrial\u001B[49m\u001B[43m)\u001B[49m\n\u001B[1;32m    336\u001B[0m     \u001B[38;5;66;03m# Display needs the updated trial scored by the Oracle.\u001B[39;00m\n\u001B[1;32m    337\u001B[0m     \u001B[38;5;28mself\u001B[39m\u001B[38;5;241m.\u001B[39m_display\u001B[38;5;241m.\u001B[39mon_trial_end(\u001B[38;5;28mself\u001B[39m\u001B[38;5;241m.\u001B[39moracle\u001B[38;5;241m.\u001B[39mget_trial(trial\u001B[38;5;241m.\u001B[39mtrial_id))\n",
      "File \u001B[0;32m/opt/homebrew/anaconda3/envs/edap01/lib/python3.10/site-packages/keras_tuner/engine/oracle.py:107\u001B[0m, in \u001B[0;36msynchronized.<locals>.wrapped_func\u001B[0;34m(*args, **kwargs)\u001B[0m\n\u001B[1;32m    105\u001B[0m     LOCKS[oracle]\u001B[38;5;241m.\u001B[39macquire()\n\u001B[1;32m    106\u001B[0m     THREADS[oracle] \u001B[38;5;241m=\u001B[39m thread_name\n\u001B[0;32m--> 107\u001B[0m ret_val \u001B[38;5;241m=\u001B[39m \u001B[43mfunc\u001B[49m\u001B[43m(\u001B[49m\u001B[38;5;241;43m*\u001B[39;49m\u001B[43margs\u001B[49m\u001B[43m,\u001B[49m\u001B[43m \u001B[49m\u001B[38;5;241;43m*\u001B[39;49m\u001B[38;5;241;43m*\u001B[39;49m\u001B[43mkwargs\u001B[49m\u001B[43m)\u001B[49m\n\u001B[1;32m    108\u001B[0m \u001B[38;5;28;01mif\u001B[39;00m need_acquire:\n\u001B[1;32m    109\u001B[0m     THREADS[oracle] \u001B[38;5;241m=\u001B[39m \u001B[38;5;28;01mNone\u001B[39;00m\n",
      "File \u001B[0;32m/opt/homebrew/anaconda3/envs/edap01/lib/python3.10/site-packages/keras_tuner/engine/oracle.py:434\u001B[0m, in \u001B[0;36mOracle.end_trial\u001B[0;34m(self, trial)\u001B[0m\n\u001B[1;32m    432\u001B[0m \u001B[38;5;28;01mif\u001B[39;00m \u001B[38;5;129;01mnot\u001B[39;00m \u001B[38;5;28mself\u001B[39m\u001B[38;5;241m.\u001B[39m_retry(trial):\n\u001B[1;32m    433\u001B[0m     \u001B[38;5;28mself\u001B[39m\u001B[38;5;241m.\u001B[39mend_order\u001B[38;5;241m.\u001B[39mappend(trial\u001B[38;5;241m.\u001B[39mtrial_id)\n\u001B[0;32m--> 434\u001B[0m     \u001B[38;5;28;43mself\u001B[39;49m\u001B[38;5;241;43m.\u001B[39;49m\u001B[43m_check_consecutive_failures\u001B[49m\u001B[43m(\u001B[49m\u001B[43m)\u001B[49m\n\u001B[1;32m    436\u001B[0m \u001B[38;5;28mself\u001B[39m\u001B[38;5;241m.\u001B[39m_save_trial(trial)\n\u001B[1;32m    437\u001B[0m \u001B[38;5;28mself\u001B[39m\u001B[38;5;241m.\u001B[39msave()\n",
      "File \u001B[0;32m/opt/homebrew/anaconda3/envs/edap01/lib/python3.10/site-packages/keras_tuner/engine/oracle.py:386\u001B[0m, in \u001B[0;36mOracle._check_consecutive_failures\u001B[0;34m(self)\u001B[0m\n\u001B[1;32m    384\u001B[0m     consecutive_failures \u001B[38;5;241m=\u001B[39m \u001B[38;5;241m0\u001B[39m\n\u001B[1;32m    385\u001B[0m \u001B[38;5;28;01mif\u001B[39;00m consecutive_failures \u001B[38;5;241m==\u001B[39m \u001B[38;5;28mself\u001B[39m\u001B[38;5;241m.\u001B[39mmax_consecutive_failed_trials:\n\u001B[0;32m--> 386\u001B[0m     \u001B[38;5;28;01mraise\u001B[39;00m \u001B[38;5;167;01mRuntimeError\u001B[39;00m(\n\u001B[1;32m    387\u001B[0m         \u001B[38;5;124m\"\u001B[39m\u001B[38;5;124mNumber of consecutive failures excceeded the limit \u001B[39m\u001B[38;5;124m\"\u001B[39m\n\u001B[1;32m    388\u001B[0m         \u001B[38;5;124mf\u001B[39m\u001B[38;5;124m\"\u001B[39m\u001B[38;5;124mof \u001B[39m\u001B[38;5;132;01m{\u001B[39;00m\u001B[38;5;28mself\u001B[39m\u001B[38;5;241m.\u001B[39mmax_consecutive_failed_trials\u001B[38;5;132;01m}\u001B[39;00m\u001B[38;5;124m.\u001B[39m\u001B[38;5;130;01m\\n\u001B[39;00m\u001B[38;5;124m\"\u001B[39m\n\u001B[1;32m    389\u001B[0m         \u001B[38;5;241m+\u001B[39m trial\u001B[38;5;241m.\u001B[39mmessage\n\u001B[1;32m    390\u001B[0m     )\n",
      "\u001B[0;31mRuntimeError\u001B[0m: Number of consecutive failures excceeded the limit of 3.\nTraceback (most recent call last):\n  File \"/opt/homebrew/anaconda3/envs/edap01/lib/python3.10/site-packages/keras_tuner/engine/base_tuner.py\", line 270, in _try_run_and_update_trial\n    self._run_and_update_trial(trial, *fit_args, **fit_kwargs)\n  File \"/opt/homebrew/anaconda3/envs/edap01/lib/python3.10/site-packages/keras_tuner/engine/base_tuner.py\", line 235, in _run_and_update_trial\n    results = self.run_trial(trial, *fit_args, **fit_kwargs)\n  File \"/opt/homebrew/anaconda3/envs/edap01/lib/python3.10/site-packages/keras_tuner/engine/tuner.py\", line 287, in run_trial\n    obj_value = self._build_and_fit_model(trial, *args, **copied_kwargs)\n  File \"/opt/homebrew/anaconda3/envs/edap01/lib/python3.10/site-packages/autokeras/engine/tuner.py\", line 101, in _build_and_fit_model\n    _, history = utils.fit_with_adaptive_batch_size(\n  File \"/opt/homebrew/anaconda3/envs/edap01/lib/python3.10/site-packages/autokeras/utils/utils.py\", line 88, in fit_with_adaptive_batch_size\n    history = run_with_adaptive_batch_size(\n  File \"/opt/homebrew/anaconda3/envs/edap01/lib/python3.10/site-packages/autokeras/utils/utils.py\", line 101, in run_with_adaptive_batch_size\n    history = func(x=x, validation_data=validation_data, **fit_kwargs)\n  File \"/opt/homebrew/anaconda3/envs/edap01/lib/python3.10/site-packages/autokeras/utils/utils.py\", line 89, in <lambda>\n    batch_size, lambda **kwargs: model.fit(**kwargs), **fit_kwargs\n  File \"/opt/homebrew/anaconda3/envs/edap01/lib/python3.10/site-packages/keras/utils/traceback_utils.py\", line 70, in error_handler\n    raise e.with_traceback(filtered_tb) from None\n  File \"/var/folders/k_/917q0lsn2g199rm9y4s8jy5h0000gn/T/__autograph_generated_fileem1enlth.py\", line 15, in tf__train_function\n    retval_ = ag__.converted_call(ag__.ld(step_function), (ag__.ld(self), ag__.ld(iterator)), None, fscope)\n  File \"/var/folders/k_/917q0lsn2g199rm9y4s8jy5h0000gn/T/__autograph_generated_filedjzu6x0p.py\", line 136, in tf__f1_score\n    retval_ = ag__.converted_call(ag__.ld(fbeta_score), (ag__.ld(y_true), ag__.ld(y_pred)), dict(beta=1, labels=ag__.ld(labels), pos_label=ag__.ld(pos_label), average=ag__.ld(average), sample_weight=ag__.ld(sample_weight), zero_division=ag__.ld(zero_division)), fscope)\n  File \"/var/folders/k_/917q0lsn2g199rm9y4s8jy5h0000gn/T/__autograph_generated_filew24cnih9.py\", line 125, in tf__fbeta_score\n    (_, _, f, _) = ag__.converted_call(ag__.ld(precision_recall_fscore_support), (ag__.ld(y_true), ag__.ld(y_pred)), dict(beta=ag__.ld(beta), labels=ag__.ld(labels), pos_label=ag__.ld(pos_label), average=ag__.ld(average), warn_for=('f-score',), sample_weight=ag__.ld(sample_weight), zero_division=ag__.ld(zero_division)), fscope)\n  File \"/var/folders/k_/917q0lsn2g199rm9y4s8jy5h0000gn/T/__autograph_generated_filepms062hz.py\", line 171, in tf__precision_recall_fscore_support\n    labels = ag__.converted_call(ag__.ld(_check_set_wise_labels), (ag__.ld(y_true), ag__.ld(y_pred), ag__.ld(average), ag__.ld(labels), ag__.ld(pos_label)), None, fscope)\n  File \"/var/folders/k_/917q0lsn2g199rm9y4s8jy5h0000gn/T/__autograph_generated_fileikpdi44_.py\", line 28, in tf___check_set_wise_labels\n    (y_type, y_true, y_pred) = ag__.converted_call(ag__.ld(_check_targets), (ag__.ld(y_true), ag__.ld(y_pred)), None, fscope)\n  File \"/var/folders/k_/917q0lsn2g199rm9y4s8jy5h0000gn/T/__autograph_generated_filea2298tq7.py\", line 36, in tf___check_targets\n    ag__.converted_call(ag__.ld(check_consistent_length), (ag__.ld(y_true), ag__.ld(y_pred)), None, fscope)\n  File \"/var/folders/k_/917q0lsn2g199rm9y4s8jy5h0000gn/T/__autograph_generated_filedxq0mdsb.py\", line 18, in tf__check_consistent_length\n    uniques = ag__.converted_call(ag__.ld(np).unique, (ag__.ld(lengths),), None, fscope)\n  File \"<__array_function__ internals>\", line 180, in unique\n  File \"/opt/homebrew/anaconda3/envs/edap01/lib/python3.10/site-packages/numpy/lib/arraysetops.py\", line 272, in unique\n    ar = np.asanyarray(ar)\nNotImplementedError: in user code:\n\n    File \"/opt/homebrew/anaconda3/envs/edap01/lib/python3.10/site-packages/keras/engine/training.py\", line 1249, in train_function  *\n        return step_function(self, iterator)\n    File \"/opt/homebrew/anaconda3/envs/edap01/lib/python3.10/site-packages/sklearn/metrics/_classification.py\", line 1143, in f1_score  *\n        zero_division=zero_division,\n    File \"/opt/homebrew/anaconda3/envs/edap01/lib/python3.10/site-packages/sklearn/metrics/_classification.py\", line 1275, in fbeta_score  *\n        _, _, f, _ = precision_recall_fscore_support(\n    File \"/opt/homebrew/anaconda3/envs/edap01/lib/python3.10/site-packages/sklearn/metrics/_classification.py\", line 1558, in precision_recall_fscore_support  *\n        labels = _check_set_wise_labels(y_true, y_pred, average, labels, pos_label)\n    File \"/opt/homebrew/anaconda3/envs/edap01/lib/python3.10/site-packages/sklearn/metrics/_classification.py\", line 1364, in _check_set_wise_labels  *\n        y_type, y_true, y_pred = _check_targets(y_true, y_pred)\n    File \"/opt/homebrew/anaconda3/envs/edap01/lib/python3.10/site-packages/sklearn/metrics/_classification.py\", line 84, in _check_targets  *\n        check_consistent_length(y_true, y_pred)\n    File \"/opt/homebrew/anaconda3/envs/edap01/lib/python3.10/site-packages/sklearn/utils/validation.py\", line 385, in check_consistent_length  *\n        uniques = np.unique(lengths)\n    File \"<__array_function__ internals>\", line 180, in unique  **\n        \n    File \"/opt/homebrew/anaconda3/envs/edap01/lib/python3.10/site-packages/numpy/lib/arraysetops.py\", line 272, in unique\n        ar = np.asanyarray(ar)\n\n    NotImplementedError: Cannot convert a symbolic tf.Tensor (strided_slice_1:0) to a numpy array. This error may indicate that you're trying to pass a Tensor to a NumPy call, which is not supported.\n\n"
     ]
    }
   ],
   "source": [
    "from sklearn.model_selection import train_test_split\n",
    "from autokeras import StructuredDataClassifier\n",
    "from sklearn.metrics import f1_score\n",
    "\n",
    "X = df.drop(columns=['wl_time'])\n",
    "y = df['wl_time']\n",
    "X_train, X_test, y_train, y_test = train_test_split(X, y, test_size=0.2, random_state=42)\n",
    "\n",
    "clf = StructuredDataClassifier(max_trials=10,\n",
    "                               metrics=[f1_score, \"accuracy\"],\n",
    "                               overwrite=True)\n",
    "\n",
    "clf.fit(X_train, y_train, verbose=1)\n",
    "print(clf.evaluate(X_test, y_test))\n",
    "f1_s = f1_score(y_test, clf.predict(X_test))\n",
    "print(f\"F1 score: {f1_s}\")\n",
    "print(\"F1 Macro:\", f1_score(y_test, clf.predict(X_test), average='macro'))\n"
   ],
   "metadata": {
    "collapsed": false
   }
  },
  {
   "cell_type": "code",
   "execution_count": null,
   "outputs": [],
   "source": [
    "f1_s = f1_score(y_test, clf.predict(X_test))\n",
    "print(f\"F1 score: {f1_s}\")\n",
    "print(\"F1 Macro:\", f1_score(y_test, clf.predict(X_test), average='macro'))"
   ],
   "metadata": {
    "collapsed": false
   }
  },
  {
   "cell_type": "code",
   "execution_count": null,
   "outputs": [],
   "source": [],
   "metadata": {
    "collapsed": false
   }
  }
 ],
 "metadata": {
  "kernelspec": {
   "display_name": "Python 3",
   "language": "python",
   "name": "python3"
  },
  "language_info": {
   "codemirror_mode": {
    "name": "ipython",
    "version": 2
   },
   "file_extension": ".py",
   "mimetype": "text/x-python",
   "name": "python",
   "nbconvert_exporter": "python",
   "pygments_lexer": "ipython2",
   "version": "2.7.6"
  }
 },
 "nbformat": 4,
 "nbformat_minor": 0
}
