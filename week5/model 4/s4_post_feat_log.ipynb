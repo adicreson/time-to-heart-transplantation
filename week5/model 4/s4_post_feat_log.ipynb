{
 "cells": [
  {
   "cell_type": "code",
   "execution_count": 34,
   "metadata": {},
   "outputs": [],
   "source": [
    "import os\n",
    "import pandas as pd\n",
    "\n",
    "base_dir = \"../../Data\"\n",
    "base_csv_path = os.path.join(base_dir, 'm4_post_feat_sel.csv')\n",
    "assert os.path.exists(base_csv_path), f\"base {base_csv_path} does not exist\"\n",
    "\n",
    "df = pd.read_csv(base_csv_path)"
   ]
  },
  {
   "cell_type": "code",
   "execution_count": 35,
   "metadata": {},
   "outputs": [
    {
     "name": "stdout",
     "output_type": "stream",
     "text": [
      "Number of missing values in wl_time: 0\n",
      "Number of values in wl_time: 77410\n",
      "Median for wl_time: 78.0\n",
      "Percentage of 0 and 1 in wl_time: \n",
      "1    50.188606\n",
      "0    49.811394\n",
      "Name: wl_time, dtype: float64\n",
      "Number of missing values in wl_time: 0\n"
     ]
    }
   ],
   "source": [
    "#Print number of missing values in wl_tme\n",
    "print(f'Number of missing values in wl_time: {df[\"wl_time\"].isnull().sum()}')\n",
    "\n",
    "#Print number of values in wl_time\n",
    "print(f'Number of values in wl_time: {df[\"wl_time\"].count()}')\n",
    "\n",
    "wl_median = df['wl_time'].median()\n",
    "\n",
    "#Print median for wl_time\n",
    "print(f'Median for wl_time: {wl_median}')\n",
    "\n",
    "#Code wl_time to 0 if wl_time is is less than the median else 1\n",
    "df['wl_time'] = df['wl_time'].apply(lambda x: 0 if x < wl_median else 1)\n",
    "\n",
    "#Print percentage of 0 and 1 in wl_time\n",
    "print(f'Percentage of 0 and 1 in wl_time: \\n{df[\"wl_time\"].value_counts(normalize=True) * 100}')\n",
    "\n",
    "#Print number of missing values in wl_time\n",
    "print(f'Number of missing values in wl_time: {df[\"wl_time\"].isnull().sum()}')"
   ]
  },
  {
   "cell_type": "code",
   "execution_count": 36,
   "metadata": {},
   "outputs": [],
   "source": [
    "from sklearn.linear_model import LogisticRegression\n",
    "from sklearn.model_selection import cross_val_score\n",
    "from sklearn.preprocessing import StandardScaler\n",
    "from sklearn.metrics import confusion_matrix\n",
    "\n",
    "X = df.drop(['wl_time'], axis=1)\n",
    "y = df['wl_time']\n",
    "\n",
    "#columns_to_scale = [col for col in df.columns if df[col].nunique() > 2]\n",
    "\n",
    "#scaler = StandardScaler()\n",
    "#X[columns_to_scale] = scaler.fit_transform(X[columns_to_scale])"
   ]
  },
  {
   "cell_type": "code",
   "execution_count": 37,
   "metadata": {
    "collapsed": false
   },
   "outputs": [
    {
     "name": "stdout",
     "output_type": "stream",
     "text": [
      "F1 score post feature selection: 0.6742134833906658\n",
      "F1 macro score post feature selection: 0.4319904761681027\n"
     ]
    }
   ],
   "source": [
    "log = LogisticRegression(max_iter=1000)\n",
    "f1_scores = cross_val_score(log, X, y, cv=5, scoring='f1').mean()\n",
    "f1_macro_scores = cross_val_score(log, X, y, cv=5, scoring='f1_macro').mean()\n",
    "\n",
    "print(f\"F1 score post feature selection: {f1_scores}\")\n",
    "print(f\"F1 macro score post feature selection: {f1_macro_scores}\")"
   ]
  },
  {
   "cell_type": "code",
   "execution_count": 38,
   "metadata": {
    "collapsed": false
   },
   "outputs": [
    {
     "data": {
      "text/plain": [
       "<Axes: >"
      ]
     },
     "execution_count": 38,
     "metadata": {},
     "output_type": "execute_result"
    },
    {
     "data": {
      "image/png": "[encoded data removed]",
      "text/plain": [
       "<Figure size 640x480 with 2 Axes>"
      ]
     },
     "metadata": {},
     "output_type": "display_data"
    }
   ],
   "source": [
    "import seaborn as sns\n",
    "from sklearn.model_selection import cross_val_predict\n",
    "\n",
    "y_pred = cross_val_predict(log, X, y, cv=5)\n",
    "sns.heatmap(confusion_matrix(y, y_pred), annot=True, cmap='Blues', fmt='g')"
   ]
  }
 ],
 "metadata": {
  "kernelspec": {
   "display_name": "Python 3",
   "language": "python",
   "name": "python3"
  },
  "language_info": {
   "codemirror_mode": {
    "name": "ipython",
    "version": 3
   },
   "file_extension": ".py",
   "mimetype": "text/x-python",
   "name": "python",
   "nbconvert_exporter": "python",
   "pygments_lexer": "ipython3",
   "version": "3.10.10"
  },
  "orig_nbformat": 4
 },
 "nbformat": 4,
 "nbformat_minor": 2
}
