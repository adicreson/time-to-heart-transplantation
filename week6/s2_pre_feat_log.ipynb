{
 "cells": [
  {
   "cell_type": "code",
   "execution_count": 1,
   "metadata": {},
   "outputs": [],
   "source": [
    "import os\n",
    "import pandas as pd\n",
    "\n",
    "base_dir = \"../../Data\"\n",
    "base_csv_path = os.path.join(base_dir, 'm4_imputed.csv')\n",
    "assert os.path.exists(base_csv_path), f\"{base_csv_path} does not exist\"\n",
    "\n",
    "df = pd.read_csv(base_csv_path)"
   ]
  },
  {
   "cell_type": "code",
   "execution_count": 2,
   "metadata": {},
   "outputs": [
    {
     "name": "stdout",
     "output_type": "stream",
     "text": [
      "Number of missing values in wl_time: 0\n",
      "Number of values in wl_time: 77410\n",
      "Median for wl_time: 78.0\n",
      "Percentage of 0 and 1 in wl_time: \n",
      "1    50.188606\n",
      "0    49.811394\n",
      "Name: wl_time, dtype: float64\n",
      "Number of missing values in wl_time: 0\n"
     ]
    }
   ],
   "source": [
    "#Print number of missing values in wl_tme\n",
    "print(f'Number of missing values in wl_time: {df[\"wl_time\"].isnull().sum()}')\n",
    "\n",
    "#Print number of values in wl_time\n",
    "print(f'Number of values in wl_time: {df[\"wl_time\"].count()}')\n",
    "\n",
    "wl_median = df['wl_time'].median()\n",
    "\n",
    "#Print median for wl_time\n",
    "print(f'Median for wl_time: {wl_median}')\n",
    "\n",
    "#Code wl_time to 0 if wl_time is is less than the median else 1\n",
    "df['wl_time'] = df['wl_time'].apply(lambda x: 0 if x < wl_median else 1)\n",
    "\n",
    "#Print percentage of 0 and 1 in wl_time\n",
    "print(f'Percentage of 0 and 1 in wl_time: \\n{df[\"wl_time\"].value_counts(normalize=True) * 100}')\n",
    "\n",
    "#Print number of missing values in wl_time\n",
    "print(f'Number of missing values in wl_time: {df[\"wl_time\"].isnull().sum()}')"
   ]
  },
  {
   "cell_type": "code",
   "execution_count": 3,
   "metadata": {
    "collapsed": false
   },
   "outputs": [],
   "source": [
    "from sklearn.linear_model import LogisticRegression\n",
    "from sklearn.model_selection import cross_val_score\n",
    "from sklearn.preprocessing import StandardScaler\n",
    "from sklearn.metrics import confusion_matrix\n",
    "\n",
    "X = df.drop(['wl_time'], axis=1)\n",
    "y = df['wl_time']\n",
    "\n",
    "one_hot_cols = [col for col in df.columns if df[col].nunique() == 2]\n",
    "columns_to_scale = [col for col in X.columns if col not in one_hot_cols]\n",
    "\n",
    "scaler = StandardScaler()\n",
    "X[columns_to_scale] = scaler.fit_transform(X[columns_to_scale])"
   ]
  },
  {
   "cell_type": "code",
   "execution_count": 4,
   "metadata": {
    "collapsed": false
   },
   "outputs": [
    {
     "name": "stdout",
     "output_type": "stream",
     "text": [
      "F1 score pre feature selection: 0.6690472819414348\n",
      "F1 macro score pre feature selection: 0.6647031953974146\n"
     ]
    }
   ],
   "source": [
    "from sklearn.model_selection import cross_val_predict\n",
    "\n",
    "log = LogisticRegression(max_iter=1000)\n",
    "f1_scores = cross_val_score(log, X, y, cv=5, scoring='f1').mean()\n",
    "print(f\"F1 score pre feature selection: {f1_scores}\")\n",
    "\n",
    "f1_macro_scores = cross_val_score(log, X, y, cv=5, scoring='f1_macro').mean()\n",
    "print(f\"F1 macro score pre feature selection: {f1_macro_scores}\")"
   ]
  },
  {
   "cell_type": "code",
   "execution_count": 5,
   "metadata": {},
   "outputs": [
    {
     "name": "stdout",
     "output_type": "stream",
     "text": [
      "Feature: thoracic_dgn, Odds Ratio: 0.8450059830554938\n",
      "Feature: wgt_kg_tcr, Odds Ratio: 1.4562161967324545\n",
      "Feature: hgt_cm_tcr, Odds Ratio: 1.4869945114612055\n",
      "Feature: func_stat_tcr, Odds Ratio: 0.8554362664380841\n",
      "Feature: most_rcnt_creat, Odds Ratio: 1.0017828433575544\n",
      "Feature: tot_serum_album, Odds Ratio: 1.28030301018182\n",
      "Feature: hemo_co_tcr, Odds Ratio: 1.0018874359426273\n",
      "Feature: init_stat, Odds Ratio: 1.0518511882067103\n",
      "Feature: init_age, Odds Ratio: 0.9755224152981221\n",
      "Feature: init_hgt_cm_calc, Odds Ratio: 0.6856833710530394\n",
      "Feature: init_wgt_kg_calc, Odds Ratio: 1.1106117200676984\n",
      "Feature: num_prev_tx_0, Odds Ratio: 0.8497828665117506\n",
      "Feature: num_prev_tx_1, Odds Ratio: 0.8640444172378666\n",
      "Feature: num_prev_tx_2, Odds Ratio: 0.7274269232993087\n",
      "Feature: num_prev_tx_3, Odds Ratio: 1.7974986352689966\n",
      "Feature: num_prev_tx_4, Odds Ratio: 1.42918316489776\n",
      "Feature: num_prev_tx_5, Odds Ratio: 0.7755025725777455\n",
      "Feature: num_prev_tx_6, Odds Ratio: 0.8746746975727624\n",
      "Feature: num_prev_tx_7, Odds Ratio: 0.643671456535037\n",
      "Feature: num_prev_tx_10, Odds Ratio: 1.482592617013018\n",
      "Feature: tah_N, Odds Ratio: 1.034307363665067\n",
      "Feature: tah_Y, Odds Ratio: 0.8587290299472662\n",
      "Feature: vas_N, Odds Ratio: 0.8776505281809521\n",
      "Feature: vas_Y, Odds Ratio: 1.0120084595730892\n",
      "Feature: onvent_N, Odds Ratio: 1.3897983983141253\n",
      "Feature: onvent_Y, Odds Ratio: 0.639078128270191\n",
      "Feature: icu_N, Odds Ratio: 1.2553948385201952\n",
      "Feature: icu_Y, Odds Ratio: 0.7074983358340219\n",
      "Feature: inotropic_N, Odds Ratio: 0.8848296778019943\n",
      "Feature: inotropic_Y, Odds Ratio: 1.0037974328278794\n",
      "Feature: gender_F, Odds Ratio: 0.8895418392970699\n",
      "Feature: gender_M, Odds Ratio: 0.9984800262677416\n",
      "Feature: abo_A, Odds Ratio: 1.2730954170396374\n",
      "Feature: abo_A1, Odds Ratio: 1.1797570993903048\n",
      "Feature: abo_A1B, Odds Ratio: 0.42271757105245544\n",
      "Feature: abo_A2, Odds Ratio: 1.5083353937418993\n",
      "Feature: abo_A2B, Odds Ratio: 0.4484311708911436\n",
      "Feature: abo_AB, Odds Ratio: 0.5904531193603826\n",
      "Feature: abo_B, Odds Ratio: 1.3747920192823377\n",
      "Feature: abo_O, Odds Ratio: 2.5479198821148596\n",
      "Feature: education_1.0, Odds Ratio: 1.3057333643554536\n",
      "Feature: education_2.0, Odds Ratio: 0.9533001787150086\n",
      "Feature: education_3.0, Odds Ratio: 0.8129030901497512\n",
      "Feature: education_4.0, Odds Ratio: 0.8683039088705412\n",
      "Feature: education_5.0, Odds Ratio: 0.8747189904273567\n",
      "Feature: education_6.0, Odds Ratio: 0.8836618403523494\n",
      "Feature: education_996.0, Odds Ratio: 1.4722420672532144\n",
      "Feature: education_998.0, Odds Ratio: 0.8883358227807678\n",
      "Feature: ecmo_tcr_0, Odds Ratio: 1.4606768006896478\n",
      "Feature: ecmo_tcr_1, Odds Ratio: 0.6080672730942622\n",
      "Feature: iabp_tcr_0, Odds Ratio: 1.3713371282177165\n",
      "Feature: iabp_tcr_1, Odds Ratio: 0.6476815516706815\n",
      "Feature: inotropes_tcr_0, Odds Ratio: 1.2814422374251855\n",
      "Feature: inotropes_tcr_1, Odds Ratio: 0.6931172807702931\n",
      "Feature: diab_1.0, Odds Ratio: 1.0422571760944455\n",
      "Feature: diab_2.0, Odds Ratio: 0.8094746038716246\n",
      "Feature: diab_3.0, Odds Ratio: 1.0001471007822924\n",
      "Feature: diab_4.0, Odds Ratio: 1.0409314280267403\n",
      "Feature: diab_5.0, Odds Ratio: 1.2182692809651094\n",
      "Feature: diab_998.0, Odds Ratio: 0.8300387058526562\n",
      "Feature: dial_ty_tcr_1.0, Odds Ratio: 0.9035022269284427\n",
      "Feature: dial_ty_tcr_2.0, Odds Ratio: 0.9332005010368378\n",
      "Feature: dial_ty_tcr_3.0, Odds Ratio: 1.546359429193657\n",
      "Feature: dial_ty_tcr_998.0, Odds Ratio: 0.9455357372394886\n",
      "Feature: dial_ty_tcr_999.0, Odds Ratio: 0.7204654780447258\n",
      "Feature: cereb_vasc_N, Odds Ratio: 1.0073712039930973\n",
      "Feature: cereb_vasc_U, Odds Ratio: 0.9361491253982438\n",
      "Feature: cereb_vasc_Y, Odds Ratio: 0.9418271230503515\n",
      "Feature: malig_tcr_N, Odds Ratio: 0.8841521193068943\n",
      "Feature: malig_tcr_U, Odds Ratio: 1.1514275111839825\n",
      "Feature: malig_tcr_Y, Odds Ratio: 0.8724532549355956\n",
      "Feature: cig_use_N, Odds Ratio: 0.9007047054047577\n",
      "Feature: cig_use_Y, Odds Ratio: 0.986105383637889\n",
      "Feature: prior_card_surg_tcr_N, Odds Ratio: 0.9290196311520854\n",
      "Feature: prior_card_surg_tcr_U, Odds Ratio: 0.9166779970167298\n",
      "Feature: prior_card_surg_tcr_Y, Odds Ratio: 1.042951380013631\n",
      "Feature: histry_cig_old_N, Odds Ratio: 0.8944580376058459\n",
      "Feature: histry_cig_old_U, Odds Ratio: 1.0661205984279867\n",
      "Feature: histry_cig_old_Y, Odds Ratio: 0.931406910900342\n",
      "Feature: ethcat_1, Odds Ratio: 1.102985951328898\n",
      "Feature: ethcat_2, Odds Ratio: 1.0889485805685215\n",
      "Feature: ethcat_4, Odds Ratio: 0.9504247152889891\n",
      "Feature: ethcat_5, Odds Ratio: 0.8194440800715627\n",
      "Feature: ethcat_6, Odds Ratio: 0.9494921180017312\n",
      "Feature: ventilator_tcr_0, Odds Ratio: 0.9196841637045461\n",
      "Feature: ventilator_tcr_1, Odds Ratio: 0.9657551952288989\n",
      "Feature: work_income_tcr_N, Odds Ratio: 0.8678293067409215\n",
      "Feature: work_income_tcr_U, Odds Ratio: 1.3596131386082815\n",
      "Feature: work_income_tcr_Y, Odds Ratio: 0.752759242282461\n",
      "Feature: academic_level_tcr_1.0, Odds Ratio: 1.0489365794125642\n",
      "Feature: academic_level_tcr_2.0, Odds Ratio: 1.3383302890460742\n",
      "Feature: academic_level_tcr_3.0, Odds Ratio: 0.9200927585200253\n",
      "Feature: academic_level_tcr_996.0, Odds Ratio: 0.8872135004745849\n",
      "Feature: academic_level_tcr_998.0, Odds Ratio: 0.7750566899303551\n",
      "F1 score pre feature selection: 0.6690472819414348\n",
      "F1 macro score pre feature selection: 0.6647031953974146\n"
     ]
    }
   ],
   "source": [
    "import numpy as np\n",
    "\n",
    "log.fit(X, y)\n",
    "\n",
    "# Get the coefficients (log odds) of the logistic regression model\n",
    "coefficients = log.coef_[0]\n",
    "\n",
    "# Calculate the odds ratio for each feature\n",
    "odds_ratios = np.exp(coefficients)\n",
    "\n",
    "# Display the odds ratio for each feature\n",
    "for feature, odds_ratio in zip(X.columns, odds_ratios):\n",
    "    print(f\"Feature: {feature}, Odds Ratio: {odds_ratio}\")\n",
    "\n",
    "f1_scores = cross_val_score(log, X, y, cv=5, scoring='f1').mean()\n",
    "print(f\"F1 score pre feature selection: {f1_scores}\")\n",
    "\n",
    "f1_macro_scores = cross_val_score(log, X, y, cv=5, scoring='f1_macro').mean()\n",
    "print(f\"F1 macro score pre feature selection: {f1_macro_scores}\")\n"
   ]
  },
  {
   "cell_type": "code",
   "execution_count": 6,
   "metadata": {
    "collapsed": false
   },
   "outputs": [
    {
     "data": {
      "text/plain": [
       "<Axes: >"
      ]
     },
     "execution_count": 6,
     "metadata": {},
     "output_type": "execute_result"
    },
    {
     "data": {
      "image/png": "[encoded data removed]",
      "text/plain": [
       "<Figure size 640x480 with 2 Axes>"
      ]
     },
     "metadata": {},
     "output_type": "display_data"
    }
   ],
   "source": [
    "import seaborn as sns\n",
    "\n",
    "y_pred = cross_val_predict(log, X, y, cv=5)\n",
    "sns.heatmap(confusion_matrix(y, y_pred), annot=True, cmap='Blues', fmt='g')"
   ]
  }
 ],
 "metadata": {
  "kernelspec": {
   "display_name": "Python 3",
   "language": "python",
   "name": "python3"
  },
  "language_info": {
   "codemirror_mode": {
    "name": "ipython",
    "version": 3
   },
   "file_extension": ".py",
   "mimetype": "text/x-python",
   "name": "python",
   "nbconvert_exporter": "python",
   "pygments_lexer": "ipython3",
   "version": "3.10.10"
  },
  "orig_nbformat": 4
 },
 "nbformat": 4,
 "nbformat_minor": 2
}
