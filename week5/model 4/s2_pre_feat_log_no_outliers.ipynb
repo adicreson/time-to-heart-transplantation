{
 "cells": [
  {
   "cell_type": "code",
   "execution_count": 16,
   "metadata": {},
   "outputs": [],
   "source": [
    "import os\n",
    "import pandas as pd\n",
    "\n",
    "base_dir = \"../../Data\"\n",
    "base_csv_path = os.path.join(base_dir, 'm4_imputed.csv')\n",
    "assert os.path.exists(base_csv_path), f\"{base_csv_path} does not exist\"\n",
    "\n",
    "df = pd.read_csv(base_csv_path)"
   ]
  },
  {
   "cell_type": "code",
   "execution_count": 17,
   "metadata": {},
   "outputs": [
    {
     "data": {
      "text/plain": [
       "<Axes: >"
      ]
     },
     "execution_count": 17,
     "metadata": {},
     "output_type": "execute_result"
    }
   ],
   "source": [
    "#Print boxplot for wl_time\n",
    "df.boxplot(column=['wl_time'])"
   ]
  },
  {
   "cell_type": "code",
   "execution_count": 18,
   "metadata": {},
   "outputs": [
    {
     "name": "stdout",
     "output_type": "stream",
     "text": [
      "Number of values in df before removing outliers:  77410\n",
      "Number of values in df after removing outliers:  70243\n"
     ]
    }
   ],
   "source": [
    "Q1 = df['wl_time'].quantile(0.25)\n",
    "Q3 = df['wl_time'].quantile(0.75)\n",
    "IQR = Q3 - Q1\n",
    "\n",
    "lower_bound = Q1 - 1.5 * IQR\n",
    "upper_bound = Q3 + 1.5 * IQR\n",
    "\n",
    "outliers = df[(df['wl_time'] < lower_bound) | (df['wl_time'] > upper_bound)]\n",
    "\n",
    "#Number of values in df before removing outliers\n",
    "print(\"Number of values in df before removing outliers: \", len(df))\n",
    "\n",
    "#Remove all the outliers that have values higher than the upper bound\n",
    "df = df[df['wl_time'] < upper_bound]\n",
    "\n",
    "#Number of values in df after removing outliers\n",
    "print(\"Number of values in df after removing outliers: \", len(df))"
   ]
  },
  {
   "cell_type": "code",
   "execution_count": 19,
   "metadata": {},
   "outputs": [
    {
     "name": "stdout",
     "output_type": "stream",
     "text": [
      "Number of missing values in wl_time: 0\n",
      "Number of values in wl_time: 70243\n",
      "Median for wl_time: 65.0\n",
      "Percentage of 0 and 1 in wl_time: \n",
      "1    50.088977\n",
      "0    49.911023\n",
      "Name: wl_time, dtype: float64\n",
      "Number of missing values in wl_time: 0\n"
     ]
    }
   ],
   "source": [
    "#Print number of missing values in wl_tme\n",
    "print(f'Number of missing values in wl_time: {df[\"wl_time\"].isnull().sum()}')\n",
    "\n",
    "#Print number of values in wl_time\n",
    "print(f'Number of values in wl_time: {df[\"wl_time\"].count()}')\n",
    "\n",
    "wl_median = df['wl_time'].median()\n",
    "\n",
    "#Print median for wl_time\n",
    "print(f'Median for wl_time: {wl_median}')\n",
    "\n",
    "#Code wl_time to 0 if wl_time is is less than the median else 1\n",
    "df['wl_time'] = df['wl_time'].apply(lambda x: 0 if x < wl_median else 1)\n",
    "\n",
    "#Print percentage of 0 and 1 in wl_time\n",
    "print(f'Percentage of 0 and 1 in wl_time: \\n{df[\"wl_time\"].value_counts(normalize=True) * 100}')\n",
    "\n",
    "#Print number of missing values in wl_time\n",
    "print(f'Number of missing values in wl_time: {df[\"wl_time\"].isnull().sum()}')"
   ]
  },
  {
   "cell_type": "code",
   "execution_count": 20,
   "metadata": {
    "collapsed": false
   },
   "outputs": [],
   "source": [
    "from sklearn.linear_model import LogisticRegression\n",
    "from sklearn.model_selection import cross_val_score\n",
    "from sklearn.preprocessing import StandardScaler\n",
    "from sklearn.metrics import confusion_matrix\n",
    "\n",
    "X = df.drop(['wl_time'], axis=1)\n",
    "y = df['wl_time']\n",
    "\n",
    "one_hot_cols = [col for col in df.columns if df[col].nunique() == 2]\n",
    "columns_to_scale = [col for col in X.columns if col not in one_hot_cols]\n",
    "\n",
    "scaler = StandardScaler()\n",
    "X[columns_to_scale] = scaler.fit_transform(X[columns_to_scale])"
   ]
  },
  {
   "cell_type": "code",
   "execution_count": 21,
   "metadata": {
    "collapsed": false
   },
   "outputs": [
    {
     "name": "stdout",
     "output_type": "stream",
     "text": [
      "F1 score pre feature selection: 0.6469359783429764\n",
      "F1 macro score pre feature selection: 0.643097831478922\n"
     ]
    }
   ],
   "source": [
    "from sklearn.model_selection import cross_val_predict\n",
    "\n",
    "log = LogisticRegression(max_iter=1000)\n",
    "f1_scores = cross_val_score(log, X, y, cv=5, scoring='f1').mean()\n",
    "print(f\"F1 score pre feature selection: {f1_scores}\")\n",
    "\n",
    "f1_macro_scores = cross_val_score(log, X, y, cv=5, scoring='f1_macro').mean()\n",
    "print(f\"F1 macro score pre feature selection: {f1_macro_scores}\")"
   ]
  },
  {
   "cell_type": "code",
   "execution_count": 22,
   "metadata": {},
   "outputs": [
    {
     "name": "stdout",
     "output_type": "stream",
     "text": [
      "Feature: thoracic_dgn, Odds Ratio: 0.8694288812361786\n",
      "Feature: wgt_kg_tcr, Odds Ratio: 1.2939929318165633\n",
      "Feature: hgt_cm_tcr, Odds Ratio: 1.5243529690934392\n",
      "Feature: func_stat_tcr, Odds Ratio: 0.8745717785445133\n",
      "Feature: most_rcnt_creat, Odds Ratio: 1.0003408190115952\n",
      "Feature: tot_serum_album, Odds Ratio: 1.2444548788987724\n",
      "Feature: hemo_co_tcr, Odds Ratio: 0.9897295152967239\n",
      "Feature: init_stat, Odds Ratio: 1.0455796106305872\n",
      "Feature: init_age, Odds Ratio: 1.000105096986775\n",
      "Feature: init_hgt_cm_calc, Odds Ratio: 0.6566330597103299\n",
      "Feature: init_wgt_kg_calc, Odds Ratio: 1.1985497198951618\n",
      "Feature: num_prev_tx_0, Odds Ratio: 0.907236689671749\n",
      "Feature: num_prev_tx_1, Odds Ratio: 0.9037034449540554\n",
      "Feature: num_prev_tx_2, Odds Ratio: 0.734016259802478\n",
      "Feature: num_prev_tx_3, Odds Ratio: 1.7852223103197078\n",
      "Feature: num_prev_tx_4, Odds Ratio: 1.0561045887361604\n",
      "Feature: num_prev_tx_5, Odds Ratio: 0.8634131705039959\n",
      "Feature: num_prev_tx_6, Odds Ratio: 0.9352448043645389\n",
      "Feature: num_prev_tx_7, Odds Ratio: 0.7789143144200074\n",
      "Feature: num_prev_tx_10, Odds Ratio: 1.2556084703543633\n",
      "Feature: tah_N, Odds Ratio: 1.0346968279856585\n",
      "Feature: tah_Y, Odds Ratio: 0.8660166390862934\n",
      "Feature: vas_N, Odds Ratio: 0.8394548175976189\n",
      "Feature: vas_Y, Odds Ratio: 1.0674364488246084\n",
      "Feature: onvent_N, Odds Ratio: 1.392655311687814\n",
      "Feature: onvent_Y, Odds Ratio: 0.643421715283842\n",
      "Feature: icu_N, Odds Ratio: 1.2378922379442883\n",
      "Feature: icu_Y, Odds Ratio: 0.7238632265221755\n",
      "Feature: inotropic_N, Odds Ratio: 0.8955292778928843\n",
      "Feature: inotropic_Y, Odds Ratio: 1.0005978493005656\n",
      "Feature: gender_F, Odds Ratio: 0.9032225636956493\n",
      "Feature: gender_M, Odds Ratio: 0.9920751600567419\n",
      "Feature: abo_A, Odds Ratio: 1.073723324602845\n",
      "Feature: abo_A1, Odds Ratio: 1.0546175849953312\n",
      "Feature: abo_A1B, Odds Ratio: 0.46281754504818007\n",
      "Feature: abo_A2, Odds Ratio: 2.0022450304678583\n",
      "Feature: abo_A2B, Odds Ratio: 0.5960306414097751\n",
      "Feature: abo_AB, Odds Ratio: 0.5835717865466419\n",
      "Feature: abo_B, Odds Ratio: 1.2002052802124479\n",
      "Feature: abo_O, Odds Ratio: 2.0455331019065626\n",
      "Feature: education_1.0, Odds Ratio: 1.3987552863483306\n",
      "Feature: education_2.0, Odds Ratio: 0.9594261850106905\n",
      "Feature: education_3.0, Odds Ratio: 0.8001259057672802\n",
      "Feature: education_4.0, Odds Ratio: 0.8381877921773196\n",
      "Feature: education_5.0, Odds Ratio: 0.851564264278725\n",
      "Feature: education_6.0, Odds Ratio: 0.8510325707051252\n",
      "Feature: education_996.0, Odds Ratio: 1.5625460272293488\n",
      "Feature: education_998.0, Odds Ratio: 0.8792046048829983\n",
      "Feature: ecmo_tcr_0, Odds Ratio: 1.51309467366097\n",
      "Feature: ecmo_tcr_1, Odds Ratio: 0.5922066114193627\n",
      "Feature: iabp_tcr_0, Odds Ratio: 1.3931059186741956\n",
      "Feature: iabp_tcr_1, Odds Ratio: 0.6432135973536849\n",
      "Feature: inotropes_tcr_0, Odds Ratio: 1.219011814361402\n",
      "Feature: inotropes_tcr_1, Odds Ratio: 0.7350746390548644\n",
      "Feature: diab_1.0, Odds Ratio: 1.0583432399058001\n",
      "Feature: diab_2.0, Odds Ratio: 0.8147449279271959\n",
      "Feature: diab_3.0, Odds Ratio: 1.0046894832055238\n",
      "Feature: diab_4.0, Odds Ratio: 1.1010893259535375\n",
      "Feature: diab_5.0, Odds Ratio: 1.2372393105456159\n",
      "Feature: diab_998.0, Odds Ratio: 0.7592469034219903\n",
      "Feature: dial_ty_tcr_1.0, Odds Ratio: 0.8880140709316727\n",
      "Feature: dial_ty_tcr_2.0, Odds Ratio: 0.935365586539511\n",
      "Feature: dial_ty_tcr_3.0, Odds Ratio: 1.4520939107949196\n",
      "Feature: dial_ty_tcr_998.0, Odds Ratio: 0.9601592456599605\n",
      "Feature: dial_ty_tcr_999.0, Odds Ratio: 0.7737490817493975\n",
      "Feature: cereb_vasc_N, Odds Ratio: 0.9925985187969507\n",
      "Feature: cereb_vasc_U, Odds Ratio: 0.9514691482038597\n",
      "Feature: cereb_vasc_Y, Odds Ratio: 0.9487920140530464\n",
      "Feature: malig_tcr_N, Odds Ratio: 0.912805753552994\n",
      "Feature: malig_tcr_U, Odds Ratio: 1.1125996956742419\n",
      "Feature: malig_tcr_Y, Odds Ratio: 0.8823117205448361\n",
      "Feature: cig_use_N, Odds Ratio: 0.9152384532160402\n",
      "Feature: cig_use_Y, Odds Ratio: 0.9790505045943463\n",
      "Feature: prior_card_surg_tcr_N, Odds Ratio: 0.9127693157327239\n",
      "Feature: prior_card_surg_tcr_U, Odds Ratio: 0.9514682535274366\n",
      "Feature: prior_card_surg_tcr_Y, Odds Ratio: 1.0317726693037803\n",
      "Feature: histry_cig_old_N, Odds Ratio: 0.8944846751905318\n",
      "Feature: histry_cig_old_U, Odds Ratio: 1.054674195462234\n",
      "Feature: histry_cig_old_Y, Odds Ratio: 0.9498349140097049\n",
      "Feature: ethcat_1, Odds Ratio: 1.110535372649842\n",
      "Feature: ethcat_2, Odds Ratio: 1.0550479892652171\n",
      "Feature: ethcat_4, Odds Ratio: 0.9527334125600555\n",
      "Feature: ethcat_5, Odds Ratio: 0.8241411084033715\n",
      "Feature: ethcat_6, Odds Ratio: 0.9740063090733675\n",
      "Feature: ventilator_tcr_0, Odds Ratio: 0.9194686129701752\n",
      "Feature: ventilator_tcr_1, Odds Ratio: 0.974546228990529\n",
      "Feature: work_income_tcr_N, Odds Ratio: 0.8942657654357506\n",
      "Feature: work_income_tcr_U, Odds Ratio: 1.327108757628221\n",
      "Feature: work_income_tcr_Y, Odds Ratio: 0.7550335216442247\n",
      "Feature: academic_level_tcr_1.0, Odds Ratio: 1.0625954929890495\n",
      "Feature: academic_level_tcr_2.0, Odds Ratio: 1.3086594882408633\n",
      "Feature: academic_level_tcr_3.0, Odds Ratio: 0.9330794998831773\n",
      "Feature: academic_level_tcr_996.0, Odds Ratio: 0.8816255444217728\n",
      "Feature: academic_level_tcr_998.0, Odds Ratio: 0.783324866356105\n",
      "F1 score pre feature selection: 0.6469359783429764\n",
      "F1 macro score pre feature selection: 0.643097831478922\n"
     ]
    }
   ],
   "source": [
    "import numpy as np\n",
    "\n",
    "log.fit(X, y)\n",
    "\n",
    "# Get the coefficients (log odds) of the logistic regression model\n",
    "coefficients = log.coef_[0]\n",
    "\n",
    "# Calculate the odds ratio for each feature\n",
    "odds_ratios = np.exp(coefficients)\n",
    "\n",
    "# Display the odds ratio for each feature\n",
    "for feature, odds_ratio in zip(X.columns, odds_ratios):\n",
    "    print(f\"Feature: {feature}, Odds Ratio: {odds_ratio}\")\n",
    "\n",
    "f1_scores = cross_val_score(log, X, y, cv=5, scoring='f1').mean()\n",
    "print(f\"F1 score pre feature selection: {f1_scores}\")\n",
    "\n",
    "f1_macro_scores = cross_val_score(log, X, y, cv=5, scoring='f1_macro').mean()\n",
    "print(f\"F1 macro score pre feature selection: {f1_macro_scores}\")\n"
   ]
  },
  {
   "cell_type": "code",
   "execution_count": 23,
   "metadata": {
    "collapsed": false
   },
   "outputs": [
    {
     "data": {
      "text/plain": [
       "<Axes: >"
      ]
     },
     "execution_count": 23,
     "metadata": {},
     "output_type": "execute_result"
    }
   ],
   "source": [
    "import seaborn as sns\n",
    "\n",
    "y_pred = cross_val_predict(log, X, y, cv=5)\n",
    "sns.heatmap(confusion_matrix(y, y_pred), annot=True, cmap='Blues', fmt='g')"
   ]
  }
 ],
 "metadata": {
  "kernelspec": {
   "display_name": "Python 3",
   "language": "python",
   "name": "python3"
  },
  "language_info": {
   "codemirror_mode": {
    "name": "ipython",
    "version": 3
   },
   "file_extension": ".py",
   "mimetype": "text/x-python",
   "name": "python",
   "nbconvert_exporter": "python",
   "pygments_lexer": "ipython3",
   "version": "3.10.10"
  },
  "orig_nbformat": 4
 },
 "nbformat": 4,
 "nbformat_minor": 2
}
