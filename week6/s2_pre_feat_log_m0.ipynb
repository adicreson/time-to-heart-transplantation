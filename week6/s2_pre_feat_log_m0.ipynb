{
 "cells": [
  {
   "cell_type": "code",
   "execution_count": 1,
   "metadata": {},
   "outputs": [],
   "source": [
    "import os\n",
    "import pandas as pd\n",
    "\n",
    "base_dir = \"../Data\"\n",
    "base_csv_path = os.path.join(base_dir, 'm0_imputed.csv')\n",
    "assert os.path.exists(base_csv_path), f\"{base_csv_path} does not exist\"\n",
    "\n",
    "df = pd.read_csv(base_csv_path)"
   ]
  },
  {
   "cell_type": "code",
   "execution_count": 2,
   "metadata": {},
   "outputs": [
    {
     "name": "stdout",
     "output_type": "stream",
     "text": [
      "Number of missing values in wl_time: 0\n",
      "Number of values in wl_time: 65067\n",
      "Median for wl_time: 88.0\n",
      "Percentage of 0 and 1 in wl_time: \n",
      "1    50.148309\n",
      "0    49.851691\n",
      "Name: wl_time, dtype: float64\n",
      "Number of missing values in wl_time: 0\n"
     ]
    }
   ],
   "source": [
    "#Print number of missing values in wl_tme\n",
    "print(f'Number of missing values in wl_time: {df[\"wl_time\"].isnull().sum()}')\n",
    "\n",
    "#Print number of values in wl_time\n",
    "print(f'Number of values in wl_time: {df[\"wl_time\"].count()}')\n",
    "\n",
    "wl_median = df['wl_time'].median()\n",
    "\n",
    "#Print median for wl_time\n",
    "print(f'Median for wl_time: {wl_median}')\n",
    "\n",
    "#Code wl_time to 0 if wl_time is is less than the median else 1\n",
    "df['wl_time'] = df['wl_time'].apply(lambda x: 0 if x < wl_median else 1)\n",
    "\n",
    "#Print percentage of 0 and 1 in wl_time\n",
    "print(f'Percentage of 0 and 1 in wl_time: \\n{df[\"wl_time\"].value_counts(normalize=True) * 100}')\n",
    "\n",
    "#Print number of missing values in wl_time\n",
    "print(f'Number of missing values in wl_time: {df[\"wl_time\"].isnull().sum()}')"
   ]
  },
  {
   "cell_type": "code",
   "execution_count": 3,
   "metadata": {},
   "outputs": [
    {
     "name": "stdout",
     "output_type": "stream",
     "text": [
      "AUROC: 0.764579394122334\n"
     ]
    }
   ],
   "source": [
    "from sklearn.model_selection import train_test_split\n",
    "from sklearn.linear_model import LogisticRegression\n",
    "from sklearn.metrics import roc_auc_score\n",
    "from sklearn.preprocessing import StandardScaler\n",
    "\n",
    "# Example dataset and labels\n",
    "X = df.drop('wl_time', axis=1)\n",
    "y = df['wl_time']\n",
    "\n",
    "# Split the dataset into training and testing sets\n",
    "X_train, X_test, y_train, y_test = train_test_split(X, y, test_size=0.2, random_state=42)\n",
    "\n",
    "# Scale the numerical features\n",
    "scaler = StandardScaler()\n",
    "X_train_scaled = scaler.fit_transform(X_train)\n",
    "X_test_scaled = scaler.transform(X_test)\n",
    "\n",
    "# Train the model\n",
    "model = LogisticRegression(max_iter=10000)\n",
    "model.fit(X_train_scaled, y_train)\n",
    "\n",
    "# Obtain predicted probabilities on the testing set\n",
    "y_pred = model.predict_proba(X_test_scaled)[:, 1]\n",
    "\n",
    "# Calculate AUROC\n",
    "auroc = roc_auc_score(y_test, y_pred)\n",
    "\n",
    "print(\"AUROC:\", auroc)"
   ]
  },
  {
   "cell_type": "code",
   "execution_count": 4,
   "metadata": {
    "collapsed": false
   },
   "outputs": [],
   "source": [
    "from sklearn.linear_model import LogisticRegression\n",
    "from sklearn.model_selection import cross_val_score\n",
    "from sklearn.preprocessing import StandardScaler\n",
    "from sklearn.metrics import confusion_matrix\n",
    "\n",
    "X = df.drop(['wl_time'], axis=1)\n",
    "y = df['wl_time']\n",
    "\n",
    "one_hot_cols = [col for col in df.columns if df[col].nunique() == 2]\n",
    "columns_to_scale = [col for col in X.columns if col not in one_hot_cols]\n",
    "\n",
    "scaler = StandardScaler()\n",
    "X[columns_to_scale] = scaler.fit_transform(X[columns_to_scale])"
   ]
  },
  {
   "cell_type": "code",
   "execution_count": 5,
   "metadata": {
    "collapsed": false
   },
   "outputs": [
    {
     "name": "stdout",
     "output_type": "stream",
     "text": [
      "F1 score pre feature selection: 0.6980209013743599\n",
      "F1 macro score pre feature selection: 0.6933510001504775\n"
     ]
    }
   ],
   "source": [
    "from sklearn.model_selection import cross_val_predict\n",
    "\n",
    "log = LogisticRegression(max_iter=1000)\n",
    "f1_scores = cross_val_score(log, X, y, cv=5, scoring='f1').mean()\n",
    "print(f\"F1 score pre feature selection: {f1_scores}\")\n",
    "\n",
    "f1_macro_scores = cross_val_score(log, X, y, cv=5, scoring='f1_macro').mean()\n",
    "print(f\"F1 macro score pre feature selection: {f1_macro_scores}\")"
   ]
  },
  {
   "cell_type": "code",
   "execution_count": 6,
   "metadata": {},
   "outputs": [
    {
     "name": "stdout",
     "output_type": "stream",
     "text": [
      "Feature: wgt_kg_tcr, Odds Ratio: 1.5560322994579137\n",
      "Feature: hgt_cm_tcr, Odds Ratio: 1.0927073691969131\n",
      "Feature: most_rcnt_creat, Odds Ratio: 0.9452008656762878\n",
      "Feature: tot_serum_album, Odds Ratio: 1.046802875409594\n",
      "Feature: hemo_co_tcr, Odds Ratio: 1.0159590233573756\n",
      "Feature: init_age, Odds Ratio: 0.9413314636312794\n",
      "Feature: init_hgt_cm_calc, Odds Ratio: 0.9450253518588296\n",
      "Feature: init_wgt_kg_calc, Odds Ratio: 0.9397535716687029\n",
      "Feature: thoracic_dgn_1.0, Odds Ratio: 1.045640031799382\n",
      "Feature: thoracic_dgn_2.0, Odds Ratio: 1.1758567809384655\n",
      "Feature: thoracic_dgn_3.0, Odds Ratio: 1.012290352399244\n",
      "Feature: thoracic_dgn_4.0, Odds Ratio: 0.9956350964595638\n",
      "Feature: thoracic_dgn_5.0, Odds Ratio: 1.338946953364653\n",
      "Feature: thoracic_dgn_7.0, Odds Ratio: 0.7237033879559625\n",
      "Feature: thoracic_dgn_missing, Odds Ratio: 0.7985150074915427\n",
      "Feature: num_prev_tx_0, Odds Ratio: 0.9443112781989282\n",
      "Feature: num_prev_tx_1, Odds Ratio: 0.8426610199580226\n",
      "Feature: num_prev_tx_2, Odds Ratio: 0.8723251429449669\n",
      "Feature: num_prev_tx_3, Odds Ratio: 1.381346122831408\n",
      "Feature: tah_N, Odds Ratio: 0.9709426311014054\n",
      "Feature: tah_Y, Odds Ratio: 0.8377242549777071\n",
      "Feature: tah_missing, Odds Ratio: 1.178838536683993\n",
      "Feature: vas_N, Odds Ratio: 0.5690704068866352\n",
      "Feature: vas_Y, Odds Ratio: 0.9873772710713057\n",
      "Feature: vas_missing, Odds Ratio: 1.7064747127378452\n",
      "Feature: onvent_N, Odds Ratio: 1.0592719298910835\n",
      "Feature: onvent_Y, Odds Ratio: 0.699260730507344\n",
      "Feature: onvent_missing, Odds Ratio: 1.2945009729785706\n",
      "Feature: icu_N, Odds Ratio: 1.9376763153054817\n",
      "Feature: icu_Y, Odds Ratio: 1.2955989583570113\n",
      "Feature: icu_missing, Odds Ratio: 0.3819417764001152\n",
      "Feature: inotropic_N, Odds Ratio: 1.308353947677593\n",
      "Feature: inotropic_Y, Odds Ratio: 1.405657904973878\n",
      "Feature: inotropic_missing, Odds Ratio: 0.5213676689831133\n",
      "Feature: gender_F, Odds Ratio: 0.9425737276888392\n",
      "Feature: gender_M, Odds Ratio: 1.0172639498940539\n",
      "Feature: abo_1, Odds Ratio: 0.9906700346443948\n",
      "Feature: abo_2, Odds Ratio: 1.0842119270680417\n",
      "Feature: abo_3, Odds Ratio: 0.4180660358894766\n",
      "Feature: abo_4, Odds Ratio: 2.135309788070663\n",
      "Feature: education_1.0, Odds Ratio: 1.0244385792643922\n",
      "Feature: education_2.0, Odds Ratio: 1.0247498890401983\n",
      "Feature: education_3.0, Odds Ratio: 1.0135343691176566\n",
      "Feature: education_missing, Odds Ratio: 0.901169945260712\n",
      "Feature: ecmo_tcr_0, Odds Ratio: 1.1931624575850892\n",
      "Feature: ecmo_tcr_1, Odds Ratio: 0.8036175352315384\n",
      "Feature: iabp_tcr_0, Odds Ratio: 1.091402849774398\n",
      "Feature: iabp_tcr_1, Odds Ratio: 0.8785447770212073\n",
      "Feature: inotropes_tcr_0, Odds Ratio: 1.1543335917485342\n",
      "Feature: inotropes_tcr_1, Odds Ratio: 0.8306491989396668\n",
      "Feature: func_stat_tcr_1.0, Odds Ratio: 1.2884788037482022\n",
      "Feature: func_stat_tcr_2.0, Odds Ratio: 1.2094730579679565\n",
      "Feature: func_stat_tcr_3.0, Odds Ratio: 0.8258070202899936\n",
      "Feature: func_stat_tcr_missing, Odds Ratio: 0.7450697598080847\n",
      "Feature: diab_1.0, Odds Ratio: 1.0542496747595635\n",
      "Feature: diab_2.0, Odds Ratio: 0.8053271641375938\n",
      "Feature: diab_3.0, Odds Ratio: 1.0758819045745482\n",
      "Feature: diab_4.0, Odds Ratio: 1.1625403498122882\n",
      "Feature: diab_5.0, Odds Ratio: 1.1093379964538819\n",
      "Feature: diab_missing, Odds Ratio: 0.8139479497555789\n",
      "Feature: dial_ty_tcr_1.0, Odds Ratio: 0.7514250108403253\n",
      "Feature: dial_ty_tcr_2.0, Odds Ratio: 0.9602945737275657\n",
      "Feature: dial_ty_tcr_3.0, Odds Ratio: 1.6499492756024727\n",
      "Feature: dial_ty_tcr_missing, Odds Ratio: 0.8053566899511717\n",
      "Feature: cereb_vasc_N, Odds Ratio: 0.9047443093019817\n",
      "Feature: cereb_vasc_U, Odds Ratio: 0.917703411235694\n",
      "Feature: cereb_vasc_Y, Odds Ratio: 0.8703179188936853\n",
      "Feature: cereb_vasc_missing, Odds Ratio: 1.3269142350120593\n",
      "Feature: malig_tcr_N, Odds Ratio: 0.8567688660653487\n",
      "Feature: malig_tcr_U, Odds Ratio: 1.1250345831866186\n",
      "Feature: malig_tcr_Y, Odds Ratio: 0.8642261045233082\n",
      "Feature: malig_tcr_missing, Odds Ratio: 1.1510443441505662\n",
      "Feature: cig_use_N, Odds Ratio: 0.8396342242753361\n",
      "Feature: cig_use_Y, Odds Ratio: 0.9084994063125263\n",
      "Feature: cig_use_missing, Odds Ratio: 1.2569968931763553\n",
      "Feature: prior_card_surg_tcr_N, Odds Ratio: 1.8725799494463409\n",
      "Feature: prior_card_surg_tcr_U, Odds Ratio: 1.6366666463042008\n",
      "Feature: prior_card_surg_tcr_Y, Odds Ratio: 2.119867956801122\n",
      "Feature: prior_card_surg_tcr_missing, Odds Ratio: 0.14758410077341075\n",
      "Feature: histry_cig_old_N, Odds Ratio: 0.8469480033710376\n",
      "Feature: histry_cig_old_U, Odds Ratio: 0.9808424312156986\n",
      "Feature: histry_cig_old_Y, Odds Ratio: 0.9467119116293138\n",
      "Feature: histry_cig_old_missing, Odds Ratio: 1.2192005487400266\n",
      "Feature: init_stat_1.0, Odds Ratio: 0.3773645709919988\n",
      "Feature: init_stat_2.0, Odds Ratio: 0.9883427049148874\n",
      "Feature: init_stat_3.0, Odds Ratio: 1.8726748043520278\n",
      "Feature: init_stat_4.0, Odds Ratio: 1.5676642469117843\n",
      "Feature: init_stat_missing, Odds Ratio: 0.8757192142362747\n",
      "Feature: ethcat_1, Odds Ratio: 1.0879191128092733\n",
      "Feature: ethcat_2, Odds Ratio: 1.133351573615179\n",
      "Feature: ethcat_4, Odds Ratio: 0.9421358864022178\n",
      "Feature: ethcat_5, Odds Ratio: 0.928756161117134\n",
      "Feature: ethcat_6, Odds Ratio: 0.888735384506133\n",
      "Feature: ventilator_tcr_0, Odds Ratio: 0.841224405393047\n",
      "Feature: ventilator_tcr_1, Odds Ratio: 1.1398222247810745\n",
      "Feature: work_income_tcr_N, Odds Ratio: 0.9814598153824506\n",
      "Feature: work_income_tcr_U, Odds Ratio: 1.19704682457132\n",
      "Feature: work_income_tcr_Y, Odds Ratio: 1.025066895312891\n",
      "Feature: work_income_tcr_missing, Odds Ratio: 0.796183393345438\n",
      "F1 score pre feature selection: 0.6980209013743599\n",
      "F1 macro score pre feature selection: 0.6933510001504775\n"
     ]
    }
   ],
   "source": [
    "import numpy as     np\n",
    "\n",
    "log.fit(X, y)\n",
    "\n",
    "# Get the coefficients (log odds) of the logistic regression model\n",
    "coefficients = log.coef_[0]\n",
    "\n",
    "# Calculate the odds ratio for each feature\n",
    "odds_ratios = np.exp(coefficients)\n",
    "\n",
    "# Display the odds ratio for each feature\n",
    "for feature, odds_ratio in zip(X.columns, odds_ratios):\n",
    "    print(f\"Feature: {feature}, Odds Ratio: {odds_ratio}\")\n",
    "\n",
    "f1_scores = cross_val_score(log, X, y, cv=5, scoring='f1').mean()\n",
    "print(f\"F1 score pre feature selection: {f1_scores}\")\n",
    "\n",
    "f1_macro_scores = cross_val_score(log, X, y, cv=5, scoring='f1_macro').mean()\n",
    "print(f\"F1 macro score pre feature selection: {f1_macro_scores}\")\n"
   ]
  },
  {
   "cell_type": "code",
   "execution_count": 7,
   "metadata": {
    "collapsed": false
   },
   "outputs": [
    {
     "data": {
      "text/plain": "<Figure size 640x480 with 2 Axes>",
      "image/png": "[encoded data removed]"
     },
     "metadata": {},
     "output_type": "display_data"
    }
   ],
   "source": [
    "import matplotlib.pyplot as plt\n",
    "import seaborn as sns\n",
    "from sklearn.metrics import confusion_matrix\n",
    "from sklearn.model_selection import cross_val_predict\n",
    "\n",
    "y_pred = cross_val_predict(log, X, y, cv=5)\n",
    "\n",
    "# Compute confusion matrix\n",
    "cm = confusion_matrix(y, y_pred)\n",
    "\n",
    "# Plot the confusion matrix with axes labeled\n",
    "sns.heatmap(cm, annot=True, cmap='Blues', fmt='g')\n",
    "\n",
    "# Set labels for the x and y axes\n",
    "plt.xlabel(\"Predicted\")\n",
    "plt.ylabel(\"Actual/True\")\n",
    "\n",
    "# Show the plot\n",
    "plt.show()"
   ]
  },
  {
   "cell_type": "code",
   "execution_count": 8,
   "metadata": {},
   "outputs": [],
   "source": [
    "import seaborn as sns\n",
    "\n",
    "#df.corr()\n",
    "#sns.heatmap(df.corr(), annot=True)"
   ]
  }
 ],
 "metadata": {
  "kernelspec": {
   "display_name": "Python 3",
   "language": "python",
   "name": "python3"
  },
  "language_info": {
   "codemirror_mode": {
    "name": "ipython",
    "version": 3
   },
   "file_extension": ".py",
   "mimetype": "text/x-python",
   "name": "python",
   "nbconvert_exporter": "python",
   "pygments_lexer": "ipython3",
   "version": "3.10.10"
  },
  "orig_nbformat": 4
 },
 "nbformat": 4,
 "nbformat_minor": 2
}
