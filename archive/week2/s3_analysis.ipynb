{
 "cells": [
  {
   "cell_type": "markdown",
   "source": [
    "Stage 3: Variable Analysis"
   ],
   "metadata": {
    "collapsed": false
   }
  },
  {
   "cell_type": "code",
   "execution_count": 19,
   "outputs": [],
   "source": [
    "import pandas as pd\n",
    "df = pd.read_csv(\"Data_120294_2023-03-29_imputed.csv\")"
   ],
   "metadata": {
    "collapsed": false
   }
  },
  {
   "cell_type": "code",
   "execution_count": 20,
   "outputs": [
    {
     "name": "stdout",
     "output_type": "stream",
     "text": [
      "Mean waiting list time: 192.52839426430694\n"
     ]
    }
   ],
   "source": [
    "mean_wl_time = df['wl_time'].mean()\n",
    "print(f\"Mean waiting list time: {mean_wl_time}\")\n",
    "df['wl_time'] = df['wl_time'].apply(lambda x: 0 if x < mean_wl_time else 1)"
   ],
   "metadata": {
    "collapsed": false
   }
  },
  {
   "cell_type": "code",
   "execution_count": 21,
   "outputs": [
    {
     "data": {
      "text/plain": "0.9914859802474741"
     },
     "execution_count": 21,
     "metadata": {},
     "output_type": "execute_result"
    }
   ],
   "source": [
    "# Use LogisticRegression and calculate f1 score\n",
    "from sklearn.linear_model import LogisticRegression\n",
    "from sklearn.model_selection import train_test_split\n",
    "from sklearn.metrics import f1_score\n",
    "from sklearn.preprocessing import StandardScaler\n",
    "\n",
    "X = df.drop(['wl_time'], axis=1)\n",
    "y = df['wl_time']\n",
    "\n",
    "scaler = StandardScaler()\n",
    "X = scaler.fit_transform(X)\n",
    "\n",
    "X_train, X_test, y_train, y_test = train_test_split(X, y, test_size=0.2)\n",
    "\n",
    "model = LogisticRegression(max_iter=1000)\n",
    "model.fit(X_train, y_train)\n",
    "y_pred = model.predict(X_test)\n",
    "\n",
    "f1_score(y_test, y_pred)"
   ],
   "metadata": {
    "collapsed": false
   }
  },
  {
   "cell_type": "code",
   "execution_count": 22,
   "outputs": [
    {
     "name": "stderr",
     "output_type": "stream",
     "text": [
      "/opt/homebrew/anaconda3/envs/edap01/lib/python3.10/site-packages/statsmodels/discrete/discrete_model.py:1819: RuntimeWarning: overflow encountered in exp\n",
      "  return 1/(1+np.exp(-X))\n",
      "/opt/homebrew/anaconda3/envs/edap01/lib/python3.10/site-packages/statsmodels/discrete/discrete_model.py:1872: RuntimeWarning: divide by zero encountered in log\n",
      "  return np.sum(np.log(self.cdf(q*np.dot(X,params))))\n"
     ]
    },
    {
     "name": "stdout",
     "output_type": "stream",
     "text": [
      "Warning: Maximum number of iterations has been exceeded.\n",
      "         Current function value: inf\n",
      "         Iterations: 500\n"
     ]
    },
    {
     "ename": "LinAlgError",
     "evalue": "Singular matrix",
     "output_type": "error",
     "traceback": [
      "\u001B[0;31m---------------------------------------------------------------------------\u001B[0m",
      "\u001B[0;31mLinAlgError\u001B[0m                               Traceback (most recent call last)",
      "Cell \u001B[0;32mIn[22], line 9\u001B[0m\n\u001B[1;32m      5\u001B[0m y \u001B[38;5;241m=\u001B[39m df[\u001B[38;5;124m'\u001B[39m\u001B[38;5;124mwl_time\u001B[39m\u001B[38;5;124m'\u001B[39m]\n\u001B[1;32m      8\u001B[0m logit_model \u001B[38;5;241m=\u001B[39m sm\u001B[38;5;241m.\u001B[39mLogit(y, X)\n\u001B[0;32m----> 9\u001B[0m result \u001B[38;5;241m=\u001B[39m \u001B[43mlogit_model\u001B[49m\u001B[38;5;241;43m.\u001B[39;49m\u001B[43mfit\u001B[49m\u001B[43m(\u001B[49m\u001B[43mmaxiter\u001B[49m\u001B[38;5;241;43m=\u001B[39;49m\u001B[38;5;241;43m500\u001B[39;49m\u001B[43m)\u001B[49m\n\u001B[1;32m     10\u001B[0m \u001B[38;5;28mprint\u001B[39m(result\u001B[38;5;241m.\u001B[39msummary())\n\u001B[1;32m     13\u001B[0m \u001B[38;5;124;03m\"\"\"\u001B[39;00m\n\u001B[1;32m     14\u001B[0m \u001B[38;5;124;03mX = sm.add_constant(X)\u001B[39;00m\n\u001B[1;32m     15\u001B[0m \u001B[38;5;124;03mX_opt = X.copy()\u001B[39;00m\n\u001B[0;32m   (...)\u001B[0m\n\u001B[1;32m     29\u001B[0m \u001B[38;5;124;03mX_opt.head()\u001B[39;00m\n\u001B[1;32m     30\u001B[0m \u001B[38;5;124;03m\"\"\"\u001B[39;00m\n",
      "File \u001B[0;32m/opt/homebrew/anaconda3/envs/edap01/lib/python3.10/site-packages/statsmodels/discrete/discrete_model.py:1983\u001B[0m, in \u001B[0;36mLogit.fit\u001B[0;34m(self, start_params, method, maxiter, full_output, disp, callback, **kwargs)\u001B[0m\n\u001B[1;32m   1980\u001B[0m \u001B[38;5;129m@Appender\u001B[39m(DiscreteModel\u001B[38;5;241m.\u001B[39mfit\u001B[38;5;241m.\u001B[39m\u001B[38;5;18m__doc__\u001B[39m)\n\u001B[1;32m   1981\u001B[0m \u001B[38;5;28;01mdef\u001B[39;00m \u001B[38;5;21mfit\u001B[39m(\u001B[38;5;28mself\u001B[39m, start_params\u001B[38;5;241m=\u001B[39m\u001B[38;5;28;01mNone\u001B[39;00m, method\u001B[38;5;241m=\u001B[39m\u001B[38;5;124m'\u001B[39m\u001B[38;5;124mnewton\u001B[39m\u001B[38;5;124m'\u001B[39m, maxiter\u001B[38;5;241m=\u001B[39m\u001B[38;5;241m35\u001B[39m,\n\u001B[1;32m   1982\u001B[0m         full_output\u001B[38;5;241m=\u001B[39m\u001B[38;5;241m1\u001B[39m, disp\u001B[38;5;241m=\u001B[39m\u001B[38;5;241m1\u001B[39m, callback\u001B[38;5;241m=\u001B[39m\u001B[38;5;28;01mNone\u001B[39;00m, \u001B[38;5;241m*\u001B[39m\u001B[38;5;241m*\u001B[39mkwargs):\n\u001B[0;32m-> 1983\u001B[0m     bnryfit \u001B[38;5;241m=\u001B[39m \u001B[38;5;28;43msuper\u001B[39;49m\u001B[43m(\u001B[49m\u001B[43m)\u001B[49m\u001B[38;5;241;43m.\u001B[39;49m\u001B[43mfit\u001B[49m\u001B[43m(\u001B[49m\u001B[43mstart_params\u001B[49m\u001B[38;5;241;43m=\u001B[39;49m\u001B[43mstart_params\u001B[49m\u001B[43m,\u001B[49m\n\u001B[1;32m   1984\u001B[0m \u001B[43m                          \u001B[49m\u001B[43mmethod\u001B[49m\u001B[38;5;241;43m=\u001B[39;49m\u001B[43mmethod\u001B[49m\u001B[43m,\u001B[49m\n\u001B[1;32m   1985\u001B[0m \u001B[43m                          \u001B[49m\u001B[43mmaxiter\u001B[49m\u001B[38;5;241;43m=\u001B[39;49m\u001B[43mmaxiter\u001B[49m\u001B[43m,\u001B[49m\n\u001B[1;32m   1986\u001B[0m \u001B[43m                          \u001B[49m\u001B[43mfull_output\u001B[49m\u001B[38;5;241;43m=\u001B[39;49m\u001B[43mfull_output\u001B[49m\u001B[43m,\u001B[49m\n\u001B[1;32m   1987\u001B[0m \u001B[43m                          \u001B[49m\u001B[43mdisp\u001B[49m\u001B[38;5;241;43m=\u001B[39;49m\u001B[43mdisp\u001B[49m\u001B[43m,\u001B[49m\n\u001B[1;32m   1988\u001B[0m \u001B[43m                          \u001B[49m\u001B[43mcallback\u001B[49m\u001B[38;5;241;43m=\u001B[39;49m\u001B[43mcallback\u001B[49m\u001B[43m,\u001B[49m\n\u001B[1;32m   1989\u001B[0m \u001B[43m                          \u001B[49m\u001B[38;5;241;43m*\u001B[39;49m\u001B[38;5;241;43m*\u001B[39;49m\u001B[43mkwargs\u001B[49m\u001B[43m)\u001B[49m\n\u001B[1;32m   1991\u001B[0m     discretefit \u001B[38;5;241m=\u001B[39m LogitResults(\u001B[38;5;28mself\u001B[39m, bnryfit)\n\u001B[1;32m   1992\u001B[0m     \u001B[38;5;28;01mreturn\u001B[39;00m BinaryResultsWrapper(discretefit)\n",
      "File \u001B[0;32m/opt/homebrew/anaconda3/envs/edap01/lib/python3.10/site-packages/statsmodels/discrete/discrete_model.py:230\u001B[0m, in \u001B[0;36mDiscreteModel.fit\u001B[0;34m(self, start_params, method, maxiter, full_output, disp, callback, **kwargs)\u001B[0m\n\u001B[1;32m    227\u001B[0m \u001B[38;5;28;01melse\u001B[39;00m:\n\u001B[1;32m    228\u001B[0m     \u001B[38;5;28;01mpass\u001B[39;00m  \u001B[38;5;66;03m# TODO: make a function factory to have multiple call-backs\u001B[39;00m\n\u001B[0;32m--> 230\u001B[0m mlefit \u001B[38;5;241m=\u001B[39m \u001B[38;5;28;43msuper\u001B[39;49m\u001B[43m(\u001B[49m\u001B[43m)\u001B[49m\u001B[38;5;241;43m.\u001B[39;49m\u001B[43mfit\u001B[49m\u001B[43m(\u001B[49m\u001B[43mstart_params\u001B[49m\u001B[38;5;241;43m=\u001B[39;49m\u001B[43mstart_params\u001B[49m\u001B[43m,\u001B[49m\n\u001B[1;32m    231\u001B[0m \u001B[43m                     \u001B[49m\u001B[43mmethod\u001B[49m\u001B[38;5;241;43m=\u001B[39;49m\u001B[43mmethod\u001B[49m\u001B[43m,\u001B[49m\n\u001B[1;32m    232\u001B[0m \u001B[43m                     \u001B[49m\u001B[43mmaxiter\u001B[49m\u001B[38;5;241;43m=\u001B[39;49m\u001B[43mmaxiter\u001B[49m\u001B[43m,\u001B[49m\n\u001B[1;32m    233\u001B[0m \u001B[43m                     \u001B[49m\u001B[43mfull_output\u001B[49m\u001B[38;5;241;43m=\u001B[39;49m\u001B[43mfull_output\u001B[49m\u001B[43m,\u001B[49m\n\u001B[1;32m    234\u001B[0m \u001B[43m                     \u001B[49m\u001B[43mdisp\u001B[49m\u001B[38;5;241;43m=\u001B[39;49m\u001B[43mdisp\u001B[49m\u001B[43m,\u001B[49m\n\u001B[1;32m    235\u001B[0m \u001B[43m                     \u001B[49m\u001B[43mcallback\u001B[49m\u001B[38;5;241;43m=\u001B[39;49m\u001B[43mcallback\u001B[49m\u001B[43m,\u001B[49m\n\u001B[1;32m    236\u001B[0m \u001B[43m                     \u001B[49m\u001B[38;5;241;43m*\u001B[39;49m\u001B[38;5;241;43m*\u001B[39;49m\u001B[43mkwargs\u001B[49m\u001B[43m)\u001B[49m\n\u001B[1;32m    238\u001B[0m \u001B[38;5;28;01mreturn\u001B[39;00m mlefit\n",
      "File \u001B[0;32m/opt/homebrew/anaconda3/envs/edap01/lib/python3.10/site-packages/statsmodels/base/model.py:579\u001B[0m, in \u001B[0;36mLikelihoodModel.fit\u001B[0;34m(self, start_params, method, maxiter, full_output, disp, fargs, callback, retall, skip_hessian, **kwargs)\u001B[0m\n\u001B[1;32m    577\u001B[0m     Hinv \u001B[38;5;241m=\u001B[39m cov_params_func(\u001B[38;5;28mself\u001B[39m, xopt, retvals)\n\u001B[1;32m    578\u001B[0m \u001B[38;5;28;01melif\u001B[39;00m method \u001B[38;5;241m==\u001B[39m \u001B[38;5;124m'\u001B[39m\u001B[38;5;124mnewton\u001B[39m\u001B[38;5;124m'\u001B[39m \u001B[38;5;129;01mand\u001B[39;00m full_output:\n\u001B[0;32m--> 579\u001B[0m     Hinv \u001B[38;5;241m=\u001B[39m \u001B[43mnp\u001B[49m\u001B[38;5;241;43m.\u001B[39;49m\u001B[43mlinalg\u001B[49m\u001B[38;5;241;43m.\u001B[39;49m\u001B[43minv\u001B[49m\u001B[43m(\u001B[49m\u001B[38;5;241;43m-\u001B[39;49m\u001B[43mretvals\u001B[49m\u001B[43m[\u001B[49m\u001B[38;5;124;43m'\u001B[39;49m\u001B[38;5;124;43mHessian\u001B[39;49m\u001B[38;5;124;43m'\u001B[39;49m\u001B[43m]\u001B[49m\u001B[43m)\u001B[49m \u001B[38;5;241m/\u001B[39m nobs\n\u001B[1;32m    580\u001B[0m \u001B[38;5;28;01melif\u001B[39;00m \u001B[38;5;129;01mnot\u001B[39;00m skip_hessian:\n\u001B[1;32m    581\u001B[0m     H \u001B[38;5;241m=\u001B[39m \u001B[38;5;241m-\u001B[39m\u001B[38;5;241m1\u001B[39m \u001B[38;5;241m*\u001B[39m \u001B[38;5;28mself\u001B[39m\u001B[38;5;241m.\u001B[39mhessian(xopt)\n",
      "File \u001B[0;32m<__array_function__ internals>:180\u001B[0m, in \u001B[0;36minv\u001B[0;34m(*args, **kwargs)\u001B[0m\n",
      "File \u001B[0;32m/opt/homebrew/anaconda3/envs/edap01/lib/python3.10/site-packages/numpy/linalg/linalg.py:552\u001B[0m, in \u001B[0;36minv\u001B[0;34m(a)\u001B[0m\n\u001B[1;32m    550\u001B[0m signature \u001B[38;5;241m=\u001B[39m \u001B[38;5;124m'\u001B[39m\u001B[38;5;124mD->D\u001B[39m\u001B[38;5;124m'\u001B[39m \u001B[38;5;28;01mif\u001B[39;00m isComplexType(t) \u001B[38;5;28;01melse\u001B[39;00m \u001B[38;5;124m'\u001B[39m\u001B[38;5;124md->d\u001B[39m\u001B[38;5;124m'\u001B[39m\n\u001B[1;32m    551\u001B[0m extobj \u001B[38;5;241m=\u001B[39m get_linalg_error_extobj(_raise_linalgerror_singular)\n\u001B[0;32m--> 552\u001B[0m ainv \u001B[38;5;241m=\u001B[39m \u001B[43m_umath_linalg\u001B[49m\u001B[38;5;241;43m.\u001B[39;49m\u001B[43minv\u001B[49m\u001B[43m(\u001B[49m\u001B[43ma\u001B[49m\u001B[43m,\u001B[49m\u001B[43m \u001B[49m\u001B[43msignature\u001B[49m\u001B[38;5;241;43m=\u001B[39;49m\u001B[43msignature\u001B[49m\u001B[43m,\u001B[49m\u001B[43m \u001B[49m\u001B[43mextobj\u001B[49m\u001B[38;5;241;43m=\u001B[39;49m\u001B[43mextobj\u001B[49m\u001B[43m)\u001B[49m\n\u001B[1;32m    553\u001B[0m \u001B[38;5;28;01mreturn\u001B[39;00m wrap(ainv\u001B[38;5;241m.\u001B[39mastype(result_t, copy\u001B[38;5;241m=\u001B[39m\u001B[38;5;28;01mFalse\u001B[39;00m))\n",
      "File \u001B[0;32m/opt/homebrew/anaconda3/envs/edap01/lib/python3.10/site-packages/numpy/linalg/linalg.py:89\u001B[0m, in \u001B[0;36m_raise_linalgerror_singular\u001B[0;34m(err, flag)\u001B[0m\n\u001B[1;32m     88\u001B[0m \u001B[38;5;28;01mdef\u001B[39;00m \u001B[38;5;21m_raise_linalgerror_singular\u001B[39m(err, flag):\n\u001B[0;32m---> 89\u001B[0m     \u001B[38;5;28;01mraise\u001B[39;00m LinAlgError(\u001B[38;5;124m\"\u001B[39m\u001B[38;5;124mSingular matrix\u001B[39m\u001B[38;5;124m\"\u001B[39m)\n",
      "\u001B[0;31mLinAlgError\u001B[0m: Singular matrix"
     ]
    }
   ],
   "source": [
    "import statsmodels.api as sm\n",
    "\n",
    "significance_level = 0.05\n",
    "X = df.drop(['wl_time'], axis=1)\n",
    "y = df['wl_time']\n",
    "\n",
    "\n",
    "logit_model = sm.Logit(y, X)\n",
    "result = logit_model.fit()\n",
    "print(result.summary())\n",
    "\n",
    "\n",
    "\"\"\"\n",
    "X = sm.add_constant(X)\n",
    "X_opt = X.copy()\n",
    "\n",
    "\n",
    "while True:\n",
    "    print(f\"Number of variables: {len(X_opt.columns)}\")\n",
    "    model = sm.OLS(y, X_opt).fit()\n",
    "    p_values = model.pvalues\n",
    "    max_p_value = p_values.max()\n",
    "    if max_p_value > significance_level:\n",
    "        print(f\"Removing {p_values.idxmax()} with p-value {max_p_value}\")\n",
    "        X_opt = X_opt.drop([p_values.idxmax()], axis=1)\n",
    "    else:\n",
    "        break\n",
    "\n",
    "X_opt.head()\n",
    "\"\"\""
   ],
   "metadata": {
    "collapsed": false
   }
  },
  {
   "cell_type": "code",
   "execution_count": null,
   "outputs": [],
   "source": [
    "# Export the df_opt to csv (make sure to add back the wl_time column)\n",
    "df_opt = pd.DataFrame(X_opt)\n",
    "df_opt['wl_time'] = df['wl_time']\n",
    "\n",
    "df_opt.to_csv(\"Data_120294_2023-03-29_imputed_opt-2.csv\", index=False)"
   ],
   "metadata": {
    "collapsed": false
   }
  },
  {
   "cell_type": "code",
   "execution_count": null,
   "outputs": [],
   "source": [],
   "metadata": {
    "collapsed": false
   }
  }
 ],
 "metadata": {
  "kernelspec": {
   "display_name": "Python 3",
   "language": "python",
   "name": "python3"
  },
  "language_info": {
   "codemirror_mode": {
    "name": "ipython",
    "version": 2
   },
   "file_extension": ".py",
   "mimetype": "text/x-python",
   "name": "python",
   "nbconvert_exporter": "python",
   "pygments_lexer": "ipython2",
   "version": "2.7.6"
  }
 },
 "nbformat": 4,
 "nbformat_minor": 0
}
