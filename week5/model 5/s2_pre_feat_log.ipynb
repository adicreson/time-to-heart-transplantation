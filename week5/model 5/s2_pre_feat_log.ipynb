{
 "cells": [
  {
   "cell_type": "code",
   "execution_count": 1,
   "metadata": {},
   "outputs": [],
   "source": [
    "import os\n",
    "import pandas as pd\n",
    "\n",
    "base_dir = \"../../Data\"\n",
    "base_csv_path = os.path.join(base_dir, 'm5_imputed.csv')\n",
    "assert os.path.exists(base_csv_path), f\"{base_csv_path} does not exist\"\n",
    "\n",
    "df = pd.read_csv(base_csv_path)"
   ]
  },
  {
   "cell_type": "code",
   "execution_count": 2,
   "metadata": {},
   "outputs": [
    {
     "name": "stdout",
     "output_type": "stream",
     "text": [
      "Number of missing values in wl_time: 0\n",
      "Number of values in wl_time: 77410\n",
      "Median for wl_time: 78.0\n",
      "Percentage of 0 and 1 in wl_time: \n",
      "1    50.188606\n",
      "0    49.811394\n",
      "Name: wl_time, dtype: float64\n",
      "Number of missing values in wl_time: 0\n"
     ]
    }
   ],
   "source": [
    "#Print number of missing values in wl_tme\n",
    "print(f'Number of missing values in wl_time: {df[\"wl_time\"].isnull().sum()}')\n",
    "\n",
    "#Print number of values in wl_time\n",
    "print(f'Number of values in wl_time: {df[\"wl_time\"].count()}')\n",
    "\n",
    "wl_median = df['wl_time'].median()\n",
    "\n",
    "#Print median for wl_time\n",
    "print(f'Median for wl_time: {wl_median}')\n",
    "\n",
    "#Code wl_time to 0 if wl_time is is less than the median else 1\n",
    "df['wl_time'] = df['wl_time'].apply(lambda x: 0 if x < wl_median else 1)\n",
    "\n",
    "#Print percentage of 0 and 1 in wl_time\n",
    "print(f'Percentage of 0 and 1 in wl_time: \\n{df[\"wl_time\"].value_counts(normalize=True) * 100}')\n",
    "\n",
    "#Print number of missing values in wl_time\n",
    "print(f'Number of missing values in wl_time: {df[\"wl_time\"].isnull().sum()}')"
   ]
  },
  {
   "cell_type": "code",
   "execution_count": 3,
   "metadata": {
    "collapsed": false
   },
   "outputs": [],
   "source": [
    "from sklearn.linear_model import LogisticRegression\n",
    "from sklearn.model_selection import cross_val_score\n",
    "from sklearn.preprocessing import StandardScaler\n",
    "from sklearn.metrics import confusion_matrix\n",
    "\n",
    "X = df.drop(['wl_time'], axis=1)\n",
    "y = df['wl_time']\n",
    "\n",
    "one_hot_cols = [col for col in df.columns if df[col].nunique() == 2]\n",
    "columns_to_scale = [col for col in X.columns if col not in one_hot_cols]\n",
    "\n",
    "scaler = StandardScaler()\n",
    "X[columns_to_scale] = scaler.fit_transform(X[columns_to_scale])"
   ]
  },
  {
   "cell_type": "code",
   "execution_count": 4,
   "metadata": {
    "collapsed": false
   },
   "outputs": [
    {
     "name": "stdout",
     "output_type": "stream",
     "text": [
      "F1 score pre feature selection: 0.6683280421414548\n",
      "F1 macro score pre feature selection: 0.6628355395106071\n"
     ]
    }
   ],
   "source": [
    "from sklearn.model_selection import cross_val_predict\n",
    "\n",
    "log = LogisticRegression(max_iter=1000)\n",
    "f1_scores = cross_val_score(log, X, y, cv=5, scoring='f1').mean()\n",
    "print(f\"F1 score pre feature selection: {f1_scores}\")\n",
    "\n",
    "f1_macro_scores = cross_val_score(log, X, y, cv=5, scoring='f1_macro').mean()\n",
    "print(f\"F1 macro score pre feature selection: {f1_macro_scores}\")"
   ]
  },
  {
   "cell_type": "code",
   "execution_count": 5,
   "metadata": {},
   "outputs": [
    {
     "name": "stdout",
     "output_type": "stream",
     "text": [
      "Feature: thoracic_dgn, Odds Ratio: 0.9344252325512418\n",
      "Feature: wgt_kg_tcr, Odds Ratio: 1.2575955960434302\n",
      "Feature: hgt_cm_tcr, Odds Ratio: 1.2767195349038583\n",
      "Feature: func_stat_tcr, Odds Ratio: 0.9609562021332098\n",
      "Feature: most_rcnt_creat, Odds Ratio: 0.9854799351469694\n",
      "Feature: tot_serum_album, Odds Ratio: 1.2200168832627871\n",
      "Feature: hemo_co_tcr, Odds Ratio: 0.9912319684496738\n",
      "Feature: init_stat, Odds Ratio: 1.0316516942608307\n",
      "Feature: init_age, Odds Ratio: 1.0033371782649831\n",
      "Feature: init_hgt_cm_calc, Odds Ratio: 0.6395001613923791\n",
      "Feature: init_wgt_kg_calc, Odds Ratio: 1.3890731957437337\n",
      "Feature: num_prev_tx_0, Odds Ratio: 0.8761334955694962\n",
      "Feature: num_prev_tx_1, Odds Ratio: 0.815320620904359\n",
      "Feature: num_prev_tx_2, Odds Ratio: 0.7189137662790187\n",
      "Feature: num_prev_tx_3, Odds Ratio: 1.7961439595943978\n",
      "Feature: num_prev_tx_4, Odds Ratio: 1.2783683163964519\n",
      "Feature: num_prev_tx_5, Odds Ratio: 0.7898340032794513\n",
      "Feature: num_prev_tx_6, Odds Ratio: 0.8920029121581587\n",
      "Feature: num_prev_tx_7, Odds Ratio: 0.6801654748059044\n",
      "Feature: num_prev_tx_10, Odds Ratio: 1.522649394020935\n",
      "Feature: tah_N, Odds Ratio: 0.9934981306012288\n",
      "Feature: tah_Y, Odds Ratio: 0.8660085766386683\n",
      "Feature: vas_N, Odds Ratio: 0.7197189586872319\n",
      "Feature: vas_Y, Odds Ratio: 1.195435928969347\n",
      "Feature: onvent_N, Odds Ratio: 1.294223397235583\n",
      "Feature: onvent_Y, Odds Ratio: 0.6647831462582398\n",
      "Feature: icu_N, Odds Ratio: 1.2340856143445347\n",
      "Feature: icu_Y, Odds Ratio: 0.6971784550233078\n",
      "Feature: inotropic_N, Odds Ratio: 0.9291294197004124\n",
      "Feature: inotropic_Y, Odds Ratio: 0.9260043689637156\n",
      "Feature: gender_F, Odds Ratio: 0.8566275487679673\n",
      "Feature: gender_M, Odds Ratio: 1.0043780441244845\n",
      "Feature: abo_A, Odds Ratio: 1.3623144795694904\n",
      "Feature: abo_A1, Odds Ratio: 1.13209857428286\n",
      "Feature: abo_A1B, Odds Ratio: 0.39114157132887967\n",
      "Feature: abo_A2, Odds Ratio: 1.3442001832773285\n",
      "Feature: abo_A2B, Odds Ratio: 0.4355059040434081\n",
      "Feature: abo_AB, Odds Ratio: 0.6269970795647745\n",
      "Feature: abo_B, Odds Ratio: 1.4566148937177679\n",
      "Feature: abo_O, Odds Ratio: 2.667628776921858\n",
      "Feature: education_1.0, Odds Ratio: 1.2659076019933906\n",
      "Feature: education_2.0, Odds Ratio: 0.9263915843876599\n",
      "Feature: education_3.0, Odds Ratio: 0.8754869512366767\n",
      "Feature: education_4.0, Odds Ratio: 0.9330520422073975\n",
      "Feature: education_5.0, Odds Ratio: 0.9510114098796162\n",
      "Feature: education_6.0, Odds Ratio: 0.9821188815867492\n",
      "Feature: education_996.0, Odds Ratio: 1.1203513102069336\n",
      "Feature: education_998.0, Odds Ratio: 0.8582880753080618\n",
      "Feature: ecmo_tcr_0, Odds Ratio: 1.4123627956746991\n",
      "Feature: ecmo_tcr_1, Odds Ratio: 0.6091762715712532\n",
      "Feature: iabp_tcr_0, Odds Ratio: 1.3486463902587928\n",
      "Feature: iabp_tcr_1, Odds Ratio: 0.6379566268738417\n",
      "Feature: inotropes_tcr_0, Odds Ratio: 1.3278092446761087\n",
      "Feature: inotropes_tcr_1, Odds Ratio: 0.6479680009940928\n",
      "Feature: diab_1.0, Odds Ratio: 1.0383999973599995\n",
      "Feature: diab_2.0, Odds Ratio: 1.0038123238051235\n",
      "Feature: diab_3.0, Odds Ratio: 1.0242383341746757\n",
      "Feature: diab_4.0, Odds Ratio: 0.8653464543532731\n",
      "Feature: diab_5.0, Odds Ratio: 1.0376329009993503\n",
      "Feature: diab_998.0, Odds Ratio: 0.8975058072770716\n",
      "Feature: dial_ty_tcr_1.0, Odds Ratio: 1.005981167062411\n",
      "Feature: dial_ty_tcr_2.0, Odds Ratio: 0.9948369653416081\n",
      "Feature: dial_ty_tcr_3.0, Odds Ratio: 0.9758255957233618\n",
      "Feature: dial_ty_tcr_998.0, Odds Ratio: 1.1420780043649255\n",
      "Feature: dial_ty_tcr_999.0, Odds Ratio: 0.7713997791018319\n",
      "Feature: cereb_vasc_N, Odds Ratio: 1.0229617422241568\n",
      "Feature: cereb_vasc_U, Odds Ratio: 0.921452004899751\n",
      "Feature: cereb_vasc_Y, Odds Ratio: 0.9127611277254921\n",
      "Feature: malig_tcr_N, Odds Ratio: 0.8353076458245011\n",
      "Feature: malig_tcr_U, Odds Ratio: 1.258948918721138\n",
      "Feature: malig_tcr_Y, Odds Ratio: 0.818153290843793\n",
      "Feature: cig_use_N, Odds Ratio: 0.9117200310890696\n",
      "Feature: cig_use_Y, Odds Ratio: 0.9436865184886891\n",
      "Feature: prior_card_surg_tcr_N, Odds Ratio: 0.8460673471659907\n",
      "Feature: prior_card_surg_tcr_U, Odds Ratio: 1.129701461629644\n",
      "Feature: prior_card_surg_tcr_Y, Odds Ratio: 0.9001618900893248\n",
      "Feature: histry_cig_old_N, Odds Ratio: 0.8679293671245752\n",
      "Feature: histry_cig_old_U, Odds Ratio: 0.8509929096825222\n",
      "Feature: histry_cig_old_Y, Odds Ratio: 1.164873920895108\n",
      "Feature: ethcat_1, Odds Ratio: 1.1022367595832718\n",
      "Feature: ethcat_2, Odds Ratio: 1.0701235863284446\n",
      "Feature: ethcat_4, Odds Ratio: 0.9358629672675489\n",
      "Feature: ethcat_5, Odds Ratio: 0.8282682765846258\n",
      "Feature: ethcat_6, Odds Ratio: 0.9410162655528308\n",
      "Feature: ventilator_tcr_0, Odds Ratio: 0.954209593480933\n",
      "Feature: ventilator_tcr_1, Odds Ratio: 0.9016655332886075\n",
      "Feature: work_income_tcr_N, Odds Ratio: 0.8154221756452092\n",
      "Feature: work_income_tcr_U, Odds Ratio: 1.1258127359686627\n",
      "Feature: work_income_tcr_Y, Odds Ratio: 0.9372178942540531\n",
      "Feature: academic_level_tcr_1.0, Odds Ratio: 1.3163860710147688\n",
      "Feature: academic_level_tcr_2.0, Odds Ratio: 1.0340263367055857\n",
      "Feature: academic_level_tcr_3.0, Odds Ratio: 0.8824532198851287\n",
      "Feature: academic_level_tcr_996.0, Odds Ratio: 0.6953136937537527\n",
      "Feature: academic_level_tcr_998.0, Odds Ratio: 1.0301533851870106\n",
      "F1 score pre feature selection: 0.6683280421414548\n",
      "F1 macro score pre feature selection: 0.6628355395106071\n"
     ]
    }
   ],
   "source": [
    "import numpy as np\n",
    "\n",
    "log.fit(X, y)\n",
    "\n",
    "# Get the coefficients (log odds) of the logistic regression model\n",
    "coefficients = log.coef_[0]\n",
    "\n",
    "# Calculate the odds ratio for each feature\n",
    "odds_ratios = np.exp(coefficients)\n",
    "\n",
    "# Display the odds ratio for each feature\n",
    "for feature, odds_ratio in zip(X.columns, odds_ratios):\n",
    "    print(f\"Feature: {feature}, Odds Ratio: {odds_ratio}\")\n",
    "\n",
    "f1_scores = cross_val_score(log, X, y, cv=5, scoring='f1').mean()\n",
    "print(f\"F1 score pre feature selection: {f1_scores}\")\n",
    "\n",
    "f1_macro_scores = cross_val_score(log, X, y, cv=5, scoring='f1_macro').mean()\n",
    "print(f\"F1 macro score pre feature selection: {f1_macro_scores}\")\n"
   ]
  },
  {
   "cell_type": "code",
   "execution_count": 6,
   "metadata": {
    "collapsed": false
   },
   "outputs": [
    {
     "data": {
      "text/plain": [
       "<Axes: >"
      ]
     },
     "execution_count": 6,
     "metadata": {},
     "output_type": "execute_result"
    },
    {
     "data": {
      "image/png": "[encoded data removed]",
      "text/plain": [
       "<Figure size 640x480 with 2 Axes>"
      ]
     },
     "metadata": {},
     "output_type": "display_data"
    }
   ],
   "source": [
    "import seaborn as sns\n",
    "\n",
    "y_pred = cross_val_predict(log, X, y, cv=5)\n",
    "sns.heatmap(confusion_matrix(y, y_pred), annot=True, cmap='Blues', fmt='g')"
   ]
  }
 ],
 "metadata": {
  "kernelspec": {
   "display_name": "Python 3",
   "language": "python",
   "name": "python3"
  },
  "language_info": {
   "codemirror_mode": {
    "name": "ipython",
    "version": 3
   },
   "file_extension": ".py",
   "mimetype": "text/x-python",
   "name": "python",
   "nbconvert_exporter": "python",
   "pygments_lexer": "ipython3",
   "version": "3.10.10"
  },
  "orig_nbformat": 4
 },
 "nbformat": 4,
 "nbformat_minor": 2
}
