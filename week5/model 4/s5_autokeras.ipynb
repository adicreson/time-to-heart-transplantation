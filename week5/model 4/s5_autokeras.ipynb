{
 "cells": [
  {
   "cell_type": "code",
   "execution_count": 6,
   "outputs": [],
   "source": [
    "import pandas as pd\n",
    "\n",
    "df = pd.read_csv(\"../../Data/m4_imputed.csv\")\n"
   ],
   "metadata": {
    "collapsed": false
   }
  },
  {
   "cell_type": "code",
   "execution_count": 7,
   "outputs": [
    {
     "name": "stdout",
     "output_type": "stream",
     "text": [
      "Median waiting list time: 78.0\n",
      "1    0.501886\n",
      "0    0.498114\n",
      "Name: wl_time, dtype: float64\n"
     ]
    }
   ],
   "source": [
    "median_wl_time = df['wl_time'].median()\n",
    "print(f\"Median waiting list time: {median_wl_time}\")\n",
    "\n",
    "df['wl_time'] = df['wl_time'].apply(lambda x: 0 if x < median_wl_time else 1)\n",
    "print(df['wl_time'].value_counts(normalize=True))"
   ],
   "metadata": {
    "collapsed": false
   }
  },
  {
   "cell_type": "code",
   "execution_count": 8,
   "outputs": [],
   "source": [
    "import keras.backend as K\n",
    "\n",
    "def recall_m(y_true, y_pred):\n",
    "    true_positives = K.sum(K.round(K.clip(y_true * y_pred, 0, 1)))\n",
    "    possible_positives = K.sum(K.round(K.clip(y_true, 0, 1)))\n",
    "    recall = true_positives / (possible_positives + K.epsilon())\n",
    "    return recall\n",
    "\n",
    "def precision_m(y_true, y_pred):\n",
    "    true_positives = K.sum(K.round(K.clip(y_true * y_pred, 0, 1)))\n",
    "    predicted_positives = K.sum(K.round(K.clip(y_pred, 0, 1)))\n",
    "    precision = true_positives / (predicted_positives + K.epsilon())\n",
    "    return precision\n",
    "\n",
    "def f1_score(y_true, y_pred):\n",
    "    precision = precision_m(y_true, y_pred)\n",
    "    recall = recall_m(y_true, y_pred)\n",
    "    return 2*((precision*recall)/(precision+recall+K.epsilon()))"
   ],
   "metadata": {
    "collapsed": false
   }
  },
  {
   "cell_type": "code",
   "execution_count": 9,
   "outputs": [
    {
     "name": "stdout",
     "output_type": "stream",
     "text": [
      "Trial 10 Complete [00h 02m 23s]\n",
      "val_accuracy: 0.6995954513549805\n",
      "\n",
      "Best val_accuracy So Far: 0.7035598754882812\n",
      "Total elapsed time: 00h 15m 09s\n",
      "INFO:tensorflow:Oracle triggered exit\n",
      "Epoch 1/28\n",
      "1936/1936 [==============================] - 5s 2ms/step - loss: 0.6289 - accuracy: 0.6529\n",
      "Epoch 2/28\n",
      "1936/1936 [==============================] - 4s 2ms/step - loss: 0.6072 - accuracy: 0.6751\n",
      "Epoch 3/28\n",
      "1936/1936 [==============================] - 4s 2ms/step - loss: 0.6026 - accuracy: 0.6784\n",
      "Epoch 4/28\n",
      "1936/1936 [==============================] - 4s 2ms/step - loss: 0.5988 - accuracy: 0.6813\n",
      "Epoch 5/28\n",
      "1936/1936 [==============================] - 4s 2ms/step - loss: 0.5956 - accuracy: 0.6849\n",
      "Epoch 6/28\n",
      "1936/1936 [==============================] - 4s 2ms/step - loss: 0.5934 - accuracy: 0.6865\n",
      "Epoch 7/28\n",
      "1936/1936 [==============================] - 4s 2ms/step - loss: 0.5916 - accuracy: 0.6879\n",
      "Epoch 8/28\n",
      "1936/1936 [==============================] - 4s 2ms/step - loss: 0.5903 - accuracy: 0.6896\n",
      "Epoch 9/28\n",
      "1936/1936 [==============================] - 4s 2ms/step - loss: 0.5888 - accuracy: 0.6911\n",
      "Epoch 10/28\n",
      "1936/1936 [==============================] - 4s 2ms/step - loss: 0.5878 - accuracy: 0.6920\n",
      "Epoch 11/28\n",
      "1936/1936 [==============================] - 4s 2ms/step - loss: 0.5867 - accuracy: 0.6934\n",
      "Epoch 12/28\n",
      "1936/1936 [==============================] - 4s 2ms/step - loss: 0.5855 - accuracy: 0.6939\n",
      "Epoch 13/28\n",
      "1936/1936 [==============================] - 4s 2ms/step - loss: 0.5843 - accuracy: 0.6948\n",
      "Epoch 14/28\n",
      "1936/1936 [==============================] - 4s 2ms/step - loss: 0.5834 - accuracy: 0.6947\n",
      "Epoch 15/28\n",
      "1936/1936 [==============================] - 4s 2ms/step - loss: 0.5822 - accuracy: 0.6963\n",
      "Epoch 16/28\n",
      "1936/1936 [==============================] - 4s 2ms/step - loss: 0.5812 - accuracy: 0.6969\n",
      "Epoch 17/28\n",
      "1936/1936 [==============================] - 4s 2ms/step - loss: 0.5803 - accuracy: 0.6982\n",
      "Epoch 18/28\n",
      "1936/1936 [==============================] - 4s 2ms/step - loss: 0.5792 - accuracy: 0.6982\n",
      "Epoch 19/28\n",
      "1936/1936 [==============================] - 4s 2ms/step - loss: 0.5782 - accuracy: 0.6990\n",
      "Epoch 20/28\n",
      "1936/1936 [==============================] - 4s 2ms/step - loss: 0.5773 - accuracy: 0.6997\n",
      "Epoch 21/28\n",
      "1936/1936 [==============================] - 4s 2ms/step - loss: 0.5763 - accuracy: 0.7008\n",
      "Epoch 22/28\n",
      "1936/1936 [==============================] - 4s 2ms/step - loss: 0.5750 - accuracy: 0.7021\n",
      "Epoch 23/28\n",
      "1936/1936 [==============================] - 4s 2ms/step - loss: 0.5739 - accuracy: 0.7037\n",
      "Epoch 24/28\n",
      "1936/1936 [==============================] - 4s 2ms/step - loss: 0.5730 - accuracy: 0.7034\n",
      "Epoch 25/28\n",
      "1936/1936 [==============================] - 4s 2ms/step - loss: 0.5719 - accuracy: 0.7036\n",
      "Epoch 26/28\n",
      "1936/1936 [==============================] - 4s 2ms/step - loss: 0.5707 - accuracy: 0.7044\n",
      "Epoch 27/28\n",
      "1936/1936 [==============================] - 4s 2ms/step - loss: 0.5700 - accuracy: 0.7052\n",
      "Epoch 28/28\n",
      "1936/1936 [==============================] - 4s 2ms/step - loss: 0.5684 - accuracy: 0.7057\n"
     ]
    },
    {
     "name": "stderr",
     "output_type": "stream",
     "text": [
      "WARNING:absl:Found untraced functions such as _update_step_xla while saving (showing 1 of 1). These functions will not be directly callable after loading.\n"
     ]
    },
    {
     "name": "stdout",
     "output_type": "stream",
     "text": [
      "INFO:tensorflow:Assets written to: ./m4_pre_feat/best_model/assets\n"
     ]
    },
    {
     "name": "stderr",
     "output_type": "stream",
     "text": [
      "INFO:tensorflow:Assets written to: ./m4_pre_feat/best_model/assets\n"
     ]
    },
    {
     "name": "stdout",
     "output_type": "stream",
     "text": [
      "484/484 [==============================] - 1s 2ms/step - loss: 0.5978 - accuracy: 0.6865\n",
      "[0.5977836847305298, 0.6865392327308655]\n",
      "484/484 [==============================] - 1s 2ms/step\n",
      "484/484 [==============================] - 1s 1ms/step\n",
      "F1 score: 0.6575400465739891\n",
      "484/484 [==============================] - 1s 1ms/step\n",
      "484/484 [==============================] - 1s 1ms/step\n",
      "F1 Macro: 0.6842752933399929\n"
     ]
    }
   ],
   "source": [
    "from sklearn.model_selection import train_test_split\n",
    "from autokeras import StructuredDataClassifier\n",
    "from sklearn.metrics import f1_score\n",
    "\n",
    "X = df.drop(columns=['wl_time'])\n",
    "y = df['wl_time']\n",
    "X_train, X_test, y_train, y_test = train_test_split(X, y, test_size=0.2, random_state=42)\n",
    "\n",
    "clf = StructuredDataClassifier(max_trials=10,\n",
    "                               project_name=\"m4_pre_feat\",\n",
    "                               metrics=[\"accuracy\"],\n",
    "                               overwrite=False)\n",
    "\n",
    "clf.fit(X_train, y_train, verbose=1)\n",
    "print(clf.evaluate(X_test, y_test))\n",
    "f1_s = f1_score(y_test, clf.predict(X_test))\n",
    "print(f\"F1 score: {f1_s}\")\n",
    "print(\"F1 Macro:\", f1_score(y_test, clf.predict(X_test), average='macro'))\n"
   ],
   "metadata": {
    "collapsed": false
   }
  },
  {
   "cell_type": "code",
   "execution_count": null,
   "outputs": [],
   "source": [],
   "metadata": {
    "collapsed": false
   }
  }
 ],
 "metadata": {
  "kernelspec": {
   "display_name": "Python 3",
   "language": "python",
   "name": "python3"
  },
  "language_info": {
   "codemirror_mode": {
    "name": "ipython",
    "version": 2
   },
   "file_extension": ".py",
   "mimetype": "text/x-python",
   "name": "python",
   "nbconvert_exporter": "python",
   "pygments_lexer": "ipython2",
   "version": "2.7.6"
  }
 },
 "nbformat": 4,
 "nbformat_minor": 0
}
