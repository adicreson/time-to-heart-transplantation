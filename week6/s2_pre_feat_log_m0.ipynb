{
 "cells": [
  {
   "cell_type": "code",
   "execution_count": 1,
   "metadata": {},
   "outputs": [],
   "source": [
    "import os\n",
    "import pandas as pd\n",
    "\n",
    "base_dir = \"../Data\"\n",
    "base_csv_path = os.path.join(base_dir, 'm0_imputed.csv')\n",
    "assert os.path.exists(base_csv_path), f\"{base_csv_path} does not exist\"\n",
    "\n",
    "df = pd.read_csv(base_csv_path)"
   ]
  },
  {
   "cell_type": "code",
   "execution_count": 2,
   "metadata": {},
   "outputs": [
    {
     "name": "stdout",
     "output_type": "stream",
     "text": [
      "Number of missing values in wl_time: 0\n",
      "Number of values in wl_time: 65067\n",
      "Median for wl_time: 88.0\n",
      "Percentage of 0 and 1 in wl_time: \n",
      "1    50.148309\n",
      "0    49.851691\n",
      "Name: wl_time, dtype: float64\n",
      "Number of missing values in wl_time: 0\n"
     ]
    }
   ],
   "source": [
    "#Print number of missing values in wl_tme\n",
    "print(f'Number of missing values in wl_time: {df[\"wl_time\"].isnull().sum()}')\n",
    "\n",
    "#Print number of values in wl_time\n",
    "print(f'Number of values in wl_time: {df[\"wl_time\"].count()}')\n",
    "\n",
    "wl_median = df['wl_time'].median()\n",
    "\n",
    "#Print median for wl_time\n",
    "print(f'Median for wl_time: {wl_median}')\n",
    "\n",
    "#Code wl_time to 0 if wl_time is is less than the median else 1\n",
    "df['wl_time'] = df['wl_time'].apply(lambda x: 0 if x < wl_median else 1)\n",
    "\n",
    "#Print percentage of 0 and 1 in wl_time\n",
    "print(f'Percentage of 0 and 1 in wl_time: \\n{df[\"wl_time\"].value_counts(normalize=True) * 100}')\n",
    "\n",
    "#Print number of missing values in wl_time\n",
    "print(f'Number of missing values in wl_time: {df[\"wl_time\"].isnull().sum()}')"
   ]
  },
  {
   "cell_type": "code",
   "execution_count": 3,
   "metadata": {},
   "outputs": [
    {
     "name": "stdout",
     "output_type": "stream",
     "text": [
      "AUROC: 0.7645791106939992\n"
     ]
    }
   ],
   "source": [
    "from sklearn.model_selection import train_test_split\n",
    "from sklearn.linear_model import LogisticRegression\n",
    "from sklearn.metrics import roc_auc_score\n",
    "from sklearn.preprocessing import StandardScaler\n",
    "\n",
    "# Example dataset and labels\n",
    "X = df.drop('wl_time', axis=1)\n",
    "y = df['wl_time']\n",
    "\n",
    "# Split the dataset into training and testing sets\n",
    "X_train, X_test, y_train, y_test = train_test_split(X, y, test_size=0.2, random_state=42)\n",
    "\n",
    "# Scale the numerical features\n",
    "scaler = StandardScaler()\n",
    "X_train_scaled = scaler.fit_transform(X_train)\n",
    "X_test_scaled = scaler.transform(X_test)\n",
    "\n",
    "# Train the model\n",
    "model = LogisticRegression(max_iter=10000)\n",
    "model.fit(X_train_scaled, y_train)\n",
    "\n",
    "# Obtain predicted probabilities on the testing set\n",
    "y_pred = model.predict_proba(X_test_scaled)[:, 1]\n",
    "\n",
    "# Calculate AUROC\n",
    "auroc = roc_auc_score(y_test, y_pred)\n",
    "\n",
    "print(\"AUROC:\", auroc)"
   ]
  },
  {
   "cell_type": "code",
   "execution_count": 4,
   "metadata": {
    "collapsed": false
   },
   "outputs": [],
   "source": [
    "from sklearn.linear_model import LogisticRegression\n",
    "from sklearn.model_selection import cross_val_score\n",
    "from sklearn.preprocessing import StandardScaler\n",
    "from sklearn.metrics import confusion_matrix\n",
    "\n",
    "X = df.drop(['wl_time'], axis=1)\n",
    "y = df['wl_time']\n",
    "\n",
    "one_hot_cols = [col for col in df.columns if df[col].nunique() == 2]\n",
    "columns_to_scale = [col for col in X.columns if col not in one_hot_cols]\n",
    "\n",
    "scaler = StandardScaler()\n",
    "X[columns_to_scale] = scaler.fit_transform(X[columns_to_scale])"
   ]
  },
  {
   "cell_type": "code",
   "execution_count": 5,
   "metadata": {
    "collapsed": false
   },
   "outputs": [
    {
     "name": "stdout",
     "output_type": "stream",
     "text": [
      "F1 score pre feature selection: 0.6980598933950967\n",
      "F1 macro score pre feature selection: 0.6934141775415166\n"
     ]
    }
   ],
   "source": [
    "from sklearn.model_selection import cross_val_predict\n",
    "\n",
    "log = LogisticRegression(max_iter=1000)\n",
    "f1_scores = cross_val_score(log, X, y, cv=5, scoring='f1').mean()\n",
    "print(f\"F1 score pre feature selection: {f1_scores}\")\n",
    "\n",
    "f1_macro_scores = cross_val_score(log, X, y, cv=5, scoring='f1_macro').mean()\n",
    "print(f\"F1 macro score pre feature selection: {f1_macro_scores}\")"
   ]
  },
  {
   "cell_type": "code",
   "execution_count": 6,
   "metadata": {},
   "outputs": [
    {
     "name": "stdout",
     "output_type": "stream",
     "text": [
      "Feature: wgt_kg_tcr, Odds Ratio: 1.5636295836835616\n",
      "Feature: hgt_cm_tcr, Odds Ratio: 1.0914012341500647\n",
      "Feature: most_rcnt_creat, Odds Ratio: 0.9455692225077733\n",
      "Feature: tot_serum_album, Odds Ratio: 1.0468166498090177\n",
      "Feature: hemo_co_tcr, Odds Ratio: 1.0158616727928045\n",
      "Feature: init_age, Odds Ratio: 0.9413071481336435\n",
      "Feature: init_hgt_cm_calc, Odds Ratio: 0.9461408770871058\n",
      "Feature: init_wgt_kg_calc, Odds Ratio: 0.9353191561614405\n",
      "Feature: thoracic_dgn_1.0, Odds Ratio: 1.0458449720125105\n",
      "Feature: thoracic_dgn_2.0, Odds Ratio: 1.1759779104677284\n",
      "Feature: thoracic_dgn_3.0, Odds Ratio: 1.0123793496072182\n",
      "Feature: thoracic_dgn_4.0, Odds Ratio: 0.996695895513247\n",
      "Feature: thoracic_dgn_5.0, Odds Ratio: 1.338350538650753\n",
      "Feature: thoracic_dgn_7.0, Odds Ratio: 0.7246208083156083\n",
      "Feature: thoracic_dgn_missing, Odds Ratio: 0.798406634063671\n",
      "Feature: num_prev_tx_0, Odds Ratio: 0.9380638242412256\n",
      "Feature: num_prev_tx_1, Odds Ratio: 0.8360891470438768\n",
      "Feature: num_prev_tx_2, Odds Ratio: 0.8627327607102789\n",
      "Feature: num_prev_tx_3, Odds Ratio: 1.4200903514068046\n",
      "Feature: tah_N, Odds Ratio: 1.032540098192913\n",
      "Feature: tah_Y, Odds Ratio: 0.8904360306404098\n",
      "Feature: tah_missing, Odds Ratio: 1.0451234429169607\n",
      "Feature: vas_N, Odds Ratio: 0.5308845986705054\n",
      "Feature: vas_Y, Odds Ratio: 0.921007567639792\n",
      "Feature: vas_missing, Odds Ratio: 1.965232400404769\n",
      "Feature: onvent_N, Odds Ratio: 1.069574150224072\n",
      "Feature: onvent_Y, Odds Ratio: 0.7076468446598675\n",
      "Feature: onvent_missing, Odds Ratio: 1.269549877518714\n",
      "Feature: icu_N, Odds Ratio: 1.9387143715224164\n",
      "Feature: icu_Y, Odds Ratio: 1.2967076717164123\n",
      "Feature: icu_missing, Odds Ratio: 0.3822269726420189\n",
      "Feature: inotropic_N, Odds Ratio: 1.3090987390624733\n",
      "Feature: inotropic_Y, Odds Ratio: 1.4069677166411803\n",
      "Feature: inotropic_missing, Odds Ratio: 0.521699840100382\n",
      "Feature: gender_F, Odds Ratio: 0.9435696270757541\n",
      "Feature: gender_M, Odds Ratio: 1.0183645853959407\n",
      "Feature: abo_1, Odds Ratio: 0.9915100194652994\n",
      "Feature: abo_2, Odds Ratio: 1.0847477249731212\n",
      "Feature: abo_3, Odds Ratio: 0.41821904892139455\n",
      "Feature: abo_4, Odds Ratio: 2.1362278636173246\n",
      "Feature: education_1.0, Odds Ratio: 1.0248689605557437\n",
      "Feature: education_2.0, Odds Ratio: 1.025034476346453\n",
      "Feature: education_3.0, Odds Ratio: 1.0140050249693446\n",
      "Feature: education_missing, Odds Ratio: 0.9020493968779916\n",
      "Feature: ecmo_tcr_0, Odds Ratio: 1.1933418293034377\n",
      "Feature: ecmo_tcr_1, Odds Ratio: 0.8052159645071731\n",
      "Feature: iabp_tcr_0, Odds Ratio: 1.0925871110913625\n",
      "Feature: iabp_tcr_1, Odds Ratio: 0.879470279591216\n",
      "Feature: inotropes_tcr_0, Odds Ratio: 1.1555827616435401\n",
      "Feature: inotropes_tcr_1, Odds Ratio: 0.8315266755125463\n",
      "Feature: func_stat_tcr_1.0, Odds Ratio: 1.2891581157138283\n",
      "Feature: func_stat_tcr_2.0, Odds Ratio: 1.2100064232170848\n",
      "Feature: func_stat_tcr_3.0, Odds Ratio: 0.8262079103985387\n",
      "Feature: func_stat_tcr_missing, Odds Ratio: 0.7455796215032047\n",
      "Feature: diab_1.0, Odds Ratio: 1.0533966634673388\n",
      "Feature: diab_2.0, Odds Ratio: 0.8051171165085977\n",
      "Feature: diab_3.0, Odds Ratio: 1.0749770359211424\n",
      "Feature: diab_4.0, Odds Ratio: 1.1651206687278004\n",
      "Feature: diab_5.0, Odds Ratio: 1.1086119288905527\n",
      "Feature: diab_missing, Odds Ratio: 0.8159745282225638\n",
      "Feature: dial_ty_tcr_1.0, Odds Ratio: 0.7552393724361787\n",
      "Feature: dial_ty_tcr_2.0, Odds Ratio: 0.9618253801908767\n",
      "Feature: dial_ty_tcr_3.0, Odds Ratio: 1.633357861247266\n",
      "Feature: dial_ty_tcr_missing, Odds Ratio: 0.809869489664941\n",
      "Feature: cereb_vasc_N, Odds Ratio: 0.8889858165497523\n",
      "Feature: cereb_vasc_U, Odds Ratio: 0.899935261081745\n",
      "Feature: cereb_vasc_Y, Odds Ratio: 0.855482129810557\n",
      "Feature: cereb_vasc_missing, Odds Ratio: 1.4039776622684519\n",
      "Feature: malig_tcr_N, Odds Ratio: 0.8748204983052669\n",
      "Feature: malig_tcr_U, Odds Ratio: 1.1456683339793032\n",
      "Feature: malig_tcr_Y, Odds Ratio: 0.8821531631508338\n",
      "Feature: malig_tcr_missing, Odds Ratio: 1.086814401991994\n",
      "Feature: cig_use_N, Odds Ratio: 0.8409426506757779\n",
      "Feature: cig_use_Y, Odds Ratio: 0.9100048212419958\n",
      "Feature: cig_use_missing, Odds Ratio: 1.255645856836671\n",
      "Feature: prior_card_surg_tcr_N, Odds Ratio: 1.8897337457062355\n",
      "Feature: prior_card_surg_tcr_U, Odds Ratio: 1.6520876914601874\n",
      "Feature: prior_card_surg_tcr_Y, Odds Ratio: 2.1393540445966246\n",
      "Feature: prior_card_surg_tcr_missing, Odds Ratio: 0.14386689284881077\n",
      "Feature: histry_cig_old_N, Odds Ratio: 0.8470767930961707\n",
      "Feature: histry_cig_old_U, Odds Ratio: 0.9818932966492686\n",
      "Feature: histry_cig_old_Y, Odds Ratio: 0.9468709554070628\n",
      "Feature: histry_cig_old_missing, Odds Ratio: 1.2201110677984266\n",
      "Feature: init_stat_1.0, Odds Ratio: 0.3774222987109596\n",
      "Feature: init_stat_2.0, Odds Ratio: 0.9886764205594241\n",
      "Feature: init_stat_3.0, Odds Ratio: 1.8734171375248587\n",
      "Feature: init_stat_4.0, Odds Ratio: 1.5694419001585749\n",
      "Feature: init_stat_missing, Odds Ratio: 0.8758218524342869\n",
      "Feature: ethcat_1, Odds Ratio: 1.0882768200003095\n",
      "Feature: ethcat_2, Odds Ratio: 1.1339167281254898\n",
      "Feature: ethcat_4, Odds Ratio: 0.9426274797577285\n",
      "Feature: ethcat_5, Odds Ratio: 0.9288747605506552\n",
      "Feature: ethcat_6, Odds Ratio: 0.8893228289689784\n",
      "Feature: ventilator_tcr_0, Odds Ratio: 0.842186474534424\n",
      "Feature: ventilator_tcr_1, Odds Ratio: 1.1409562147151764\n",
      "Feature: work_income_tcr_N, Odds Ratio: 0.982152642207937\n",
      "Feature: work_income_tcr_U, Odds Ratio: 1.1953757099004556\n",
      "Feature: work_income_tcr_Y, Odds Ratio: 1.0250551931255405\n",
      "Feature: work_income_tcr_missing, Odds Ratio: 0.798447884281333\n",
      "F1 score pre feature selection: 0.6980598933950967\n",
      "F1 macro score pre feature selection: 0.6934141775415166\n"
     ]
    }
   ],
   "source": [
    "import numpy as     np\n",
    "\n",
    "log.fit(X, y)\n",
    "\n",
    "# Get the coefficients (log odds) of the logistic regression model\n",
    "coefficients = log.coef_[0]\n",
    "\n",
    "# Calculate the odds ratio for each feature\n",
    "odds_ratios = np.exp(coefficients)\n",
    "\n",
    "# Display the odds ratio for each feature\n",
    "for feature, odds_ratio in zip(X.columns, odds_ratios):\n",
    "    print(f\"Feature: {feature}, Odds Ratio: {odds_ratio}\")\n",
    "\n",
    "f1_scores = cross_val_score(log, X, y, cv=5, scoring='f1').mean()\n",
    "print(f\"F1 score pre feature selection: {f1_scores}\")\n",
    "\n",
    "f1_macro_scores = cross_val_score(log, X, y, cv=5, scoring='f1_macro').mean()\n",
    "print(f\"F1 macro score pre feature selection: {f1_macro_scores}\")\n"
   ]
  },
  {
   "cell_type": "code",
   "execution_count": 1,
   "metadata": {
    "collapsed": false
   },
   "outputs": [
    {
     "ename": "NameError",
     "evalue": "name 'cross_val_predict' is not defined",
     "output_type": "error",
     "traceback": [
      "\u001b[0;31m---------------------------------------------------------------------------\u001b[0m",
      "\u001b[0;31mNameError\u001b[0m                                 Traceback (most recent call last)",
      "Cell \u001b[0;32mIn[1], line 3\u001b[0m\n\u001b[1;32m      1\u001b[0m \u001b[39mimport\u001b[39;00m \u001b[39mseaborn\u001b[39;00m \u001b[39mas\u001b[39;00m \u001b[39msns\u001b[39;00m\n\u001b[0;32m----> 3\u001b[0m y_pred \u001b[39m=\u001b[39m cross_val_predict(log, X, y, cv\u001b[39m=\u001b[39m\u001b[39m5\u001b[39m)\n\u001b[1;32m      4\u001b[0m \u001b[39m# Plot the confusion matrix with axles labeled\u001b[39;00m\n\u001b[1;32m      5\u001b[0m conf_mat \u001b[39m=\u001b[39m confusion_matrix(y, y_pred)\n",
      "\u001b[0;31mNameError\u001b[0m: name 'cross_val_predict' is not defined"
     ]
    }
   ],
   "source": [
    "import matplotlib.pyplot as plt\n",
    "import seaborn as sns\n",
    "from sklearn.metrics import confusion_matrix\n",
    "from sklearn.model_selection import cross_val_predict\n",
    "\n",
    "y_pred = cross_val_predict(log, X, y, cv=5)\n",
    "\n",
    "# Compute confusion matrix\n",
    "cm = confusion_matrix(y, y_pred)\n",
    "\n",
    "# Plot the confusion matrix with axes labeled\n",
    "sns.heatmap(cm, annot=True, cmap='Blues', fmt='g')\n",
    "\n",
    "# Set labels for the x and y axes\n",
    "plt.xlabel(\"Predicted\")\n",
    "plt.ylabel(\"Actual/True\")\n",
    "\n",
    "# Show the plot\n",
    "plt.show()"
   ]
  },
  {
   "cell_type": "code",
   "execution_count": 8,
   "metadata": {},
   "outputs": [],
   "source": [
    "import seaborn as sns\n",
    "\n",
    "#df.corr()\n",
    "#sns.heatmap(df.corr(), annot=True)"
   ]
  }
 ],
 "metadata": {
  "kernelspec": {
   "display_name": "Python 3",
   "language": "python",
   "name": "python3"
  },
  "language_info": {
   "codemirror_mode": {
    "name": "ipython",
    "version": 3
   },
   "file_extension": ".py",
   "mimetype": "text/x-python",
   "name": "python",
   "nbconvert_exporter": "python",
   "pygments_lexer": "ipython3",
   "version": "3.10.10"
  },
  "orig_nbformat": 4
 },
 "nbformat": 4,
 "nbformat_minor": 2
}
