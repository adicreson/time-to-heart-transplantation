{
 "cells": [
  {
   "cell_type": "code",
   "execution_count": 1,
   "metadata": {},
   "outputs": [],
   "source": [
    "import os\n",
    "import pandas as pd\n",
    "\n",
    "base_dir = \"../Data\"\n",
    "base_csv_path = os.path.join(base_dir, 'm1_imputed.csv')\n",
    "assert os.path.exists(base_csv_path), f\"{base_csv_path} does not exist\"\n",
    "\n",
    "df = pd.read_csv(base_csv_path)"
   ]
  },
  {
   "cell_type": "code",
   "execution_count": 2,
   "metadata": {},
   "outputs": [
    {
     "name": "stdout",
     "output_type": "stream",
     "text": [
      "Number of missing values in wl_time: 0\n",
      "Number of values in wl_time: 65067\n",
      "Median for wl_time: 88.0\n",
      "Percentage of 0 and 1 in wl_time: \n",
      "1    50.148309\n",
      "0    49.851691\n",
      "Name: wl_time, dtype: float64\n",
      "Number of missing values in wl_time: 0\n"
     ]
    }
   ],
   "source": [
    "#Print number of missing values in wl_tme\n",
    "print(f'Number of missing values in wl_time: {df[\"wl_time\"].isnull().sum()}')\n",
    "\n",
    "#Print number of values in wl_time\n",
    "print(f'Number of values in wl_time: {df[\"wl_time\"].count()}')\n",
    "\n",
    "wl_median = df['wl_time'].median()\n",
    "\n",
    "#Print median for wl_time\n",
    "print(f'Median for wl_time: {wl_median}')\n",
    "\n",
    "#Code wl_time to 0 if wl_time is is less than the median else 1\n",
    "df['wl_time'] = df['wl_time'].apply(lambda x: 0 if x < wl_median else 1)\n",
    "\n",
    "#Print percentage of 0 and 1 in wl_time\n",
    "print(f'Percentage of 0 and 1 in wl_time: \\n{df[\"wl_time\"].value_counts(normalize=True) * 100}')\n",
    "\n",
    "#Print number of missing values in wl_time\n",
    "print(f'Number of missing values in wl_time: {df[\"wl_time\"].isnull().sum()}')"
   ]
  },
  {
   "cell_type": "code",
   "execution_count": 3,
   "metadata": {},
   "outputs": [
    {
     "name": "stdout",
     "output_type": "stream",
     "text": [
      "AUROC: 0.7646397407386544\n"
     ]
    }
   ],
   "source": [
    "from sklearn.model_selection import train_test_split\n",
    "from sklearn.linear_model import LogisticRegression\n",
    "from sklearn.metrics import roc_auc_score\n",
    "from sklearn.preprocessing import StandardScaler\n",
    "\n",
    "# Example dataset and labels\n",
    "X = df.drop('wl_time', axis=1)\n",
    "y = df['wl_time']\n",
    "\n",
    "# Split the dataset into training and testing sets\n",
    "X_train, X_test, y_train, y_test = train_test_split(X, y, test_size=0.2, random_state=42)\n",
    "\n",
    "# Scale the numerical features\n",
    "scaler = StandardScaler()\n",
    "X_train_scaled = scaler.fit_transform(X_train)\n",
    "X_test_scaled = scaler.transform(X_test)\n",
    "\n",
    "# Train the model\n",
    "model = LogisticRegression(max_iter=10000)\n",
    "model.fit(X_train_scaled, y_train)\n",
    "\n",
    "# Obtain predicted probabilities on the testing set\n",
    "y_pred = model.predict_proba(X_test_scaled)[:, 1]\n",
    "\n",
    "# Calculate AUROC\n",
    "auroc = roc_auc_score(y_test, y_pred)\n",
    "\n",
    "print(\"AUROC:\", auroc)"
   ]
  },
  {
   "cell_type": "code",
   "execution_count": 4,
   "metadata": {
    "collapsed": false
   },
   "outputs": [],
   "source": [
    "from sklearn.linear_model import LogisticRegression\n",
    "from sklearn.model_selection import cross_val_score\n",
    "from sklearn.preprocessing import StandardScaler\n",
    "from sklearn.metrics import confusion_matrix\n",
    "\n",
    "X = df.drop(['wl_time'], axis=1)\n",
    "y = df['wl_time']\n",
    "\n",
    "one_hot_cols = [col for col in df.columns if df[col].nunique() == 2]\n",
    "columns_to_scale = [col for col in X.columns if col not in one_hot_cols]\n",
    "\n",
    "scaler = StandardScaler()\n",
    "X[columns_to_scale] = scaler.fit_transform(X[columns_to_scale])"
   ]
  },
  {
   "cell_type": "code",
   "execution_count": 5,
   "metadata": {
    "collapsed": false
   },
   "outputs": [
    {
     "name": "stdout",
     "output_type": "stream",
     "text": [
      "F1 score pre feature selection: 0.6892178121040025\n",
      "F1 macro score pre feature selection: 0.6884008574176745\n"
     ]
    }
   ],
   "source": [
    "from sklearn.model_selection import cross_val_predict\n",
    "\n",
    "log = LogisticRegression(max_iter=1000)\n",
    "f1_scores = cross_val_score(log, X, y, cv=5, scoring='f1').mean()\n",
    "print(f\"F1 score pre feature selection: {f1_scores}\")\n",
    "\n",
    "f1_macro_scores = cross_val_score(log, X, y, cv=5, scoring='f1_macro').mean()\n",
    "print(f\"F1 macro score pre feature selection: {f1_macro_scores}\")"
   ]
  },
  {
   "cell_type": "code",
   "execution_count": 6,
   "metadata": {},
   "outputs": [
    {
     "name": "stdout",
     "output_type": "stream",
     "text": [
      "Feature: wgt_kg_tcr, Odds Ratio: 1.560878498053262\n",
      "Feature: hgt_cm_tcr, Odds Ratio: 1.0936080505354628\n",
      "Feature: most_rcnt_creat, Odds Ratio: 0.9453418857694968\n",
      "Feature: tot_serum_album, Odds Ratio: 1.0499989528238582\n",
      "Feature: hemo_co_tcr, Odds Ratio: 1.0156137443090383\n",
      "Feature: init_age, Odds Ratio: 0.9431536765105721\n",
      "Feature: init_hgt_cm_calc, Odds Ratio: 0.9435972179945781\n",
      "Feature: init_wgt_kg_calc, Odds Ratio: 0.938293278229884\n",
      "Feature: wgt_kg_tcr_missing, Odds Ratio: 1.0\n",
      "Feature: hgt_cm_tcr_missing, Odds Ratio: 1.0\n",
      "Feature: most_rcnt_creat_missing, Odds Ratio: 1.0026590057346458\n",
      "Feature: tot_serum_album_missing, Odds Ratio: 0.9094708875237408\n",
      "Feature: hemo_co_tcr_missing, Odds Ratio: 0.9706272432510357\n",
      "Feature: init_age_missing, Odds Ratio: 1.0\n",
      "Feature: init_hgt_cm_calc_missing, Odds Ratio: 1.0\n",
      "Feature: init_wgt_kg_calc_missing, Odds Ratio: 1.0\n",
      "Feature: thoracic_dgn_1.0, Odds Ratio: 1.0444553337270426\n",
      "Feature: thoracic_dgn_2.0, Odds Ratio: 1.1747839057450578\n",
      "Feature: thoracic_dgn_3.0, Odds Ratio: 1.0071802622638684\n",
      "Feature: thoracic_dgn_4.0, Odds Ratio: 0.9984816857520813\n",
      "Feature: thoracic_dgn_5.0, Odds Ratio: 1.3544125612333369\n",
      "Feature: thoracic_dgn_7.0, Odds Ratio: 0.7286592890220343\n",
      "Feature: thoracic_dgn_missing, Odds Ratio: 0.7998479114787064\n",
      "Feature: num_prev_tx_0, Odds Ratio: 0.947623946069333\n",
      "Feature: num_prev_tx_1, Odds Ratio: 0.8429826823179537\n",
      "Feature: num_prev_tx_2, Odds Ratio: 0.874585813935402\n",
      "Feature: num_prev_tx_3, Odds Ratio: 1.3941867644781438\n",
      "Feature: tah_N, Odds Ratio: 1.0362880603328277\n",
      "Feature: tah_Y, Odds Ratio: 0.8964043789054472\n",
      "Feature: tah_missing, Odds Ratio: 1.0485607567480308\n",
      "Feature: vas_N, Odds Ratio: 0.5383053549260741\n",
      "Feature: vas_Y, Odds Ratio: 0.9329961861245616\n",
      "Feature: vas_missing, Odds Ratio: 1.9394093950282754\n",
      "Feature: onvent_N, Odds Ratio: 1.0779754255236673\n",
      "Feature: onvent_Y, Odds Ratio: 0.7126179921126296\n",
      "Feature: onvent_missing, Odds Ratio: 1.2679800486336\n",
      "Feature: icu_N, Odds Ratio: 1.9364877095701396\n",
      "Feature: icu_Y, Odds Ratio: 1.2910364910429666\n",
      "Feature: icu_missing, Odds Ratio: 0.38960525046328526\n",
      "Feature: inotropic_N, Odds Ratio: 1.3143994855956236\n",
      "Feature: inotropic_Y, Odds Ratio: 1.413410360787625\n",
      "Feature: inotropic_missing, Odds Ratio: 0.5243030844829465\n",
      "Feature: gender_F, Odds Ratio: 0.9510822585718712\n",
      "Feature: gender_M, Odds Ratio: 1.024141543268838\n",
      "Feature: abo_1, Odds Ratio: 0.9946926942591782\n",
      "Feature: abo_2, Odds Ratio: 1.0889788124569253\n",
      "Feature: abo_3, Odds Ratio: 0.41973689766719174\n",
      "Feature: abo_4, Odds Ratio: 2.142360523523935\n",
      "Feature: education_1.0, Odds Ratio: 1.029056725299062\n",
      "Feature: education_2.0, Odds Ratio: 1.0301859879154858\n",
      "Feature: education_3.0, Odds Ratio: 1.0192704248926625\n",
      "Feature: education_missing, Odds Ratio: 0.901433485861099\n",
      "Feature: ecmo_tcr_0, Odds Ratio: 1.185169455872955\n",
      "Feature: ecmo_tcr_1, Odds Ratio: 0.8218595638309657\n",
      "Feature: iabp_tcr_0, Odds Ratio: 1.096711342926223\n",
      "Feature: iabp_tcr_1, Odds Ratio: 0.888148789881232\n",
      "Feature: inotropes_tcr_0, Odds Ratio: 1.169084295354887\n",
      "Feature: inotropes_tcr_1, Odds Ratio: 0.8331673395490418\n",
      "Feature: func_stat_tcr_1.0, Odds Ratio: 1.291488700077632\n",
      "Feature: func_stat_tcr_2.0, Odds Ratio: 1.2110585852475424\n",
      "Feature: func_stat_tcr_3.0, Odds Ratio: 0.8329293814578667\n",
      "Feature: func_stat_tcr_missing, Odds Ratio: 0.7476771672089341\n",
      "Feature: diab_1.0, Odds Ratio: 1.054675225062451\n",
      "Feature: diab_2.0, Odds Ratio: 0.7963521809018627\n",
      "Feature: diab_3.0, Odds Ratio: 1.0788834829236853\n",
      "Feature: diab_4.0, Odds Ratio: 1.1682503955808283\n",
      "Feature: diab_5.0, Odds Ratio: 1.1046164170992774\n",
      "Feature: diab_missing, Odds Ratio: 0.8329753908812003\n",
      "Feature: dial_ty_tcr_1.0, Odds Ratio: 0.7516787917664369\n",
      "Feature: dial_ty_tcr_2.0, Odds Ratio: 0.9620134349474794\n",
      "Feature: dial_ty_tcr_3.0, Odds Ratio: 1.6368968991378718\n",
      "Feature: dial_ty_tcr_missing, Odds Ratio: 0.8228928777275821\n",
      "Feature: cereb_vasc_N, Odds Ratio: 0.8843301760145944\n",
      "Feature: cereb_vasc_U, Odds Ratio: 0.908620551751182\n",
      "Feature: cereb_vasc_Y, Odds Ratio: 0.8515014272821656\n",
      "Feature: cereb_vasc_missing, Odds Ratio: 1.423625252408834\n",
      "Feature: malig_tcr_N, Odds Ratio: 0.8721912406566148\n",
      "Feature: malig_tcr_U, Odds Ratio: 1.1367229743480627\n",
      "Feature: malig_tcr_Y, Odds Ratio: 0.8816045208808706\n",
      "Feature: malig_tcr_missing, Odds Ratio: 1.1143917715443126\n",
      "Feature: cig_use_N, Odds Ratio: 0.850870116072961\n",
      "Feature: cig_use_Y, Odds Ratio: 0.9171662316262479\n",
      "Feature: cig_use_missing, Odds Ratio: 1.2481498717205548\n",
      "Feature: prior_card_surg_tcr_N, Odds Ratio: 1.8874539845214162\n",
      "Feature: prior_card_surg_tcr_U, Odds Ratio: 1.665676412218421\n",
      "Feature: prior_card_surg_tcr_Y, Odds Ratio: 2.136902792148469\n",
      "Feature: prior_card_surg_tcr_missing, Odds Ratio: 0.14498607365272081\n",
      "Feature: histry_cig_old_N, Odds Ratio: 0.8633648354130314\n",
      "Feature: histry_cig_old_U, Odds Ratio: 0.9985416370823176\n",
      "Feature: histry_cig_old_Y, Odds Ratio: 0.9645715746216634\n",
      "Feature: histry_cig_old_missing, Odds Ratio: 1.1713402571028868\n",
      "Feature: init_stat_1.0, Odds Ratio: 0.3802094594706865\n",
      "Feature: init_stat_2.0, Odds Ratio: 0.9927283354826054\n",
      "Feature: init_stat_3.0, Odds Ratio: 1.86225391665947\n",
      "Feature: init_stat_4.0, Odds Ratio: 1.5660785516258382\n",
      "Feature: init_stat_missing, Odds Ratio: 0.8848553676944773\n",
      "Feature: ethcat_1, Odds Ratio: 1.0885354910162217\n",
      "Feature: ethcat_2, Odds Ratio: 1.1371319786280363\n",
      "Feature: ethcat_4, Odds Ratio: 0.9459297823183613\n",
      "Feature: ethcat_5, Odds Ratio: 0.9339295825221399\n",
      "Feature: ethcat_6, Odds Ratio: 0.8907412519340672\n",
      "Feature: ventilator_tcr_0, Odds Ratio: 0.8488030588431756\n",
      "Feature: ventilator_tcr_1, Odds Ratio: 1.1475487062889085\n",
      "Feature: work_income_tcr_N, Odds Ratio: 0.9794381637793393\n",
      "Feature: work_income_tcr_U, Odds Ratio: 1.2062613127255013\n",
      "Feature: work_income_tcr_Y, Odds Ratio: 1.0426142997257881\n",
      "Feature: work_income_tcr_missing, Odds Ratio: 0.7907441086811299\n",
      "F1 score pre feature selection: 0.6892178121040025\n",
      "F1 macro score pre feature selection: 0.6884008574176745\n"
     ]
    }
   ],
   "source": [
    "import numpy as     np\n",
    "\n",
    "log.fit(X, y)\n",
    "\n",
    "# Get the coefficients (log odds) of the logistic regression model\n",
    "coefficients = log.coef_[0]\n",
    "\n",
    "# Calculate the odds ratio for each feature\n",
    "odds_ratios = np.exp(coefficients)\n",
    "\n",
    "# Display the odds ratio for each feature\n",
    "for feature, odds_ratio in zip(X.columns, odds_ratios):\n",
    "    print(f\"Feature: {feature}, Odds Ratio: {odds_ratio}\")\n",
    "\n",
    "f1_scores = cross_val_score(log, X, y, cv=5, scoring='f1').mean()\n",
    "print(f\"F1 score pre feature selection: {f1_scores}\")\n",
    "\n",
    "f1_macro_scores = cross_val_score(log, X, y, cv=5, scoring='f1_macro').mean()\n",
    "print(f\"F1 macro score pre feature selection: {f1_macro_scores}\")\n"
   ]
  },
  {
   "cell_type": "code",
   "execution_count": 7,
   "metadata": {
    "collapsed": false
   },
   "outputs": [
    {
     "data": {
      "text/plain": [
       "<Axes: >"
      ]
     },
     "execution_count": 7,
     "metadata": {},
     "output_type": "execute_result"
    },
    {
     "data": {
      "image/png": "[encoded data removed]",
      "text/plain": [
       "<Figure size 640x480 with 2 Axes>"
      ]
     },
     "metadata": {},
     "output_type": "display_data"
    }
   ],
   "source": [
    "import seaborn as sns\n",
    "\n",
    "y_pred = cross_val_predict(log, X, y, cv=5)\n",
    "sns.heatmap(confusion_matrix(y, y_pred), annot=True, cmap='Blues', fmt='g')"
   ]
  },
  {
   "cell_type": "code",
   "execution_count": 8,
   "metadata": {},
   "outputs": [],
   "source": [
    "import seaborn as sns\n",
    "\n",
    "#df.corr()\n",
    "#sns.heatmap(df.corr(), annot=True)"
   ]
  }
 ],
 "metadata": {
  "kernelspec": {
   "display_name": "Python 3",
   "language": "python",
   "name": "python3"
  },
  "language_info": {
   "codemirror_mode": {
    "name": "ipython",
    "version": 3
   },
   "file_extension": ".py",
   "mimetype": "text/x-python",
   "name": "python",
   "nbconvert_exporter": "python",
   "pygments_lexer": "ipython3",
   "version": "3.10.10"
  },
  "orig_nbformat": 4
 },
 "nbformat": 4,
 "nbformat_minor": 2
}
