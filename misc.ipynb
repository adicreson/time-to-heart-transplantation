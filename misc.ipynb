{
 "cells": [
  {
   "cell_type": "code",
   "execution_count": 3,
   "outputs": [],
   "source": [
    "import pandas as pd"
   ],
   "metadata": {
    "collapsed": false
   }
  },
  {
   "cell_type": "code",
   "execution_count": 1,
   "outputs": [
    {
     "name": "stdout",
     "output_type": "stream",
     "text": [
      "Correct: 50043 (50.043000000000006%)\n",
      "Incorrect: 49957 (49.957%)\n"
     ]
    }
   ],
   "source": [
    "import random\n",
    "\n",
    "def choice():\n",
    "    return random.choice([0,1])\n",
    "\n",
    "def random_choice():\n",
    "    # 70% probability to be a 0\n",
    "    # 30% probability to be a 1\n",
    "    return random.choices([0,1], weights=[0.7, 0.3])[0]\n",
    "\n",
    "def do_choice():\n",
    "    correct_choice = random_choice()\n",
    "    our_choice = choice()\n",
    "    return correct_choice == our_choice\n",
    "\n",
    "correct = 0\n",
    "incorrect = 0\n",
    "\n",
    "for i in range(100000):\n",
    "    if do_choice():\n",
    "        correct += 1\n",
    "    else:\n",
    "        incorrect += 1\n",
    "\n",
    "print(f\"Correct: {correct} ({correct/(correct+incorrect)*100}%)\")\n",
    "print(f\"Incorrect: {incorrect} ({incorrect/(correct+incorrect)*100}%)\")\n"
   ],
   "metadata": {
    "collapsed": false
   }
  },
  {
   "cell_type": "code",
   "execution_count": null,
   "outputs": [],
   "source": [],
   "metadata": {
    "collapsed": false
   }
  }
 ],
 "metadata": {
  "kernelspec": {
   "display_name": "Python 3",
   "language": "python",
   "name": "python3"
  },
  "language_info": {
   "codemirror_mode": {
    "name": "ipython",
    "version": 2
   },
   "file_extension": ".py",
   "mimetype": "text/x-python",
   "name": "python",
   "nbconvert_exporter": "python",
   "pygments_lexer": "ipython2",
   "version": "2.7.6"
  }
 },
 "nbformat": 4,
 "nbformat_minor": 0
}
