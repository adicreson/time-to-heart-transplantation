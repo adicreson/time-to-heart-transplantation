{
 "cells": [
  {
   "cell_type": "code",
   "execution_count": 1,
   "metadata": {},
   "outputs": [],
   "source": [
    "import os\n",
    "import pandas as pd\n",
    "\n",
    "base_dir = \"../Data\"\n",
    "base_csv_path = os.path.join(base_dir, 'm0_post_feat_sel.csv')\n",
    "assert os.path.exists(base_csv_path), f\"{base_csv_path} does not exist\"\n",
    "\n",
    "df = pd.read_csv(base_csv_path)"
   ]
  },
  {
   "cell_type": "code",
   "execution_count": 2,
   "metadata": {},
   "outputs": [
    {
     "name": "stdout",
     "output_type": "stream",
     "text": [
      "Number of missing values in wl_time: 0\n",
      "Number of values in wl_time: 65067\n",
      "Median for wl_time: 88.0\n",
      "Percentage of 0 and 1 in wl_time: \n",
      "1    50.148309\n",
      "0    49.851691\n",
      "Name: wl_time, dtype: float64\n",
      "Number of missing values in wl_time: 0\n"
     ]
    }
   ],
   "source": [
    "#Print number of missing values in wl_tme\n",
    "print(f'Number of missing values in wl_time: {df[\"wl_time\"].isnull().sum()}')\n",
    "\n",
    "#Print number of values in wl_time\n",
    "print(f'Number of values in wl_time: {df[\"wl_time\"].count()}')\n",
    "\n",
    "wl_median = df['wl_time'].median()\n",
    "\n",
    "#Print median for wl_time\n",
    "print(f'Median for wl_time: {wl_median}')\n",
    "\n",
    "#Code wl_time to 0 if wl_time is is less than the median else 1\n",
    "df['wl_time'] = df['wl_time'].apply(lambda x: 0 if x < wl_median else 1)\n",
    "\n",
    "#Print percentage of 0 and 1 in wl_time\n",
    "print(f'Percentage of 0 and 1 in wl_time: \\n{df[\"wl_time\"].value_counts(normalize=True) * 100}')\n",
    "\n",
    "#Print number of missing values in wl_time\n",
    "print(f'Number of missing values in wl_time: {df[\"wl_time\"].isnull().sum()}')"
   ]
  },
  {
   "cell_type": "code",
   "execution_count": 3,
   "metadata": {},
   "outputs": [
    {
     "name": "stdout",
     "output_type": "stream",
     "text": [
      "AUROC: 0.7645561766178945\n"
     ]
    }
   ],
   "source": [
    "from sklearn.model_selection import train_test_split\n",
    "from sklearn.linear_model import LogisticRegression\n",
    "from sklearn.metrics import roc_auc_score\n",
    "from sklearn.preprocessing import StandardScaler\n",
    "\n",
    "# Example dataset and labels\n",
    "X = df.drop('wl_time', axis=1)\n",
    "y = df['wl_time']\n",
    "\n",
    "# Split the dataset into training and testing sets\n",
    "X_train, X_test, y_train, y_test = train_test_split(X, y, test_size=0.2, random_state=42)\n",
    "\n",
    "# Scale the numerical features\n",
    "scaler = StandardScaler()\n",
    "X_train_scaled = scaler.fit_transform(X_train)\n",
    "X_test_scaled = scaler.transform(X_test)\n",
    "\n",
    "# Train the model\n",
    "model = LogisticRegression(max_iter=10000)\n",
    "model.fit(X_train_scaled, y_train)\n",
    "\n",
    "# Obtain predicted probabilities on the testing set\n",
    "y_pred = model.predict_proba(X_test_scaled)[:, 1]\n",
    "\n",
    "# Calculate AUROC\n",
    "auroc = roc_auc_score(y_test, y_pred)\n",
    "\n",
    "print(\"AUROC:\", auroc)"
   ]
  },
  {
   "cell_type": "code",
   "execution_count": 4,
   "metadata": {
    "collapsed": false
   },
   "outputs": [],
   "source": [
    "from sklearn.linear_model import LogisticRegression\n",
    "from sklearn.model_selection import cross_val_score\n",
    "from sklearn.preprocessing import StandardScaler\n",
    "from sklearn.metrics import confusion_matrix\n",
    "\n",
    "X = df.drop(['wl_time'], axis=1)\n",
    "y = df['wl_time']\n",
    "\n",
    "one_hot_cols = [col for col in df.columns if df[col].nunique() == 2]\n",
    "columns_to_scale = [col for col in X.columns if col not in one_hot_cols]\n",
    "\n",
    "scaler = StandardScaler()\n",
    "X[columns_to_scale] = scaler.fit_transform(X[columns_to_scale])"
   ]
  },
  {
   "cell_type": "code",
   "execution_count": 5,
   "metadata": {
    "collapsed": false
   },
   "outputs": [
    {
     "name": "stdout",
     "output_type": "stream",
     "text": [
      "F1 score pre feature selection: 0.6979875242843845\n",
      "F1 macro score pre feature selection: 0.693426054200174\n"
     ]
    }
   ],
   "source": [
    "from sklearn.model_selection import cross_val_predict\n",
    "\n",
    "log = LogisticRegression(max_iter=1000)\n",
    "f1_scores = cross_val_score(log, X, y, cv=5, scoring='f1').mean()\n",
    "print(f\"F1 score pre feature selection: {f1_scores}\")\n",
    "\n",
    "f1_macro_scores = cross_val_score(log, X, y, cv=5, scoring='f1_macro').mean()\n",
    "print(f\"F1 macro score pre feature selection: {f1_macro_scores}\")"
   ]
  },
  {
   "cell_type": "code",
   "execution_count": 6,
   "metadata": {},
   "outputs": [
    {
     "name": "stdout",
     "output_type": "stream",
     "text": [
      "Feature: wgt_kg_tcr, Odds Ratio: 1.5671447807565189\n",
      "Feature: hgt_cm_tcr, Odds Ratio: 1.091922479495979\n",
      "Feature: most_rcnt_creat, Odds Ratio: 0.9458258671470711\n",
      "Feature: tot_serum_album, Odds Ratio: 1.0466951855803268\n",
      "Feature: init_age, Odds Ratio: 0.9406221499585485\n",
      "Feature: init_hgt_cm_calc, Odds Ratio: 0.9461027586511154\n",
      "Feature: init_wgt_kg_calc, Odds Ratio: 0.9370928522064698\n",
      "Feature: thoracic_dgn_1.0, Odds Ratio: 1.0376219812368324\n",
      "Feature: thoracic_dgn_2.0, Odds Ratio: 1.1682039716819952\n",
      "Feature: thoracic_dgn_5.0, Odds Ratio: 1.3298864260288072\n",
      "Feature: thoracic_dgn_7.0, Odds Ratio: 0.718066233444828\n",
      "Feature: thoracic_dgn_missing, Odds Ratio: 0.7928848045606723\n",
      "Feature: num_prev_tx_0, Odds Ratio: 0.9462774596401912\n",
      "Feature: num_prev_tx_1, Odds Ratio: 0.8377499331559645\n",
      "Feature: num_prev_tx_2, Odds Ratio: 0.8685450684023679\n",
      "Feature: num_prev_tx_3, Odds Ratio: 1.3842361138902872\n",
      "Feature: tah_Y, Odds Ratio: 0.8667655173910083\n",
      "Feature: tah_missing, Odds Ratio: 1.054755509071451\n",
      "Feature: vas_N, Odds Ratio: 0.5766731936301117\n",
      "Feature: vas_missing, Odds Ratio: 1.9749032184726603\n",
      "Feature: onvent_N, Odds Ratio: 1.064461994809202\n",
      "Feature: onvent_Y, Odds Ratio: 0.7045405926845223\n",
      "Feature: onvent_missing, Odds Ratio: 1.2708645071918652\n",
      "Feature: icu_N, Odds Ratio: 1.9142281364018208\n",
      "Feature: icu_Y, Odds Ratio: 1.279146106874064\n",
      "Feature: icu_missing, Odds Ratio: 0.3892436914305675\n",
      "Feature: inotropic_N, Odds Ratio: 1.3061125878893487\n",
      "Feature: inotropic_Y, Odds Ratio: 1.40260227506068\n",
      "Feature: inotropic_missing, Odds Ratio: 0.5202598092048555\n",
      "Feature: gender_F, Odds Ratio: 0.9257245544021091\n",
      "Feature: abo_2, Odds Ratio: 1.0936073379908744\n",
      "Feature: abo_3, Odds Ratio: 0.42169248222671396\n",
      "Feature: abo_4, Odds Ratio: 2.1540532499496323\n",
      "Feature: education_missing, Odds Ratio: 0.8817414541669917\n",
      "Feature: ecmo_tcr_0, Odds Ratio: 1.1919735093616464\n",
      "Feature: ecmo_tcr_1, Odds Ratio: 0.799592713300567\n",
      "Feature: iabp_tcr_0, Odds Ratio: 1.0886439991579444\n",
      "Feature: iabp_tcr_1, Odds Ratio: 0.8754866910308194\n",
      "Feature: inotropes_tcr_0, Odds Ratio: 1.151974945481195\n",
      "Feature: inotropes_tcr_1, Odds Ratio: 0.8273559561971848\n",
      "Feature: func_stat_tcr_1.0, Odds Ratio: 1.2870074288001077\n",
      "Feature: func_stat_tcr_2.0, Odds Ratio: 1.2079057107666298\n",
      "Feature: func_stat_tcr_3.0, Odds Ratio: 0.8243204747250464\n",
      "Feature: func_stat_tcr_missing, Odds Ratio: 0.743747049774559\n",
      "Feature: diab_1.0, Odds Ratio: 1.0525249155325587\n",
      "Feature: diab_2.0, Odds Ratio: 0.806322315282521\n",
      "Feature: diab_3.0, Odds Ratio: 1.0760351296934925\n",
      "Feature: diab_4.0, Odds Ratio: 1.1607859605318342\n",
      "Feature: diab_5.0, Odds Ratio: 1.1101341639796376\n",
      "Feature: diab_missing, Odds Ratio: 0.809916602845149\n",
      "Feature: dial_ty_tcr_1.0, Odds Ratio: 0.7500740473804792\n",
      "Feature: dial_ty_tcr_2.0, Odds Ratio: 0.9617210337301347\n",
      "Feature: dial_ty_tcr_3.0, Odds Ratio: 1.6391127933015452\n",
      "Feature: dial_ty_tcr_missing, Odds Ratio: 0.8060710759531562\n",
      "Feature: cereb_vasc_N, Odds Ratio: 0.8852738532954709\n",
      "Feature: cereb_vasc_U, Odds Ratio: 0.8989727067559348\n",
      "Feature: cereb_vasc_Y, Odds Ratio: 0.8509666170490157\n",
      "Feature: cereb_vasc_missing, Odds Ratio: 1.4073391334274425\n",
      "Feature: malig_tcr_N, Odds Ratio: 0.8739913313382939\n",
      "Feature: malig_tcr_U, Odds Ratio: 1.1438109863040102\n",
      "Feature: malig_tcr_Y, Odds Ratio: 0.8806338633435932\n",
      "Feature: malig_tcr_missing, Odds Ratio: 1.0826265194271514\n",
      "Feature: cig_use_N, Odds Ratio: 0.8380404858161267\n",
      "Feature: cig_use_Y, Odds Ratio: 0.908634800241725\n",
      "Feature: cig_use_missing, Odds Ratio: 1.2516447019992951\n",
      "Feature: prior_card_surg_tcr_N, Odds Ratio: 1.8905244304450144\n",
      "Feature: prior_card_surg_tcr_U, Odds Ratio: 1.6553850126996956\n",
      "Feature: prior_card_surg_tcr_Y, Odds Ratio: 2.147569094941956\n",
      "Feature: prior_card_surg_tcr_missing, Odds Ratio: 0.14181003787467453\n",
      "Feature: histry_cig_old_N, Odds Ratio: 0.8620007070383116\n",
      "Feature: histry_cig_old_Y, Odds Ratio: 0.9649366746551241\n",
      "Feature: histry_cig_old_missing, Odds Ratio: 1.243066760837864\n",
      "Feature: init_stat_1.0, Odds Ratio: 0.3819291973761437\n",
      "Feature: init_stat_3.0, Odds Ratio: 1.8942772944635886\n",
      "Feature: init_stat_4.0, Odds Ratio: 1.5882287356200187\n",
      "Feature: init_stat_missing, Odds Ratio: 0.8852832874873411\n",
      "Feature: ethcat_1, Odds Ratio: 1.0875067892058863\n",
      "Feature: ethcat_2, Odds Ratio: 1.1318820931730005\n",
      "Feature: ethcat_4, Odds Ratio: 0.9416088530949512\n",
      "Feature: ethcat_5, Odds Ratio: 0.9248678884387047\n",
      "Feature: ethcat_6, Odds Ratio: 0.8891029089798452\n",
      "Feature: ventilator_tcr_0, Odds Ratio: 0.8381225121709978\n",
      "Feature: ventilator_tcr_1, Odds Ratio: 1.1371766283479734\n",
      "Feature: work_income_tcr_U, Odds Ratio: 1.2182011366201124\n",
      "Feature: work_income_tcr_Y, Odds Ratio: 1.0412825782326531\n",
      "Feature: work_income_tcr_missing, Odds Ratio: 0.814281625028476\n",
      "F1 score pre feature selection: 0.6979875242843845\n",
      "F1 macro score pre feature selection: 0.693426054200174\n"
     ]
    }
   ],
   "source": [
    "import numpy as     np\n",
    "\n",
    "log.fit(X, y)\n",
    "\n",
    "# Get the coefficients (log odds) of the logistic regression model\n",
    "coefficients = log.coef_[0]\n",
    "\n",
    "# Calculate the odds ratio for each feature\n",
    "odds_ratios = np.exp(coefficients)\n",
    "\n",
    "# Display the odds ratio for each feature\n",
    "for feature, odds_ratio in zip(X.columns, odds_ratios):\n",
    "    print(f\"Feature: {feature}, Odds Ratio: {odds_ratio}\")\n",
    "\n",
    "f1_scores = cross_val_score(log, X, y, cv=5, scoring='f1').mean()\n",
    "print(f\"F1 score pre feature selection: {f1_scores}\")\n",
    "\n",
    "f1_macro_scores = cross_val_score(log, X, y, cv=5, scoring='f1_macro').mean()\n",
    "print(f\"F1 macro score pre feature selection: {f1_macro_scores}\")\n"
   ]
  },
  {
   "cell_type": "code",
   "execution_count": 7,
   "metadata": {
    "collapsed": false
   },
   "outputs": [
    {
     "data": {
      "text/plain": [
       "<Axes: >"
      ]
     },
     "execution_count": 7,
     "metadata": {},
     "output_type": "execute_result"
    },
    {
     "data": {
      "image/png": "[encoded data removed]",
      "text/plain": [
       "<Figure size 640x480 with 2 Axes>"
      ]
     },
     "metadata": {},
     "output_type": "display_data"
    }
   ],
   "source": [
    "import seaborn as sns\n",
    "\n",
    "y_pred = cross_val_predict(log, X, y, cv=5)\n",
    "sns.heatmap(confusion_matrix(y, y_pred), annot=True, cmap='Blues', fmt='g')"
   ]
  },
  {
   "cell_type": "code",
   "execution_count": 8,
   "metadata": {},
   "outputs": [],
   "source": [
    "import seaborn as sns\n",
    "\n",
    "#df.corr()\n",
    "#sns.heatmap(df.corr(), annot=True)"
   ]
  }
 ],
 "metadata": {
  "kernelspec": {
   "display_name": "Python 3",
   "language": "python",
   "name": "python3"
  },
  "language_info": {
   "codemirror_mode": {
    "name": "ipython",
    "version": 3
   },
   "file_extension": ".py",
   "mimetype": "text/x-python",
   "name": "python",
   "nbconvert_exporter": "python",
   "pygments_lexer": "ipython3",
   "version": "3.10.10"
  },
  "orig_nbformat": 4
 },
 "nbformat": 4,
 "nbformat_minor": 2
}
