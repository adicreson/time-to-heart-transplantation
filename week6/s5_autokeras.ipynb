{
 "cells": [
  {
   "cell_type": "code",
   "execution_count": 24,
   "outputs": [],
   "source": [
    "import pandas as pd\n",
    "\n",
    "df = pd.read_csv(\"../../Data/m4_imputed.csv\")\n"
   ],
   "metadata": {
    "collapsed": false
   }
  },
  {
   "cell_type": "code",
   "execution_count": 25,
   "outputs": [
    {
     "name": "stdout",
     "output_type": "stream",
     "text": [
      "Median waiting list time: 78.0\n",
      "1    0.501886\n",
      "0    0.498114\n",
      "Name: wl_time, dtype: float64\n"
     ]
    }
   ],
   "source": [
    "median_wl_time = df['wl_time'].median()\n",
    "print(f\"Median waiting list time: {median_wl_time}\")\n",
    "\n",
    "df['wl_time'] = df['wl_time'].apply(lambda x: 0 if x < median_wl_time else 1)\n",
    "print(df['wl_time'].value_counts(normalize=True))"
   ],
   "metadata": {
    "collapsed": false
   }
  },
  {
   "cell_type": "code",
   "execution_count": 26,
   "outputs": [],
   "source": [
    "import keras.backend as K\n",
    "\n",
    "def recall_m(y_true, y_pred):\n",
    "    true_positives = K.sum(K.round(K.clip(y_true * y_pred, 0, 1)))\n",
    "    possible_positives = K.sum(K.round(K.clip(y_true, 0, 1)))\n",
    "    recall = true_positives / (possible_positives + K.epsilon())\n",
    "    return recall\n",
    "\n",
    "def precision_m(y_true, y_pred):\n",
    "    true_positives = K.sum(K.round(K.clip(y_true * y_pred, 0, 1)))\n",
    "    predicted_positives = K.sum(K.round(K.clip(y_pred, 0, 1)))\n",
    "    precision = true_positives / (predicted_positives + K.epsilon())\n",
    "    return precision\n",
    "\n",
    "def f1_score(y_true, y_pred):\n",
    "    precision = precision_m(y_true, y_pred)\n",
    "    recall = recall_m(y_true, y_pred)\n",
    "    return 2*((precision*recall)/(precision+recall+K.epsilon()))"
   ],
   "metadata": {
    "collapsed": false
   }
  },
  {
   "cell_type": "code",
   "execution_count": 27,
   "outputs": [
    {
     "name": "stdout",
     "output_type": "stream",
     "text": [
      "Trial 25 Complete [00h 47m 37s]\n",
      "val_accuracy: 0.6580097079277039\n",
      "\n",
      "Best val_accuracy So Far: 0.7035598754882812\n",
      "Total elapsed time: 02h 40m 01s\n",
      "INFO:tensorflow:Oracle triggered exit\n"
     ]
    },
    {
     "name": "stderr",
     "output_type": "stream",
     "text": [
      "INFO:tensorflow:Oracle triggered exit\n"
     ]
    },
    {
     "name": "stdout",
     "output_type": "stream",
     "text": [
      "Epoch 1/28\n",
      "1936/1936 [==============================] - 4s 2ms/step - loss: 0.6289 - accuracy: 0.6523\n",
      "Epoch 2/28\n",
      "1936/1936 [==============================] - 3s 2ms/step - loss: 0.6070 - accuracy: 0.6743\n",
      "Epoch 3/28\n",
      "1936/1936 [==============================] - 915s 473ms/step - loss: 0.6022 - accuracy: 0.6800\n",
      "Epoch 4/28\n",
      "1936/1936 [==============================] - 3s 2ms/step - loss: 0.5984 - accuracy: 0.6830\n",
      "Epoch 5/28\n",
      "1936/1936 [==============================] - 3s 2ms/step - loss: 0.5958 - accuracy: 0.6843\n",
      "Epoch 6/28\n",
      "1936/1936 [==============================] - 3s 2ms/step - loss: 0.5938 - accuracy: 0.6861\n",
      "Epoch 7/28\n",
      "1936/1936 [==============================] - 921s 476ms/step - loss: 0.5922 - accuracy: 0.6874\n",
      "Epoch 8/28\n",
      "1936/1936 [==============================] - 3s 2ms/step - loss: 0.5908 - accuracy: 0.6886\n",
      "Epoch 9/28\n",
      "1936/1936 [==============================] - 981s 507ms/step - loss: 0.5895 - accuracy: 0.6894\n",
      "Epoch 10/28\n",
      "1936/1936 [==============================] - 3s 2ms/step - loss: 0.5884 - accuracy: 0.6905\n",
      "Epoch 11/28\n",
      "1936/1936 [==============================] - 961s 497ms/step - loss: 0.5873 - accuracy: 0.6909\n",
      "Epoch 12/28\n",
      "1936/1936 [==============================] - 3s 2ms/step - loss: 0.5861 - accuracy: 0.6924\n",
      "Epoch 13/28\n",
      "1936/1936 [==============================] - 1070s 553ms/step - loss: 0.5849 - accuracy: 0.6929\n",
      "Epoch 14/28\n",
      "1936/1936 [==============================] - 3s 2ms/step - loss: 0.5841 - accuracy: 0.6944\n",
      "Epoch 15/28\n",
      "1936/1936 [==============================] - 3s 2ms/step - loss: 0.5830 - accuracy: 0.6950\n",
      "Epoch 16/28\n",
      "1936/1936 [==============================] - 3s 2ms/step - loss: 0.5821 - accuracy: 0.6968\n",
      "Epoch 17/28\n",
      "1936/1936 [==============================] - 968s 500ms/step - loss: 0.5812 - accuracy: 0.6960\n",
      "Epoch 18/28\n",
      "1936/1936 [==============================] - 3s 2ms/step - loss: 0.5804 - accuracy: 0.6971\n",
      "Epoch 19/28\n",
      "1936/1936 [==============================] - 3s 2ms/step - loss: 0.5794 - accuracy: 0.6978\n",
      "Epoch 20/28\n",
      "1936/1936 [==============================] - 3s 2ms/step - loss: 0.5786 - accuracy: 0.6990\n",
      "Epoch 21/28\n",
      "1936/1936 [==============================] - 3s 2ms/step - loss: 0.5775 - accuracy: 0.6994\n",
      "Epoch 22/28\n",
      "1936/1936 [==============================] - 3s 2ms/step - loss: 0.5771 - accuracy: 0.7001\n",
      "Epoch 23/28\n",
      "1936/1936 [==============================] - 3s 2ms/step - loss: 0.5760 - accuracy: 0.7003\n",
      "Epoch 24/28\n",
      "1936/1936 [==============================] - 959s 496ms/step - loss: 0.5751 - accuracy: 0.7012\n",
      "Epoch 25/28\n",
      "1936/1936 [==============================] - 3s 2ms/step - loss: 0.5743 - accuracy: 0.7013\n",
      "Epoch 26/28\n",
      "1936/1936 [==============================] - 958s 495ms/step - loss: 0.5732 - accuracy: 0.7024\n",
      "Epoch 27/28\n",
      "1936/1936 [==============================] - 3s 2ms/step - loss: 0.5720 - accuracy: 0.7034\n",
      "Epoch 28/28\n",
      "1936/1936 [==============================] - 3s 2ms/step - loss: 0.5709 - accuracy: 0.7047\n"
     ]
    },
    {
     "name": "stderr",
     "output_type": "stream",
     "text": [
      "WARNING:absl:Found untraced functions such as _update_step_xla while saving (showing 1 of 1). These functions will not be directly callable after loading.\n"
     ]
    },
    {
     "name": "stdout",
     "output_type": "stream",
     "text": [
      "INFO:tensorflow:Assets written to: ./m4_pre_feat/best_model/assets\n"
     ]
    },
    {
     "name": "stderr",
     "output_type": "stream",
     "text": [
      "INFO:tensorflow:Assets written to: ./m4_pre_feat/best_model/assets\n"
     ]
    },
    {
     "name": "stdout",
     "output_type": "stream",
     "text": [
      "484/484 [==============================] - 1s 1ms/step - loss: 0.5956 - accuracy: 0.6884\n",
      "[0.5956223011016846, 0.6884123682975769]\n",
      "484/484 [==============================] - 1s 1ms/step\n",
      "484/484 [==============================] - 1s 1ms/step\n",
      "F1 score: 0.6759806555615261\n",
      "484/484 [==============================] - 1s 1ms/step\n",
      "484/484 [==============================] - 1s 1ms/step\n",
      "F1 Macro: 0.6879530050636693\n"
     ]
    }
   ],
   "source": [
    "from sklearn.model_selection import train_test_split\n",
    "from autokeras import StructuredDataClassifier\n",
    "from sklearn.metrics import f1_score\n",
    "\n",
    "X = df.drop(columns=['wl_time'])\n",
    "y = df['wl_time']\n",
    "X_train, X_test, y_train, y_test = train_test_split(X, y, test_size=0.2, random_state=42)\n",
    "\n",
    "clf = StructuredDataClassifier(max_trials=25,\n",
    "                               project_name=\"m4_pre_feat\",\n",
    "                               metrics=[\"accuracy\"],\n",
    "                               overwrite=False)\n",
    "\n",
    "clf.fit(X_train, y_train, verbose=1)\n",
    "print(clf.evaluate(X_test, y_test))\n",
    "f1_s = f1_score(y_test, clf.predict(X_test))\n",
    "print(f\"F1 score: {f1_s}\")\n",
    "print(\"F1 Macro:\", f1_score(y_test, clf.predict(X_test), average='macro'))\n"
   ],
   "metadata": {
    "collapsed": false
   }
  },
  {
   "cell_type": "code",
   "execution_count": 27,
   "outputs": [],
   "source": [],
   "metadata": {
    "collapsed": false
   }
  }
 ],
 "metadata": {
  "kernelspec": {
   "display_name": "Python 3",
   "language": "python",
   "name": "python3"
  },
  "language_info": {
   "codemirror_mode": {
    "name": "ipython",
    "version": 2
   },
   "file_extension": ".py",
   "mimetype": "text/x-python",
   "name": "python",
   "nbconvert_exporter": "python",
   "pygments_lexer": "ipython2",
   "version": "2.7.6"
  }
 },
 "nbformat": 4,
 "nbformat_minor": 0
}
