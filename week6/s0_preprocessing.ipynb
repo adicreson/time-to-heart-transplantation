{
 "cells": [
  {
   "cell_type": "code",
   "execution_count": 105,
   "metadata": {
    "collapsed": false
   },
   "outputs": [
    {
     "name": "stderr",
     "output_type": "stream",
     "text": [
      "/var/folders/k_/917q0lsn2g199rm9y4s8jy5h0000gn/T/ipykernel_7440/4113478112.py:10: DtypeWarning: Columns (2,64,91,94,97,106,108,109,110,111,112,114,116,119,120,122,127,139,142,143,144,145,152,153,154,155,156,157,159,160,161,163,164,165,169,170,171,172,175,178,179,180,187,189,215,216,217,218,219,317,318) have mixed types. Specify dtype option on import or set low_memory=False.\n",
      "  df = pd.read_csv(base_csv_path)\n"
     ]
    }
   ],
   "source": [
    "import os\n",
    "import pandas as pd\n",
    "import numpy as np\n",
    "\n",
    "base_dir = \"../Data\"\n",
    "base_csv_path = os.path.join(base_dir, 'base.csv')\n",
    "assert os.path.exists(base_csv_path), f\"base {base_csv_path} does not exist\"\n",
    "\n",
    "output_csv_path = os.path.join(base_dir, 'm4_imputed.csv')\n",
    "df = pd.read_csv(base_csv_path)"
   ]
  },
  {
   "cell_type": "markdown",
   "source": [
    "## Feature selection"
   ],
   "metadata": {
    "collapsed": false
   }
  },
  {
   "cell_type": "code",
   "execution_count": 106,
   "metadata": {
    "collapsed": false
   },
   "outputs": [],
   "source": [
    "# Replace \"ethnicity\" has been replaced with ethcat variable\n",
    "desired_columns = ['thoracic_dgn', 'num_prev_tx', 'tah', 'vas', 'onvent', 'icu', 'inotropic', 'gender', 'abo',\n",
    "                   'wgt_kg_tcr', 'hgt_cm_tcr', 'education', 'ecmo_tcr', 'iabp_tcr', 'inotropes_tcr', 'func_stat_tcr',\n",
    "                   'diab', 'dial_ty_tcr', 'cereb_vasc', 'malig_tcr', 'most_rcnt_creat', 'tot_serum_album',\n",
    "                   'hemo_co_tcr', 'cig_use', 'prior_card_surg_tcr', 'histry_cig_old', 'init_stat', 'init_creat',\n",
    "                   'init_age', 'ethcat', 'init_hgt_cm_calc', 'init_wgt_kg_calc', 'ventilator_tcr', 'lvad_at_listing',\n",
    "                   'rvad_at_listing', 'work_income_tcr', 'academic_level_tcr', 'tx_date', 'init_date']\n",
    "\n",
    "df = df[desired_columns]"
   ]
  },
  {
   "cell_type": "code",
   "execution_count": 107,
   "outputs": [
    {
     "name": "stdout",
     "output_type": "stream",
     "text": [
      "Removed patients under 18: 16205/120264 (13.47% removed)\n"
     ]
    }
   ],
   "source": [
    "# Remove all init_age under 18\n",
    "pre_len = len(df.index)\n",
    "df = df[df['init_age'] >= 18]\n",
    "post_len = len(df.index)\n",
    "print(\n",
    "    f\"Removed patients under 18: {pre_len - post_len}/{pre_len} ({(pre_len - post_len) / pre_len * 100:.2f}% removed)\")"
   ],
   "metadata": {
    "collapsed": false
   }
  },
  {
   "cell_type": "markdown",
   "source": [
    "## Encoding"
   ],
   "metadata": {
    "collapsed": false
   }
  },
  {
   "cell_type": "code",
   "execution_count": 108,
   "metadata": {},
   "outputs": [
    {
     "name": "stdout",
     "output_type": "stream",
     "text": [
      "Number of rows with value 6 in ethcat before replacing values: 357\n",
      "Number of rows with value 6 in ethcat after replacing values: 1336\n"
     ]
    }
   ],
   "source": [
    "print(f'Number of rows with value 6 in ethcat before replacing values: {len(df[df[\"ethcat\"] == 6])}')\n",
    "\n",
    "#1=1 (White), 2=2 (Black), 4=4 (Hispanic), 5=5 (Asian),6=6 (tidigare Amer Ind/Alaskan, kodas nu om till Other) 7=6 (tidigare Native Hawaiian, nu Other) 9=6 (tidigare Multiracial, nu Other)\n",
    "df['ethcat'] = df['ethcat'].replace([7, 9, 998], 6)\n",
    "\n",
    "print(f'Number of rows with value 6 in ethcat after replacing values: {len(df[df[\"ethcat\"] == 6])}')"
   ]
  },
  {
   "cell_type": "code",
   "execution_count": 109,
   "outputs": [],
   "source": [
    "# Encode education\n",
    "\n",
    "df['education'] = df['education'].replace([2, 3], 1)  # High school or less\n",
    "df['education'] = df['education'].replace([4], 2)  # Some college\n",
    "df['education'] = df['education'].replace([5, 6], 3)  # College or graduate\n",
    "df['education'] = df['education'].replace([996, 998], np.nan)"
   ],
   "metadata": {
    "collapsed": false
   }
  },
  {
   "cell_type": "code",
   "execution_count": 110,
   "outputs": [],
   "source": [
    "# Encode init_stat: label define status 1 \"Status 1A\" 2 \"Status 1B\" 3 \"Status 2\" 4 \"Temp inactive\"\n",
    "\n",
    "df[\"init_stat\"] = df[\"init_stat\"].replace([2010, 2110, 2120, 2130, 2090], 1)\n",
    "df[\"init_stat\"] = df[\"init_stat\"].replace([2020, 2140], 2)\n",
    "df[\"init_stat\"] = df[\"init_stat\"].replace([2030, 2150, 2160], 3)\n",
    "df[\"init_stat\"] = df[\"init_stat\"].replace([2999], 4)"
   ],
   "metadata": {
    "collapsed": false
   }
  },
  {
   "cell_type": "code",
   "execution_count": 111,
   "outputs": [],
   "source": [
    "import numpy as np\n",
    "\n",
    "# Encode thoracic_dgn: label define diag 1 \"Cardiomyopathy\" 2 \"CAD\" 3 \"Valvular heart disease\" 4 \"Graft failure\" 5 \"Congenital\" 7 \"Other\"\n",
    "df[\"thoracic_dgn\"] = df[\"thoracic_dgn\"].replace(range(1000, 1099 + 1), 1)\n",
    "df[\"thoracic_dgn\"] = df[\"thoracic_dgn\"].replace([1201], 1)\n",
    "df[\"thoracic_dgn\"] = df[\"thoracic_dgn\"].replace([1007, 1200], 2)\n",
    "df[\"thoracic_dgn\"] = df[\"thoracic_dgn\"].replace([1202], 3)\n",
    "df[\"thoracic_dgn\"] = df[\"thoracic_dgn\"].replace(range(1100, 1199 + 1), 4)\n",
    "df[\"thoracic_dgn\"] = df[\"thoracic_dgn\"].replace(range(1203, 1207 + 1), 5)\n",
    "df[\"thoracic_dgn\"] = df[\"thoracic_dgn\"].replace([1208, 1209, 999, 1497, 1498], 7)\n",
    "df[\"thoracic_dgn\"] = df[\"thoracic_dgn\"].replace([1999], np.nan)"
   ],
   "metadata": {
    "collapsed": false
   }
  },
  {
   "cell_type": "code",
   "execution_count": 112,
   "outputs": [],
   "source": [
    "df[\"func_stat_tcr\"] = df[\"func_stat_tcr\"].replace([2010, 2020, 2030, 2040, 2050, 4010, 4020, 4030, 4040, 4050], 3)\n",
    "df[\"func_stat_tcr\"] = df[\"func_stat_tcr\"].replace([2060, 2070, 2080, 4060, 4070, 4080], 2)\n",
    "df[\"func_stat_tcr\"] = df[\"func_stat_tcr\"].replace([2090, 2100, 4090, 4100], 1)\n",
    "df[\"func_stat_tcr\"] = df[\"func_stat_tcr\"].replace([996, 998], np.nan)"
   ],
   "metadata": {
    "collapsed": false
   }
  },
  {
   "cell_type": "code",
   "execution_count": 113,
   "outputs": [],
   "source": [
    "df[\"abo\"] = df[\"abo\"].replace([\"A\", \"A1\", \"A2\"], 1)\n",
    "df[\"abo\"] = df[\"abo\"].replace([\"B\"], 2)\n",
    "df[\"abo\"] = df[\"abo\"].replace([\"AB\", \"A1B\", \"A2B\"], 3)\n",
    "df[\"abo\"] = df[\"abo\"].replace([\"O\"], 4)"
   ],
   "metadata": {
    "collapsed": false
   }
  },
  {
   "cell_type": "code",
   "execution_count": 114,
   "outputs": [],
   "source": [
    "df[\"diab\"] = df[\"diab\"].replace([996, 998], np.nan)\n",
    "df[\"dial_ty_tcr\"] = df[\"dial_ty_tcr\"].replace([996, 998, 999], np.nan)\n",
    "df[\"academic_level_tcr\"] = df[\"academic_level_tcr\"].replace([996, 998], np.nan)"
   ],
   "metadata": {
    "collapsed": false
   }
  },
  {
   "cell_type": "markdown",
   "source": [
    "## Cleaning"
   ],
   "metadata": {
    "collapsed": false
   }
  },
  {
   "cell_type": "code",
   "execution_count": 115,
   "metadata": {
    "collapsed": false
   },
   "outputs": [
    {
     "name": "stdout",
     "output_type": "stream",
     "text": [
      "Filtered to only transplanted patients: 66880/104059 (64.27% remaining)\n",
      "Mean waitlist time: 87.00 days\n"
     ]
    }
   ],
   "source": [
    "# Remove rows with no transplant date\n",
    "pre_len = len(df.index)\n",
    "df = df[df['tx_date'].notna()]\n",
    "post_len = len(df.index)\n",
    "\n",
    "print(f\"Filtered to only transplanted patients: {post_len}/{pre_len} ({post_len / pre_len * 100:.2f}% remaining)\")\n",
    "\n",
    "# Compute the time to transplant (waitlist time -> wl_time)\n",
    "df['wl_time'] = (\n",
    "        pd.to_datetime(df['tx_date'], format='%d%b%Y') - pd.to_datetime(df['init_date'], format='%d%b%Y')).dt.days\n",
    "df = df.drop(columns=['tx_date', 'init_date'])\n",
    "print(f\"Mean waitlist time: {df['wl_time'].median():.2f} days\")\n"
   ]
  },
  {
   "cell_type": "code",
   "execution_count": 116,
   "metadata": {
    "collapsed": false
   },
   "outputs": [
    {
     "name": "stdout",
     "output_type": "stream",
     "text": [
      "Removed columns with all missing values: 1/38 (2.63% removed)\n",
      "Removed columns with no variance: 2/37 (5.41% removed)\n"
     ]
    }
   ],
   "source": [
    "# Remove columns where all values are missing\n",
    "pre_len = len(df.columns)\n",
    "df = df.dropna(axis=1, how='all')\n",
    "post_len = len(df.columns)\n",
    "print(\n",
    "    f\"Removed columns with all missing values: {pre_len - post_len}/{pre_len} ({(pre_len - post_len) / pre_len * 100:.2f}% removed)\")\n",
    "\n",
    "# Remove columns where there is no variance\n",
    "pre_len = len(df.columns)\n",
    "df = df.loc[:, df.nunique() != 1]\n",
    "post_len = len(df.columns)\n",
    "print(\n",
    "    f\"Removed columns with no variance: {pre_len - post_len}/{pre_len} ({(pre_len - post_len) / pre_len * 100:.2f}% removed)\")\n"
   ]
  },
  {
   "cell_type": "code",
   "execution_count": 117,
   "outputs": [
    {
     "name": "stdout",
     "output_type": "stream",
     "text": [
      "Removed patients with weight under 30kg or over 250kg: 842/66880 (1.26% removed)\n",
      "Removed patients with height under 140cm or over 210cm: 436/66038 (0.66% removed)\n",
      "Removed patients with creatinine under 0.3 or over 20: 22807/65602 (34.77% removed)\n",
      "Removed patients with albumin under 2 or over 7.5: 17256/42795 (40.32% removed)\n",
      "Removed patients with cardiac output under 1 or over 20: 2055/25539 (8.05% removed)\n"
     ]
    }
   ],
   "source": [
    "# Remove weights under 30kg and over 250kg\n",
    "pre_len = len(df.index)\n",
    "df = df[df['init_wgt_kg_calc'] >= 30]\n",
    "df = df[df['wgt_kg_tcr'] >= 30]\n",
    "df = df[df['init_wgt_kg_calc'] <= 250]\n",
    "df = df[df['wgt_kg_tcr'] <= 250]\n",
    "post_len = len(df.index)\n",
    "print(\n",
    "    f\"Removed patients with weight under 30kg or over 250kg: {pre_len - post_len}/{pre_len} ({(pre_len - post_len) / pre_len * 100:.2f}% removed)\")\n",
    "\n",
    "# Remove heights under 140cm and over 210cm\n",
    "pre_len = len(df.index)\n",
    "df = df[df['init_hgt_cm_calc'] >= 140]\n",
    "df = df[df['hgt_cm_tcr'] >= 140]\n",
    "df = df[df['init_hgt_cm_calc'] <= 210]\n",
    "df = df[df['hgt_cm_tcr'] <= 210]\n",
    "post_len = len(df.index)\n",
    "print(\n",
    "    f\"Removed patients with height under 140cm or over 210cm: {pre_len - post_len}/{pre_len} ({(pre_len - post_len) / pre_len * 100:.2f}% removed)\")\n",
    "\n",
    "# Remove patients with creatinine under 0.3 and over 20 - keep missing values\n",
    "pre_len = len(df.index)\n",
    "df = df[df['most_rcnt_creat'] >= 0.3]\n",
    "df = df[df['most_rcnt_creat'] <= 20]\n",
    "post_len = len(df.index)\n",
    "print(\n",
    "    f\"Removed patients with creatinine under 0.3 or over 20: {pre_len - post_len}/{pre_len} ({(pre_len - post_len) / pre_len * 100:.2f}% removed)\")\n",
    "\n",
    "# Remove patients with albumin under 2 and over 7.5\n",
    "pre_len = len(df.index)\n",
    "df = df[df['tot_serum_album'] >= 2]\n",
    "df = df[df['tot_serum_album'] <= 7.5]\n",
    "post_len = len(df.index)\n",
    "print(\n",
    "    f\"Removed patients with albumin under 2 or over 7.5: {pre_len - post_len}/{pre_len} ({(pre_len - post_len) / pre_len * 100:.2f}% removed)\")\n",
    "\n",
    "# Remove cardiac output under 1 and over 20\n",
    "pre_len = len(df.index)\n",
    "df = df[df['hemo_co_tcr'] >= 1]\n",
    "df = df[df['hemo_co_tcr'] <= 15]\n",
    "post_len = len(df.index)\n",
    "print(\n",
    "    f\"Removed patients with cardiac output under 1 or over 20: {pre_len - post_len}/{pre_len} ({(pre_len - post_len) / pre_len * 100:.2f}% removed)\")"
   ],
   "metadata": {
    "collapsed": false
   }
  },
  {
   "cell_type": "code",
   "execution_count": 118,
   "metadata": {},
   "outputs": [],
   "source": [
    "#Creat\n",
    "output_csv_path_cleaned = os.path.join(base_dir, 'base_cleaned.csv')\n",
    "df.to_csv(output_csv_path_cleaned, index=False)"
   ]
  },
  {
   "cell_type": "code",
   "execution_count": 119,
   "metadata": {
    "collapsed": false
   },
   "outputs": [
    {
     "name": "stdout",
     "output_type": "stream",
     "text": [
      "Number of categorical columns: 26\n",
      "Categorical columns: ['thoracic_dgn', 'num_prev_tx', 'tah', 'vas', 'onvent', 'icu', 'inotropic', 'gender', 'abo', 'education', 'ecmo_tcr', 'iabp_tcr', 'inotropes_tcr', 'func_stat_tcr', 'diab', 'dial_ty_tcr', 'cereb_vasc', 'malig_tcr', 'cig_use', 'prior_card_surg_tcr', 'histry_cig_old', 'init_stat', 'ethcat', 'ventilator_tcr', 'work_income_tcr', 'academic_level_tcr']\n",
      "thoracic_dgn: [ 1.  2.  4.  3.  7.  5. nan]\n",
      "num_prev_tx: [ 0  1  2  3  6 10  5  4]\n",
      "tah: [nan 'N']\n",
      "vas: [nan 'N' 'Y']\n",
      "onvent: [nan 'N' 'Y']\n",
      "icu: [nan 'Y' 'N']\n",
      "inotropic: [nan 'Y' 'N']\n",
      "gender: ['M' 'F']\n",
      "abo: [4 2 3 1]\n",
      "education: [ 3.  2.  1. nan]\n",
      "ecmo_tcr: [0 1]\n",
      "iabp_tcr: [0 1]\n",
      "inotropes_tcr: [1 0]\n",
      "func_stat_tcr: [ 3.  2. nan  1.]\n",
      "diab: [ 1.  3.  5.  2. nan  4.]\n",
      "dial_ty_tcr: [ 1.  2. nan  3.]\n",
      "cereb_vasc: ['N' 'Y' 'U']\n",
      "malig_tcr: ['N' 'Y' 'U']\n",
      "cig_use: ['Y' nan 'N']\n",
      "prior_card_surg_tcr: ['Y' 'U' 'N' nan]\n",
      "histry_cig_old: [nan 'Y' 'U' 'N']\n",
      "init_stat: [ 3.  2.  1.  4. nan]\n",
      "ethcat: [1 2 4 6 5]\n",
      "ventilator_tcr: [0 1]\n",
      "work_income_tcr: ['N' nan 'Y' 'U']\n",
      "academic_level_tcr: [nan  1.  3.  2.]\n"
     ]
    }
   ],
   "source": [
    "# Find the categorical columns using nunique\n",
    "categorical_columns = df.nunique()[df.nunique() < 20].index.tolist()\n",
    "categorical_column_indexes = [df.columns.get_loc(c) for c in categorical_columns if c in df]\n",
    "\n",
    "# Print the number of categorical columns\n",
    "print(f\"Number of categorical columns: {len(categorical_columns)}\")\n",
    "print(f\"Categorical columns: {categorical_columns}\")\n",
    "\n",
    "# print unique values in each categorical column\n",
    "for col in categorical_columns:\n",
    "    print(f\"{col}: {df[col].unique()}\")"
   ]
  },
  {
   "cell_type": "code",
   "execution_count": 120,
   "outputs": [
    {
     "name": "stdout",
     "output_type": "stream",
     "text": [
      "thoracic_dgn: 7\n",
      "num_prev_tx: 8\n",
      "tah: 2\n",
      "vas: 3\n",
      "onvent: 3\n",
      "icu: 3\n",
      "inotropic: 3\n",
      "gender: 2\n",
      "abo: 4\n",
      "education: 4\n",
      "ecmo_tcr: 2\n",
      "iabp_tcr: 2\n",
      "inotropes_tcr: 2\n",
      "func_stat_tcr: 4\n",
      "diab: 6\n",
      "dial_ty_tcr: 4\n",
      "cereb_vasc: 3\n",
      "malig_tcr: 3\n",
      "cig_use: 3\n",
      "prior_card_surg_tcr: 4\n",
      "histry_cig_old: 4\n",
      "init_stat: 5\n",
      "ethcat: 5\n",
      "ventilator_tcr: 2\n",
      "work_income_tcr: 4\n",
      "academic_level_tcr: 4\n",
      "wgt_kg_tcr: 31.752 - 177.8082 (0 missing)\n",
      "hgt_cm_tcr: 141.0 - 208.28 (0 missing)\n",
      "most_rcnt_creat: 0.3 - 19.5 (0 missing)\n",
      "tot_serum_album: 2.0 - 7.5 (0 missing)\n",
      "hemo_co_tcr: 1.0 - 15.0 (0 missing)\n",
      "init_age: 18.0 - 77.0 (0 missing)\n",
      "init_hgt_cm_calc: 141.0 - 208.28 (0 missing)\n",
      "init_wgt_kg_calc: 31.752 - 177.8082 (0 missing)\n",
      "wl_time: 0 - 5152 (0 missing)\n"
     ]
    }
   ],
   "source": [
    "# print all categorical columns and their amount of unique values\n",
    "for col in categorical_columns:\n",
    "    print(f\"{col}: {len(df[col].unique())}\")\n",
    "\n",
    "# print all min and max values for each column\n",
    "numerical_columns = [col for col in df.columns if col not in categorical_columns]\n",
    "for col in numerical_columns:\n",
    "    amount_missing = df[col].isna().sum()\n",
    "    print(f\"{col}: {df[col].min()} - {df[col].max()} ({amount_missing} missing)\")"
   ],
   "metadata": {
    "collapsed": false
   }
  },
  {
   "cell_type": "code",
   "execution_count": 121,
   "metadata": {
    "collapsed": false
   },
   "outputs": [
    {
     "name": "stderr",
     "output_type": "stream",
     "text": [
      "/opt/homebrew/anaconda3/envs/edap01/lib/python3.10/site-packages/missingpy/missforest.py:475: FutureWarning: Unlike other reduction functions (e.g. `skew`, `kurtosis`), the default behavior of `mode` typically preserves the axis it acts along. In SciPy 1.11.0, this behavior will change: the default value of `keepdims` will become False, the `axis` over which the statistic is taken will be eliminated, and the value None will no longer be accepted. Set `keepdims` to True or False to avoid this warning.\n",
      "  col_modes = mode(\n",
      "/opt/homebrew/anaconda3/envs/edap01/lib/python3.10/site-packages/sklearn/ensemble/_forest.py:427: FutureWarning: `max_features='auto'` has been deprecated in 1.1 and will be removed in 1.3. To keep the past behaviour, explicitly set `max_features='sqrt'` or remove this parameter as it is also the default value for RandomForestClassifiers and ExtraTreesClassifiers.\n",
      "  warn(\n",
      "/opt/homebrew/anaconda3/envs/edap01/lib/python3.10/site-packages/sklearn/ensemble/_forest.py:427: FutureWarning: `max_features='auto'` has been deprecated in 1.1 and will be removed in 1.3. To keep the past behaviour, explicitly set `max_features='sqrt'` or remove this parameter as it is also the default value for RandomForestClassifiers and ExtraTreesClassifiers.\n",
      "  warn(\n",
      "/opt/homebrew/anaconda3/envs/edap01/lib/python3.10/site-packages/sklearn/ensemble/_forest.py:427: FutureWarning: `max_features='auto'` has been deprecated in 1.1 and will be removed in 1.3. To keep the past behaviour, explicitly set `max_features='sqrt'` or remove this parameter as it is also the default value for RandomForestClassifiers and ExtraTreesClassifiers.\n",
      "  warn(\n",
      "/opt/homebrew/anaconda3/envs/edap01/lib/python3.10/site-packages/sklearn/ensemble/_forest.py:427: FutureWarning: `max_features='auto'` has been deprecated in 1.1 and will be removed in 1.3. To keep the past behaviour, explicitly set `max_features='sqrt'` or remove this parameter as it is also the default value for RandomForestClassifiers and ExtraTreesClassifiers.\n",
      "  warn(\n",
      "/opt/homebrew/anaconda3/envs/edap01/lib/python3.10/site-packages/sklearn/ensemble/_forest.py:427: FutureWarning: `max_features='auto'` has been deprecated in 1.1 and will be removed in 1.3. To keep the past behaviour, explicitly set `max_features='sqrt'` or remove this parameter as it is also the default value for RandomForestClassifiers and ExtraTreesClassifiers.\n",
      "  warn(\n",
      "/opt/homebrew/anaconda3/envs/edap01/lib/python3.10/site-packages/sklearn/ensemble/_forest.py:427: FutureWarning: `max_features='auto'` has been deprecated in 1.1 and will be removed in 1.3. To keep the past behaviour, explicitly set `max_features='sqrt'` or remove this parameter as it is also the default value for RandomForestClassifiers and ExtraTreesClassifiers.\n",
      "  warn(\n",
      "/opt/homebrew/anaconda3/envs/edap01/lib/python3.10/site-packages/sklearn/ensemble/_forest.py:427: FutureWarning: `max_features='auto'` has been deprecated in 1.1 and will be removed in 1.3. To keep the past behaviour, explicitly set `max_features='sqrt'` or remove this parameter as it is also the default value for RandomForestClassifiers and ExtraTreesClassifiers.\n",
      "  warn(\n",
      "/opt/homebrew/anaconda3/envs/edap01/lib/python3.10/site-packages/sklearn/ensemble/_forest.py:427: FutureWarning: `max_features='auto'` has been deprecated in 1.1 and will be removed in 1.3. To keep the past behaviour, explicitly set `max_features='sqrt'` or remove this parameter as it is also the default value for RandomForestClassifiers and ExtraTreesClassifiers.\n",
      "  warn(\n",
      "/opt/homebrew/anaconda3/envs/edap01/lib/python3.10/site-packages/sklearn/ensemble/_forest.py:427: FutureWarning: `max_features='auto'` has been deprecated in 1.1 and will be removed in 1.3. To keep the past behaviour, explicitly set `max_features='sqrt'` or remove this parameter as it is also the default value for RandomForestClassifiers and ExtraTreesClassifiers.\n",
      "  warn(\n",
      "/opt/homebrew/anaconda3/envs/edap01/lib/python3.10/site-packages/sklearn/ensemble/_forest.py:427: FutureWarning: `max_features='auto'` has been deprecated in 1.1 and will be removed in 1.3. To keep the past behaviour, explicitly set `max_features='sqrt'` or remove this parameter as it is also the default value for RandomForestClassifiers and ExtraTreesClassifiers.\n",
      "  warn(\n",
      "/opt/homebrew/anaconda3/envs/edap01/lib/python3.10/site-packages/sklearn/ensemble/_forest.py:427: FutureWarning: `max_features='auto'` has been deprecated in 1.1 and will be removed in 1.3. To keep the past behaviour, explicitly set `max_features='sqrt'` or remove this parameter as it is also the default value for RandomForestClassifiers and ExtraTreesClassifiers.\n",
      "  warn(\n",
      "/opt/homebrew/anaconda3/envs/edap01/lib/python3.10/site-packages/sklearn/ensemble/_forest.py:427: FutureWarning: `max_features='auto'` has been deprecated in 1.1 and will be removed in 1.3. To keep the past behaviour, explicitly set `max_features='sqrt'` or remove this parameter as it is also the default value for RandomForestClassifiers and ExtraTreesClassifiers.\n",
      "  warn(\n",
      "/opt/homebrew/anaconda3/envs/edap01/lib/python3.10/site-packages/sklearn/ensemble/_forest.py:427: FutureWarning: `max_features='auto'` has been deprecated in 1.1 and will be removed in 1.3. To keep the past behaviour, explicitly set `max_features='sqrt'` or remove this parameter as it is also the default value for RandomForestClassifiers and ExtraTreesClassifiers.\n",
      "  warn(\n",
      "/opt/homebrew/anaconda3/envs/edap01/lib/python3.10/site-packages/sklearn/ensemble/_forest.py:427: FutureWarning: `max_features='auto'` has been deprecated in 1.1 and will be removed in 1.3. To keep the past behaviour, explicitly set `max_features='sqrt'` or remove this parameter as it is also the default value for RandomForestClassifiers and ExtraTreesClassifiers.\n",
      "  warn(\n",
      "/opt/homebrew/anaconda3/envs/edap01/lib/python3.10/site-packages/sklearn/ensemble/_forest.py:427: FutureWarning: `max_features='auto'` has been deprecated in 1.1 and will be removed in 1.3. To keep the past behaviour, explicitly set `max_features='sqrt'` or remove this parameter as it is also the default value for RandomForestClassifiers and ExtraTreesClassifiers.\n",
      "  warn(\n",
      "/opt/homebrew/anaconda3/envs/edap01/lib/python3.10/site-packages/sklearn/ensemble/_forest.py:427: FutureWarning: `max_features='auto'` has been deprecated in 1.1 and will be removed in 1.3. To keep the past behaviour, explicitly set `max_features='sqrt'` or remove this parameter as it is also the default value for RandomForestClassifiers and ExtraTreesClassifiers.\n",
      "  warn(\n"
     ]
    },
    {
     "name": "stdout",
     "output_type": "stream",
     "text": [
      "Iteration: 0\n"
     ]
    },
    {
     "name": "stderr",
     "output_type": "stream",
     "text": [
      "/opt/homebrew/anaconda3/envs/edap01/lib/python3.10/site-packages/sklearn/ensemble/_forest.py:427: FutureWarning: `max_features='auto'` has been deprecated in 1.1 and will be removed in 1.3. To keep the past behaviour, explicitly set `max_features='sqrt'` or remove this parameter as it is also the default value for RandomForestClassifiers and ExtraTreesClassifiers.\n",
      "  warn(\n",
      "/opt/homebrew/anaconda3/envs/edap01/lib/python3.10/site-packages/sklearn/ensemble/_forest.py:427: FutureWarning: `max_features='auto'` has been deprecated in 1.1 and will be removed in 1.3. To keep the past behaviour, explicitly set `max_features='sqrt'` or remove this parameter as it is also the default value for RandomForestClassifiers and ExtraTreesClassifiers.\n",
      "  warn(\n",
      "/opt/homebrew/anaconda3/envs/edap01/lib/python3.10/site-packages/sklearn/ensemble/_forest.py:427: FutureWarning: `max_features='auto'` has been deprecated in 1.1 and will be removed in 1.3. To keep the past behaviour, explicitly set `max_features='sqrt'` or remove this parameter as it is also the default value for RandomForestClassifiers and ExtraTreesClassifiers.\n",
      "  warn(\n",
      "/opt/homebrew/anaconda3/envs/edap01/lib/python3.10/site-packages/sklearn/ensemble/_forest.py:427: FutureWarning: `max_features='auto'` has been deprecated in 1.1 and will be removed in 1.3. To keep the past behaviour, explicitly set `max_features='sqrt'` or remove this parameter as it is also the default value for RandomForestClassifiers and ExtraTreesClassifiers.\n",
      "  warn(\n",
      "/opt/homebrew/anaconda3/envs/edap01/lib/python3.10/site-packages/sklearn/ensemble/_forest.py:427: FutureWarning: `max_features='auto'` has been deprecated in 1.1 and will be removed in 1.3. To keep the past behaviour, explicitly set `max_features='sqrt'` or remove this parameter as it is also the default value for RandomForestClassifiers and ExtraTreesClassifiers.\n",
      "  warn(\n",
      "/opt/homebrew/anaconda3/envs/edap01/lib/python3.10/site-packages/sklearn/ensemble/_forest.py:427: FutureWarning: `max_features='auto'` has been deprecated in 1.1 and will be removed in 1.3. To keep the past behaviour, explicitly set `max_features='sqrt'` or remove this parameter as it is also the default value for RandomForestClassifiers and ExtraTreesClassifiers.\n",
      "  warn(\n",
      "/opt/homebrew/anaconda3/envs/edap01/lib/python3.10/site-packages/sklearn/ensemble/_forest.py:427: FutureWarning: `max_features='auto'` has been deprecated in 1.1 and will be removed in 1.3. To keep the past behaviour, explicitly set `max_features='sqrt'` or remove this parameter as it is also the default value for RandomForestClassifiers and ExtraTreesClassifiers.\n",
      "  warn(\n",
      "/opt/homebrew/anaconda3/envs/edap01/lib/python3.10/site-packages/sklearn/ensemble/_forest.py:427: FutureWarning: `max_features='auto'` has been deprecated in 1.1 and will be removed in 1.3. To keep the past behaviour, explicitly set `max_features='sqrt'` or remove this parameter as it is also the default value for RandomForestClassifiers and ExtraTreesClassifiers.\n",
      "  warn(\n",
      "/opt/homebrew/anaconda3/envs/edap01/lib/python3.10/site-packages/sklearn/ensemble/_forest.py:427: FutureWarning: `max_features='auto'` has been deprecated in 1.1 and will be removed in 1.3. To keep the past behaviour, explicitly set `max_features='sqrt'` or remove this parameter as it is also the default value for RandomForestClassifiers and ExtraTreesClassifiers.\n",
      "  warn(\n",
      "/opt/homebrew/anaconda3/envs/edap01/lib/python3.10/site-packages/sklearn/ensemble/_forest.py:427: FutureWarning: `max_features='auto'` has been deprecated in 1.1 and will be removed in 1.3. To keep the past behaviour, explicitly set `max_features='sqrt'` or remove this parameter as it is also the default value for RandomForestClassifiers and ExtraTreesClassifiers.\n",
      "  warn(\n",
      "/opt/homebrew/anaconda3/envs/edap01/lib/python3.10/site-packages/sklearn/ensemble/_forest.py:427: FutureWarning: `max_features='auto'` has been deprecated in 1.1 and will be removed in 1.3. To keep the past behaviour, explicitly set `max_features='sqrt'` or remove this parameter as it is also the default value for RandomForestClassifiers and ExtraTreesClassifiers.\n",
      "  warn(\n",
      "/opt/homebrew/anaconda3/envs/edap01/lib/python3.10/site-packages/sklearn/ensemble/_forest.py:427: FutureWarning: `max_features='auto'` has been deprecated in 1.1 and will be removed in 1.3. To keep the past behaviour, explicitly set `max_features='sqrt'` or remove this parameter as it is also the default value for RandomForestClassifiers and ExtraTreesClassifiers.\n",
      "  warn(\n",
      "/opt/homebrew/anaconda3/envs/edap01/lib/python3.10/site-packages/sklearn/ensemble/_forest.py:427: FutureWarning: `max_features='auto'` has been deprecated in 1.1 and will be removed in 1.3. To keep the past behaviour, explicitly set `max_features='sqrt'` or remove this parameter as it is also the default value for RandomForestClassifiers and ExtraTreesClassifiers.\n",
      "  warn(\n",
      "/opt/homebrew/anaconda3/envs/edap01/lib/python3.10/site-packages/sklearn/ensemble/_forest.py:427: FutureWarning: `max_features='auto'` has been deprecated in 1.1 and will be removed in 1.3. To keep the past behaviour, explicitly set `max_features='sqrt'` or remove this parameter as it is also the default value for RandomForestClassifiers and ExtraTreesClassifiers.\n",
      "  warn(\n",
      "/opt/homebrew/anaconda3/envs/edap01/lib/python3.10/site-packages/sklearn/ensemble/_forest.py:427: FutureWarning: `max_features='auto'` has been deprecated in 1.1 and will be removed in 1.3. To keep the past behaviour, explicitly set `max_features='sqrt'` or remove this parameter as it is also the default value for RandomForestClassifiers and ExtraTreesClassifiers.\n",
      "  warn(\n",
      "/opt/homebrew/anaconda3/envs/edap01/lib/python3.10/site-packages/sklearn/ensemble/_forest.py:427: FutureWarning: `max_features='auto'` has been deprecated in 1.1 and will be removed in 1.3. To keep the past behaviour, explicitly set `max_features='sqrt'` or remove this parameter as it is also the default value for RandomForestClassifiers and ExtraTreesClassifiers.\n",
      "  warn(\n"
     ]
    },
    {
     "name": "stdout",
     "output_type": "stream",
     "text": [
      "Iteration: 1\n"
     ]
    },
    {
     "name": "stderr",
     "output_type": "stream",
     "text": [
      "/opt/homebrew/anaconda3/envs/edap01/lib/python3.10/site-packages/sklearn/ensemble/_forest.py:427: FutureWarning: `max_features='auto'` has been deprecated in 1.1 and will be removed in 1.3. To keep the past behaviour, explicitly set `max_features='sqrt'` or remove this parameter as it is also the default value for RandomForestClassifiers and ExtraTreesClassifiers.\n",
      "  warn(\n",
      "/opt/homebrew/anaconda3/envs/edap01/lib/python3.10/site-packages/sklearn/ensemble/_forest.py:427: FutureWarning: `max_features='auto'` has been deprecated in 1.1 and will be removed in 1.3. To keep the past behaviour, explicitly set `max_features='sqrt'` or remove this parameter as it is also the default value for RandomForestClassifiers and ExtraTreesClassifiers.\n",
      "  warn(\n",
      "/opt/homebrew/anaconda3/envs/edap01/lib/python3.10/site-packages/sklearn/ensemble/_forest.py:427: FutureWarning: `max_features='auto'` has been deprecated in 1.1 and will be removed in 1.3. To keep the past behaviour, explicitly set `max_features='sqrt'` or remove this parameter as it is also the default value for RandomForestClassifiers and ExtraTreesClassifiers.\n",
      "  warn(\n",
      "/opt/homebrew/anaconda3/envs/edap01/lib/python3.10/site-packages/sklearn/ensemble/_forest.py:427: FutureWarning: `max_features='auto'` has been deprecated in 1.1 and will be removed in 1.3. To keep the past behaviour, explicitly set `max_features='sqrt'` or remove this parameter as it is also the default value for RandomForestClassifiers and ExtraTreesClassifiers.\n",
      "  warn(\n",
      "/opt/homebrew/anaconda3/envs/edap01/lib/python3.10/site-packages/sklearn/ensemble/_forest.py:427: FutureWarning: `max_features='auto'` has been deprecated in 1.1 and will be removed in 1.3. To keep the past behaviour, explicitly set `max_features='sqrt'` or remove this parameter as it is also the default value for RandomForestClassifiers and ExtraTreesClassifiers.\n",
      "  warn(\n",
      "/opt/homebrew/anaconda3/envs/edap01/lib/python3.10/site-packages/sklearn/ensemble/_forest.py:427: FutureWarning: `max_features='auto'` has been deprecated in 1.1 and will be removed in 1.3. To keep the past behaviour, explicitly set `max_features='sqrt'` or remove this parameter as it is also the default value for RandomForestClassifiers and ExtraTreesClassifiers.\n",
      "  warn(\n",
      "/opt/homebrew/anaconda3/envs/edap01/lib/python3.10/site-packages/sklearn/ensemble/_forest.py:427: FutureWarning: `max_features='auto'` has been deprecated in 1.1 and will be removed in 1.3. To keep the past behaviour, explicitly set `max_features='sqrt'` or remove this parameter as it is also the default value for RandomForestClassifiers and ExtraTreesClassifiers.\n",
      "  warn(\n",
      "/opt/homebrew/anaconda3/envs/edap01/lib/python3.10/site-packages/sklearn/ensemble/_forest.py:427: FutureWarning: `max_features='auto'` has been deprecated in 1.1 and will be removed in 1.3. To keep the past behaviour, explicitly set `max_features='sqrt'` or remove this parameter as it is also the default value for RandomForestClassifiers and ExtraTreesClassifiers.\n",
      "  warn(\n",
      "/opt/homebrew/anaconda3/envs/edap01/lib/python3.10/site-packages/sklearn/ensemble/_forest.py:427: FutureWarning: `max_features='auto'` has been deprecated in 1.1 and will be removed in 1.3. To keep the past behaviour, explicitly set `max_features='sqrt'` or remove this parameter as it is also the default value for RandomForestClassifiers and ExtraTreesClassifiers.\n",
      "  warn(\n",
      "/opt/homebrew/anaconda3/envs/edap01/lib/python3.10/site-packages/sklearn/ensemble/_forest.py:427: FutureWarning: `max_features='auto'` has been deprecated in 1.1 and will be removed in 1.3. To keep the past behaviour, explicitly set `max_features='sqrt'` or remove this parameter as it is also the default value for RandomForestClassifiers and ExtraTreesClassifiers.\n",
      "  warn(\n",
      "/opt/homebrew/anaconda3/envs/edap01/lib/python3.10/site-packages/sklearn/ensemble/_forest.py:427: FutureWarning: `max_features='auto'` has been deprecated in 1.1 and will be removed in 1.3. To keep the past behaviour, explicitly set `max_features='sqrt'` or remove this parameter as it is also the default value for RandomForestClassifiers and ExtraTreesClassifiers.\n",
      "  warn(\n",
      "/opt/homebrew/anaconda3/envs/edap01/lib/python3.10/site-packages/sklearn/ensemble/_forest.py:427: FutureWarning: `max_features='auto'` has been deprecated in 1.1 and will be removed in 1.3. To keep the past behaviour, explicitly set `max_features='sqrt'` or remove this parameter as it is also the default value for RandomForestClassifiers and ExtraTreesClassifiers.\n",
      "  warn(\n",
      "/opt/homebrew/anaconda3/envs/edap01/lib/python3.10/site-packages/sklearn/ensemble/_forest.py:427: FutureWarning: `max_features='auto'` has been deprecated in 1.1 and will be removed in 1.3. To keep the past behaviour, explicitly set `max_features='sqrt'` or remove this parameter as it is also the default value for RandomForestClassifiers and ExtraTreesClassifiers.\n",
      "  warn(\n",
      "/opt/homebrew/anaconda3/envs/edap01/lib/python3.10/site-packages/sklearn/ensemble/_forest.py:427: FutureWarning: `max_features='auto'` has been deprecated in 1.1 and will be removed in 1.3. To keep the past behaviour, explicitly set `max_features='sqrt'` or remove this parameter as it is also the default value for RandomForestClassifiers and ExtraTreesClassifiers.\n",
      "  warn(\n",
      "/opt/homebrew/anaconda3/envs/edap01/lib/python3.10/site-packages/sklearn/ensemble/_forest.py:427: FutureWarning: `max_features='auto'` has been deprecated in 1.1 and will be removed in 1.3. To keep the past behaviour, explicitly set `max_features='sqrt'` or remove this parameter as it is also the default value for RandomForestClassifiers and ExtraTreesClassifiers.\n",
      "  warn(\n",
      "/opt/homebrew/anaconda3/envs/edap01/lib/python3.10/site-packages/sklearn/ensemble/_forest.py:427: FutureWarning: `max_features='auto'` has been deprecated in 1.1 and will be removed in 1.3. To keep the past behaviour, explicitly set `max_features='sqrt'` or remove this parameter as it is also the default value for RandomForestClassifiers and ExtraTreesClassifiers.\n",
      "  warn(\n"
     ]
    },
    {
     "name": "stdout",
     "output_type": "stream",
     "text": [
      "Iteration: 2\n"
     ]
    }
   ],
   "source": [
    "from sklearn.preprocessing import OrdinalEncoder\n",
    "from missingpy import MissForest\n",
    "\n",
    "ordinal_encoder = OrdinalEncoder()\n",
    "# Encode the categorical columns\n",
    "df[categorical_columns] = ordinal_encoder.fit_transform(df[categorical_columns])\n",
    "\n",
    "imputer = MissForest()\n",
    "\n",
    "wl_time = df.pop('wl_time')\n",
    "\n",
    "df = pd.DataFrame(imputer.fit_transform(df, cat_vars=categorical_column_indexes), columns=df.columns)\n",
    "\n",
    "df['wl_time'] = wl_time.values\n",
    "\n",
    "df[categorical_columns] = ordinal_encoder.inverse_transform(df[categorical_columns])"
   ]
  },
  {
   "cell_type": "code",
   "execution_count": 122,
   "metadata": {},
   "outputs": [
    {
     "name": "stderr",
     "output_type": "stream",
     "text": [
      "/var/folders/k_/917q0lsn2g199rm9y4s8jy5h0000gn/T/ipykernel_7440/1227575835.py:1: FutureWarning: In a future version, the Index constructor will not infer numeric dtypes when passed object-dtype sequences (matching Series behavior)\n",
      "  df = pd.get_dummies(df, columns=categorical_columns)\n",
      "/var/folders/k_/917q0lsn2g199rm9y4s8jy5h0000gn/T/ipykernel_7440/1227575835.py:1: FutureWarning: In a future version, the Index constructor will not infer numeric dtypes when passed object-dtype sequences (matching Series behavior)\n",
      "  df = pd.get_dummies(df, columns=categorical_columns)\n",
      "/var/folders/k_/917q0lsn2g199rm9y4s8jy5h0000gn/T/ipykernel_7440/1227575835.py:1: FutureWarning: In a future version, the Index constructor will not infer numeric dtypes when passed object-dtype sequences (matching Series behavior)\n",
      "  df = pd.get_dummies(df, columns=categorical_columns)\n",
      "/var/folders/k_/917q0lsn2g199rm9y4s8jy5h0000gn/T/ipykernel_7440/1227575835.py:1: FutureWarning: In a future version, the Index constructor will not infer numeric dtypes when passed object-dtype sequences (matching Series behavior)\n",
      "  df = pd.get_dummies(df, columns=categorical_columns)\n",
      "/var/folders/k_/917q0lsn2g199rm9y4s8jy5h0000gn/T/ipykernel_7440/1227575835.py:1: FutureWarning: In a future version, the Index constructor will not infer numeric dtypes when passed object-dtype sequences (matching Series behavior)\n",
      "  df = pd.get_dummies(df, columns=categorical_columns)\n",
      "/var/folders/k_/917q0lsn2g199rm9y4s8jy5h0000gn/T/ipykernel_7440/1227575835.py:1: FutureWarning: In a future version, the Index constructor will not infer numeric dtypes when passed object-dtype sequences (matching Series behavior)\n",
      "  df = pd.get_dummies(df, columns=categorical_columns)\n",
      "/var/folders/k_/917q0lsn2g199rm9y4s8jy5h0000gn/T/ipykernel_7440/1227575835.py:1: FutureWarning: In a future version, the Index constructor will not infer numeric dtypes when passed object-dtype sequences (matching Series behavior)\n",
      "  df = pd.get_dummies(df, columns=categorical_columns)\n",
      "/var/folders/k_/917q0lsn2g199rm9y4s8jy5h0000gn/T/ipykernel_7440/1227575835.py:1: FutureWarning: In a future version, the Index constructor will not infer numeric dtypes when passed object-dtype sequences (matching Series behavior)\n",
      "  df = pd.get_dummies(df, columns=categorical_columns)\n",
      "/var/folders/k_/917q0lsn2g199rm9y4s8jy5h0000gn/T/ipykernel_7440/1227575835.py:1: FutureWarning: In a future version, the Index constructor will not infer numeric dtypes when passed object-dtype sequences (matching Series behavior)\n",
      "  df = pd.get_dummies(df, columns=categorical_columns)\n",
      "/var/folders/k_/917q0lsn2g199rm9y4s8jy5h0000gn/T/ipykernel_7440/1227575835.py:1: FutureWarning: In a future version, the Index constructor will not infer numeric dtypes when passed object-dtype sequences (matching Series behavior)\n",
      "  df = pd.get_dummies(df, columns=categorical_columns)\n",
      "/var/folders/k_/917q0lsn2g199rm9y4s8jy5h0000gn/T/ipykernel_7440/1227575835.py:1: FutureWarning: In a future version, the Index constructor will not infer numeric dtypes when passed object-dtype sequences (matching Series behavior)\n",
      "  df = pd.get_dummies(df, columns=categorical_columns)\n",
      "/var/folders/k_/917q0lsn2g199rm9y4s8jy5h0000gn/T/ipykernel_7440/1227575835.py:1: FutureWarning: In a future version, the Index constructor will not infer numeric dtypes when passed object-dtype sequences (matching Series behavior)\n",
      "  df = pd.get_dummies(df, columns=categorical_columns)\n",
      "/var/folders/k_/917q0lsn2g199rm9y4s8jy5h0000gn/T/ipykernel_7440/1227575835.py:1: FutureWarning: In a future version, the Index constructor will not infer numeric dtypes when passed object-dtype sequences (matching Series behavior)\n",
      "  df = pd.get_dummies(df, columns=categorical_columns)\n",
      "/var/folders/k_/917q0lsn2g199rm9y4s8jy5h0000gn/T/ipykernel_7440/1227575835.py:1: FutureWarning: In a future version, the Index constructor will not infer numeric dtypes when passed object-dtype sequences (matching Series behavior)\n",
      "  df = pd.get_dummies(df, columns=categorical_columns)\n"
     ]
    }
   ],
   "source": [
    "df = pd.get_dummies(df, columns=categorical_columns)\n",
    "df.to_csv(output_csv_path, index=False)"
   ]
  }
 ],
 "metadata": {
  "kernelspec": {
   "display_name": "Python 3",
   "language": "python",
   "name": "python3"
  },
  "language_info": {
   "codemirror_mode": {
    "name": "ipython",
    "version": 3
   },
   "file_extension": ".py",
   "mimetype": "text/x-python",
   "name": "python",
   "nbconvert_exporter": "python",
   "pygments_lexer": "ipython3",
   "version": "3.10.10"
  }
 },
 "nbformat": 4,
 "nbformat_minor": 0
}
