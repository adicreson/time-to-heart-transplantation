{
 "cells": [
  {
   "cell_type": "code",
   "execution_count": 10,
   "metadata": {},
   "outputs": [],
   "source": [
    "import os\n",
    "import pandas as pd\n",
    "\n",
    "base_dir = \"../Data\"\n",
    "base_csv_path = os.path.join(base_dir, 'm4_imputed.csv')\n",
    "assert os.path.exists(base_csv_path), f\"{base_csv_path} does not exist\"\n",
    "\n",
    "df = pd.read_csv(base_csv_path)"
   ]
  },
  {
   "cell_type": "code",
   "execution_count": 11,
   "metadata": {},
   "outputs": [
    {
     "name": "stdout",
     "output_type": "stream",
     "text": [
      "Number of missing values in wl_time: 0\n",
      "Number of values in wl_time: 65067\n",
      "Median for wl_time: 88.0\n",
      "Percentage of 0 and 1 in wl_time: \n",
      "1    50.148309\n",
      "0    49.851691\n",
      "Name: wl_time, dtype: float64\n",
      "Number of missing values in wl_time: 0\n"
     ]
    }
   ],
   "source": [
    "#Print number of missing values in wl_tme\n",
    "print(f'Number of missing values in wl_time: {df[\"wl_time\"].isnull().sum()}')\n",
    "\n",
    "#Print number of values in wl_time\n",
    "print(f'Number of values in wl_time: {df[\"wl_time\"].count()}')\n",
    "\n",
    "wl_median = df['wl_time'].median()\n",
    "\n",
    "#Print median for wl_time\n",
    "print(f'Median for wl_time: {wl_median}')\n",
    "\n",
    "#Code wl_time to 0 if wl_time is is less than the median else 1\n",
    "df['wl_time'] = df['wl_time'].apply(lambda x: 0 if x < wl_median else 1)\n",
    "\n",
    "#Print percentage of 0 and 1 in wl_time\n",
    "print(f'Percentage of 0 and 1 in wl_time: \\n{df[\"wl_time\"].value_counts(normalize=True) * 100}')\n",
    "\n",
    "#Print number of missing values in wl_time\n",
    "print(f'Number of missing values in wl_time: {df[\"wl_time\"].isnull().sum()}')"
   ]
  },
  {
   "cell_type": "code",
   "execution_count": 12,
   "metadata": {
    "collapsed": false
   },
   "outputs": [],
   "source": [
    "from sklearn.linear_model import LogisticRegression\n",
    "from sklearn.model_selection import cross_val_score\n",
    "from sklearn.preprocessing import StandardScaler\n",
    "from sklearn.metrics import confusion_matrix\n",
    "\n",
    "X = df.drop(['wl_time'], axis=1)\n",
    "y = df['wl_time']\n",
    "\n",
    "one_hot_cols = [col for col in df.columns if df[col].nunique() == 2]\n",
    "columns_to_scale = [col for col in X.columns if col not in one_hot_cols]\n",
    "\n",
    "scaler = StandardScaler()\n",
    "X[columns_to_scale] = scaler.fit_transform(X[columns_to_scale])"
   ]
  },
  {
   "cell_type": "code",
   "execution_count": 13,
   "metadata": {
    "collapsed": false
   },
   "outputs": [
    {
     "name": "stdout",
     "output_type": "stream",
     "text": [
      "F1 score pre feature selection: 0.6946374503453768\n",
      "F1 macro score pre feature selection: 0.6864140919682352\n"
     ]
    }
   ],
   "source": [
    "from sklearn.model_selection import cross_val_predict\n",
    "\n",
    "log = LogisticRegression(max_iter=1000)\n",
    "f1_scores = cross_val_score(log, X, y, cv=5, scoring='f1').mean()\n",
    "print(f\"F1 score pre feature selection: {f1_scores}\")\n",
    "\n",
    "f1_macro_scores = cross_val_score(log, X, y, cv=5, scoring='f1_macro').mean()\n",
    "print(f\"F1 macro score pre feature selection: {f1_macro_scores}\")"
   ]
  },
  {
   "cell_type": "code",
   "execution_count": 14,
   "metadata": {},
   "outputs": [
    {
     "name": "stdout",
     "output_type": "stream",
     "text": [
      "Feature: wgt_kg_tcr, Odds Ratio: 1.5813269141529382\n",
      "Feature: hgt_cm_tcr, Odds Ratio: 1.1127929038414832\n",
      "Feature: most_rcnt_creat, Odds Ratio: 0.9762759446759298\n",
      "Feature: tot_serum_album, Odds Ratio: 1.0708335057452805\n",
      "Feature: hemo_co_tcr, Odds Ratio: 1.0211888346865725\n",
      "Feature: init_age, Odds Ratio: 0.9383114923592107\n",
      "Feature: init_hgt_cm_calc, Odds Ratio: 0.9205857696903942\n",
      "Feature: init_wgt_kg_calc, Odds Ratio: 0.9259798184051227\n",
      "Feature: thoracic_dgn_1.0, Odds Ratio: 1.004995499321531\n",
      "Feature: thoracic_dgn_2.0, Odds Ratio: 1.1045097798404342\n",
      "Feature: thoracic_dgn_3.0, Odds Ratio: 1.0066947795853998\n",
      "Feature: thoracic_dgn_4.0, Odds Ratio: 0.9604163885342436\n",
      "Feature: thoracic_dgn_5.0, Odds Ratio: 1.277317412822495\n",
      "Feature: thoracic_dgn_7.0, Odds Ratio: 0.7137067572706327\n",
      "Feature: num_prev_tx_0, Odds Ratio: 0.9679127214715302\n",
      "Feature: num_prev_tx_1, Odds Ratio: 0.852563743733386\n",
      "Feature: num_prev_tx_2, Odds Ratio: 0.8476230886203294\n",
      "Feature: num_prev_tx_3, Odds Ratio: 1.3987621332620077\n",
      "Feature: tah_N, Odds Ratio: 1.0581775471403034\n",
      "Feature: tah_Y, Odds Ratio: 0.9245941904706891\n",
      "Feature: vas_N, Odds Ratio: 0.9137124251667293\n",
      "Feature: vas_Y, Odds Ratio: 1.0707798051382371\n",
      "Feature: onvent_N, Odds Ratio: 1.1351701186348506\n",
      "Feature: onvent_Y, Odds Ratio: 0.8618838678990786\n",
      "Feature: icu_N, Odds Ratio: 0.9734998711455961\n",
      "Feature: icu_Y, Odds Ratio: 1.0050179168704256\n",
      "Feature: inotropic_N, Odds Ratio: 1.1411478011503386\n",
      "Feature: inotropic_Y, Odds Ratio: 0.8573690556000597\n",
      "Feature: gender_F, Odds Ratio: 0.9625775910973234\n",
      "Feature: gender_M, Odds Ratio: 1.016421763420925\n",
      "Feature: abo_1, Odds Ratio: 0.9993092396840514\n",
      "Feature: abo_2, Odds Ratio: 1.0808456531557131\n",
      "Feature: abo_3, Odds Ratio: 0.4258662357080228\n",
      "Feature: abo_4, Odds Ratio: 2.127026547504018\n",
      "Feature: education_1.0, Odds Ratio: 0.9488427254461467\n",
      "Feature: education_2.0, Odds Ratio: 1.0238647584363931\n",
      "Feature: education_3.0, Odds Ratio: 1.007100648111234\n",
      "Feature: ecmo_tcr_0, Odds Ratio: 1.237969000647865\n",
      "Feature: ecmo_tcr_1, Odds Ratio: 0.7903144683432568\n",
      "Feature: iabp_tcr_0, Odds Ratio: 1.1115770469413238\n",
      "Feature: iabp_tcr_1, Odds Ratio: 0.8801772358152372\n",
      "Feature: inotropes_tcr_0, Odds Ratio: 1.1562311023353342\n",
      "Feature: inotropes_tcr_1, Odds Ratio: 0.846184478688037\n",
      "Feature: func_stat_tcr_1.0, Odds Ratio: 1.2562673654951833\n",
      "Feature: func_stat_tcr_2.0, Odds Ratio: 1.0014206302941024\n",
      "Feature: func_stat_tcr_3.0, Odds Ratio: 0.777698193926326\n",
      "Feature: diab_1.0, Odds Ratio: 0.9954114039160217\n",
      "Feature: diab_2.0, Odds Ratio: 0.7501829935865275\n",
      "Feature: diab_3.0, Odds Ratio: 1.0214587758652969\n",
      "Feature: diab_4.0, Odds Ratio: 1.0921868893703814\n",
      "Feature: diab_5.0, Odds Ratio: 1.1744163074360938\n",
      "Feature: dial_ty_tcr_1.0, Odds Ratio: 0.7694991196887355\n",
      "Feature: dial_ty_tcr_2.0, Odds Ratio: 0.8806922982192641\n",
      "Feature: dial_ty_tcr_3.0, Odds Ratio: 1.4437013973329316\n",
      "Feature: cereb_vasc_N, Odds Ratio: 1.0356269905337117\n",
      "Feature: cereb_vasc_U, Odds Ratio: 0.9210951495074114\n",
      "Feature: cereb_vasc_Y, Odds Ratio: 1.0256562875912547\n",
      "Feature: malig_tcr_N, Odds Ratio: 0.9305598945275729\n",
      "Feature: malig_tcr_U, Odds Ratio: 1.0909794262317978\n",
      "Feature: malig_tcr_Y, Odds Ratio: 0.9637154256644922\n",
      "Feature: cig_use_N, Odds Ratio: 0.9883560166089245\n",
      "Feature: cig_use_Y, Odds Ratio: 0.9899113235828941\n",
      "Feature: prior_card_surg_tcr_N, Odds Ratio: 0.9764976650093496\n",
      "Feature: prior_card_surg_tcr_U, Odds Ratio: 0.8965003053674894\n",
      "Feature: prior_card_surg_tcr_Y, Odds Ratio: 1.1176042678523583\n",
      "Feature: histry_cig_old_N, Odds Ratio: 0.9168087093660917\n",
      "Feature: histry_cig_old_U, Odds Ratio: 1.0276170788868364\n",
      "Feature: histry_cig_old_Y, Odds Ratio: 1.0384836388254224\n",
      "Feature: init_stat_1.0, Odds Ratio: 0.4057245984884184\n",
      "Feature: init_stat_2.0, Odds Ratio: 0.9856615143557482\n",
      "Feature: init_stat_3.0, Odds Ratio: 1.8431223297819685\n",
      "Feature: init_stat_4.0, Odds Ratio: 1.3273834639152788\n",
      "Feature: ethcat_1, Odds Ratio: 1.0784881705852265\n",
      "Feature: ethcat_2, Odds Ratio: 1.1477536089993092\n",
      "Feature: ethcat_4, Odds Ratio: 0.9576087629328217\n",
      "Feature: ethcat_5, Odds Ratio: 0.9268713047022697\n",
      "Feature: ethcat_6, Odds Ratio: 0.8905085654397639\n",
      "Feature: ventilator_tcr_0, Odds Ratio: 0.8353384033981845\n",
      "Feature: ventilator_tcr_1, Odds Ratio: 1.171243664354968\n",
      "Feature: work_income_tcr_N, Odds Ratio: 0.9403583231737174\n",
      "Feature: work_income_tcr_U, Odds Ratio: 1.031696422953701\n",
      "Feature: work_income_tcr_Y, Odds Ratio: 1.0084733009699836\n",
      "F1 score pre feature selection: 0.6946374503453768\n",
      "F1 macro score pre feature selection: 0.6864140919682352\n"
     ]
    }
   ],
   "source": [
    "import numpy as np\n",
    "\n",
    "log.fit(X, y)\n",
    "\n",
    "# Get the coefficients (log odds) of the logistic regression model\n",
    "coefficients = log.coef_[0]\n",
    "\n",
    "# Calculate the odds ratio for each feature\n",
    "odds_ratios = np.exp(coefficients)\n",
    "\n",
    "# Display the odds ratio for each feature\n",
    "for feature, odds_ratio in zip(X.columns, odds_ratios):\n",
    "    print(f\"Feature: {feature}, Odds Ratio: {odds_ratio}\")\n",
    "\n",
    "f1_scores = cross_val_score(log, X, y, cv=5, scoring='f1').mean()\n",
    "print(f\"F1 score pre feature selection: {f1_scores}\")\n",
    "\n",
    "f1_macro_scores = cross_val_score(log, X, y, cv=5, scoring='f1_macro').mean()\n",
    "print(f\"F1 macro score pre feature selection: {f1_macro_scores}\")\n"
   ]
  },
  {
   "cell_type": "code",
   "execution_count": 15,
   "metadata": {
    "collapsed": false
   },
   "outputs": [
    {
     "data": {
      "text/plain": "<AxesSubplot: >"
     },
     "execution_count": 15,
     "metadata": {},
     "output_type": "execute_result"
    },
    {
     "data": {
      "text/plain": "<Figure size 640x480 with 2 Axes>",
      "image/png": "[encoded data removed]"
     },
     "metadata": {},
     "output_type": "display_data"
    }
   ],
   "source": [
    "import seaborn as sns\n",
    "\n",
    "y_pred = cross_val_predict(log, X, y, cv=5)\n",
    "sns.heatmap(confusion_matrix(y, y_pred), annot=True, cmap='Blues', fmt='g')"
   ]
  }
 ],
 "metadata": {
  "kernelspec": {
   "display_name": "Python 3",
   "language": "python",
   "name": "python3"
  },
  "language_info": {
   "codemirror_mode": {
    "name": "ipython",
    "version": 3
   },
   "file_extension": ".py",
   "mimetype": "text/x-python",
   "name": "python",
   "nbconvert_exporter": "python",
   "pygments_lexer": "ipython3",
   "version": "3.10.10"
  },
  "orig_nbformat": 4
 },
 "nbformat": 4,
 "nbformat_minor": 2
}
