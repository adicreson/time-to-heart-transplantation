{
 "cells": [
  {
   "cell_type": "code",
   "execution_count": 149,
   "metadata": {},
   "outputs": [],
   "source": [
    "import numpy as np\n",
    "import pandas as pd\n",
    "import seaborn as sns"
   ]
  },
  {
   "cell_type": "code",
   "execution_count": 150,
   "metadata": {},
   "outputs": [
    {
     "name": "stderr",
     "output_type": "stream",
     "text": [
      "/var/folders/k_/917q0lsn2g199rm9y4s8jy5h0000gn/T/ipykernel_67476/2197491256.py:1: DtypeWarning: Columns (2,64,91,94,97,106,108,109,110,111,112,114,116,119,120,122,127,139,142,143,144,145,152,153,154,155,156,157,159,160,161,163,164,165,169,170,171,172,175,178,179,180,187,189,215,216,217,218,219,317,318) have mixed types. Specify dtype option on import or set low_memory=False.\n",
      "  df = pd.read_csv(\"Data_120294_2023-03-29.csv\")\n"
     ]
    }
   ],
   "source": [
    "df = pd.read_csv(\"Data_120294_2023-03-29.csv\")\n"
   ]
  },
  {
   "attachments": {},
   "cell_type": "markdown",
   "metadata": {},
   "source": [
    "## Choosing features and y\n",
    "choosing which features should included in the model"
   ]
  },
  {
   "cell_type": "code",
   "execution_count": 151,
   "metadata": {},
   "outputs": [],
   "source": [
    "#Choosing the columns that we want to use\n",
    "relevant_colums = [\"init_age\", \"gender\", \"abo\", \"pramr\", \"prapk\", \"hemo_pcw_tcr\", \"hemo_pa_mn_tcr\", \"bmi_tcr\",\n",
    "                   \"init_date\", \"tx_date\"]\n",
    "\n",
    "df = df[relevant_colums]"
   ]
  },
  {
   "cell_type": "code",
   "execution_count": 152,
   "metadata": {},
   "outputs": [
    {
     "data": {
      "text/plain": "        init_age gender abo  pramr  prapk  hemo_pcw_tcr  hemo_pa_mn_tcr  \\\n109886      56.0      M   B    NaN    NaN          18.0            30.0   \n35485       65.0      M   B    NaN    NaN           NaN             NaN   \n18872       66.0      M   A    NaN    NaN           3.0            10.0   \n80246       33.0      M   B    4.0    5.0           7.0            20.0   \n36745       46.0      M   A    NaN    NaN          34.0            44.0   \n14423       42.0      M   A    NaN    NaN           4.0            10.0   \n97830        0.0      M   O    NaN    NaN           NaN             NaN   \n20882       66.0      M   O    NaN    NaN          20.0            33.0   \n80530       66.0      M   A    0.0    0.0          24.0            25.0   \n110957      30.0      F   A    NaN    NaN          24.0            36.0   \n13323       39.0      F   B    NaN    NaN           7.0            31.0   \n6074        59.0      M   O    NaN    NaN           NaN             NaN   \n54482       53.0      M   O    0.0    NaN           NaN             NaN   \n2892        62.0      F   A    NaN    NaN          10.0            20.0   \n58894       54.0      M   B    0.0    0.0           NaN             NaN   \n\n        bmi_tcr  init_date    tx_date  \n109886  20.2936  09feb2018  13mar2018  \n35485   30.5571  16aug1999        NaN  \n18872   25.1048  21dec2017        NaN  \n80246   24.9673  19dec2003  12may2004  \n36745   32.0847  03mar1997        NaN  \n14423   20.8288  31jul1995        NaN  \n97830   11.6959  12aug2014  27aug2014  \n20882   26.8229  23dec2004        NaN  \n80530   24.7843  10jul2000  29jul2001  \n110957  41.5682  24apr2018  18jun2018  \n13323   20.5151  08mar2001        NaN  \n6074    25.2186  23jan1991        NaN  \n54482   20.1348  23jul1991  21aug1991  \n2892    26.0310  25oct2019        NaN  \n58894   24.6914  25jan1994  23nov1994  ",
      "text/html": "<div>\n<style scoped>\n    .dataframe tbody tr th:only-of-type {\n        vertical-align: middle;\n    }\n\n    .dataframe tbody tr th {\n        vertical-align: top;\n    }\n\n    .dataframe thead th {\n        text-align: right;\n    }\n</style>\n<table border=\"1\" class=\"dataframe\">\n  <thead>\n    <tr style=\"text-align: right;\">\n      <th></th>\n      <th>init_age</th>\n      <th>gender</th>\n      <th>abo</th>\n      <th>pramr</th>\n      <th>prapk</th>\n      <th>hemo_pcw_tcr</th>\n      <th>hemo_pa_mn_tcr</th>\n      <th>bmi_tcr</th>\n      <th>init_date</th>\n      <th>tx_date</th>\n    </tr>\n  </thead>\n  <tbody>\n    <tr>\n      <th>109886</th>\n      <td>56.0</td>\n      <td>M</td>\n      <td>B</td>\n      <td>NaN</td>\n      <td>NaN</td>\n      <td>18.0</td>\n      <td>30.0</td>\n      <td>20.2936</td>\n      <td>09feb2018</td>\n      <td>13mar2018</td>\n    </tr>\n    <tr>\n      <th>35485</th>\n      <td>65.0</td>\n      <td>M</td>\n      <td>B</td>\n      <td>NaN</td>\n      <td>NaN</td>\n      <td>NaN</td>\n      <td>NaN</td>\n      <td>30.5571</td>\n      <td>16aug1999</td>\n      <td>NaN</td>\n    </tr>\n    <tr>\n      <th>18872</th>\n      <td>66.0</td>\n      <td>M</td>\n      <td>A</td>\n      <td>NaN</td>\n      <td>NaN</td>\n      <td>3.0</td>\n      <td>10.0</td>\n      <td>25.1048</td>\n      <td>21dec2017</td>\n      <td>NaN</td>\n    </tr>\n    <tr>\n      <th>80246</th>\n      <td>33.0</td>\n      <td>M</td>\n      <td>B</td>\n      <td>4.0</td>\n      <td>5.0</td>\n      <td>7.0</td>\n      <td>20.0</td>\n      <td>24.9673</td>\n      <td>19dec2003</td>\n      <td>12may2004</td>\n    </tr>\n    <tr>\n      <th>36745</th>\n      <td>46.0</td>\n      <td>M</td>\n      <td>A</td>\n      <td>NaN</td>\n      <td>NaN</td>\n      <td>34.0</td>\n      <td>44.0</td>\n      <td>32.0847</td>\n      <td>03mar1997</td>\n      <td>NaN</td>\n    </tr>\n    <tr>\n      <th>14423</th>\n      <td>42.0</td>\n      <td>M</td>\n      <td>A</td>\n      <td>NaN</td>\n      <td>NaN</td>\n      <td>4.0</td>\n      <td>10.0</td>\n      <td>20.8288</td>\n      <td>31jul1995</td>\n      <td>NaN</td>\n    </tr>\n    <tr>\n      <th>97830</th>\n      <td>0.0</td>\n      <td>M</td>\n      <td>O</td>\n      <td>NaN</td>\n      <td>NaN</td>\n      <td>NaN</td>\n      <td>NaN</td>\n      <td>11.6959</td>\n      <td>12aug2014</td>\n      <td>27aug2014</td>\n    </tr>\n    <tr>\n      <th>20882</th>\n      <td>66.0</td>\n      <td>M</td>\n      <td>O</td>\n      <td>NaN</td>\n      <td>NaN</td>\n      <td>20.0</td>\n      <td>33.0</td>\n      <td>26.8229</td>\n      <td>23dec2004</td>\n      <td>NaN</td>\n    </tr>\n    <tr>\n      <th>80530</th>\n      <td>66.0</td>\n      <td>M</td>\n      <td>A</td>\n      <td>0.0</td>\n      <td>0.0</td>\n      <td>24.0</td>\n      <td>25.0</td>\n      <td>24.7843</td>\n      <td>10jul2000</td>\n      <td>29jul2001</td>\n    </tr>\n    <tr>\n      <th>110957</th>\n      <td>30.0</td>\n      <td>F</td>\n      <td>A</td>\n      <td>NaN</td>\n      <td>NaN</td>\n      <td>24.0</td>\n      <td>36.0</td>\n      <td>41.5682</td>\n      <td>24apr2018</td>\n      <td>18jun2018</td>\n    </tr>\n    <tr>\n      <th>13323</th>\n      <td>39.0</td>\n      <td>F</td>\n      <td>B</td>\n      <td>NaN</td>\n      <td>NaN</td>\n      <td>7.0</td>\n      <td>31.0</td>\n      <td>20.5151</td>\n      <td>08mar2001</td>\n      <td>NaN</td>\n    </tr>\n    <tr>\n      <th>6074</th>\n      <td>59.0</td>\n      <td>M</td>\n      <td>O</td>\n      <td>NaN</td>\n      <td>NaN</td>\n      <td>NaN</td>\n      <td>NaN</td>\n      <td>25.2186</td>\n      <td>23jan1991</td>\n      <td>NaN</td>\n    </tr>\n    <tr>\n      <th>54482</th>\n      <td>53.0</td>\n      <td>M</td>\n      <td>O</td>\n      <td>0.0</td>\n      <td>NaN</td>\n      <td>NaN</td>\n      <td>NaN</td>\n      <td>20.1348</td>\n      <td>23jul1991</td>\n      <td>21aug1991</td>\n    </tr>\n    <tr>\n      <th>2892</th>\n      <td>62.0</td>\n      <td>F</td>\n      <td>A</td>\n      <td>NaN</td>\n      <td>NaN</td>\n      <td>10.0</td>\n      <td>20.0</td>\n      <td>26.0310</td>\n      <td>25oct2019</td>\n      <td>NaN</td>\n    </tr>\n    <tr>\n      <th>58894</th>\n      <td>54.0</td>\n      <td>M</td>\n      <td>B</td>\n      <td>0.0</td>\n      <td>0.0</td>\n      <td>NaN</td>\n      <td>NaN</td>\n      <td>24.6914</td>\n      <td>25jan1994</td>\n      <td>23nov1994</td>\n    </tr>\n  </tbody>\n</table>\n</div>"
     },
     "execution_count": 152,
     "metadata": {},
     "output_type": "execute_result"
    }
   ],
   "source": [
    "# Illustrate the data set of the chosen features with 15 random rows\n",
    "df.sample(15)"
   ]
  },
  {
   "cell_type": "code",
   "execution_count": 153,
   "metadata": {},
   "outputs": [
    {
     "name": "stdout",
     "output_type": "stream",
     "text": [
      "<class 'pandas.core.frame.DataFrame'>\n",
      "RangeIndex: 120264 entries, 0 to 120263\n",
      "Data columns (total 10 columns):\n",
      " #   Column          Non-Null Count   Dtype  \n",
      "---  ------          --------------   -----  \n",
      " 0   init_age        120257 non-null  float64\n",
      " 1   gender          120264 non-null  object \n",
      " 2   abo             120264 non-null  object \n",
      " 3   pramr           32023 non-null   float64\n",
      " 4   prapk           30295 non-null   float64\n",
      " 5   hemo_pcw_tcr    80933 non-null   float64\n",
      " 6   hemo_pa_mn_tcr  83439 non-null   float64\n",
      " 7   bmi_tcr         115677 non-null  float64\n",
      " 8   init_date       120264 non-null  object \n",
      " 9   tx_date         77410 non-null   object \n",
      "dtypes: float64(6), object(4)\n",
      "memory usage: 9.2+ MB\n"
     ]
    }
   ],
   "source": [
    "#Display some basic info about the chosen features\n",
    "df.info()"
   ]
  },
  {
   "attachments": {},
   "cell_type": "markdown",
   "metadata": {},
   "source": [
    "## Data preprocessing (cleaning) and data analysis"
   ]
  },
  {
   "attachments": {},
   "cell_type": "markdown",
   "metadata": {},
   "source": [
    "#### tx_date\n",
    "Before we start analyzing the data, we remove all rows which do not have tx_date. We are predicting time until transplant, and the rows which do not have a transplant date are therefore irrelevant."
   ]
  },
  {
   "cell_type": "code",
   "execution_count": 154,
   "metadata": {},
   "outputs": [
    {
     "name": "stdout",
     "output_type": "stream",
     "text": [
      "Number of rows before removing rows without tx_date:  120264\n",
      "Number of rows after removing rows without tx_date:  77410\n",
      "Number of removed rows:  42854\n"
     ]
    }
   ],
   "source": [
    "original_size = len(df)\n",
    "\n",
    "#Print number of rows before removing rows without tx_date\n",
    "print(\"Number of rows before removing rows without tx_date: \", original_size)\n",
    "\n",
    "#Remove all rows without tx_date\n",
    "df = df[df[\"tx_date\"].notna()]\n",
    "\n",
    "size_post_cleaning = len(df)\n",
    "#Print number of rows after removing rows without tx_date\n",
    "print(\"Number of rows after removing rows without tx_date: \", size_post_cleaning)\n",
    "\n",
    "#Print number of removed rows as number\n",
    "print(\"Number of removed rows: \", original_size - size_post_cleaning)\n",
    "\n",
    "\n"
   ]
  },
  {
   "attachments": {},
   "cell_type": "markdown",
   "metadata": {},
   "source": [
    "#### Handling of duplicate values"
   ]
  },
  {
   "cell_type": "code",
   "execution_count": 155,
   "metadata": {},
   "outputs": [
    {
     "data": {
      "text/plain": "Empty DataFrame\nColumns: [init_age, gender, abo, pramr, prapk, hemo_pcw_tcr, hemo_pa_mn_tcr, bmi_tcr, init_date, tx_date]\nIndex: []",
      "text/html": "<div>\n<style scoped>\n    .dataframe tbody tr th:only-of-type {\n        vertical-align: middle;\n    }\n\n    .dataframe tbody tr th {\n        vertical-align: top;\n    }\n\n    .dataframe thead th {\n        text-align: right;\n    }\n</style>\n<table border=\"1\" class=\"dataframe\">\n  <thead>\n    <tr style=\"text-align: right;\">\n      <th></th>\n      <th>init_age</th>\n      <th>gender</th>\n      <th>abo</th>\n      <th>pramr</th>\n      <th>prapk</th>\n      <th>hemo_pcw_tcr</th>\n      <th>hemo_pa_mn_tcr</th>\n      <th>bmi_tcr</th>\n      <th>init_date</th>\n      <th>tx_date</th>\n    </tr>\n  </thead>\n  <tbody>\n  </tbody>\n</table>\n</div>"
     },
     "execution_count": 155,
     "metadata": {},
     "output_type": "execute_result"
    }
   ],
   "source": [
    "#Display information about the duplicates\n",
    "df[df.duplicated()]"
   ]
  },
  {
   "cell_type": "code",
   "execution_count": 156,
   "metadata": {},
   "outputs": [
    {
     "name": "stdout",
     "output_type": "stream",
     "text": [
      "Number of duplicates:  0\n",
      "Number of rows before dropping duplicates:  77410\n",
      "Number of rows after dropping duplicates:  77410\n"
     ]
    }
   ],
   "source": [
    "#Count number of duplicates\n",
    "print(\"Number of duplicates: \", df.duplicated().sum())\n",
    "\n",
    "#Number of duplicates before dropping\n",
    "print(\"Number of rows before dropping duplicates: \", df.shape[0])\n",
    "#Drop duplicates and keep the first occurence\n",
    "df = df.drop_duplicates()\n",
    "\n",
    "#Number of duplicates after dropping\n",
    "print(\"Number of rows after dropping duplicates: \", df.shape[0])"
   ]
  },
  {
   "attachments": {},
   "cell_type": "markdown",
   "metadata": {},
   "source": [
    "### Handling and analysis of missing values"
   ]
  },
  {
   "cell_type": "code",
   "execution_count": 157,
   "metadata": {},
   "outputs": [
    {
     "data": {
      "text/plain": "init_age           0.000000\ngender             0.000000\nabo                0.000000\npramr             58.631960\nprapk             60.864229\nhemo_pcw_tcr      30.565818\nhemo_pa_mn_tcr    28.482108\nbmi_tcr            1.993283\ninit_date          0.000000\ntx_date            0.000000\ndtype: float64"
     },
     "execution_count": 157,
     "metadata": {},
     "output_type": "execute_result"
    }
   ],
   "source": [
    "#Display percentage of missing values for each feature\n",
    "df.isnull().sum() / df.shape[0] * 100\n"
   ]
  },
  {
   "attachments": {},
   "cell_type": "markdown",
   "metadata": {},
   "source": [
    "pramr and prapk have a lot of missing values and may need to be dropped.\n",
    "It may also be relevant to only keep the rows which have a tx_date, as the others can be considered to not have received a transplant for various reasons such as death. Imputation is needed on features with a lot of missing values."
   ]
  },
  {
   "attachments": {},
   "cell_type": "markdown",
   "metadata": {},
   "source": [
    "#### bmi_tcr\n",
    "As there are only less than 2% of values missing a bmi_tcr, they are removed."
   ]
  },
  {
   "cell_type": "code",
   "execution_count": 158,
   "metadata": {},
   "outputs": [
    {
     "name": "stdout",
     "output_type": "stream",
     "text": [
      "Number of rows before removing rows with missing bmi_tcr:  77410\n",
      "Number of rows after removing rows with missing bmi_tcr:  75867\n"
     ]
    }
   ],
   "source": [
    "#Print number of rows before removing rows with missing bmi_tcr\n",
    "print(\"Number of rows before removing rows with missing bmi_tcr: \", len(df))\n",
    "\n",
    "#Remove all rows with missing bmi_tcr\n",
    "df = df[df[\"bmi_tcr\"].notna()]\n",
    "\n",
    "#Print number of rows after removing rows with missing bmi_tcr\n",
    "print(\"Number of rows after removing rows with missing bmi_tcr: \", len(df))"
   ]
  },
  {
   "cell_type": "code",
   "execution_count": 159,
   "metadata": {},
   "outputs": [
    {
     "name": "stdout",
     "output_type": "stream",
     "text": [
      "init_age           0.000000\n",
      "gender             0.000000\n",
      "abo                0.000000\n",
      "pramr             59.361778\n",
      "prapk             61.387692\n",
      "hemo_pcw_tcr      29.595213\n",
      "hemo_pa_mn_tcr    27.478350\n",
      "bmi_tcr            0.000000\n",
      "init_date          0.000000\n",
      "tx_date            0.000000\n",
      "dtype: float64\n",
      "Number of rows:  75867\n"
     ]
    }
   ],
   "source": [
    "#Remove all entries with missing values\n",
    "#df = df.dropna()\n",
    "\n",
    "# Use simple imputer instead of .dropna to impute missing values\n",
    "\n",
    "\n",
    "#Display percentage of missing values for each feature\n",
    "print(df.isnull().sum() / df.shape[0] * 100)\n",
    "\n",
    "#Print number of rows\n",
    "print(\"Number of rows: \", df.shape[0])"
   ]
  },
  {
   "attachments": {},
   "cell_type": "markdown",
   "metadata": {},
   "source": [
    "#### Wait list time (wl_time) - Y\n",
    "Creating the value to be predicted, namely wl_time by calculating the difference between init_date and tx_date, and adding it to a column called wl_time. Thereafter they are dropped (maybe they shouldn't be dropped as they can be used as features?). "
   ]
  },
  {
   "cell_type": "code",
   "execution_count": 160,
   "metadata": {},
   "outputs": [],
   "source": [
    "df['wl_time'] = (\n",
    "            pd.to_datetime(df['tx_date'], format='%d%b%Y') - pd.to_datetime(df['init_date'], format='%d%b%Y')).dt.days\n",
    "\n",
    "# drop init_date and end_date\n",
    "df = df.drop(['init_date', 'tx_date'], axis=1)"
   ]
  },
  {
   "attachments": {},
   "cell_type": "markdown",
   "metadata": {},
   "source": [
    "Data visualisation and analysis on wl_time"
   ]
  },
  {
   "cell_type": "code",
   "execution_count": 161,
   "metadata": {},
   "outputs": [
    {
     "name": "stdout",
     "output_type": "stream",
     "text": [
      "Number of values less than 10 in wl_time:  9365\n",
      "79.0\n"
     ]
    },
    {
     "data": {
      "text/plain": "<Figure size 640x480 with 1 Axes>",
      "image/png": "[encoded data removed]"
     },
     "metadata": {},
     "output_type": "display_data"
    }
   ],
   "source": [
    "#Display a histogram plot of wl_time using sns\n",
    "sns.histplot(data=df, x=\"wl_time\")\n",
    "\n",
    "#print the number of values that are less than 10 in wl_time\n",
    "print(\"Number of values less than 10 in wl_time: \", len(df[df['wl_time'] < 10]))\n",
    "\n",
    "#Print the median of the wl_time\n",
    "median_wl_time = df['wl_time'].median()\n",
    "print(median_wl_time)"
   ]
  },
  {
   "cell_type": "code",
   "execution_count": 162,
   "metadata": {},
   "outputs": [
    {
     "name": "stdout",
     "output_type": "stream",
     "text": [
      "Number of values that are outliers in wl_time:  7513\n",
      "Number of values that are not outliers in wl_time:  68354\n"
     ]
    },
    {
     "data": {
      "text/plain": "<Figure size 640x480 with 1 Axes>",
      "image/png": "[encoded data removed]"
     },
     "metadata": {},
     "output_type": "display_data"
    }
   ],
   "source": [
    "#Display a boxplot of the distribution of the wl_time using sns\n",
    "sns.boxplot(data=df, x=\"wl_time\")\n",
    "\n",
    "#Print the number of values that that are outliers, meaning they are bigger than 500\n",
    "print(\"Number of values that are outliers in wl_time: \", len(df[df['wl_time'] > 500]))\n",
    "#Print the number of values that are not outliers, meaning they are between 0 and 500\n",
    "print(\"Number of values that are not outliers in wl_time: \", len(df[df['wl_time'] <= 500]))\n"
   ]
  },
  {
   "attachments": {},
   "cell_type": "markdown",
   "metadata": {},
   "source": [
    "## Transforming\n",
    "- Drop redundant columns"
   ]
  },
  {
   "attachments": {},
   "cell_type": "markdown",
   "metadata": {},
   "source": [
    "## Encode"
   ]
  },
  {
   "cell_type": "code",
   "execution_count": 163,
   "metadata": {},
   "outputs": [],
   "source": [
    "# encode categorical variables\n",
    "from sklearn.preprocessing import LabelEncoder\n",
    "from sklearn.preprocessing import StandardScaler\n",
    "\n",
    "le = LabelEncoder()\n",
    "df[\"abo\"] = le.fit_transform(df[\"abo\"])\n",
    "df[\"gender\"] = le.fit_transform(df[\"gender\"])\n",
    "\n",
    "#This should be moved to proper place later\n",
    "#Calculate median wl_time\n",
    "\n",
    "\n",
    "# we want to predict if it took more or less than 60 days to get a transplant\n",
    "df['wl_time'] = df['wl_time'].apply(lambda x: 1 if x > median_wl_time else 0)\n",
    "\n",
    "#for col in df.columns:\n",
    "#    if df[col].dtype == 'object':\n",
    "#        df[col] = le.fit_transform(df[col])\n",
    "\n",
    "features = [\"init_age\", \"bmi_tcr\", \"pramr\", \"prapk\", \"hemo_pcw_tcr\", \"hemo_pa_mn_tcr\"]\n",
    "scaler = StandardScaler()\n",
    "df[features] = scaler.fit_transform(df[features])\n",
    "\n",
    "# Impute missing values\n",
    "from sklearn.impute import SimpleImputer\n",
    "\n",
    "imputer = SimpleImputer(missing_values=np.nan, strategy='mean')\n",
    "df = pd.DataFrame(imputer.fit_transform(df), columns=df.columns)\n"
   ]
  },
  {
   "attachments": {},
   "cell_type": "markdown",
   "metadata": {},
   "source": [
    "## Build model"
   ]
  },
  {
   "cell_type": "code",
   "execution_count": 164,
   "outputs": [
    {
     "name": "stdout",
     "output_type": "stream",
     "text": [
      "Logistic Regression Accuracy:  0.5626729932779755\n"
     ]
    }
   ],
   "source": [
    "\n",
    "from sklearn.model_selection import train_test_split\n",
    "from keras.models import Sequential\n",
    "from keras.layers import Dense, Dropout\n",
    "from sklearn.linear_model import LogisticRegression\n",
    "from sklearn.metrics import accuracy_score\n",
    "# import ClassificationReport for confusion matrix\n",
    "from sklearn.metrics import classification_report\n",
    "\n",
    "\n",
    "assert df.isnull().sum().sum() == 0, \"There are still missing values in the dataset\"\n",
    "\n",
    "X_train, X_test, y_train, y_test = train_test_split(df.drop('wl_time', axis=1), df['wl_time'], test_size=0.2,\n",
    "                                                    random_state=42)\n",
    "\n",
    "lr = LogisticRegression()\n",
    "lr.fit(X_train, y_train)\n",
    "y_pred = lr.predict(X_test)\n",
    "print(\"Logistic Regression Accuracy: \", accuracy_score(y_test, y_pred))\n"
   ],
   "metadata": {
    "collapsed": false
   }
  },
  {
   "cell_type": "code",
   "execution_count": 165,
   "outputs": [
    {
     "data": {
      "text/plain": "<sklearn.metrics._plot.confusion_matrix.ConfusionMatrixDisplay at 0x15b58d420>"
     },
     "execution_count": 165,
     "metadata": {},
     "output_type": "execute_result"
    },
    {
     "data": {
      "text/plain": "<Figure size 640x480 with 2 Axes>",
      "image/png": "[encoded data removed]"
     },
     "metadata": {},
     "output_type": "display_data"
    }
   ],
   "source": [
    "from sklearn.metrics import confusion_matrix, ConfusionMatrixDisplay\n",
    "import matplotlib.pyplot as plt\n",
    "\n",
    "cm = confusion_matrix(y_test, y_pred)\n",
    "classes = {\n",
    "    1: \"Under 60 days\",\n",
    "    0: \"Over 60 days\"\n",
    "}\n",
    "disp = ConfusionMatrixDisplay(confusion_matrix=cm, display_labels=classes.values())\n",
    "disp.plot()\n",
    "\n"
   ],
   "metadata": {
    "collapsed": false
   }
  },
  {
   "cell_type": "code",
   "execution_count": 165,
   "metadata": {},
   "outputs": [],
   "source": [
    "model = Sequential([\n",
    "    Dense(64, activation=\"relu\"),\n",
    "    Dropout(0.2),\n",
    "    Dense(32, activation=\"relu\"),\n",
    "    Dropout(0.2),\n",
    "    Dense(1, activation=\"sigmoid\")\n",
    "])\n",
    "\n",
    "# compile the model\n",
    "#model.compile(loss='mse', optimizer='adam', metrics=['mae'])\n",
    "\n",
    "model.compile(optimizer='adam', loss='binary_crossentropy', metrics=['accuracy'])\n",
    "model.fit(X_train, y_train, epochs=30, batch_size=16, verbose=1)\n",
    "\n",
    "y_pred = model.predict(X_test)"
   ]
  },
  {
   "cell_type": "code",
   "execution_count": 165,
   "metadata": {},
   "outputs": [],
   "source": []
  }
 ],
 "metadata": {
  "kernelspec": {
   "display_name": "Python 3",
   "language": "python",
   "name": "python3"
  },
  "language_info": {
   "codemirror_mode": {
    "name": "ipython",
    "version": 3
   },
   "file_extension": ".py",
   "mimetype": "text/x-python",
   "name": "python",
   "nbconvert_exporter": "python",
   "pygments_lexer": "ipython3",
   "version": "3.10.10"
  },
  "orig_nbformat": 4
 },
 "nbformat": 4,
 "nbformat_minor": 2
}
