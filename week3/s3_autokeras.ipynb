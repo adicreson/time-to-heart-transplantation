{
 "cells": [
  {
   "cell_type": "code",
   "execution_count": 22,
   "outputs": [],
   "source": [
    "import pandas as pd\n",
    "\n",
    "df = pd.read_csv(\"../Data_120294_2023-03-29_cleaned.csv\")\n"
   ],
   "metadata": {
    "collapsed": false
   }
  },
  {
   "cell_type": "code",
   "execution_count": 23,
   "outputs": [
    {
     "name": "stdout",
     "output_type": "stream",
     "text": [
      "Mean waiting list time: 192.52839426430694\n",
      "0    0.716807\n",
      "1    0.283193\n",
      "Name: wl_time, dtype: float64\n"
     ]
    }
   ],
   "source": [
    "mean_wl_time = df['wl_time'].mean()\n",
    "print(f\"Mean waiting list time: {mean_wl_time}\")\n",
    "\n",
    "df['wl_time'] = df['wl_time'].apply(lambda x: 0 if x < mean_wl_time else 1)\n",
    "print(df['wl_time'].value_counts(normalize=True))"
   ],
   "metadata": {
    "collapsed": false
   }
  },
  {
   "cell_type": "code",
   "execution_count": 24,
   "outputs": [],
   "source": [
    "import keras.backend as K\n",
    "\n",
    "def recall_m(y_true, y_pred):\n",
    "    true_positives = K.sum(K.round(K.clip(y_true * y_pred, 0, 1)))\n",
    "    possible_positives = K.sum(K.round(K.clip(y_true, 0, 1)))\n",
    "    recall = true_positives / (possible_positives + K.epsilon())\n",
    "    return recall\n",
    "\n",
    "def precision_m(y_true, y_pred):\n",
    "    true_positives = K.sum(K.round(K.clip(y_true * y_pred, 0, 1)))\n",
    "    predicted_positives = K.sum(K.round(K.clip(y_pred, 0, 1)))\n",
    "    precision = true_positives / (predicted_positives + K.epsilon())\n",
    "    return precision\n",
    "\n",
    "def f1_score(y_true, y_pred):\n",
    "    precision = precision_m(y_true, y_pred)\n",
    "    recall = recall_m(y_true, y_pred)\n",
    "    return 2*((precision*recall)/(precision+recall+K.epsilon()))"
   ],
   "metadata": {
    "collapsed": false
   }
  },
  {
   "cell_type": "code",
   "execution_count": 25,
   "outputs": [
    {
     "name": "stdout",
     "output_type": "stream",
     "text": [
      "Trial 25 Complete [00h 01m 28s]\n",
      "val_accuracy: 0.7661003470420837\n",
      "\n",
      "Best val_accuracy So Far: 0.7669093608856201\n",
      "Total elapsed time: 00h 52m 32s\n",
      "INFO:tensorflow:Oracle triggered exit\n"
     ]
    },
    {
     "name": "stderr",
     "output_type": "stream",
     "text": [
      "INFO:tensorflow:Oracle triggered exit\n"
     ]
    },
    {
     "name": "stdout",
     "output_type": "stream",
     "text": [
      "Epoch 1/11\n",
      "1936/1936 [==============================] - 3s 1ms/step - loss: 0.5153 - accuracy: 0.7455\n",
      "Epoch 2/11\n",
      "1936/1936 [==============================] - 2s 1ms/step - loss: 0.4919 - accuracy: 0.7583\n",
      "Epoch 3/11\n",
      "1936/1936 [==============================] - 2s 1ms/step - loss: 0.4834 - accuracy: 0.7619\n",
      "Epoch 4/11\n",
      "1936/1936 [==============================] - 2s 1ms/step - loss: 0.4787 - accuracy: 0.7647\n",
      "Epoch 5/11\n",
      "1936/1936 [==============================] - 2s 1ms/step - loss: 0.4753 - accuracy: 0.7666\n",
      "Epoch 6/11\n",
      "1936/1936 [==============================] - 2s 1ms/step - loss: 0.4729 - accuracy: 0.7684\n",
      "Epoch 7/11\n",
      "1936/1936 [==============================] - 2s 1ms/step - loss: 0.4708 - accuracy: 0.7706\n",
      "Epoch 8/11\n",
      "1936/1936 [==============================] - 2s 1ms/step - loss: 0.4688 - accuracy: 0.7721\n",
      "Epoch 9/11\n",
      "1936/1936 [==============================] - 2s 1ms/step - loss: 0.4672 - accuracy: 0.7733\n",
      "Epoch 10/11\n",
      "1936/1936 [==============================] - 2s 1ms/step - loss: 0.4657 - accuracy: 0.7743\n",
      "Epoch 11/11\n",
      "1936/1936 [==============================] - 2s 1ms/step - loss: 0.4643 - accuracy: 0.7750\n"
     ]
    },
    {
     "name": "stderr",
     "output_type": "stream",
     "text": [
      "WARNING:absl:Found untraced functions such as _update_step_xla while saving (showing 1 of 1). These functions will not be directly callable after loading.\n"
     ]
    },
    {
     "name": "stdout",
     "output_type": "stream",
     "text": [
      "INFO:tensorflow:Assets written to: ./structured_data_classifier/best_model/assets\n"
     ]
    },
    {
     "name": "stderr",
     "output_type": "stream",
     "text": [
      "INFO:tensorflow:Assets written to: ./structured_data_classifier/best_model/assets\n"
     ]
    },
    {
     "name": "stdout",
     "output_type": "stream",
     "text": [
      "484/484 [==============================] - 1s 1ms/step - loss: 0.4756 - accuracy: 0.7669\n",
      "[0.47559458017349243, 0.7668905854225159]\n",
      "484/484 [==============================] - 1s 1ms/step\n",
      "484/484 [==============================] - 1s 1ms/step\n",
      "F1 score: 0.516802784844022\n",
      "484/484 [==============================] - 1s 1ms/step\n",
      "484/484 [==============================] - 1s 1ms/step\n",
      "F1 Macro: 0.6815978171932389\n"
     ]
    }
   ],
   "source": [
    "from sklearn.model_selection import train_test_split\n",
    "from autokeras import StructuredDataClassifier\n",
    "from sklearn.metrics import f1_score\n",
    "\n",
    "X = df.drop(columns=['wl_time'])\n",
    "y = df['wl_time']\n",
    "X_train, X_test, y_train, y_test = train_test_split(X, y, test_size=0.2, random_state=42)\n",
    "\n",
    "clf = StructuredDataClassifier(max_trials=25,\n",
    "                               metrics=[\"accuracy\"],\n",
    "                               overwrite=False)\n",
    "\n",
    "clf.fit(X_train, y_train, verbose=1)\n",
    "print(clf.evaluate(X_test, y_test))\n",
    "f1_s = f1_score(y_test, clf.predict(X_test))\n",
    "print(f\"F1 score: {f1_s}\")\n",
    "print(\"F1 Macro:\", f1_score(y_test, clf.predict(X_test), average='macro'))\n"
   ],
   "metadata": {
    "collapsed": false
   }
  },
  {
   "cell_type": "code",
   "execution_count": 26,
   "outputs": [
    {
     "name": "stdout",
     "output_type": "stream",
     "text": [
      "484/484 [==============================] - 1s 1ms/step\n",
      "484/484 [==============================] - 1s 1ms/step\n",
      "F1 score: 0.516802784844022\n",
      "484/484 [==============================] - 1s 1ms/step\n",
      "484/484 [==============================] - 1s 1ms/step\n",
      "F1 Macro: 0.6815978171932389\n"
     ]
    }
   ],
   "source": [
    "# save the model\n",
    "clf.export_model(\"autokeras_model.h5\")\n",
    "\n",
    "f1_s = f1_score(y_test, clf.predict(X_test))\n",
    "print(f\"F1 score: {f1_s}\")\n",
    "print(\"F1 Macro:\", f1_score(y_test, clf.predict(X_test), average='macro'))"
   ],
   "metadata": {
    "collapsed": false
   }
  },
  {
   "cell_type": "code",
   "execution_count": 26,
   "outputs": [],
   "source": [],
   "metadata": {
    "collapsed": false
   }
  }
 ],
 "metadata": {
  "kernelspec": {
   "display_name": "Python 3",
   "language": "python",
   "name": "python3"
  },
  "language_info": {
   "codemirror_mode": {
    "name": "ipython",
    "version": 2
   },
   "file_extension": ".py",
   "mimetype": "text/x-python",
   "name": "python",
   "nbconvert_exporter": "python",
   "pygments_lexer": "ipython2",
   "version": "2.7.6"
  }
 },
 "nbformat": 4,
 "nbformat_minor": 0
}
