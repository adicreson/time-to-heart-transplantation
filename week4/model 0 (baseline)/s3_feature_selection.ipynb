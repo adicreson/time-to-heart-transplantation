{
 "cells": [
  {
   "cell_type": "code",
   "execution_count": 20,
   "metadata": {
    "collapsed": false
   },
   "outputs": [],
   "source": [
    "import pandas as pd"
   ]
  },
  {
   "cell_type": "code",
   "execution_count": 21,
   "metadata": {
    "collapsed": false
   },
   "outputs": [],
   "source": [
    "df = pd.read_csv(\"../../Data/model_0_pre_feat_selection.csv\")"
   ]
  },
  {
   "cell_type": "code",
   "execution_count": null,
   "outputs": [
    {
     "name": "stdout",
     "output_type": "stream",
     "text": [
      "Mean of wl_time: 192.52839426430694\n",
      "Fitting estimator with 109 features.\n",
      "Fitting estimator with 108 features.\n",
      "Fitting estimator with 107 features.\n",
      "Fitting estimator with 106 features.\n",
      "Fitting estimator with 105 features.\n",
      "Fitting estimator with 104 features.\n"
     ]
    }
   ],
   "source": [
    "\n",
    "from sklearn.feature_selection import RFECV\n",
    "from sklearn.linear_model import LogisticRegression\n",
    "from sklearn.preprocessing import StandardScaler\n",
    "\n",
    "\n",
    "\n",
    "#Create X without wl_time\n",
    "X = df.drop(['wl_time'], axis=1)\n",
    "\n",
    "wl_time = df['wl_time']\n",
    "mean_wl_time = wl_time.mean()\n",
    "print(f\"Mean of wl_time: {mean_wl_time}\")\n",
    "wl_time = wl_time.apply(lambda x: 1 if x > mean_wl_time else 0)\n",
    "\n",
    "y = wl_time\n",
    "\n",
    "#import log\n",
    "log = LogisticRegression(max_iter=1000)\n",
    "\n",
    "selector = RFECV(estimator=log, cv=5, scoring='f1', verbose=1)\n",
    "selector.fit(X, y)\n",
    "\n",
    "print(f\"Num of features: {X.shape[1]}\")\n",
    "print(f\"Num of features recommended after feature selection: {selector.n_features_}\")"
   ],
   "metadata": {
    "collapsed": false,
    "pycharm": {
     "is_executing": true
    }
   }
  },
  {
   "cell_type": "code",
   "execution_count": null,
   "metadata": {
    "collapsed": false,
    "pycharm": {
     "is_executing": true
    }
   },
   "outputs": [],
   "source": [
    "feature_rankings = list(zip(df.columns, selector.ranking_, selector.support_))\n",
    "feature_rankings_sorted = sorted(feature_rankings, key=lambda x: x[1])\n",
    "for feature, ranking, support in feature_rankings_sorted:\n",
    "    print(f\"Feature: {feature}, Ranking: {ranking}, Support: {support}\")"
   ]
  },
  {
   "cell_type": "code",
   "execution_count": null,
   "metadata": {
    "collapsed": false,
    "pycharm": {
     "is_executing": true
    }
   },
   "outputs": [],
   "source": [
    "# Remove all features that don't have support\n",
    "X_new = df[[col for col in df.columns if col in X.columns[selector.support_]]]\n",
    "\n",
    "#Print number of features in X_new\n",
    "print(f\"Num of features in X_new: {X_new.shape[1]}\")\n",
    "\n",
    "#Print if X_new contains wl_time column\n",
    "if 'wl_time' in X_new.columns:\n",
    "    print(\"X_new contains wl_time column\")\n",
    "\n",
    "# Concatenate X_new and y\n",
    "df_new = pd.concat([X_new, y], axis=1)"
   ]
  },
  {
   "cell_type": "code",
   "execution_count": null,
   "metadata": {
    "collapsed": false,
    "pycharm": {
     "is_executing": true
    }
   },
   "outputs": [],
   "source": [
    "#Print the weights of the model with the corresponding feature name\n",
    "weights = list(zip(X_new.columns, log.coef_[0]))\n",
    "weights_sorted = sorted(weights, key=lambda x: x[1])\n",
    "for feature, weight in weights_sorted:\n",
    "    print(f\"Feature: {feature}, Weight: {weight}\")"
   ]
  },
  {
   "cell_type": "code",
   "execution_count": null,
   "metadata": {
    "pycharm": {
     "is_executing": true
    }
   },
   "outputs": [],
   "source": [
    "df_new.to_csv(f\"../../Data/model_0_post_feat_selection.csv\", index=False)"
   ]
  }
 ],
 "metadata": {
  "kernelspec": {
   "display_name": "Python 3",
   "language": "python",
   "name": "python3"
  },
  "language_info": {
   "codemirror_mode": {
    "name": "ipython",
    "version": 3
   },
   "file_extension": ".py",
   "mimetype": "text/x-python",
   "name": "python",
   "nbconvert_exporter": "python",
   "pygments_lexer": "ipython3",
   "version": "3.10.10"
  }
 },
 "nbformat": 4,
 "nbformat_minor": 0
}
