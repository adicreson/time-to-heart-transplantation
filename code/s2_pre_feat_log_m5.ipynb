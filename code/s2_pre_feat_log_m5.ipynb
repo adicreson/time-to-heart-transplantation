{
 "cells": [
  {
   "cell_type": "code",
   "execution_count": 5,
   "metadata": {},
   "outputs": [],
   "source": [
    "import os\n",
    "import pandas as pd\n",
    "\n",
    "base_dir = \"../Data\"\n",
    "base_csv_path = os.path.join(base_dir, 'm5_imputed.csv')\n",
    "assert os.path.exists(base_csv_path), f\"{base_csv_path} does not exist\"\n",
    "\n",
    "df = pd.read_csv(base_csv_path)"
   ]
  },
  {
   "cell_type": "code",
   "execution_count": 6,
   "metadata": {},
   "outputs": [
    {
     "name": "stdout",
     "output_type": "stream",
     "text": [
      "Number of missing values in wl_time: 0\n",
      "Number of values in wl_time: 65067\n",
      "Median for wl_time: 88.0\n",
      "Percentage of 0 and 1 in wl_time: \n",
      "1    50.148309\n",
      "0    49.851691\n",
      "Name: wl_time, dtype: float64\n",
      "Number of missing values in wl_time: 0\n"
     ]
    }
   ],
   "source": [
    "#Print number of missing values in wl_tme\n",
    "print(f'Number of missing values in wl_time: {df[\"wl_time\"].isnull().sum()}')\n",
    "\n",
    "#Print number of values in wl_time\n",
    "print(f'Number of values in wl_time: {df[\"wl_time\"].count()}')\n",
    "\n",
    "wl_median = df['wl_time'].median()\n",
    "\n",
    "#Print median for wl_time\n",
    "print(f'Median for wl_time: {wl_median}')\n",
    "\n",
    "#Code wl_time to 0 if wl_time is is less than the median else 1\n",
    "df['wl_time'] = df['wl_time'].apply(lambda x: 0 if x < wl_median else 1)\n",
    "\n",
    "#Print percentage of 0 and 1 in wl_time\n",
    "print(f'Percentage of 0 and 1 in wl_time: \\n{df[\"wl_time\"].value_counts(normalize=True) * 100}')\n",
    "\n",
    "#Print number of missing values in wl_time\n",
    "print(f'Number of missing values in wl_time: {df[\"wl_time\"].isnull().sum()}')"
   ]
  },
  {
   "cell_type": "code",
   "execution_count": 7,
   "metadata": {},
   "outputs": [
    {
     "name": "stdout",
     "output_type": "stream",
     "text": [
      "AUROC: 0.756718686394696\n"
     ]
    }
   ],
   "source": [
    "from sklearn.model_selection import train_test_split\n",
    "from sklearn.linear_model import LogisticRegression\n",
    "from sklearn.metrics import roc_auc_score\n",
    "from sklearn.preprocessing import StandardScaler\n",
    "\n",
    "# Example dataset and labels\n",
    "X = df.drop('wl_time', axis=1)\n",
    "y = df['wl_time']\n",
    "\n",
    "# Split the dataset into training and testing sets\n",
    "X_train, X_test, y_train, y_test = train_test_split(X, y, test_size=0.2, random_state=42)\n",
    "\n",
    "# Scale the numerical features\n",
    "scaler = StandardScaler()\n",
    "X_train_scaled = scaler.fit_transform(X_train)\n",
    "X_test_scaled = scaler.transform(X_test)\n",
    "\n",
    "# Train the model\n",
    "model = LogisticRegression(max_iter=10000)\n",
    "model.fit(X_train_scaled, y_train)\n",
    "\n",
    "# Obtain predicted probabilities on the testing set\n",
    "y_pred = model.predict_proba(X_test_scaled)[:, 1]\n",
    "\n",
    "# Calculate AUROC\n",
    "auroc = roc_auc_score(y_test, y_pred)\n",
    "\n",
    "print(\"AUROC:\", auroc)"
   ]
  },
  {
   "cell_type": "code",
   "execution_count": 8,
   "metadata": {
    "collapsed": false
   },
   "outputs": [],
   "source": [
    "from sklearn.linear_model import LogisticRegression\n",
    "from sklearn.model_selection import cross_val_score\n",
    "from sklearn.preprocessing import StandardScaler\n",
    "from sklearn.metrics import confusion_matrix\n",
    "\n",
    "X = df.drop(['wl_time'], axis=1)\n",
    "y = df['wl_time']\n",
    "\n",
    "one_hot_cols = [col for col in df.columns if df[col].nunique() == 2]\n",
    "columns_to_scale = [col for col in X.columns if col not in one_hot_cols]\n",
    "\n",
    "scaler = StandardScaler()\n",
    "X[columns_to_scale] = scaler.fit_transform(X[columns_to_scale])"
   ]
  },
  {
   "cell_type": "code",
   "execution_count": 9,
   "metadata": {
    "collapsed": false
   },
   "outputs": [
    {
     "name": "stdout",
     "output_type": "stream",
     "text": [
      "F1 score pre feature selection: 0.6953840663179574\n",
      "F1 macro score pre feature selection: 0.687037727833752\n"
     ]
    }
   ],
   "source": [
    "from sklearn.model_selection import cross_val_predict\n",
    "\n",
    "log = LogisticRegression(max_iter=1000)\n",
    "f1_scores = cross_val_score(log, X, y, cv=5, scoring='f1').mean()\n",
    "print(f\"F1 score pre feature selection: {f1_scores}\")\n",
    "\n",
    "f1_macro_scores = cross_val_score(log, X, y, cv=5, scoring='f1_macro').mean()\n",
    "print(f\"F1 macro score pre feature selection: {f1_macro_scores}\")"
   ]
  },
  {
   "cell_type": "code",
   "execution_count": 10,
   "metadata": {},
   "outputs": [
    {
     "name": "stdout",
     "output_type": "stream",
     "text": [
      "Feature: wgt_kg_tcr, Odds Ratio: 1.5528268548727344\n",
      "Feature: hgt_cm_tcr, Odds Ratio: 1.1082975155143522\n",
      "Feature: most_rcnt_creat, Odds Ratio: 0.9402814040206221\n",
      "Feature: tot_serum_album, Odds Ratio: 1.0671207344547589\n",
      "Feature: hemo_co_tcr, Odds Ratio: 1.0260975603623934\n",
      "Feature: init_age, Odds Ratio: 0.937298967776912\n",
      "Feature: init_hgt_cm_calc, Odds Ratio: 0.9286112065586548\n",
      "Feature: init_wgt_kg_calc, Odds Ratio: 0.9388284307299924\n",
      "Feature: thoracic_dgn_1.0, Odds Ratio: 1.0206429623644777\n",
      "Feature: thoracic_dgn_2.0, Odds Ratio: 1.0839969970005436\n",
      "Feature: thoracic_dgn_3.0, Odds Ratio: 0.9670540332574572\n",
      "Feature: thoracic_dgn_4.0, Odds Ratio: 0.9855139565372963\n",
      "Feature: thoracic_dgn_5.0, Odds Ratio: 1.323892511321021\n",
      "Feature: thoracic_dgn_7.0, Odds Ratio: 0.714418955167991\n",
      "Feature: num_prev_tx_0, Odds Ratio: 0.9625263576816373\n",
      "Feature: num_prev_tx_1, Odds Ratio: 0.8438587695993833\n",
      "Feature: num_prev_tx_2, Odds Ratio: 0.8483648590667491\n",
      "Feature: num_prev_tx_3, Odds Ratio: 1.4472916898233632\n",
      "Feature: tah_N, Odds Ratio: 1.0811525325434477\n",
      "Feature: tah_Y, Odds Ratio: 0.9224315917886757\n",
      "Feature: vas_N, Odds Ratio: 0.7012834927386276\n",
      "Feature: vas_Y, Odds Ratio: 1.4220914393203241\n",
      "Feature: onvent_N, Odds Ratio: 1.2920344860431663\n",
      "Feature: onvent_Y, Odds Ratio: 0.7718751026642378\n",
      "Feature: icu_N, Odds Ratio: 1.0908862243507982\n",
      "Feature: icu_Y, Odds Ratio: 0.9142009765077652\n",
      "Feature: inotropic_N, Odds Ratio: 0.8847493704480235\n",
      "Feature: inotropic_Y, Odds Ratio: 1.1271997300837737\n",
      "Feature: gender_F, Odds Ratio: 0.9684229932903445\n",
      "Feature: gender_M, Odds Ratio: 1.0298074895680396\n",
      "Feature: abo_1, Odds Ratio: 1.0004735929318942\n",
      "Feature: abo_2, Odds Ratio: 1.0861098122563597\n",
      "Feature: abo_3, Odds Ratio: 0.4297768197665606\n",
      "Feature: abo_4, Odds Ratio: 2.135496102463349\n",
      "Feature: education_1.0, Odds Ratio: 0.9787099345255136\n",
      "Feature: education_2.0, Odds Ratio: 0.9943205803395843\n",
      "Feature: education_3.0, Odds Ratio: 1.0248037671554697\n",
      "Feature: ecmo_tcr_0, Odds Ratio: 1.187474476375826\n",
      "Feature: ecmo_tcr_1, Odds Ratio: 0.8398405788089758\n",
      "Feature: iabp_tcr_0, Odds Ratio: 1.1220188380110556\n",
      "Feature: iabp_tcr_1, Odds Ratio: 0.8888346770791908\n",
      "Feature: inotropes_tcr_0, Odds Ratio: 1.2108841382228044\n",
      "Feature: inotropes_tcr_1, Odds Ratio: 0.8236041914166273\n",
      "Feature: func_stat_tcr_1.0, Odds Ratio: 1.222019070215899\n",
      "Feature: func_stat_tcr_2.0, Odds Ratio: 1.0381741648872498\n",
      "Feature: func_stat_tcr_3.0, Odds Ratio: 0.7860912059991796\n",
      "Feature: diab_1.0, Odds Ratio: 0.9506227999197202\n",
      "Feature: diab_2.0, Odds Ratio: 0.8839240859315013\n",
      "Feature: diab_3.0, Odds Ratio: 0.9861555294425645\n",
      "Feature: diab_4.0, Odds Ratio: 1.1440103116885376\n",
      "Feature: diab_5.0, Odds Ratio: 1.0520165953548821\n",
      "Feature: dial_ty_tcr_1.0, Odds Ratio: 0.7160932284167772\n",
      "Feature: dial_ty_tcr_2.0, Odds Ratio: 0.9055899076442059\n",
      "Feature: dial_ty_tcr_3.0, Odds Ratio: 1.5378713192907734\n",
      "Feature: cereb_vasc_N, Odds Ratio: 1.0414476307266713\n",
      "Feature: cereb_vasc_U, Odds Ratio: 0.9421856728279964\n",
      "Feature: cereb_vasc_Y, Odds Ratio: 1.0163591612313925\n",
      "Feature: malig_tcr_N, Odds Ratio: 0.9551179773789581\n",
      "Feature: malig_tcr_U, Odds Ratio: 1.0701665855136588\n",
      "Feature: malig_tcr_Y, Odds Ratio: 0.9756919734895291\n",
      "Feature: cig_use_N, Odds Ratio: 0.9533755050070467\n",
      "Feature: cig_use_Y, Odds Ratio: 1.0460613329403796\n",
      "Feature: prior_card_surg_tcr_N, Odds Ratio: 0.979990912242057\n",
      "Feature: prior_card_surg_tcr_U, Odds Ratio: 0.9095182588440043\n",
      "Feature: prior_card_surg_tcr_Y, Odds Ratio: 1.1188907099359828\n",
      "Feature: histry_cig_old_N, Odds Ratio: 0.9029567060960705\n",
      "Feature: histry_cig_old_U, Odds Ratio: 0.9393352751797992\n",
      "Feature: histry_cig_old_Y, Odds Ratio: 1.1758003327665192\n",
      "Feature: init_stat_1.0, Odds Ratio: 0.3624687709780169\n",
      "Feature: init_stat_2.0, Odds Ratio: 0.9507931432386456\n",
      "Feature: init_stat_3.0, Odds Ratio: 2.043797062241119\n",
      "Feature: init_stat_4.0, Odds Ratio: 1.4158809268829005\n",
      "Feature: ethcat_1, Odds Ratio: 1.0831795201298964\n",
      "Feature: ethcat_2, Odds Ratio: 1.1481065807454993\n",
      "Feature: ethcat_4, Odds Ratio: 0.9565899300407403\n",
      "Feature: ethcat_5, Odds Ratio: 0.9341717834573279\n",
      "Feature: ethcat_6, Odds Ratio: 0.8973997452138963\n",
      "Feature: ventilator_tcr_0, Odds Ratio: 0.8896736358462668\n",
      "Feature: ventilator_tcr_1, Odds Ratio: 1.1209607786249944\n",
      "Feature: work_income_tcr_N, Odds Ratio: 0.9603824859717073\n",
      "Feature: work_income_tcr_U, Odds Ratio: 1.0536997921643716\n",
      "Feature: work_income_tcr_Y, Odds Ratio: 0.9855076788689966\n",
      "F1 score pre feature selection: 0.6953840663179574\n",
      "F1 macro score pre feature selection: 0.687037727833752\n"
     ]
    }
   ],
   "source": [
    "import numpy as     np\n",
    "\n",
    "log.fit(X, y)\n",
    "\n",
    "# Get the coefficients (log odds) of the logistic regression model\n",
    "coefficients = log.coef_[0]\n",
    "\n",
    "# Calculate the odds ratio for each feature\n",
    "odds_ratios = np.exp(coefficients)\n",
    "\n",
    "# Display the odds ratio for each feature\n",
    "for feature, odds_ratio in zip(X.columns, odds_ratios):\n",
    "    print(f\"Feature: {feature}, Odds Ratio: {odds_ratio}\")\n",
    "\n",
    "f1_scores = cross_val_score(log, X, y, cv=5, scoring='f1').mean()\n",
    "print(f\"F1 score pre feature selection: {f1_scores}\")\n",
    "\n",
    "f1_macro_scores = cross_val_score(log, X, y, cv=5, scoring='f1_macro').mean()\n",
    "print(f\"F1 macro score pre feature selection: {f1_macro_scores}\")\n"
   ]
  },
  {
   "cell_type": "code",
   "execution_count": 11,
   "metadata": {
    "collapsed": false
   },
   "outputs": [
    {
     "data": {
      "text/plain": [
       "<Axes: >"
      ]
     },
     "execution_count": 11,
     "metadata": {},
     "output_type": "execute_result"
    },
    {
     "data": {
      "image/png": "[encoded data removed]",
      "text/plain": [
       "<Figure size 640x480 with 2 Axes>"
      ]
     },
     "metadata": {},
     "output_type": "display_data"
    }
   ],
   "source": [
    "import seaborn as sns\n",
    "\n",
    "y_pred = cross_val_predict(log, X, y, cv=5)\n",
    "sns.heatmap(confusion_matrix(y, y_pred), annot=True, cmap='Blues', fmt='g')"
   ]
  },
  {
   "cell_type": "code",
   "execution_count": 12,
   "metadata": {},
   "outputs": [],
   "source": [
    "import seaborn as sns\n",
    "\n",
    "#df.corr()\n",
    "#sns.heatmap(df.corr(), annot=True)"
   ]
  }
 ],
 "metadata": {
  "kernelspec": {
   "display_name": "Python 3",
   "language": "python",
   "name": "python3"
  },
  "language_info": {
   "codemirror_mode": {
    "name": "ipython",
    "version": 3
   },
   "file_extension": ".py",
   "mimetype": "text/x-python",
   "name": "python",
   "nbconvert_exporter": "python",
   "pygments_lexer": "ipython3",
   "version": "3.10.10"
  },
  "orig_nbformat": 4
 },
 "nbformat": 4,
 "nbformat_minor": 2
}
