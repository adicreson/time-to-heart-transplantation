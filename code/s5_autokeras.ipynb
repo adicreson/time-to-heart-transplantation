{
 "cells": [
  {
   "cell_type": "code",
   "execution_count": 19,
   "outputs": [
    {
     "name": "stdout",
     "output_type": "stream",
     "text": [
      "2.0       0.015200\n",
      "3.0       0.014693\n",
      "4.0       0.013186\n",
      "5.0       0.012787\n",
      "6.0       0.012495\n",
      "            ...   \n",
      "3580.0    0.000015\n",
      "2569.0    0.000015\n",
      "2339.0    0.000015\n",
      "2510.0    0.000015\n",
      "1919.0    0.000015\n",
      "Name: wl_time, Length: 2045, dtype: float64\n"
     ]
    }
   ],
   "source": [
    "import pandas as pd\n",
    "\n",
    "file = \"m0_imputed.csv\"\n",
    "df = pd.read_csv(f\"../Data/{file}\")\n",
    "\n",
    "# print amount of values in wl_time column\n",
    "print(df['wl_time'].value_counts(normalize=True))"
   ],
   "metadata": {
    "collapsed": false
   }
  },
  {
   "cell_type": "code",
   "execution_count": 20,
   "outputs": [
    {
     "name": "stdout",
     "output_type": "stream",
     "text": [
      "Median waiting list time: 88.0\n",
      "1    0.501483\n",
      "0    0.498517\n",
      "Name: wl_time, dtype: float64\n"
     ]
    }
   ],
   "source": [
    "median_wl_time = df['wl_time'].median()\n",
    "print(f\"Median waiting list time: {median_wl_time}\")\n",
    "\n",
    "df['wl_time'] = df['wl_time'].apply(lambda x: 0 if x < median_wl_time else 1)\n",
    "print(df['wl_time'].value_counts(normalize=True))"
   ],
   "metadata": {
    "collapsed": false
   }
  },
  {
   "cell_type": "code",
   "execution_count": 21,
   "outputs": [
    {
     "name": "stdout",
     "output_type": "stream",
     "text": [
      "Trial 71 Complete [00h 01m 17s]\n",
      "val_accuracy: 0.7061314582824707\n",
      "\n",
      "Best val_accuracy So Far: 0.7090191841125488\n",
      "Total elapsed time: 00h 01m 17s\n",
      "INFO:tensorflow:Oracle triggered exit\n"
     ]
    },
    {
     "name": "stderr",
     "output_type": "stream",
     "text": [
      "INFO:tensorflow:Oracle triggered exit\n"
     ]
    },
    {
     "name": "stdout",
     "output_type": "stream",
     "text": [
      "Epoch 1/9\n",
      "1627/1627 [==============================] - 3s 1ms/step - loss: 0.6320 - accuracy: 0.6530\n",
      "Epoch 2/9\n",
      "1627/1627 [==============================] - 2s 1ms/step - loss: 0.5927 - accuracy: 0.6908\n",
      "Epoch 3/9\n",
      "1627/1627 [==============================] - 3s 2ms/step - loss: 0.5896 - accuracy: 0.6945\n",
      "Epoch 4/9\n",
      "1627/1627 [==============================] - 2s 1ms/step - loss: 0.5859 - accuracy: 0.6983\n",
      "Epoch 5/9\n",
      "1627/1627 [==============================] - 3s 2ms/step - loss: 0.5846 - accuracy: 0.6974\n",
      "Epoch 6/9\n",
      "1627/1627 [==============================] - 3s 2ms/step - loss: 0.5832 - accuracy: 0.6993\n",
      "Epoch 7/9\n",
      "1627/1627 [==============================] - 2s 2ms/step - loss: 0.5826 - accuracy: 0.7013\n",
      "Epoch 8/9\n",
      "1627/1627 [==============================] - 2s 1ms/step - loss: 0.5800 - accuracy: 0.7011\n",
      "Epoch 9/9\n",
      "1627/1627 [==============================] - 2s 1ms/step - loss: 0.5801 - accuracy: 0.7009\n"
     ]
    },
    {
     "name": "stderr",
     "output_type": "stream",
     "text": [
      "WARNING:absl:Found untraced functions such as _update_step_xla while saving (showing 1 of 1). These functions will not be directly callable after loading.\n"
     ]
    },
    {
     "name": "stdout",
     "output_type": "stream",
     "text": [
      "INFO:tensorflow:Assets written to: ./m0_imputed/best_model/assets\n"
     ]
    },
    {
     "name": "stderr",
     "output_type": "stream",
     "text": [
      "INFO:tensorflow:Assets written to: ./m0_imputed/best_model/assets\n"
     ]
    },
    {
     "name": "stdout",
     "output_type": "stream",
     "text": [
      "407/407 [==============================] - 1s 2ms/step - loss: 0.5908 - accuracy: 0.7015\n",
      "[0.5907767415046692, 0.7014753222465515]\n",
      "407/407 [==============================] - 1s 2ms/step\n",
      "407/407 [==============================] - 1s 2ms/step\n",
      "F1 score: 0.7038646238280356\n",
      "407/407 [==============================] - 1s 1ms/step\n",
      "407/407 [==============================] - 1s 2ms/step\n",
      "F1 Macro: 0.7014559001083008\n"
     ]
    }
   ],
   "source": [
    "from sklearn.model_selection import train_test_split\n",
    "from autokeras import StructuredDataClassifier\n",
    "from sklearn.metrics import f1_score\n",
    "\n",
    "X = df.drop(columns=['wl_time'])\n",
    "y = df['wl_time']\n",
    "X_train, X_test, y_train, y_test = train_test_split(X, y, test_size=0.2, random_state=42)\n",
    "\n",
    "clf = StructuredDataClassifier(max_trials=71,\n",
    "                               project_name=file.split(\".\")[0],\n",
    "                               metrics=[\"accuracy\"],\n",
    "                               overwrite=False)\n",
    "\n",
    "clf.fit(X_train, y_train, verbose=1)\n",
    "print(clf.evaluate(X_test, y_test))\n",
    "f1_s = f1_score(y_test, clf.predict(X_test))\n",
    "print(f\"F1 score: {f1_s}\")\n",
    "print(\"F1 Macro:\", f1_score(y_test, clf.predict(X_test), average='macro'))\n"
   ],
   "metadata": {
    "collapsed": false
   }
  },
  {
   "cell_type": "code",
   "execution_count": 21,
   "outputs": [],
   "source": [],
   "metadata": {
    "collapsed": false
   }
  }
 ],
 "metadata": {
  "kernelspec": {
   "display_name": "Python 3",
   "language": "python",
   "name": "python3"
  },
  "language_info": {
   "codemirror_mode": {
    "name": "ipython",
    "version": 2
   },
   "file_extension": ".py",
   "mimetype": "text/x-python",
   "name": "python",
   "nbconvert_exporter": "python",
   "pygments_lexer": "ipython2",
   "version": "2.7.6"
  }
 },
 "nbformat": 4,
 "nbformat_minor": 0
}
