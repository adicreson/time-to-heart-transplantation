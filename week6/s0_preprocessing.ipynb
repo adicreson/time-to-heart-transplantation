{
 "cells": [
  {
   "cell_type": "code",
   "execution_count": 1,
   "metadata": {
    "collapsed": false
   },
   "outputs": [
    {
     "name": "stderr",
     "output_type": "stream",
     "text": [
      "/tmp/ipykernel_18956/1581763340.py:10: DtypeWarning: Columns (2,64,91,94,97,106,108,109,110,111,112,114,116,119,120,122,127,139,142,143,144,145,152,153,154,155,156,157,159,160,161,163,164,165,169,170,171,172,175,178,179,180,187,189,215,216,217,218,219,317,318) have mixed types. Specify dtype option on import or set low_memory=False.\n",
      "  df = pd.read_csv(base_csv_path)\n"
     ]
    }
   ],
   "source": [
    "import os\n",
    "import pandas as pd\n",
    "import numpy as np\n",
    "\n",
    "base_dir = \"../Data\"\n",
    "base_csv_path = os.path.join(base_dir, 'base.csv')\n",
    "assert os.path.exists(base_csv_path), f\"base {base_csv_path} does not exist\"\n",
    "\n",
    "output_csv_path = os.path.join(base_dir, 'base_cleaned.csv')\n",
    "df = pd.read_csv(base_csv_path)"
   ]
  },
  {
   "cell_type": "code",
   "execution_count": 2,
   "metadata": {},
   "outputs": [
    {
     "name": "stdout",
     "output_type": "stream",
     "text": [
      "Number of columns in base.csv: 320\n",
      "False\n",
      "[]\n",
      "[]\n"
     ]
    }
   ],
   "source": [
    "# List number of columns in base.csv\n",
    "print(f\"Number of columns in base.csv: {len(df.columns)}\")\n",
    "\n",
    "\n",
    "print(\"PRI_PAYMENT_TCR\" in df.columns)\n",
    "\n",
    "#List all columns in base.csv that contain the substring \"TCR\"\n",
    "\n",
    "print([col for col in df.columns if \"TCR\" in col])\n",
    "\n",
    "print([col for col in df.columns if \"pay\" in col])\n",
    "\n"
   ]
  },
  {
   "attachments": {},
   "cell_type": "markdown",
   "metadata": {
    "collapsed": false
   },
   "source": [
    "## Feature selection"
   ]
  },
  {
   "cell_type": "code",
   "execution_count": 3,
   "metadata": {
    "collapsed": false
   },
   "outputs": [],
   "source": [
    "# Replace \"ethnicity\" has been replaced with ethcat variable\n",
    "desired_columns = ['thoracic_dgn', 'num_prev_tx', 'tah', 'vas', 'onvent', 'icu', 'inotropic', 'gender', 'abo',\n",
    "                   'wgt_kg_tcr', 'hgt_cm_tcr', 'education', 'ecmo_tcr', 'iabp_tcr', 'inotropes_tcr', 'func_stat_tcr',\n",
    "                   'diab', 'dial_ty_tcr', 'cereb_vasc', 'malig_tcr', 'most_rcnt_creat', 'tot_serum_album',\n",
    "                   'hemo_co_tcr', 'cig_use', 'prior_card_surg_tcr', 'histry_cig_old', 'init_stat', 'init_creat',\n",
    "                   'init_age', 'ethcat', 'init_hgt_cm_calc', 'init_wgt_kg_calc', 'ventilator_tcr', 'lvad_at_listing',\n",
    "                   'rvad_at_listing', 'work_income_tcr', 'tx_date', 'init_date']\n",
    "\n",
    "df = df[desired_columns]"
   ]
  },
  {
   "cell_type": "code",
   "execution_count": 4,
   "metadata": {
    "collapsed": false
   },
   "outputs": [
    {
     "name": "stdout",
     "output_type": "stream",
     "text": [
      "Removed patients under 18: 16205/120264 (13.47% removed)\n"
     ]
    }
   ],
   "source": [
    "# Remove all init_age under 18\n",
    "pre_len = len(df.index)\n",
    "df = df[df['init_age'] >= 18]\n",
    "post_len = len(df.index)\n",
    "print(\n",
    "    f\"Removed patients under 18: {pre_len - post_len}/{pre_len} ({(pre_len - post_len) / pre_len * 100:.2f}% removed)\")"
   ]
  },
  {
   "attachments": {},
   "cell_type": "markdown",
   "metadata": {
    "collapsed": false
   },
   "source": [
    "## Encoding"
   ]
  },
  {
   "cell_type": "code",
   "execution_count": 5,
   "metadata": {},
   "outputs": [
    {
     "name": "stdout",
     "output_type": "stream",
     "text": [
      "Number of rows with value 6 in ethcat before replacing values: 357\n",
      "Number of rows with value 6 in ethcat after replacing values: 1336\n"
     ]
    }
   ],
   "source": [
    "print(f'Number of rows with value 6 in ethcat before replacing values: {len(df[df[\"ethcat\"] == 6])}')\n",
    "\n",
    "#1=1 (White), 2=2 (Black), 4=4 (Hispanic), 5=5 (Asian),6=6 (tidigare Amer Ind/Alaskan, kodas nu om till Other) 7=6 (tidigare Native Hawaiian, nu Other) 9=6 (tidigare Multiracial, nu Other)\n",
    "df['ethcat'] = df['ethcat'].replace([7, 9, 998], 6)\n",
    "\n",
    "print(f'Number of rows with value 6 in ethcat after replacing values: {len(df[df[\"ethcat\"] == 6])}')"
   ]
  },
  {
   "cell_type": "code",
   "execution_count": 6,
   "metadata": {
    "collapsed": false
   },
   "outputs": [],
   "source": [
    "# Encode education\n",
    "\n",
    "df['education'] = df['education'].replace([2, 3], 1)  # High school or less\n",
    "df['education'] = df['education'].replace([4], 2)  # Some college\n",
    "df['education'] = df['education'].replace([5, 6], 3)  # College or graduate\n",
    "df['education'] = df['education'].replace([996, 998], np.nan)"
   ]
  },
  {
   "cell_type": "code",
   "execution_count": 7,
   "metadata": {
    "collapsed": false
   },
   "outputs": [
    {
     "name": "stdout",
     "output_type": "stream",
     "text": [
      "Removed patients with num_prev_tx > 3: 11/104059 (0.01% removed)\n"
     ]
    }
   ],
   "source": [
    "# TODO: Recode num_prev_tx > 3 to 3\n",
    "pre_len = len(df.index)\n",
    "df = df[df['num_prev_tx'].isna() | df['num_prev_tx'].between(0, 3)]\n",
    "post_len = len(df.index)\n",
    "print(\n",
    "    f\"Removed patients with num_prev_tx > 3: {pre_len - post_len}/{pre_len} ({(pre_len - post_len) / pre_len * 100:.2f}% removed)\")"
   ]
  },
  {
   "cell_type": "code",
   "execution_count": 8,
   "metadata": {
    "collapsed": false
   },
   "outputs": [],
   "source": [
    "# Encode init_stat: label define status 1 \"Status 1A\" 2 \"Status 1B\" 3 \"Status 2\" 4 \"Temp inactive\"\n",
    "\n",
    "df[\"init_stat\"] = df[\"init_stat\"].replace([2010, 2110, 2120, 2130, 2090], 1)\n",
    "df[\"init_stat\"] = df[\"init_stat\"].replace([2020, 2140], 2)\n",
    "df[\"init_stat\"] = df[\"init_stat\"].replace([2030, 2150, 2160], 3)\n",
    "df[\"init_stat\"] = df[\"init_stat\"].replace([2999], 4)"
   ]
  },
  {
   "cell_type": "code",
   "execution_count": 9,
   "metadata": {
    "collapsed": false
   },
   "outputs": [
    {
     "name": "stdout",
     "output_type": "stream",
     "text": [
      "Removed patients with thoracic_dgn that is not nan or 1-7: 56/104048 (0.05% removed)\n"
     ]
    }
   ],
   "source": [
    "# Encode thoracic_dgn: label define diag 1 \"Cardiomyopathy\" 2 \"CAD\" 3 \"Valvular heart disease\" 4 \"Graft failure\" 5 \"Congenital\" 7 \"Other\"\n",
    "df[\"thoracic_dgn\"] = df[\"thoracic_dgn\"].replace(range(1000, 1099 + 1), 1)\n",
    "df[\"thoracic_dgn\"] = df[\"thoracic_dgn\"].replace([1201], 1)\n",
    "df[\"thoracic_dgn\"] = df[\"thoracic_dgn\"].replace([1007, 1200], 2)\n",
    "df[\"thoracic_dgn\"] = df[\"thoracic_dgn\"].replace([1202], 3)\n",
    "df[\"thoracic_dgn\"] = df[\"thoracic_dgn\"].replace(range(1100, 1199 + 1), 4)\n",
    "df[\"thoracic_dgn\"] = df[\"thoracic_dgn\"].replace(range(1203, 1207 + 1), 5)\n",
    "df[\"thoracic_dgn\"] = df[\"thoracic_dgn\"].replace([1208, 1209, 999, 1497, 1498], 7)\n",
    "df[\"thoracic_dgn\"] = df[\"thoracic_dgn\"].replace([1998], np.nan)\n",
    "df[\"thoracic_dgn\"] = df[\"thoracic_dgn\"].replace([1999], np.nan)\n",
    "\n",
    "# Remove all patients with thoracic_dgn that is not nan or 1-7\n",
    "# The prevalence is too low for the other values\n",
    "pre_len = len(df.index)\n",
    "df = df[df['thoracic_dgn'].isna() | df['thoracic_dgn'].between(1, 7)]\n",
    "post_len = len(df.index)\n",
    "print(\n",
    "    f\"Removed patients with thoracic_dgn that is not nan or 1-7: {pre_len - post_len}/{pre_len} ({(pre_len - post_len) / pre_len * 100:.2f}% removed)\")\n"
   ]
  },
  {
   "cell_type": "code",
   "execution_count": 10,
   "metadata": {
    "collapsed": false
   },
   "outputs": [],
   "source": [
    "df[\"func_stat_tcr\"] = df[\"func_stat_tcr\"].replace([2010, 2020, 2030, 2040, 2050, 4010, 4020, 4030, 4040, 4050], 3)\n",
    "df[\"func_stat_tcr\"] = df[\"func_stat_tcr\"].replace([2060, 2070, 2080, 4060, 4070, 4080], 2)\n",
    "df[\"func_stat_tcr\"] = df[\"func_stat_tcr\"].replace([2090, 2100, 4090, 4100], 1)\n",
    "df[\"func_stat_tcr\"] = df[\"func_stat_tcr\"].replace([996, 998], np.nan)"
   ]
  },
  {
   "cell_type": "code",
   "execution_count": 11,
   "metadata": {
    "collapsed": false
   },
   "outputs": [],
   "source": [
    "df[\"abo\"] = df[\"abo\"].replace([\"A\", \"A1\", \"A2\"], 1)\n",
    "df[\"abo\"] = df[\"abo\"].replace([\"B\"], 2)\n",
    "df[\"abo\"] = df[\"abo\"].replace([\"AB\", \"A1B\", \"A2B\"], 3)\n",
    "df[\"abo\"] = df[\"abo\"].replace([\"O\"], 4)"
   ]
  },
  {
   "cell_type": "code",
   "execution_count": 12,
   "metadata": {
    "collapsed": false
   },
   "outputs": [],
   "source": [
    "df[\"diab\"] = df[\"diab\"].replace([996, 998], np.nan)\n",
    "df[\"dial_ty_tcr\"] = df[\"dial_ty_tcr\"].replace([996, 998, 999], np.nan)\n",
    "# df[\"academic_level_tcr\"] = df[\"academic_level_tcr\"].replace([996, 998], np.nan)\n"
   ]
  },
  {
   "attachments": {},
   "cell_type": "markdown",
   "metadata": {
    "collapsed": false
   },
   "source": [
    "## Cleaning"
   ]
  },
  {
   "cell_type": "code",
   "execution_count": 13,
   "metadata": {
    "collapsed": false
   },
   "outputs": [
    {
     "name": "stdout",
     "output_type": "stream",
     "text": [
      "Filtered to only transplanted patients: 66839/103992 (64.27% remaining)\n",
      "Median waitlist time: 87.00 days\n"
     ]
    }
   ],
   "source": [
    "# Remove rows with no transplant date\n",
    "pre_len = len(df.index)\n",
    "df = df[df['tx_date'].notna()]\n",
    "post_len = len(df.index)\n",
    "\n",
    "print(f\"Filtered to only transplanted patients: {post_len}/{pre_len} ({post_len / pre_len * 100:.2f}% remaining)\")\n",
    "\n",
    "# Compute the time to transplant (waitlist time -> wl_time)\n",
    "df['wl_time'] = (\n",
    "        pd.to_datetime(df['tx_date'], format='%d%b%Y') - pd.to_datetime(df['init_date'], format='%d%b%Y')).dt.days\n",
    "df = df.drop(columns=['tx_date', 'init_date'])\n",
    "print(f\"Median waitlist time: {df['wl_time'].median():.2f} days\")\n"
   ]
  },
  {
   "cell_type": "code",
   "execution_count": 14,
   "metadata": {
    "collapsed": false
   },
   "outputs": [
    {
     "name": "stdout",
     "output_type": "stream",
     "text": [
      "Removed columns with all missing values: 1/37 (2.70% removed)\n",
      "Removed columns with no variance: 2/36 (5.56% removed)\n"
     ]
    }
   ],
   "source": [
    "# Remove columns where all values are missing\n",
    "pre_len = len(df.columns)\n",
    "df = df.dropna(axis=1, how='all')\n",
    "post_len = len(df.columns)\n",
    "print(\n",
    "    f\"Removed columns with all missing values: {pre_len - post_len}/{pre_len} ({(pre_len - post_len) / pre_len * 100:.2f}% removed)\")\n",
    "\n",
    "# Remove columns where there is no variance\n",
    "pre_len = len(df.columns)\n",
    "df = df.loc[:, df.nunique() != 1]\n",
    "post_len = len(df.columns)\n",
    "print(\n",
    "    f\"Removed columns with no variance: {pre_len - post_len}/{pre_len} ({(pre_len - post_len) / pre_len * 100:.2f}% removed)\")\n"
   ]
  },
  {
   "cell_type": "code",
   "execution_count": 15,
   "metadata": {
    "collapsed": false
   },
   "outputs": [
    {
     "name": "stdout",
     "output_type": "stream",
     "text": [
      "Removed patients with weight under 30kg or over 250kg: 842/66839 (1.26% removed)\n",
      "Removed patients with height under 140cm or over 210cm: 435/65997 (0.66% removed)\n",
      "Removed patients with creatinine under 0.3 or over 20: 18/65562 (0.03% removed)\n",
      "Removed patients with albumin under 2 or over 7.5: 464/65544 (0.71% removed)\n",
      "Removed patients with cardiac output under 1 or over 20: 13/65080 (0.02% removed)\n"
     ]
    }
   ],
   "source": [
    "# Remove weights under 30kg and over 250kg\n",
    "pre_len = len(df.index)\n",
    "df = df[df['init_wgt_kg_calc'] >= 30]\n",
    "df = df[df['wgt_kg_tcr'] >= 30]\n",
    "df = df[df['init_wgt_kg_calc'] <= 250]\n",
    "df = df[df['wgt_kg_tcr'] <= 250]\n",
    "post_len = len(df.index)\n",
    "print(\n",
    "    f\"Removed patients with weight under 30kg or over 250kg: {pre_len - post_len}/{pre_len} ({(pre_len - post_len) / pre_len * 100:.2f}% removed)\")\n",
    "\n",
    "# Remove heights under 140cm and over 210cm\n",
    "pre_len = len(df.index)\n",
    "df = df[df['init_hgt_cm_calc'] >= 140]\n",
    "df = df[df['hgt_cm_tcr'] >= 140]\n",
    "df = df[df['init_hgt_cm_calc'] <= 210]\n",
    "df = df[df['hgt_cm_tcr'] <= 210]\n",
    "post_len = len(df.index)\n",
    "print(\n",
    "    f\"Removed patients with height under 140cm or over 210cm: {pre_len - post_len}/{pre_len} ({(pre_len - post_len) / pre_len * 100:.2f}% removed)\")\n",
    "\n",
    "# Remove patients with creatinine under 0.3 and over 20 - keep missing values\n",
    "pre_len = len(df.index)\n",
    "df = df[(df['most_rcnt_creat'] >= 0.3) & (df['most_rcnt_creat'] <= 20) | pd.isnull(df['most_rcnt_creat'])]\n",
    "post_len = len(df.index)\n",
    "print(\n",
    "    f\"Removed patients with creatinine under 0.3 or over 20: {pre_len - post_len}/{pre_len} ({(pre_len - post_len) / pre_len * 100:.2f}% removed)\")\n",
    "\n",
    "# Remove patients with albumin under 2 and over 7.5\n",
    "pre_len = len(df.index)\n",
    "df = df[(df['tot_serum_album'] >= 2) & (df['tot_serum_album'] <= 7.5) | pd.isnull(df['tot_serum_album'])]\n",
    "post_len = len(df.index)\n",
    "print(\n",
    "    f\"Removed patients with albumin under 2 or over 7.5: {pre_len - post_len}/{pre_len} ({(pre_len - post_len) / pre_len * 100:.2f}% removed)\")\n",
    "\n",
    "# Remove cardiac output under 1 and over 20\n",
    "pre_len = len(df.index)\n",
    "df = df[(df['hemo_co_tcr'] >= 1) & (df['hemo_co_tcr'] <= 15) | pd.isnull(df['hemo_co_tcr'])]\n",
    "post_len = len(df.index)\n",
    "\n",
    "print(\n",
    "    f\"Removed patients with cardiac output under 1 or over 20: {pre_len - post_len}/{pre_len} ({(pre_len - post_len) / pre_len * 100:.2f}% removed)\")"
   ]
  },
  {
   "cell_type": "code",
   "execution_count": 16,
   "metadata": {
    "collapsed": false
   },
   "outputs": [
    {
     "name": "stdout",
     "output_type": "stream",
     "text": [
      "Number of categorical columns: 25\n",
      "Categorical columns: ['thoracic_dgn', 'num_prev_tx', 'tah', 'vas', 'onvent', 'icu', 'inotropic', 'gender', 'abo', 'education', 'ecmo_tcr', 'iabp_tcr', 'inotropes_tcr', 'func_stat_tcr', 'diab', 'dial_ty_tcr', 'cereb_vasc', 'malig_tcr', 'cig_use', 'prior_card_surg_tcr', 'histry_cig_old', 'init_stat', 'ethcat', 'ventilator_tcr', 'work_income_tcr']\n",
      "thoracic_dgn: [ 1. nan  4.  2.  7.  3.  5.]\n",
      "1.0    47377\n",
      "2.0     5318\n",
      "4.0     1690\n",
      "5.0     1429\n",
      "3.0     1077\n",
      "7.0      890\n",
      "Name: thoracic_dgn, dtype: int64\n",
      "num_prev_tx: [0 1 2 3]\n",
      "0    63092\n",
      "1     1881\n",
      "2       80\n",
      "3       14\n",
      "Name: num_prev_tx, dtype: int64\n",
      "tah: [nan 'N' 'Y']\n",
      "N    19603\n",
      "Y       83\n",
      "Name: tah, dtype: int64\n",
      "vas: [nan 'N' 'Y']\n",
      "N    18789\n",
      "Y      897\n",
      "Name: vas, dtype: int64\n",
      "onvent: [nan 'N' 'Y']\n",
      "N    19032\n",
      "Y      654\n",
      "Name: onvent, dtype: int64\n",
      "icu: [nan 'Y' 'N']\n",
      "Y    11172\n",
      "N     8545\n",
      "Name: icu, dtype: int64\n",
      "inotropic: [nan 'Y' 'N']\n",
      "Y    5263\n",
      "N    3569\n",
      "Name: inotropic, dtype: int64\n",
      "gender: ['M' 'F']\n",
      "M    49530\n",
      "F    15537\n",
      "Name: gender, dtype: int64\n",
      "abo: [4 1 2 3]\n",
      "1    27507\n",
      "4    24985\n",
      "2     9096\n",
      "3     3479\n",
      "Name: abo, dtype: int64\n",
      "education: [ 3. nan  1.  2.]\n",
      "1.0    20882\n",
      "3.0    12367\n",
      "2.0    12134\n",
      "Name: education, dtype: int64\n",
      "ecmo_tcr: [0 1]\n",
      "0    64671\n",
      "1      396\n",
      "Name: ecmo_tcr, dtype: int64\n",
      "iabp_tcr: [0 1]\n",
      "0    61971\n",
      "1     3096\n",
      "Name: iabp_tcr, dtype: int64\n",
      "inotropes_tcr: [1 0]\n",
      "0    45755\n",
      "1    19312\n",
      "Name: inotropes_tcr, dtype: int64\n",
      "func_stat_tcr: [ 3. nan  2.  1.]\n",
      "2.0    19585\n",
      "3.0    18853\n",
      "1.0     5145\n",
      "Name: func_stat_tcr, dtype: int64\n",
      "diab: [ 1. nan  5.  3.  2.  4.]\n",
      "1.0    39969\n",
      "3.0     8264\n",
      "5.0     3865\n",
      "2.0      733\n",
      "4.0      113\n",
      "Name: diab, dtype: int64\n",
      "dial_ty_tcr: [ 1. nan  2.  3.]\n",
      "1.0    51882\n",
      "2.0      928\n",
      "3.0       97\n",
      "Name: dial_ty_tcr, dtype: int64\n",
      "cereb_vasc: ['N' nan 'Y' 'U']\n",
      "N    50050\n",
      "Y     2580\n",
      "U      761\n",
      "Name: cereb_vasc, dtype: int64\n",
      "malig_tcr: ['N' nan 'Y' 'U']\n",
      "N    49186\n",
      "Y     3386\n",
      "U      819\n",
      "Name: malig_tcr, dtype: int64\n",
      "cig_use: ['Y' nan 'N']\n",
      "N    18634\n",
      "Y    15911\n",
      "Name: cig_use, dtype: int64\n",
      "prior_card_surg_tcr: ['Y' 'U' 'N' nan]\n",
      "U    30805\n",
      "N    20573\n",
      "Y    13598\n",
      "Name: prior_card_surg_tcr, dtype: int64\n",
      "histry_cig_old: [nan 'U' 'N' 'Y']\n",
      "Y    4492\n",
      "N    4461\n",
      "U    1138\n",
      "Name: histry_cig_old, dtype: int64\n",
      "init_stat: [ 3.  1.  2.  4. nan]\n",
      "3.0    27305\n",
      "1.0    17180\n",
      "2.0    17021\n",
      "4.0     1750\n",
      "Name: init_stat, dtype: int64\n",
      "ethcat: [1 5 2 4 6]\n",
      "1    47818\n",
      "2    10739\n",
      "4     4308\n",
      "5     1551\n",
      "6      651\n",
      "Name: ethcat, dtype: int64\n",
      "ventilator_tcr: [0 1]\n",
      "0    63696\n",
      "1     1371\n",
      "Name: ventilator_tcr, dtype: int64\n",
      "work_income_tcr: ['N' nan 'Y' 'U']\n",
      "N    29222\n",
      "Y     4601\n",
      "U     1006\n",
      "Name: work_income_tcr, dtype: int64\n"
     ]
    }
   ],
   "source": [
    "# Find the categorical columns using nunique\n",
    "categorical_columns = df.nunique()[df.nunique() < 20].index.tolist()\n",
    "categorical_column_indexes = [df.columns.get_loc(c) for c in categorical_columns if c in df]\n",
    "\n",
    "# Print the number of categorical columns\n",
    "print(f\"Number of categorical columns: {len(categorical_columns)}\")\n",
    "print(f\"Categorical columns: {categorical_columns}\")\n",
    "\n",
    "# print unique values in each categorical column and their frequency\n",
    "for col in categorical_columns:\n",
    "    print(f\"{col}: {df[col].unique()}\")\n",
    "    print(f\"{df[col].value_counts()}\")"
   ]
  },
  {
   "cell_type": "code",
   "execution_count": 17,
   "metadata": {
    "collapsed": false
   },
   "outputs": [
    {
     "name": "stdout",
     "output_type": "stream",
     "text": [
      "thoracic_dgn: 7\n",
      "num_prev_tx: 4\n",
      "tah: 3\n",
      "vas: 3\n",
      "onvent: 3\n",
      "icu: 3\n",
      "inotropic: 3\n",
      "gender: 2\n",
      "abo: 4\n",
      "education: 4\n",
      "ecmo_tcr: 2\n",
      "iabp_tcr: 2\n",
      "inotropes_tcr: 2\n",
      "func_stat_tcr: 4\n",
      "diab: 6\n",
      "dial_ty_tcr: 4\n",
      "cereb_vasc: 4\n",
      "malig_tcr: 4\n",
      "cig_use: 3\n",
      "prior_card_surg_tcr: 4\n",
      "histry_cig_old: 4\n",
      "init_stat: 5\n",
      "ethcat: 5\n",
      "ventilator_tcr: 2\n",
      "work_income_tcr: 4\n",
      "wgt_kg_tcr: 31.2 - 200.0 (0 missing)\n",
      "hgt_cm_tcr: 140.0 - 210.0 (0 missing)\n",
      "most_rcnt_creat: 0.3 - 19.88 (22752 missing)\n",
      "tot_serum_album: 2.0 - 7.5 (39397 missing)\n",
      "hemo_co_tcr: 1.0 - 15.0 (15923 missing)\n",
      "init_age: 18.0 - 78.0 (0 missing)\n",
      "init_hgt_cm_calc: 140.0 - 210.0 (0 missing)\n",
      "init_wgt_kg_calc: 31.2 - 200.0 (0 missing)\n",
      "wl_time: 0 - 6412 (0 missing)\n"
     ]
    }
   ],
   "source": [
    "# print all categorical columns and their amount of unique values\n",
    "for col in categorical_columns:\n",
    "    print(f\"{col}: {len(df[col].unique())}\")\n",
    "\n",
    "# print all min and max values for each column\n",
    "numerical_columns = [col for col in df.columns if col not in categorical_columns]\n",
    "for col in numerical_columns:\n",
    "    amount_missing = df[col].isna().sum()\n",
    "    print(f\"{col}: {df[col].min()} - {df[col].max()} ({amount_missing} missing)\")"
   ]
  },
  {
   "cell_type": "code",
   "execution_count": 18,
   "metadata": {},
   "outputs": [],
   "source": [
    "df.to_csv(output_csv_path, index=False)"
   ]
  }
 ],
 "metadata": {
  "kernelspec": {
   "display_name": "Python 3",
   "language": "python",
   "name": "python3"
  },
  "language_info": {
   "codemirror_mode": {
    "name": "ipython",
    "version": 3
   },
   "file_extension": ".py",
   "mimetype": "text/x-python",
   "name": "python",
   "nbconvert_exporter": "python",
   "pygments_lexer": "ipython3",
   "version": "3.10.10"
  }
 },
 "nbformat": 4,
 "nbformat_minor": 0
}
