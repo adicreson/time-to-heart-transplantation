{
 "cells": [
  {
   "cell_type": "code",
   "execution_count": 1,
   "metadata": {
    "collapsed": false
   },
   "outputs": [],
   "source": [
    "import os\n",
    "import pandas as pd\n",
    "\n",
    "base_dir = \"../../Data\"\n",
    "base_csv_path = os.path.join(base_dir, 'm4_imputed.csv')\n",
    "output_csv_path = os.path.join(base_dir, 'm4_post_feat_sel.csv')\n",
    "assert os.path.exists(base_csv_path), f\"base {base_csv_path} does not exist\"\n",
    "\n",
    "df = pd.read_csv(base_csv_path)"
   ]
  },
  {
   "cell_type": "code",
   "execution_count": 2,
   "metadata": {
    "collapsed": false
   },
   "outputs": [
    {
     "name": "stdout",
     "output_type": "stream",
     "text": [
      "Mean of wl_time: 178.60582822085888\n"
     ]
    }
   ],
   "source": [
    "from sklearn.feature_selection import RFECV\n",
    "from sklearn.linear_model import LogisticRegression\n",
    "\n",
    "mean_wl_time = df['wl_time'].mean()\n",
    "print(f\"Mean of wl_time: {mean_wl_time}\")\n",
    "\n",
    "X = df.drop(['wl_time'], axis=1)\n",
    "y = df['wl_time'].apply(lambda x: 1 if x > mean_wl_time else 0)"
   ]
  },
  {
   "cell_type": "code",
   "execution_count": 3,
   "metadata": {
    "collapsed": false
   },
   "outputs": [],
   "source": [
    "from sklearn.preprocessing import StandardScaler\n",
    "\n",
    "columns_to_scale = [col for col in X.columns if X[col].nunique() > 2]\n",
    "scaler = StandardScaler()\n",
    "X[columns_to_scale] = scaler.fit_transform(X[columns_to_scale])"
   ]
  },
  {
   "cell_type": "code",
   "execution_count": 4,
   "metadata": {
    "collapsed": false
   },
   "outputs": [
    {
     "name": "stdout",
     "output_type": "stream",
     "text": [
      "Fitting estimator with 96 features.\n",
      "Fitting estimator with 95 features.\n"
     ]
    },
    {
     "name": "stderr",
     "output_type": "stream",
     "text": [
      "\n",
      "KeyboardInterrupt\n",
      "\n"
     ]
    }
   ],
   "source": [
    "log = LogisticRegression(max_iter=1000)\n",
    "\n",
    "selector = RFECV(estimator=log, cv=5, scoring='f1', verbose=1)\n",
    "selector.fit(X, y)\n",
    "\n",
    "print(f\"Num of features: {X.shape[1]}\")\n",
    "print(f\"Num of features recommended after feature selection: {selector.n_features_}\")"
   ]
  },
  {
   "cell_type": "code",
   "execution_count": null,
   "metadata": {
    "collapsed": false
   },
   "outputs": [],
   "source": [
    "feature_rankings = list(zip(df.columns, selector.ranking_, selector.support_))\n",
    "feature_rankings_sorted = sorted(feature_rankings, key=lambda x: x[1])\n",
    "\n",
    "X_new = df[[col for col in df.columns if col in X.columns[selector.support_]]]\n",
    "df_sel = pd.concat([X_new, y], axis=1)\n",
    "\n",
    "log.fit(X_new, y)  # Fit to get weight coefficients\n",
    "\n",
    "for feature, ranking, support in feature_rankings_sorted:\n",
    "    print(f\"Feature: {feature}, Ranking: {ranking}, Support: {support}\")"
   ]
  },
  {
   "cell_type": "code",
   "execution_count": null,
   "metadata": {
    "collapsed": false
   },
   "outputs": [],
   "source": [
    "#Print the weights of the model with the corresponding feature name\n",
    "weights = list(zip(X_new.columns, log.coef_[0]))\n",
    "weights_sorted = sorted(weights, key=lambda x: x[1])\n",
    "for feature, weight in weights_sorted:\n",
    "    print(f\"Feature: {feature}, Weight: {weight}\")"
   ]
  },
  {
   "cell_type": "code",
   "execution_count": null,
   "metadata": {
    "collapsed": false
   },
   "outputs": [],
   "source": [
    "df_sel.to_csv(output_csv_path, index=False)"
   ]
  }
 ],
 "metadata": {
  "kernelspec": {
   "display_name": "Python 3",
   "language": "python",
   "name": "python3"
  },
  "language_info": {
   "codemirror_mode": {
    "name": "ipython",
    "version": 3
   },
   "file_extension": ".py",
   "mimetype": "text/x-python",
   "name": "python",
   "nbconvert_exporter": "python",
   "pygments_lexer": "ipython3",
   "version": "3.10.10"
  }
 },
 "nbformat": 4,
 "nbformat_minor": 0
}
