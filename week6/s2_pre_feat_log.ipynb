{
 "cells": [
  {
   "cell_type": "code",
   "execution_count": 4,
   "metadata": {},
   "outputs": [],
   "source": [
    "import os\n",
    "import pandas as pd\n",
    "\n",
    "base_dir = \"../Data\"\n",
    "base_csv_path = os.path.join(base_dir, 'm4_imputed.csv')\n",
    "assert os.path.exists(base_csv_path), f\"{base_csv_path} does not exist\"\n",
    "\n",
    "df = pd.read_csv(base_csv_path)"
   ]
  },
  {
   "cell_type": "code",
   "execution_count": 5,
   "metadata": {},
   "outputs": [
    {
     "name": "stdout",
     "output_type": "stream",
     "text": [
      "Number of missing values in wl_time: 0\n",
      "Number of values in wl_time: 65107\n",
      "Median for wl_time: 88.0\n",
      "Percentage of 0 and 1 in wl_time: \n",
      "1    50.154361\n",
      "0    49.845639\n",
      "Name: wl_time, dtype: float64\n",
      "Number of missing values in wl_time: 0\n"
     ]
    }
   ],
   "source": [
    "#Print number of missing values in wl_tme\n",
    "print(f'Number of missing values in wl_time: {df[\"wl_time\"].isnull().sum()}')\n",
    "\n",
    "#Print number of values in wl_time\n",
    "print(f'Number of values in wl_time: {df[\"wl_time\"].count()}')\n",
    "\n",
    "wl_median = df['wl_time'].median()\n",
    "\n",
    "#Print median for wl_time\n",
    "print(f'Median for wl_time: {wl_median}')\n",
    "\n",
    "#Code wl_time to 0 if wl_time is is less than the median else 1\n",
    "df['wl_time'] = df['wl_time'].apply(lambda x: 0 if x < wl_median else 1)\n",
    "\n",
    "#Print percentage of 0 and 1 in wl_time\n",
    "print(f'Percentage of 0 and 1 in wl_time: \\n{df[\"wl_time\"].value_counts(normalize=True) * 100}')\n",
    "\n",
    "#Print number of missing values in wl_time\n",
    "print(f'Number of missing values in wl_time: {df[\"wl_time\"].isnull().sum()}')"
   ]
  },
  {
   "cell_type": "code",
   "execution_count": 6,
   "metadata": {
    "collapsed": false
   },
   "outputs": [],
   "source": [
    "from sklearn.linear_model import LogisticRegression\n",
    "from sklearn.model_selection import cross_val_score\n",
    "from sklearn.preprocessing import StandardScaler\n",
    "from sklearn.metrics import confusion_matrix\n",
    "\n",
    "X = df.drop(['wl_time'], axis=1)\n",
    "y = df['wl_time']\n",
    "\n",
    "one_hot_cols = [col for col in df.columns if df[col].nunique() == 2]\n",
    "columns_to_scale = [col for col in X.columns if col not in one_hot_cols]\n",
    "\n",
    "scaler = StandardScaler()\n",
    "X[columns_to_scale] = scaler.fit_transform(X[columns_to_scale])"
   ]
  },
  {
   "cell_type": "code",
   "execution_count": 7,
   "metadata": {
    "collapsed": false
   },
   "outputs": [
    {
     "name": "stdout",
     "output_type": "stream",
     "text": [
      "F1 score pre feature selection: 0.694265549758162\n",
      "F1 macro score pre feature selection: 0.6863939980707718\n"
     ]
    }
   ],
   "source": [
    "from sklearn.model_selection import cross_val_predict\n",
    "\n",
    "log = LogisticRegression(max_iter=1000)\n",
    "f1_scores = cross_val_score(log, X, y, cv=5, scoring='f1').mean()\n",
    "print(f\"F1 score pre feature selection: {f1_scores}\")\n",
    "\n",
    "f1_macro_scores = cross_val_score(log, X, y, cv=5, scoring='f1_macro').mean()\n",
    "print(f\"F1 macro score pre feature selection: {f1_macro_scores}\")"
   ]
  },
  {
   "cell_type": "code",
   "execution_count": 8,
   "metadata": {},
   "outputs": [
    {
     "name": "stdout",
     "output_type": "stream",
     "text": [
      "Feature: wgt_kg_tcr, Odds Ratio: 1.5668373312826005\n",
      "Feature: hgt_cm_tcr, Odds Ratio: 1.1131283456187895\n",
      "Feature: most_rcnt_creat, Odds Ratio: 0.9654326674947533\n",
      "Feature: tot_serum_album, Odds Ratio: 1.0813107415452228\n",
      "Feature: hemo_co_tcr, Odds Ratio: 1.019329953979237\n",
      "Feature: init_age, Odds Ratio: 0.9502242052025391\n",
      "Feature: init_hgt_cm_calc, Odds Ratio: 0.9296545342887371\n",
      "Feature: init_wgt_kg_calc, Odds Ratio: 0.9313045501647454\n",
      "Feature: thoracic_dgn_1.0, Odds Ratio: 0.8252424821598124\n",
      "Feature: thoracic_dgn_2.0, Odds Ratio: 0.8972897773078921\n",
      "Feature: thoracic_dgn_3.0, Odds Ratio: 0.8208882618760108\n",
      "Feature: thoracic_dgn_4.0, Odds Ratio: 0.7731939143006188\n",
      "Feature: thoracic_dgn_5.0, Odds Ratio: 0.997943991592086\n",
      "Feature: thoracic_dgn_7.0, Odds Ratio: 0.5482170608393582\n",
      "Feature: thoracic_dgn_100.0, Odds Ratio: 0.5619005999768997\n",
      "Feature: thoracic_dgn_1500.0, Odds Ratio: 1.5941804381575884\n",
      "Feature: thoracic_dgn_1501.0, Odds Ratio: 1.4889864477137118\n",
      "Feature: thoracic_dgn_1549.0, Odds Ratio: 1.2059242621990198\n",
      "Feature: thoracic_dgn_1550.0, Odds Ratio: 1.365348183915336\n",
      "Feature: thoracic_dgn_1551.0, Odds Ratio: 1.1551466289707766\n",
      "Feature: thoracic_dgn_1600.0, Odds Ratio: 1.5100189496645593\n",
      "Feature: thoracic_dgn_1601.0, Odds Ratio: 3.06803246033825\n",
      "Feature: thoracic_dgn_1602.0, Odds Ratio: 0.8468219809758146\n",
      "Feature: thoracic_dgn_1604.0, Odds Ratio: 1.331976800158712\n",
      "Feature: thoracic_dgn_1605.0, Odds Ratio: 0.24403523661690824\n",
      "Feature: thoracic_dgn_1606.0, Odds Ratio: 0.6423388794104894\n",
      "Feature: thoracic_dgn_1607.0, Odds Ratio: 1.8860812500973916\n",
      "Feature: num_prev_tx_0, Odds Ratio: 1.1420881187278369\n",
      "Feature: num_prev_tx_1, Odds Ratio: 1.0150015313110456\n",
      "Feature: num_prev_tx_2, Odds Ratio: 1.0007286106845235\n",
      "Feature: num_prev_tx_3, Odds Ratio: 1.5512894612631092\n",
      "Feature: num_prev_tx_4, Odds Ratio: 1.0843295092390295\n",
      "Feature: num_prev_tx_5, Odds Ratio: 0.8323442425733463\n",
      "Feature: num_prev_tx_6, Odds Ratio: 0.9452115952983109\n",
      "Feature: num_prev_tx_7, Odds Ratio: 0.8044797257319899\n",
      "Feature: num_prev_tx_10, Odds Ratio: 0.8159399023691669\n",
      "Feature: tah_N, Odds Ratio: 1.1202375080925226\n",
      "Feature: tah_Y, Odds Ratio: 0.8995637225613022\n",
      "Feature: vas_N, Odds Ratio: 0.7885939341372676\n",
      "Feature: vas_Y, Odds Ratio: 1.2778756966159535\n",
      "Feature: onvent_N, Odds Ratio: 1.0977341635423434\n",
      "Feature: onvent_Y, Odds Ratio: 0.9180046102241336\n",
      "Feature: icu_N, Odds Ratio: 0.9864875980604684\n",
      "Feature: icu_Y, Odds Ratio: 1.0215283242423172\n",
      "Feature: inotropic_N, Odds Ratio: 1.1632700610460125\n",
      "Feature: inotropic_Y, Odds Ratio: 0.8662863909919394\n",
      "Feature: gender_F, Odds Ratio: 0.979733759117455\n",
      "Feature: gender_M, Odds Ratio: 1.0285702759089972\n",
      "Feature: abo_1, Odds Ratio: 1.0106649151779319\n",
      "Feature: abo_2, Odds Ratio: 1.0902871442707924\n",
      "Feature: abo_3, Odds Ratio: 0.42799397715785126\n",
      "Feature: abo_4, Odds Ratio: 2.1367627509988543\n",
      "Feature: education_1.0, Odds Ratio: 0.9693997649862576\n",
      "Feature: education_2.0, Odds Ratio: 1.0386176846386959\n",
      "Feature: education_3.0, Odds Ratio: 1.0008832458947718\n",
      "Feature: ecmo_tcr_0, Odds Ratio: 1.2500331471878265\n",
      "Feature: ecmo_tcr_1, Odds Ratio: 0.8061586408325602\n",
      "Feature: iabp_tcr_0, Odds Ratio: 1.126936665158903\n",
      "Feature: iabp_tcr_1, Odds Ratio: 0.8942162005092072\n",
      "Feature: inotropes_tcr_0, Odds Ratio: 1.1575619714659668\n",
      "Feature: inotropes_tcr_1, Odds Ratio: 0.8705581625637056\n",
      "Feature: func_stat_tcr_1.0, Odds Ratio: 1.278942383776686\n",
      "Feature: func_stat_tcr_2.0, Odds Ratio: 0.9968456398058675\n",
      "Feature: func_stat_tcr_3.0, Odds Ratio: 0.7904295158528932\n",
      "Feature: diab_1.0, Odds Ratio: 1.0014950817452475\n",
      "Feature: diab_2.0, Odds Ratio: 0.7564447388913246\n",
      "Feature: diab_3.0, Odds Ratio: 1.0263306418673463\n",
      "Feature: diab_4.0, Odds Ratio: 1.106638947250385\n",
      "Feature: diab_5.0, Odds Ratio: 1.1711776314029492\n",
      "Feature: dial_ty_tcr_1.0, Odds Ratio: 0.7366217313603239\n",
      "Feature: dial_ty_tcr_2.0, Odds Ratio: 0.8900432311858542\n",
      "Feature: dial_ty_tcr_3.0, Odds Ratio: 1.5370444036329705\n",
      "Feature: cereb_vasc_N, Odds Ratio: 1.0428142180917512\n",
      "Feature: cereb_vasc_U, Odds Ratio: 0.9269196665381595\n",
      "Feature: cereb_vasc_Y, Odds Ratio: 1.0425406606913092\n",
      "Feature: malig_tcr_N, Odds Ratio: 0.9369040150430094\n",
      "Feature: malig_tcr_U, Odds Ratio: 1.1060866814966355\n",
      "Feature: malig_tcr_Y, Odds Ratio: 0.9724287260415843\n",
      "Feature: cig_use_N, Odds Ratio: 1.0063259732974454\n",
      "Feature: cig_use_Y, Odds Ratio: 1.0013902549201925\n",
      "Feature: prior_card_surg_tcr_N, Odds Ratio: 0.9936210172710073\n",
      "Feature: prior_card_surg_tcr_U, Odds Ratio: 0.8976291487813102\n",
      "Feature: prior_card_surg_tcr_Y, Odds Ratio: 1.1298592005887305\n",
      "Feature: histry_cig_old_N, Odds Ratio: 0.9343259635591294\n",
      "Feature: histry_cig_old_U, Odds Ratio: 1.0229491527031427\n",
      "Feature: histry_cig_old_Y, Odds Ratio: 1.054361594790109\n",
      "Feature: init_stat_1.0, Odds Ratio: 0.4070612636944543\n",
      "Feature: init_stat_2.0, Odds Ratio: 0.9974230632911761\n",
      "Feature: init_stat_3.0, Odds Ratio: 1.8294322153205214\n",
      "Feature: init_stat_4.0, Odds Ratio: 1.3567084738414177\n",
      "Feature: ethcat_1, Odds Ratio: 1.0771773517560135\n",
      "Feature: ethcat_2, Odds Ratio: 1.1559497857839693\n",
      "Feature: ethcat_4, Odds Ratio: 0.9653031815444706\n",
      "Feature: ethcat_5, Odds Ratio: 0.9397969301365857\n",
      "Feature: ethcat_6, Odds Ratio: 0.8921093695985206\n",
      "Feature: ventilator_tcr_0, Odds Ratio: 0.8603076530508681\n",
      "Feature: ventilator_tcr_1, Odds Ratio: 1.1713542467732265\n",
      "Feature: work_income_tcr_N, Odds Ratio: 0.9494374793543688\n",
      "Feature: work_income_tcr_U, Odds Ratio: 1.0307546557161975\n",
      "Feature: work_income_tcr_Y, Odds Ratio: 1.0297228877922877\n",
      "Feature: academic_level_tcr_1.0, Odds Ratio: 0.9598307506091606\n",
      "Feature: academic_level_tcr_2.0, Odds Ratio: 1.1330568939630365\n",
      "Feature: academic_level_tcr_3.0, Odds Ratio: 0.926607189634494\n",
      "F1 score pre feature selection: 0.694265549758162\n",
      "F1 macro score pre feature selection: 0.6863939980707718\n"
     ]
    }
   ],
   "source": [
    "import numpy as np\n",
    "\n",
    "log.fit(X, y)\n",
    "\n",
    "# Get the coefficients (log odds) of the logistic regression model\n",
    "coefficients = log.coef_[0]\n",
    "\n",
    "# Calculate the odds ratio for each feature\n",
    "odds_ratios = np.exp(coefficients)\n",
    "\n",
    "# Display the odds ratio for each feature\n",
    "for feature, odds_ratio in zip(X.columns, odds_ratios):\n",
    "    print(f\"Feature: {feature}, Odds Ratio: {odds_ratio}\")\n",
    "\n",
    "f1_scores = cross_val_score(log, X, y, cv=5, scoring='f1').mean()\n",
    "print(f\"F1 score pre feature selection: {f1_scores}\")\n",
    "\n",
    "f1_macro_scores = cross_val_score(log, X, y, cv=5, scoring='f1_macro').mean()\n",
    "print(f\"F1 macro score pre feature selection: {f1_macro_scores}\")\n"
   ]
  },
  {
   "cell_type": "code",
   "execution_count": 9,
   "metadata": {
    "collapsed": false
   },
   "outputs": [
    {
     "data": {
      "text/plain": "<AxesSubplot: >"
     },
     "execution_count": 9,
     "metadata": {},
     "output_type": "execute_result"
    },
    {
     "data": {
      "text/plain": "<Figure size 640x480 with 2 Axes>",
      "image/png": "[encoded data removed]"
     },
     "metadata": {},
     "output_type": "display_data"
    }
   ],
   "source": [
    "import seaborn as sns\n",
    "\n",
    "y_pred = cross_val_predict(log, X, y, cv=5)\n",
    "sns.heatmap(confusion_matrix(y, y_pred), annot=True, cmap='Blues', fmt='g')"
   ]
  }
 ],
 "metadata": {
  "kernelspec": {
   "display_name": "Python 3",
   "language": "python",
   "name": "python3"
  },
  "language_info": {
   "codemirror_mode": {
    "name": "ipython",
    "version": 3
   },
   "file_extension": ".py",
   "mimetype": "text/x-python",
   "name": "python",
   "nbconvert_exporter": "python",
   "pygments_lexer": "ipython3",
   "version": "3.10.10"
  },
  "orig_nbformat": 4
 },
 "nbformat": 4,
 "nbformat_minor": 2
}
