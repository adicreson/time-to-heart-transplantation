{
 "cells": [
  {
   "cell_type": "code",
   "execution_count": 27,
   "metadata": {
    "collapsed": false
   },
   "outputs": [],
   "source": [
    "import os\n",
    "import pandas as pd\n",
    "\n",
    "base_dir = \"../Data\"\n",
    "base_csv_path = os.path.join(base_dir, 'base_cleaned.csv')\n",
    "assert os.path.exists(base_csv_path), f\"base {base_csv_path} does not exist\"\n",
    "\n",
    "output_csv_path = os.path.join(base_dir, 'm1_imputed.csv')\n",
    "df = pd.read_csv(base_csv_path)"
   ]
  },
  {
   "cell_type": "code",
   "execution_count": 28,
   "metadata": {
    "collapsed": false
   },
   "outputs": [
    {
     "name": "stdout",
     "output_type": "stream",
     "text": [
      "Number of categorical columns: 25\n",
      "Categorical columns: ['thoracic_dgn', 'num_prev_tx', 'tah', 'vas', 'onvent', 'icu', 'inotropic', 'gender', 'abo', 'education', 'ecmo_tcr', 'iabp_tcr', 'inotropes_tcr', 'func_stat_tcr', 'diab', 'dial_ty_tcr', 'cereb_vasc', 'malig_tcr', 'cig_use', 'prior_card_surg_tcr', 'histry_cig_old', 'init_stat', 'ethcat', 'ventilator_tcr', 'work_income_tcr']\n"
     ]
    }
   ],
   "source": [
    "# Find the categorical columns using nunique\n",
    "categorical_columns = df.nunique()[df.nunique() < 10].index.tolist()\n",
    "categorical_column_indexes = [df.columns.get_loc(c) for c in categorical_columns if c in df]\n",
    "\n",
    "# Print the number of categorical columns\n",
    "print(f\"Number of categorical columns: {len(categorical_columns)}\")\n",
    "print(f\"Categorical columns: {categorical_columns}\")"
   ]
  },
  {
   "cell_type": "code",
   "execution_count": 29,
   "metadata": {},
   "outputs": [
    {
     "name": "stdout",
     "output_type": "stream",
     "text": [
      "Total number of missing values in categorical columns before replacing missing values with 'missing': 451455\n",
      "Total number of missing values in categorical columns after replacing missing values with 'missing': 0\n"
     ]
    }
   ],
   "source": [
    "print(\n",
    "    f\"Total number of missing values in categorical columns before replacing missing values with 'missing': {df[categorical_columns].isnull().sum().sum()}\")\n",
    "\n",
    "# For all categorical columns, replace missing values with the string \"missing\"\n",
    "for col in categorical_columns:\n",
    "    df[col] = df[col].fillna(\"missing\")\n",
    "\n",
    "print(\n",
    "    f\"Total number of missing values in categorical columns after replacing missing values with 'missing': {df[categorical_columns].isnull().sum().sum()}\")\n"
   ]
  },
  {
   "cell_type": "code",
   "execution_count": 30,
   "metadata": {},
   "outputs": [
    {
     "name": "stdout",
     "output_type": "stream",
     "text": [
      "    most_rcnt_creat  most_rcnt_creat_missing\n",
      "0               0.9                        0\n",
      "1               NaN                        1\n",
      "2               NaN                        1\n",
      "3               NaN                        1\n",
      "4               NaN                        1\n",
      "5               NaN                        1\n",
      "6               1.3                        0\n",
      "7               NaN                        1\n",
      "8               NaN                        1\n",
      "9               NaN                        1\n",
      "10              NaN                        1\n",
      "11              0.7                        0\n",
      "12              NaN                        1\n",
      "13              NaN                        1\n",
      "14              0.8                        0\n"
     ]
    }
   ],
   "source": [
    "#For all the non categorical columns, add another column with the same name as the original column name with the suffix \"_missing\", that for each value in the original column, it is 1 if the value is missing and 0 otherwise.\n",
    "numerical_columns = [c for c in df.columns if c not in categorical_columns] \n",
    "\n",
    "for col in numerical_columns:\n",
    "    #except for wl_time\n",
    "    if col != \"wl_time\":\n",
    "        df[col + \"_missing\"] = df[col].isnull().astype(int)\n",
    "\n",
    "#Print first 15 rows of most_rcnt_creat and most_rcnt_creat_missing\n",
    "print(df[[\"most_rcnt_creat\", \"most_rcnt_creat_missing\"]].head(15))"
   ]
  },
  {
   "cell_type": "code",
   "execution_count": 31,
   "metadata": {
    "collapsed": false
   },
   "outputs": [
    {
     "name": "stdout",
     "output_type": "stream",
     "text": [
      "Number of columns before imputation: 42\n",
      "Number of missing values before imputation: 78072\n",
      "Number of missing values after imputation: 0\n",
      "Number of columns after imputation: 42\n"
     ]
    }
   ],
   "source": [
    "from sklearn.impute import SimpleImputer\n",
    "\n",
    "print(f\"Number of columns before imputation: {len(df.columns)}\")\n",
    "imputer = SimpleImputer(strategy='median')\n",
    "\n",
    "print(f\"Number of missing values before imputation: {df.isnull().sum().sum()}\")\n",
    "df_num = df.drop(columns=categorical_columns)  # Drop categorical columns\n",
    "df_cat = df[categorical_columns]  # Keep categorical columns\n",
    "\n",
    "df_num = pd.DataFrame(imputer.fit_transform(df_num), columns=df_num.columns,\n",
    "                      index=df_num.index)  # Impute missing values in df_num\n",
    "df = pd.concat([df_num, df_cat], axis=1)  # Merge to final dataframe\n",
    "\n",
    "print(f\"Number of missing values after imputation: {df.isnull().sum().sum()}\")\n",
    "print(f\"Number of columns after imputation: {len(df.columns)}\")"
   ]
  },
  {
   "cell_type": "code",
   "execution_count": 32,
   "metadata": {
    "collapsed": false
   },
   "outputs": [],
   "source": [
    "# One hot encode the categorical columns\n",
    "df = pd.get_dummies(df, columns=categorical_columns)\n",
    "df.to_csv(output_csv_path, index=False)"
   ]
  }
 ],
 "metadata": {
  "kernelspec": {
   "display_name": "Python 3",
   "language": "python",
   "name": "python3"
  },
  "language_info": {
   "codemirror_mode": {
    "name": "ipython",
    "version": 3
   },
   "file_extension": ".py",
   "mimetype": "text/x-python",
   "name": "python",
   "nbconvert_exporter": "python",
   "pygments_lexer": "ipython3",
   "version": "3.10.10"
  }
 },
 "nbformat": 4,
 "nbformat_minor": 0
}
