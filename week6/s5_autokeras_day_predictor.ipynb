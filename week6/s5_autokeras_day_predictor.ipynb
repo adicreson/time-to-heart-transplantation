{
 "cells": [
  {
   "cell_type": "code",
   "execution_count": 10,
   "outputs": [],
   "source": [
    "import pandas as pd\n",
    "\n",
    "df = pd.read_csv(\"../Data/m4_imputed.csv\")\n"
   ],
   "metadata": {
    "collapsed": false
   }
  },
  {
   "cell_type": "code",
   "execution_count": 11,
   "outputs": [
    {
     "name": "stdout",
     "output_type": "stream",
     "text": [
      "Median waiting list time: 88.0\n"
     ]
    }
   ],
   "source": [
    "median_wl_time = df['wl_time'].median()\n",
    "print(f\"Median waiting list time: {median_wl_time}\")"
   ],
   "metadata": {
    "collapsed": false
   }
  },
  {
   "cell_type": "code",
   "execution_count": 12,
   "outputs": [
    {
     "name": "stdout",
     "output_type": "stream",
     "text": [
      "INFO:tensorflow:Reloading Tuner from ./structured_data_regressor/tuner0.json\n"
     ]
    },
    {
     "name": "stderr",
     "output_type": "stream",
     "text": [
      "INFO:tensorflow:Reloading Tuner from ./structured_data_regressor/tuner0.json\n"
     ]
    },
    {
     "name": "stdout",
     "output_type": "stream",
     "text": [
      "\n",
      "Search: Running Trial #11\n",
      "\n",
      "Value             |Best Value So Far |Hyperparameter\n",
      "False             |True              |structured_data_block_1/normalize\n",
      "False             |False             |structured_data_block_1/dense_block_1/use_batchnorm\n",
      "1                 |1                 |structured_data_block_1/dense_block_1/num_layers\n",
      "32                |32                |structured_data_block_1/dense_block_1/units_0\n",
      "0.25              |0.25              |structured_data_block_1/dense_block_1/dropout\n",
      "32                |32                |structured_data_block_1/dense_block_1/units_1\n",
      "0                 |0                 |regression_head_1/dropout\n",
      "adam              |adam              |optimizer\n",
      "0.001             |0.001             |learning_rate\n",
      "64                |64                |structured_data_block_1/dense_block_1/units_2\n",
      "\n"
     ]
    },
    {
     "name": "stderr",
     "output_type": "stream",
     "text": [
      "\n",
      "KeyboardInterrupt\n",
      "\n"
     ]
    }
   ],
   "source": [
    "from sklearn.model_selection import train_test_split\n",
    "from autokeras import StructuredDataRegressor\n",
    "from sklearn.metrics import f1_score\n",
    "\n",
    "X = df.drop(columns=['wl_time'])\n",
    "y = df['wl_time']\n",
    "X_train, X_test, y_train, y_test = train_test_split(X, y, test_size=0.2, random_state=42)\n",
    "\n",
    "# Use mae (mean absolute error) as the objective since we want to predict the exact waiting list time\n",
    "reg = StructuredDataRegressor(max_trials=100, loss='mse', metrics=['mae', 'mse'], overwrite=False)\n",
    "reg.fit(X_train, y_train, verbose=1)\n",
    "print(reg.evaluate(X_test, y_test))\n",
    "\n"
   ],
   "metadata": {
    "collapsed": false
   }
  },
  {
   "cell_type": "code",
   "execution_count": null,
   "outputs": [],
   "source": [],
   "metadata": {
    "collapsed": false
   }
  }
 ],
 "metadata": {
  "kernelspec": {
   "display_name": "Python 3",
   "language": "python",
   "name": "python3"
  },
  "language_info": {
   "codemirror_mode": {
    "name": "ipython",
    "version": 2
   },
   "file_extension": ".py",
   "mimetype": "text/x-python",
   "name": "python",
   "nbconvert_exporter": "python",
   "pygments_lexer": "ipython2",
   "version": "2.7.6"
  }
 },
 "nbformat": 4,
 "nbformat_minor": 0
}
