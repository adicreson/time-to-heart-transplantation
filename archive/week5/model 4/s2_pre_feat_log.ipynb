{
 "cells": [
  {
   "cell_type": "code",
   "execution_count": 1,
   "metadata": {},
   "outputs": [],
   "source": [
    "import os\n",
    "import pandas as pd\n",
    "\n",
    "base_dir = \"../../Data\"\n",
    "base_csv_path = os.path.join(base_dir, 'm4_imputed.csv')\n",
    "assert os.path.exists(base_csv_path), f\"{base_csv_path} does not exist\"\n",
    "\n",
    "df = pd.read_csv(base_csv_path)"
   ]
  },
  {
   "cell_type": "code",
   "execution_count": 2,
   "metadata": {},
   "outputs": [
    {
     "name": "stdout",
     "output_type": "stream",
     "text": [
      "Number of missing values in wl_time: 0\n",
      "Number of values in wl_time: 23484\n",
      "Median for wl_time: 92.0\n",
      "Percentage of 0 and 1 in wl_time: \n",
      "1    50.242718\n",
      "0    49.757282\n",
      "Name: wl_time, dtype: float64\n",
      "Number of missing values in wl_time: 0\n"
     ]
    }
   ],
   "source": [
    "#Print number of missing values in wl_tme\n",
    "print(f'Number of missing values in wl_time: {df[\"wl_time\"].isnull().sum()}')\n",
    "\n",
    "#Print number of values in wl_time\n",
    "print(f'Number of values in wl_time: {df[\"wl_time\"].count()}')\n",
    "\n",
    "wl_median = df['wl_time'].median()\n",
    "\n",
    "#Print median for wl_time\n",
    "print(f'Median for wl_time: {wl_median}')\n",
    "\n",
    "#Code wl_time to 0 if wl_time is is less than the median else 1\n",
    "df['wl_time'] = df['wl_time'].apply(lambda x: 0 if x < wl_median else 1)\n",
    "\n",
    "#Print percentage of 0 and 1 in wl_time\n",
    "print(f'Percentage of 0 and 1 in wl_time: \\n{df[\"wl_time\"].value_counts(normalize=True) * 100}')\n",
    "\n",
    "#Print number of missing values in wl_time\n",
    "print(f'Number of missing values in wl_time: {df[\"wl_time\"].isnull().sum()}')"
   ]
  },
  {
   "cell_type": "code",
   "execution_count": 3,
   "metadata": {
    "collapsed": false
   },
   "outputs": [],
   "source": [
    "from sklearn.linear_model import LogisticRegression\n",
    "from sklearn.model_selection import cross_val_score\n",
    "from sklearn.preprocessing import StandardScaler\n",
    "from sklearn.metrics import confusion_matrix\n",
    "\n",
    "X = df.drop(['wl_time'], axis=1)\n",
    "y = df['wl_time']\n",
    "\n",
    "one_hot_cols = [col for col in df.columns if df[col].nunique() == 2]\n",
    "columns_to_scale = [col for col in X.columns if col not in one_hot_cols]\n",
    "\n",
    "scaler = StandardScaler()\n",
    "X[columns_to_scale] = scaler.fit_transform(X[columns_to_scale])"
   ]
  },
  {
   "cell_type": "code",
   "execution_count": 4,
   "metadata": {
    "collapsed": false
   },
   "outputs": [
    {
     "name": "stdout",
     "output_type": "stream",
     "text": [
      "F1 score pre feature selection: 0.6845460787359503\n",
      "F1 macro score pre feature selection: 0.6819214643710756\n"
     ]
    }
   ],
   "source": [
    "from sklearn.model_selection import cross_val_predict\n",
    "\n",
    "log = LogisticRegression(max_iter=1000)\n",
    "f1_scores = cross_val_score(log, X, y, cv=5, scoring='f1').mean()\n",
    "print(f\"F1 score pre feature selection: {f1_scores}\")\n",
    "\n",
    "f1_macro_scores = cross_val_score(log, X, y, cv=5, scoring='f1_macro').mean()\n",
    "print(f\"F1 macro score pre feature selection: {f1_macro_scores}\")"
   ]
  },
  {
   "cell_type": "code",
   "execution_count": 5,
   "metadata": {},
   "outputs": [
    {
     "name": "stdout",
     "output_type": "stream",
     "text": [
      "Feature: wgt_kg_tcr, Odds Ratio: 1.4108892121128882\n",
      "Feature: hgt_cm_tcr, Odds Ratio: 1.031683169051045\n",
      "Feature: most_rcnt_creat, Odds Ratio: 0.9326089180004763\n",
      "Feature: tot_serum_album, Odds Ratio: 1.091818542513501\n",
      "Feature: hemo_co_tcr, Odds Ratio: 1.0028240859832946\n",
      "Feature: init_age, Odds Ratio: 0.9285413038678845\n",
      "Feature: init_hgt_cm_calc, Odds Ratio: 1.037105222362268\n",
      "Feature: init_wgt_kg_calc, Odds Ratio: 1.0402222786063196\n",
      "Feature: thoracic_dgn_1, Odds Ratio: 1.0896251383449507\n",
      "Feature: thoracic_dgn_2, Odds Ratio: 1.5150285742138454\n",
      "Feature: thoracic_dgn_3, Odds Ratio: 1.1423497788915737\n",
      "Feature: thoracic_dgn_4, Odds Ratio: 1.1093073873501218\n",
      "Feature: thoracic_dgn_5, Odds Ratio: 1.4597344038683149\n",
      "Feature: thoracic_dgn_7, Odds Ratio: 0.7698983279741959\n",
      "Feature: thoracic_dgn_1999, Odds Ratio: 0.4370113831216109\n",
      "Feature: num_prev_tx_0, Odds Ratio: 1.2332940764115847\n",
      "Feature: num_prev_tx_1, Odds Ratio: 0.9438930570665386\n",
      "Feature: num_prev_tx_2, Odds Ratio: 1.337092418541481\n",
      "Feature: num_prev_tx_3, Odds Ratio: 0.8599583166178418\n",
      "Feature: num_prev_tx_4, Odds Ratio: 1.054583829642026\n",
      "Feature: num_prev_tx_5, Odds Ratio: 0.8392130639538532\n",
      "Feature: num_prev_tx_6, Odds Ratio: 0.9901847161992796\n",
      "Feature: num_prev_tx_10, Odds Ratio: 0.8758930661039755\n",
      "Feature: tah_N, Odds Ratio: 1.0\n",
      "Feature: vas_N, Odds Ratio: 0.49227945219283137\n",
      "Feature: vas_Y, Odds Ratio: 2.08707091707688\n",
      "Feature: onvent_N, Odds Ratio: 0.7418171907896295\n",
      "Feature: onvent_Y, Odds Ratio: 1.3850071695595374\n",
      "Feature: icu_N, Odds Ratio: 1.0132823669445181\n",
      "Feature: icu_Y, Odds Ratio: 1.0139544131656555\n",
      "Feature: inotropic_N, Odds Ratio: 1.0706090978818306\n",
      "Feature: inotropic_Y, Odds Ratio: 0.9596613084823045\n",
      "Feature: gender_F, Odds Ratio: 1.0286106427370991\n",
      "Feature: gender_M, Odds Ratio: 0.998844543366309\n",
      "Feature: abo_A, Odds Ratio: 1.453093138952451\n",
      "Feature: abo_A1, Odds Ratio: 1.005365113322744\n",
      "Feature: abo_A1B, Odds Ratio: 0.33118335681772576\n",
      "Feature: abo_A2, Odds Ratio: 1.8724984406278353\n",
      "Feature: abo_A2B, Odds Ratio: 0.43181967554870654\n",
      "Feature: abo_AB, Odds Ratio: 0.5193726572855459\n",
      "Feature: abo_B, Odds Ratio: 1.4786203688295894\n",
      "Feature: abo_O, Odds Ratio: 3.419821906041224\n",
      "Feature: education_1.0, Odds Ratio: 1.17725545899488\n",
      "Feature: education_2.0, Odds Ratio: 1.1831718573786512\n",
      "Feature: education_3.0, Odds Ratio: 1.1998399215184625\n",
      "Feature: ecmo_tcr_0, Odds Ratio: 1.0700256675666098\n",
      "Feature: ecmo_tcr_1, Odds Ratio: 0.9601845627522438\n",
      "Feature: iabp_tcr_0, Odds Ratio: 0.8998750809149668\n",
      "Feature: iabp_tcr_1, Odds Ratio: 1.141738614099445\n",
      "Feature: inotropes_tcr_0, Odds Ratio: 1.1125019213908225\n",
      "Feature: inotropes_tcr_1, Odds Ratio: 0.9235239130749173\n",
      "Feature: func_stat_tcr_1.0, Odds Ratio: 1.2031693629446503\n",
      "Feature: func_stat_tcr_2.0, Odds Ratio: 1.215024689499042\n",
      "Feature: func_stat_tcr_3.0, Odds Ratio: 0.7466620031118941\n",
      "Feature: func_stat_tcr_996.0, Odds Ratio: 0.615057040125101\n",
      "Feature: func_stat_tcr_998.0, Odds Ratio: 1.2843750306437458\n",
      "Feature: func_stat_tcr_2010.0, Odds Ratio: 0.6219154564133581\n",
      "Feature: func_stat_tcr_2020.0, Odds Ratio: 0.8782350016886715\n",
      "Feature: func_stat_tcr_2030.0, Odds Ratio: 0.8534515903322264\n",
      "Feature: func_stat_tcr_2040.0, Odds Ratio: 1.0435962278691813\n",
      "Feature: func_stat_tcr_2050.0, Odds Ratio: 1.0606241174857058\n",
      "Feature: func_stat_tcr_2060.0, Odds Ratio: 1.310394800492097\n",
      "Feature: func_stat_tcr_2070.0, Odds Ratio: 1.258644827138328\n",
      "Feature: func_stat_tcr_2080.0, Odds Ratio: 1.272345886443165\n",
      "Feature: func_stat_tcr_2090.0, Odds Ratio: 1.1536077850407727\n",
      "Feature: func_stat_tcr_2100.0, Odds Ratio: 0.9539421545037765\n",
      "Feature: diab_1.0, Odds Ratio: 1.1068118225968988\n",
      "Feature: diab_2.0, Odds Ratio: 0.777111642714222\n",
      "Feature: diab_3.0, Odds Ratio: 1.1915958173767063\n",
      "Feature: diab_4.0, Odds Ratio: 0.9496950198947332\n",
      "Feature: diab_5.0, Odds Ratio: 1.1230691234592145\n",
      "Feature: diab_998.0, Odds Ratio: 0.9398793151422008\n",
      "Feature: dial_ty_tcr_1.0, Odds Ratio: 0.8003617384026518\n",
      "Feature: dial_ty_tcr_2.0, Odds Ratio: 1.174051101967991\n",
      "Feature: dial_ty_tcr_3.0, Odds Ratio: 2.3752546709788134\n",
      "Feature: dial_ty_tcr_998.0, Odds Ratio: 0.704119398039131\n",
      "Feature: dial_ty_tcr_999.0, Odds Ratio: 0.6537611452909331\n",
      "Feature: cereb_vasc_N, Odds Ratio: 1.0778671918607134\n",
      "Feature: cereb_vasc_U, Odds Ratio: 0.9026497716145909\n",
      "Feature: cereb_vasc_Y, Odds Ratio: 1.0560011357439147\n",
      "Feature: malig_tcr_N, Odds Ratio: 0.9886501421155931\n",
      "Feature: malig_tcr_U, Odds Ratio: 1.0489002454735628\n",
      "Feature: malig_tcr_Y, Odds Ratio: 0.9907682818831876\n",
      "Feature: cig_use_N, Odds Ratio: 1.0478016333141675\n",
      "Feature: cig_use_Y, Odds Ratio: 0.9805502254245695\n",
      "Feature: prior_card_surg_tcr_N, Odds Ratio: 0.8828535337036445\n",
      "Feature: prior_card_surg_tcr_U, Odds Ratio: 1.1130533979654575\n",
      "Feature: prior_card_surg_tcr_Y, Odds Ratio: 1.0455486737887372\n",
      "Feature: histry_cig_old_N, Odds Ratio: 0.9595953204291412\n",
      "Feature: histry_cig_old_U, Odds Ratio: 0.9350147338160953\n",
      "Feature: histry_cig_old_Y, Odds Ratio: 1.145097163976197\n",
      "Feature: init_stat_1.0, Odds Ratio: 0.42867688391282804\n",
      "Feature: init_stat_2.0, Odds Ratio: 0.8740641088972375\n",
      "Feature: init_stat_3.0, Odds Ratio: 1.839568173753739\n",
      "Feature: init_stat_4.0, Odds Ratio: 1.4905950514210435\n",
      "Feature: ethcat_1, Odds Ratio: 0.9937922044444442\n",
      "Feature: ethcat_2, Odds Ratio: 1.0578610385792966\n",
      "Feature: ethcat_4, Odds Ratio: 0.8938575063446209\n",
      "Feature: ethcat_5, Odds Ratio: 1.0270067752142853\n",
      "Feature: ethcat_6, Odds Ratio: 1.064591775753806\n",
      "Feature: ventilator_tcr_0, Odds Ratio: 0.8711962855103093\n",
      "Feature: ventilator_tcr_1, Odds Ratio: 1.1793233566699326\n",
      "Feature: work_income_tcr_N, Odds Ratio: 0.9329907033928576\n",
      "Feature: work_income_tcr_U, Odds Ratio: 0.9642846607460775\n",
      "Feature: work_income_tcr_Y, Odds Ratio: 1.142000621620184\n",
      "Feature: academic_level_tcr_1.0, Odds Ratio: 1.0057787377214895\n",
      "Feature: academic_level_tcr_2.0, Odds Ratio: 1.0232575808833029\n",
      "Feature: academic_level_tcr_3.0, Odds Ratio: 1.0510515086511745\n",
      "Feature: academic_level_tcr_996.0, Odds Ratio: 0.9654324701737969\n",
      "Feature: academic_level_tcr_998.0, Odds Ratio: 0.9838198766342205\n",
      "F1 score pre feature selection: 0.6845460787359503\n",
      "F1 macro score pre feature selection: 0.6819214643710756\n"
     ]
    }
   ],
   "source": [
    "import numpy as np\n",
    "\n",
    "log.fit(X, y)\n",
    "\n",
    "# Get the coefficients (log odds) of the logistic regression model\n",
    "coefficients = log.coef_[0]\n",
    "\n",
    "# Calculate the odds ratio for each feature\n",
    "odds_ratios = np.exp(coefficients)\n",
    "\n",
    "# Display the odds ratio for each feature\n",
    "for feature, odds_ratio in zip(X.columns, odds_ratios):\n",
    "    print(f\"Feature: {feature}, Odds Ratio: {odds_ratio}\")\n",
    "\n",
    "f1_scores = cross_val_score(log, X, y, cv=5, scoring='f1').mean()\n",
    "print(f\"F1 score pre feature selection: {f1_scores}\")\n",
    "\n",
    "f1_macro_scores = cross_val_score(log, X, y, cv=5, scoring='f1_macro').mean()\n",
    "print(f\"F1 macro score pre feature selection: {f1_macro_scores}\")\n"
   ]
  },
  {
   "cell_type": "code",
   "execution_count": 6,
   "metadata": {
    "collapsed": false
   },
   "outputs": [
    {
     "data": {
      "text/plain": "<AxesSubplot: >"
     },
     "execution_count": 6,
     "metadata": {},
     "output_type": "execute_result"
    },
    {
     "data": {
      "text/plain": "<Figure size 640x480 with 2 Axes>",
      "image/png": "[encoded data removed]"
     },
     "metadata": {},
     "output_type": "display_data"
    }
   ],
   "source": [
    "import seaborn as sns\n",
    "\n",
    "y_pred = cross_val_predict(log, X, y, cv=5)\n",
    "sns.heatmap(confusion_matrix(y, y_pred), annot=True, cmap='Blues', fmt='g')"
   ]
  }
 ],
 "metadata": {
  "kernelspec": {
   "display_name": "Python 3",
   "language": "python",
   "name": "python3"
  },
  "language_info": {
   "codemirror_mode": {
    "name": "ipython",
    "version": 3
   },
   "file_extension": ".py",
   "mimetype": "text/x-python",
   "name": "python",
   "nbconvert_exporter": "python",
   "pygments_lexer": "ipython3",
   "version": "3.10.10"
  },
  "orig_nbformat": 4
 },
 "nbformat": 4,
 "nbformat_minor": 2
}
