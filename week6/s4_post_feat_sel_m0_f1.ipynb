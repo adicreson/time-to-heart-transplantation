{
 "cells": [
  {
   "cell_type": "code",
   "execution_count": 1,
   "metadata": {},
   "outputs": [],
   "source": [
    "import os\n",
    "import pandas as pd\n",
    "\n",
    "base_dir = \"../Data\"\n",
    "base_csv_path = os.path.join(base_dir, 'm0_post_feat_sel_f1.csv')\n",
    "assert os.path.exists(base_csv_path), f\"{base_csv_path} does not exist\"\n",
    "\n",
    "df = pd.read_csv(base_csv_path)"
   ]
  },
  {
   "cell_type": "code",
   "execution_count": 2,
   "metadata": {},
   "outputs": [
    {
     "name": "stdout",
     "output_type": "stream",
     "text": [
      "Number of missing values in wl_time: 0\n",
      "Number of values in wl_time: 65067\n",
      "Median for wl_time: 88.0\n",
      "Percentage of 0 and 1 in wl_time: \n",
      "1    50.148309\n",
      "0    49.851691\n",
      "Name: wl_time, dtype: float64\n",
      "Number of missing values in wl_time: 0\n"
     ]
    }
   ],
   "source": [
    "#Print number of missing values in wl_tme\n",
    "print(f'Number of missing values in wl_time: {df[\"wl_time\"].isnull().sum()}')\n",
    "\n",
    "#Print number of values in wl_time\n",
    "print(f'Number of values in wl_time: {df[\"wl_time\"].count()}')\n",
    "\n",
    "wl_median = df['wl_time'].median()\n",
    "\n",
    "#Print median for wl_time\n",
    "print(f'Median for wl_time: {wl_median}')\n",
    "\n",
    "#Code wl_time to 0 if wl_time is is less than the median else 1\n",
    "df['wl_time'] = df['wl_time'].apply(lambda x: 0 if x < wl_median else 1)\n",
    "\n",
    "#Print percentage of 0 and 1 in wl_time\n",
    "print(f'Percentage of 0 and 1 in wl_time: \\n{df[\"wl_time\"].value_counts(normalize=True) * 100}')\n",
    "\n",
    "#Print number of missing values in wl_time\n",
    "print(f'Number of missing values in wl_time: {df[\"wl_time\"].isnull().sum()}')"
   ]
  },
  {
   "cell_type": "code",
   "execution_count": 3,
   "metadata": {},
   "outputs": [
    {
     "name": "stdout",
     "output_type": "stream",
     "text": [
      "AUROC: 0.7645454771982496\n"
     ]
    }
   ],
   "source": [
    "from sklearn.model_selection import train_test_split\n",
    "from sklearn.linear_model import LogisticRegression\n",
    "from sklearn.metrics import roc_auc_score\n",
    "from sklearn.preprocessing import StandardScaler\n",
    "\n",
    "# Example dataset and labels\n",
    "X = df.drop('wl_time', axis=1)\n",
    "y = df['wl_time']\n",
    "\n",
    "# Split the dataset into training and testing sets\n",
    "X_train, X_test, y_train, y_test = train_test_split(X, y, test_size=0.2, random_state=42)\n",
    "\n",
    "# Scale the numerical features\n",
    "scaler = StandardScaler()\n",
    "X_train_scaled = scaler.fit_transform(X_train)\n",
    "X_test_scaled = scaler.transform(X_test)\n",
    "\n",
    "# Train the model\n",
    "model = LogisticRegression(max_iter=10000)\n",
    "model.fit(X_train_scaled, y_train)\n",
    "\n",
    "# Obtain predicted probabilities on the testing set\n",
    "y_pred = model.predict_proba(X_test_scaled)[:, 1]\n",
    "\n",
    "# Calculate AUROC\n",
    "auroc = roc_auc_score(y_test, y_pred)\n",
    "\n",
    "print(\"AUROC:\", auroc)"
   ]
  },
  {
   "cell_type": "code",
   "execution_count": 4,
   "metadata": {
    "collapsed": false
   },
   "outputs": [],
   "source": [
    "from sklearn.linear_model import LogisticRegression\n",
    "from sklearn.model_selection import cross_val_score\n",
    "from sklearn.preprocessing import StandardScaler\n",
    "from sklearn.metrics import confusion_matrix\n",
    "\n",
    "X = df.drop(['wl_time'], axis=1)\n",
    "y = df['wl_time']\n",
    "\n",
    "one_hot_cols = [col for col in df.columns if df[col].nunique() == 2]\n",
    "columns_to_scale = [col for col in X.columns if col not in one_hot_cols]\n",
    "\n",
    "scaler = StandardScaler()\n",
    "X[columns_to_scale] = scaler.fit_transform(X[columns_to_scale])"
   ]
  },
  {
   "cell_type": "code",
   "execution_count": 5,
   "metadata": {
    "collapsed": false
   },
   "outputs": [
    {
     "name": "stdout",
     "output_type": "stream",
     "text": [
      "F1 score pre feature selection: 0.6980154252057028\n",
      "F1 macro score pre feature selection: 0.69342502932037\n"
     ]
    }
   ],
   "source": [
    "from sklearn.model_selection import cross_val_predict\n",
    "\n",
    "log = LogisticRegression(max_iter=1000)\n",
    "f1_scores = cross_val_score(log, X, y, cv=5, scoring='f1').mean()\n",
    "print(f\"F1 score pre feature selection: {f1_scores}\")\n",
    "\n",
    "f1_macro_scores = cross_val_score(log, X, y, cv=5, scoring='f1_macro').mean()\n",
    "print(f\"F1 macro score pre feature selection: {f1_macro_scores}\")"
   ]
  },
  {
   "cell_type": "code",
   "execution_count": 6,
   "metadata": {},
   "outputs": [
    {
     "name": "stdout",
     "output_type": "stream",
     "text": [
      "Feature: wgt_kg_tcr, Odds Ratio: 1.5692761976978071\n",
      "Feature: hgt_cm_tcr, Odds Ratio: 1.0915837198799976\n",
      "Feature: most_rcnt_creat, Odds Ratio: 0.9459588220885803\n",
      "Feature: tot_serum_album, Odds Ratio: 1.0466754996506096\n",
      "Feature: init_age, Odds Ratio: 0.9406191320264914\n",
      "Feature: init_hgt_cm_calc, Odds Ratio: 0.9463221028401508\n",
      "Feature: init_wgt_kg_calc, Odds Ratio: 0.9359151576962265\n",
      "Feature: thoracic_dgn_1.0, Odds Ratio: 1.0377670083699215\n",
      "Feature: thoracic_dgn_2.0, Odds Ratio: 1.1684300048621832\n",
      "Feature: thoracic_dgn_5.0, Odds Ratio: 1.3306975980771887\n",
      "Feature: thoracic_dgn_7.0, Odds Ratio: 0.7186619616496893\n",
      "Feature: thoracic_dgn_missing, Odds Ratio: 0.7928326916133135\n",
      "Feature: num_prev_tx_0, Odds Ratio: 0.9438126521485074\n",
      "Feature: num_prev_tx_1, Odds Ratio: 0.8359995726255448\n",
      "Feature: num_prev_tx_2, Odds Ratio: 0.8661743366576545\n",
      "Feature: num_prev_tx_3, Odds Ratio: 1.3869264709697149\n",
      "Feature: tah_Y, Odds Ratio: 0.8624826487638766\n",
      "Feature: tah_missing, Odds Ratio: 1.0739124116470709\n",
      "Feature: vas_N, Odds Ratio: 0.575925450820605\n",
      "Feature: vas_missing, Odds Ratio: 1.9123710126342022\n",
      "Feature: onvent_N, Odds Ratio: 1.0618252838768152\n",
      "Feature: onvent_Y, Odds Ratio: 0.7028617251987795\n",
      "Feature: onvent_missing, Odds Ratio: 1.2700699570592644\n",
      "Feature: icu_N, Odds Ratio: 1.9033233389786985\n",
      "Feature: icu_Y, Odds Ratio: 1.2719121015207668\n",
      "Feature: icu_missing, Odds Ratio: 0.39154431914207377\n",
      "Feature: inotropic_N, Odds Ratio: 1.3029993543755751\n",
      "Feature: inotropic_Y, Odds Ratio: 1.3999220252706226\n",
      "Feature: inotropic_missing, Odds Ratio: 0.5196399744343766\n",
      "Feature: gender_F, Odds Ratio: 0.9257320596727607\n",
      "Feature: abo_2, Odds Ratio: 1.093695964167421\n",
      "Feature: abo_3, Odds Ratio: 0.4217558285157928\n",
      "Feature: abo_4, Odds Ratio: 2.154262558125177\n",
      "Feature: education_missing, Odds Ratio: 0.8826137871978083\n",
      "Feature: ecmo_tcr_0, Odds Ratio: 1.1881709900378603\n",
      "Feature: ecmo_tcr_1, Odds Ratio: 0.7977588946953154\n",
      "Feature: iabp_tcr_0, Odds Ratio: 1.0856645236661067\n",
      "Feature: iabp_tcr_1, Odds Ratio: 0.8730818361105047\n",
      "Feature: inotropes_tcr_0, Odds Ratio: 1.1488559512062033\n",
      "Feature: inotropes_tcr_1, Odds Ratio: 0.8250590291384474\n",
      "Feature: func_stat_tcr_1.0, Odds Ratio: 1.2850242463295867\n",
      "Feature: func_stat_tcr_2.0, Odds Ratio: 1.2063279403040406\n",
      "Feature: func_stat_tcr_3.0, Odds Ratio: 0.823174303888741\n",
      "Feature: func_stat_tcr_missing, Odds Ratio: 0.7428174296930979\n",
      "Feature: diab_1.0, Odds Ratio: 1.0499827105816866\n",
      "Feature: diab_2.0, Odds Ratio: 0.8041141560681839\n",
      "Feature: diab_3.0, Odds Ratio: 1.0733113580760458\n",
      "Feature: diab_4.0, Odds Ratio: 1.15792855315437\n",
      "Feature: diab_5.0, Odds Ratio: 1.1071992931066366\n",
      "Feature: diab_missing, Odds Ratio: 0.81586340913664\n",
      "Feature: dial_ty_tcr_1.0, Odds Ratio: 0.7518826093085332\n",
      "Feature: dial_ty_tcr_2.0, Odds Ratio: 0.9640629970077992\n",
      "Feature: dial_ty_tcr_3.0, Odds Ratio: 1.624149901234331\n",
      "Feature: dial_ty_tcr_missing, Odds Ratio: 0.8051356109149234\n",
      "Feature: cereb_vasc_N, Odds Ratio: 0.8883128408734338\n",
      "Feature: cereb_vasc_U, Odds Ratio: 0.9017518289920519\n",
      "Feature: cereb_vasc_Y, Odds Ratio: 0.8540518699670875\n",
      "Feature: cereb_vasc_missing, Odds Ratio: 1.385521852508699\n",
      "Feature: malig_tcr_N, Odds Ratio: 0.8697608809842403\n",
      "Feature: malig_tcr_U, Odds Ratio: 1.1392327230428474\n",
      "Feature: malig_tcr_Y, Odds Ratio: 0.8764383504849022\n",
      "Feature: malig_tcr_missing, Odds Ratio: 1.0914828223739792\n",
      "Feature: cig_use_N, Odds Ratio: 0.8361947217901858\n",
      "Feature: cig_use_Y, Odds Ratio: 0.9066125490911877\n",
      "Feature: cig_use_missing, Odds Ratio: 1.2503207873815319\n",
      "Feature: prior_card_surg_tcr_N, Odds Ratio: 1.8964245377204791\n",
      "Feature: prior_card_surg_tcr_U, Odds Ratio: 1.6578341383587434\n",
      "Feature: prior_card_surg_tcr_Y, Odds Ratio: 2.154127387016237\n",
      "Feature: prior_card_surg_tcr_missing, Odds Ratio: 0.1399595614478458\n",
      "Feature: histry_cig_old_N, Odds Ratio: 0.8869249803140721\n",
      "Feature: histry_cig_old_missing, Odds Ratio: 1.2773035944839837\n",
      "Feature: init_stat_1.0, Odds Ratio: 0.381817265498681\n",
      "Feature: init_stat_3.0, Odds Ratio: 1.8937069408734566\n",
      "Feature: init_stat_4.0, Odds Ratio: 1.5864392226550605\n",
      "Feature: init_stat_missing, Odds Ratio: 0.8846300233057905\n",
      "Feature: ethcat_1, Odds Ratio: 1.086442914106918\n",
      "Feature: ethcat_2, Odds Ratio: 1.1309846350322859\n",
      "Feature: ethcat_4, Odds Ratio: 0.940743445697374\n",
      "Feature: ethcat_5, Odds Ratio: 0.9239400314342274\n",
      "Feature: ethcat_6, Odds Ratio: 0.887507430360092\n",
      "Feature: ventilator_tcr_0, Odds Ratio: 0.8359535977163373\n",
      "Feature: ventilator_tcr_1, Odds Ratio: 1.1338834814657788\n",
      "Feature: work_income_tcr_U, Odds Ratio: 1.2171680224087407\n",
      "Feature: work_income_tcr_Y, Odds Ratio: 1.0414848587090078\n",
      "Feature: work_income_tcr_missing, Odds Ratio: 0.8144460511626656\n",
      "F1 score pre feature selection: 0.6980154252057028\n",
      "F1 macro score pre feature selection: 0.69342502932037\n"
     ]
    }
   ],
   "source": [
    "import numpy as     np\n",
    "\n",
    "log.fit(X, y)\n",
    "\n",
    "# Get the coefficients (log odds) of the logistic regression model\n",
    "coefficients = log.coef_[0]\n",
    "\n",
    "# Calculate the odds ratio for each feature\n",
    "odds_ratios = np.exp(coefficients)\n",
    "\n",
    "# Display the odds ratio for each feature\n",
    "for feature, odds_ratio in zip(X.columns, odds_ratios):\n",
    "    print(f\"Feature: {feature}, Odds Ratio: {odds_ratio}\")\n",
    "\n",
    "f1_scores = cross_val_score(log, X, y, cv=5, scoring='f1').mean()\n",
    "print(f\"F1 score pre feature selection: {f1_scores}\")\n",
    "\n",
    "f1_macro_scores = cross_val_score(log, X, y, cv=5, scoring='f1_macro').mean()\n",
    "print(f\"F1 macro score pre feature selection: {f1_macro_scores}\")\n"
   ]
  },
  {
   "cell_type": "code",
   "execution_count": 7,
   "metadata": {
    "collapsed": false
   },
   "outputs": [
    {
     "data": {
      "image/png": "[encoded data removed]",
      "text/plain": [
       "<Figure size 640x480 with 2 Axes>"
      ]
     },
     "metadata": {},
     "output_type": "display_data"
    }
   ],
   "source": [
    "import matplotlib.pyplot as plt\n",
    "import seaborn as sns\n",
    "from sklearn.metrics import confusion_matrix\n",
    "from sklearn.model_selection import cross_val_predict\n",
    "\n",
    "y_pred = cross_val_predict(log, X, y, cv=5)\n",
    "\n",
    "# Compute confusion matrix\n",
    "cm = confusion_matrix(y, y_pred)\n",
    "\n",
    "# Plot the confusion matrix with axes labeled\n",
    "sns.heatmap(cm, annot=True, cmap='Blues', fmt='g')\n",
    "\n",
    "# Set labels for the x and y axes\n",
    "plt.xlabel(\"Predicted\")\n",
    "plt.ylabel(\"Actual/True\")\n",
    "\n",
    "# Show the plot\n",
    "plt.show()"
   ]
  },
  {
   "cell_type": "code",
   "execution_count": 8,
   "metadata": {},
   "outputs": [],
   "source": [
    "import seaborn as sns\n",
    "\n",
    "#df.corr()\n",
    "#sns.heatmap(df.corr(), annot=True)"
   ]
  }
 ],
 "metadata": {
  "kernelspec": {
   "display_name": "Python 3",
   "language": "python",
   "name": "python3"
  },
  "language_info": {
   "codemirror_mode": {
    "name": "ipython",
    "version": 3
   },
   "file_extension": ".py",
   "mimetype": "text/x-python",
   "name": "python",
   "nbconvert_exporter": "python",
   "pygments_lexer": "ipython3",
   "version": "3.10.10"
  },
  "orig_nbformat": 4
 },
 "nbformat": 4,
 "nbformat_minor": 2
}
