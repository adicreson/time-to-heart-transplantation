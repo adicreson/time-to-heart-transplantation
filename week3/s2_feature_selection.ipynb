{
 "cells": [
  {
   "cell_type": "code",
   "execution_count": 42,
   "outputs": [],
   "source": [
    "import pandas as pd\n"
   ],
   "metadata": {
    "collapsed": false
   }
  },
  {
   "cell_type": "code",
   "execution_count": 43,
   "outputs": [],
   "source": [
    "df = pd.read_csv(\"../Data_120294_2023-03-29_cleaned.csv\")\n"
   ],
   "metadata": {
    "collapsed": false
   }
  },
  {
   "cell_type": "code",
   "execution_count": 44,
   "outputs": [
    {
     "name": "stdout",
     "output_type": "stream",
     "text": [
      "Mean waiting list time: 192.52839426430694\n",
      "0    0.716807\n",
      "1    0.283193\n",
      "Name: wl_time, dtype: float64\n"
     ]
    }
   ],
   "source": [
    "mean_wl_time = df['wl_time'].mean()\n",
    "print(f\"Mean waiting list time: {mean_wl_time}\")\n",
    "\n",
    "df['wl_time'] = df['wl_time'].apply(lambda x: 0 if x < mean_wl_time else 1)\n",
    "print(df['wl_time'].value_counts(normalize=True))\n",
    "\n",
    "one_hot_cols = [col for col in df.columns if df[col].nunique() == 2]\n"
   ],
   "metadata": {
    "collapsed": false
   }
  },
  {
   "cell_type": "code",
   "execution_count": 45,
   "outputs": [
    {
     "name": "stdout",
     "output_type": "stream",
     "text": [
      "F1 score: 0.4207234479936403\n",
      "F1 macro score: 0.6316114297647631\n"
     ]
    }
   ],
   "source": [
    "from sklearn.linear_model import LogisticRegression\n",
    "from sklearn.model_selection import cross_val_score\n",
    "from sklearn.preprocessing import StandardScaler\n",
    "\n",
    "X = df.drop(['wl_time'], axis=1)\n",
    "y = df['wl_time']\n",
    "\n",
    "columns_to_scale = [col for col in X.columns if col not in one_hot_cols]\n",
    "# scale all columns except the one-hot encoded ones\n",
    "scaler = StandardScaler()\n",
    "X[columns_to_scale] = scaler.fit_transform(X[columns_to_scale])\n",
    "\n",
    "log = LogisticRegression(max_iter=1000)\n",
    "f1_scores = cross_val_score(log, X, y, cv=5, scoring='f1').mean()\n",
    "f1_macro_scores = cross_val_score(log, X, y, cv=5, scoring='f1_macro').mean()\n",
    "\n",
    "print(f\"F1 score: {f1_scores}\")\n",
    "print(f\"F1 macro score: {f1_macro_scores}\")\n"
   ],
   "metadata": {
    "collapsed": false
   }
  },
  {
   "cell_type": "code",
   "execution_count": 46,
   "outputs": [
    {
     "name": "stdout",
     "output_type": "stream",
     "text": [
      "Initial F1 score: 0.4207\n",
      "Num of features: 82\n",
      "Fitting estimator with 82 features.\n",
      "Fitting estimator with 81 features.\n"
     ]
    },
    {
     "name": "stderr",
     "output_type": "stream",
     "text": [
      "\n",
      "KeyboardInterrupt\n",
      "\n"
     ]
    }
   ],
   "source": [
    "from sklearn.model_selection import cross_val_score\n",
    "from sklearn.feature_selection import RFECV\n",
    "import numpy as np\n",
    "\n",
    "# Perform k-fold cross-validation and compute the initial F1 score\n",
    "scores = cross_val_score(log, X, y, cv=5, scoring='f1')\n",
    "avg_score = np.mean(scores)\n",
    "print(\"Initial F1 score: {:.4f}\".format(avg_score))\n",
    "\n",
    "selector = RFECV(estimator=log, cv=5, scoring='f1', verbose=1)\n",
    "print(f\"Num of features: {X.shape[1]}\")\n",
    "\n",
    "selector.fit(X, y)\n",
    "\n",
    "print(f\"Optimal number of features: {selector.n_features_}\")\n",
    "print(f\"The mask of the selected features: {selector.support_}\")\n",
    "print(f\"The ranking of the features: {selector.ranking_}\")"
   ],
   "metadata": {
    "collapsed": false
   }
  }
 ],
 "metadata": {
  "kernelspec": {
   "display_name": "Python 3",
   "language": "python",
   "name": "python3"
  },
  "language_info": {
   "codemirror_mode": {
    "name": "ipython",
    "version": 2
   },
   "file_extension": ".py",
   "mimetype": "text/x-python",
   "name": "python",
   "nbconvert_exporter": "python",
   "pygments_lexer": "ipython2",
   "version": "2.7.6"
  }
 },
 "nbformat": 4,
 "nbformat_minor": 0
}
